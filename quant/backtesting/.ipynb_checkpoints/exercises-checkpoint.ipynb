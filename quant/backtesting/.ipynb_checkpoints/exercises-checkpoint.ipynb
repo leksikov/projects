{
 "cells": [
  {
   "cell_type": "code",
   "execution_count": 7,
   "metadata": {},
   "outputs": [],
   "source": [
    "def listSum(numList):\n",
    "    if len(numList) == 1:\n",
    "        \n",
    "        return numList[0]\n",
    "    \n",
    "    else:\n",
    "        print(numList[0])\n",
    "        return numList[0] + listNum(numList[1:])"
   ]
  },
  {
   "cell_type": "code",
   "execution_count": 8,
   "metadata": {},
   "outputs": [
    {
     "name": "stdout",
     "output_type": "stream",
     "text": [
      "1\n",
      "9\n",
      "25\n"
     ]
    }
   ],
   "source": [
    "print(listSum([1,3,5,7,9]))"
   ]
  },
  {
   "cell_type": "code",
   "execution_count": 9,
   "metadata": {},
   "outputs": [],
   "source": [
    "convString = \"0123456789\""
   ]
  },
  {
   "cell_type": "code",
   "execution_count": 20,
   "metadata": {},
   "outputs": [
    {
     "name": "stdout",
     "output_type": "stream",
     "text": [
      "1010\n"
     ]
    }
   ],
   "source": [
    "def toStr(n,base):\n",
    "   convertString = \"0123456789\"\n",
    "   if n < base:\n",
    "      return convertString[n]\n",
    "   else:\n",
    "      return toStr(n//base,base) + convertString[n%base]\n",
    "\n",
    "print(toStr(10,2))\n"
   ]
  },
  {
   "cell_type": "code",
   "execution_count": 40,
   "metadata": {},
   "outputs": [],
   "source": [
    "def toStr(n, base):\n",
    "    convertString = \"0123456789\"\n",
    "    if n < base:\n",
    "        print(n, convertString[n])\n",
    "        print()\n",
    "        return convertString[n]\n",
    "    else:\n",
    "        print(n, n//base, n%base, convertString[n%base])\n",
    "        return toStr(n//base, base) + convertString[n%base]"
   ]
  },
  {
   "cell_type": "code",
   "execution_count": 41,
   "metadata": {},
   "outputs": [
    {
     "name": "stdout",
     "output_type": "stream",
     "text": [
      "1456 145 6 6\n",
      "145 14 5 5\n",
      "14 1 4 4\n",
      "1 1\n",
      "\n"
     ]
    },
    {
     "data": {
      "text/plain": [
       "'1456'"
      ]
     },
     "execution_count": 41,
     "metadata": {},
     "output_type": "execute_result"
    }
   ],
   "source": [
    "toStr(1456, 10)"
   ]
  },
  {
   "cell_type": "code",
   "execution_count": 1,
   "metadata": {},
   "outputs": [
    {
     "name": "stdout",
     "output_type": "stream",
     "text": [
      "100\n",
      "95\n",
      "90\n",
      "85\n",
      "80\n",
      "75\n",
      "70\n",
      "65\n",
      "60\n",
      "55\n",
      "50\n",
      "45\n",
      "40\n",
      "35\n",
      "30\n",
      "25\n",
      "20\n",
      "15\n",
      "10\n",
      "5\n"
     ]
    }
   ],
   "source": [
    "import turtle\n",
    "\n",
    "myTurtle = turtle.Turtle()\n",
    "myWin = turtle.Screen()\n",
    "\n",
    "def drawSpiral(myTurtle, lineLen):\n",
    "    if lineLen > 0:\n",
    "        print(lineLen)\n",
    "        myTurtle.forward(lineLen)\n",
    "        myTurtle.right(90)\n",
    "        drawSpiral(myTurtle,lineLen-5)\n",
    "\n",
    "drawSpiral(myTurtle,100)\n",
    "myWin.exitonclick()\n"
   ]
  },
  {
   "cell_type": "raw",
   "metadata": {},
   "source": [
    "import turtle\n",
    "\n",
    "def tree(branchLen,t):\n",
    "    if branchLen > 5:\n",
    "        print(branchLen)\n",
    "        t.forward(branchLen)\n",
    "        t.right(20)\n",
    "        tree(branchLen-15,t)\n",
    "        t.left(40)\n",
    "        tree(branchLen-15,t)\n",
    "        t.right(20)\n",
    "        t.backward(branchLen)\n",
    "\n",
    "def main():\n",
    "    t = turtle.Turtle()\n",
    "    myWin = turtle.Screen()\n",
    "    t.left(90)\n",
    "    t.up()\n",
    "    t.backward(100)\n",
    "    t.down()\n",
    "    t.color(\"green\")\n",
    "    tree(75,t)\n",
    "    myWin.exitonclick()\n",
    "\n",
    "main()\n"
   ]
  },
  {
   "cell_type": "code",
   "execution_count": null,
   "metadata": {},
   "outputs": [],
   "source": []
  },
  {
   "cell_type": "code",
   "execution_count": 20,
   "metadata": {},
   "outputs": [],
   "source": [
    "def BinarySearch(alist, item):\n",
    "    first = 0\n",
    "    last = len(alist)-1\n",
    "    size = len(alist)\n",
    "    found = False\n",
    "    \n",
    "    while not found and first <= last:\n",
    "        midpoint = (first + last) // 2\n",
    "        if alist[midpoint] == item:\n",
    "            found = True\n",
    "            pos = midpoint\n",
    "        else:\n",
    "            if item < alist[midpoint]:\n",
    "                last = midpoint - 1\n",
    "            else:\n",
    "                first = midpoint + 1\n",
    "    return pos\n"
   ]
  },
  {
   "cell_type": "code",
   "execution_count": 58,
   "metadata": {},
   "outputs": [],
   "source": [
    "def BinarySearch(alist, item):\n",
    "    \n",
    "    \n",
    "    if len(alist) == 0:\n",
    "        return pos\n",
    "    else:\n",
    "        \n",
    "        midpoint = len(alist) // 2\n",
    "\n",
    "        if alist[midpoint] == item:\n",
    "            pos = midpoint\n",
    "            return pos\n",
    "        elif item < alist[midpoint]:\n",
    "            return BinarySearch(alist[:midpoint], item)\n",
    "        else:\n",
    "            return BinarySearch(alist[midpoint:], item)\n",
    "    \n"
   ]
  },
  {
   "cell_type": "code",
   "execution_count": 59,
   "metadata": {},
   "outputs": [],
   "source": [
    "testlist = [0, 1, 2, 8, 13, 17, 19, 32, 42,]"
   ]
  },
  {
   "cell_type": "code",
   "execution_count": 60,
   "metadata": {},
   "outputs": [
    {
     "data": {
      "text/plain": [
       "1"
      ]
     },
     "execution_count": 60,
     "metadata": {},
     "output_type": "execute_result"
    }
   ],
   "source": [
    "BinarySearch(testlist,8)"
   ]
  },
  {
   "cell_type": "code",
   "execution_count": 72,
   "metadata": {},
   "outputs": [
    {
     "name": "stdout",
     "output_type": "stream",
     "text": [
      "[17, 20, 26, 31, 44, 54, 55, 77, 93]\n"
     ]
    }
   ],
   "source": [
    "def SelectionSort(alist):\n",
    "    for fillslot in range(len(alist)-1, 0, -1):\n",
    "        positionMax = 0\n",
    "        for location in range(1, fillslot+1):\n",
    "            if alist[location] > alist[positionMax]:\n",
    "                positionMax = location\n",
    "            alist[positionMax], alist[fillslot] = alist[fillslot], alist[positionMax]\n",
    "    return alist\n",
    "print(SelectionSort(alist))"
   ]
  },
  {
   "cell_type": "code",
   "execution_count": 73,
   "metadata": {},
   "outputs": [
    {
     "data": {
      "text/plain": [
       "[17, 20, 26, 31, 44, 54, 55, 77, 93]"
      ]
     },
     "execution_count": 73,
     "metadata": {},
     "output_type": "execute_result"
    }
   ],
   "source": [
    "alist"
   ]
  },
  {
   "cell_type": "code",
   "execution_count": 67,
   "metadata": {},
   "outputs": [
    {
     "ename": "IndexError",
     "evalue": "list index out of range",
     "output_type": "error",
     "traceback": [
      "\u001b[1;31m---------------------------------------------------------------------------\u001b[0m",
      "\u001b[1;31mIndexError\u001b[0m                                Traceback (most recent call last)",
      "\u001b[1;32m<ipython-input-67-be3da8d8fcb2>\u001b[0m in \u001b[0;36m<module>\u001b[1;34m\u001b[0m\n\u001b[0;32m     11\u001b[0m \u001b[1;33m\u001b[0m\u001b[0m\n\u001b[0;32m     12\u001b[0m \u001b[0malist\u001b[0m \u001b[1;33m=\u001b[0m \u001b[1;33m[\u001b[0m\u001b[1;36m54\u001b[0m\u001b[1;33m,\u001b[0m\u001b[1;36m26\u001b[0m\u001b[1;33m,\u001b[0m\u001b[1;36m93\u001b[0m\u001b[1;33m,\u001b[0m\u001b[1;36m17\u001b[0m\u001b[1;33m,\u001b[0m\u001b[1;36m77\u001b[0m\u001b[1;33m,\u001b[0m\u001b[1;36m31\u001b[0m\u001b[1;33m,\u001b[0m\u001b[1;36m44\u001b[0m\u001b[1;33m,\u001b[0m\u001b[1;36m55\u001b[0m\u001b[1;33m,\u001b[0m\u001b[1;36m20\u001b[0m\u001b[1;33m]\u001b[0m\u001b[1;33m\u001b[0m\u001b[1;33m\u001b[0m\u001b[0m\n\u001b[1;32m---> 13\u001b[1;33m \u001b[0mselectionSort\u001b[0m\u001b[1;33m(\u001b[0m\u001b[0malist\u001b[0m\u001b[1;33m)\u001b[0m\u001b[1;33m\u001b[0m\u001b[1;33m\u001b[0m\u001b[0m\n\u001b[0m\u001b[0;32m     14\u001b[0m \u001b[0mprint\u001b[0m\u001b[1;33m(\u001b[0m\u001b[0malist\u001b[0m\u001b[1;33m)\u001b[0m\u001b[1;33m\u001b[0m\u001b[1;33m\u001b[0m\u001b[0m\n",
      "\u001b[1;32m<ipython-input-67-be3da8d8fcb2>\u001b[0m in \u001b[0;36mselectionSort\u001b[1;34m(alist)\u001b[0m\n\u001b[0;32m      3\u001b[0m        \u001b[0mpositionOfMax\u001b[0m\u001b[1;33m=\u001b[0m\u001b[1;36m0\u001b[0m\u001b[1;33m\u001b[0m\u001b[1;33m\u001b[0m\u001b[0m\n\u001b[0;32m      4\u001b[0m        \u001b[1;32mfor\u001b[0m \u001b[0mlocation\u001b[0m \u001b[1;32min\u001b[0m \u001b[0mrange\u001b[0m\u001b[1;33m(\u001b[0m\u001b[1;36m1\u001b[0m\u001b[1;33m,\u001b[0m\u001b[0mfillslot\u001b[0m\u001b[1;33m+\u001b[0m\u001b[1;36m1\u001b[0m\u001b[1;33m)\u001b[0m\u001b[1;33m:\u001b[0m\u001b[1;33m\u001b[0m\u001b[1;33m\u001b[0m\u001b[0m\n\u001b[1;32m----> 5\u001b[1;33m            \u001b[1;32mif\u001b[0m \u001b[0malist\u001b[0m\u001b[1;33m[\u001b[0m\u001b[0mlocation\u001b[0m\u001b[1;33m]\u001b[0m\u001b[1;33m>\u001b[0m\u001b[0malist\u001b[0m\u001b[1;33m[\u001b[0m\u001b[0mpositionOfMax\u001b[0m\u001b[1;33m]\u001b[0m\u001b[1;33m:\u001b[0m\u001b[1;33m\u001b[0m\u001b[1;33m\u001b[0m\u001b[0m\n\u001b[0m\u001b[0;32m      6\u001b[0m                \u001b[0mpositionOfMax\u001b[0m \u001b[1;33m=\u001b[0m \u001b[0mlocation\u001b[0m\u001b[1;33m\u001b[0m\u001b[1;33m\u001b[0m\u001b[0m\n\u001b[0;32m      7\u001b[0m \u001b[1;33m\u001b[0m\u001b[0m\n",
      "\u001b[1;31mIndexError\u001b[0m: list index out of range"
     ]
    }
   ],
   "source": [
    "def selectionSort(alist):\n",
    "   for fillslot in range(len(alist)-1,0,-1):\n",
    "       positionOfMax=0\n",
    "       for location in range(1,fillslot+1):\n",
    "           if alist[location]>alist[positionOfMax]:\n",
    "               positionOfMax = location\n",
    "\n",
    "       temp = alist[fillslot]\n",
    "       alist[fillslot] = alist[positionOfMax]\n",
    "       alist[positionOfMax] = temp\n",
    "\n",
    "alist = [54,26,93,17,77,31,44,55,20]\n",
    "selectionSort(alist)\n",
    "print(alist)"
   ]
  },
  {
   "cell_type": "code",
   "execution_count": 75,
   "metadata": {},
   "outputs": [
    {
     "name": "stdout",
     "output_type": "stream",
     "text": [
      "26\n",
      "93\n",
      "17\n",
      "77\n",
      "31\n",
      "44\n",
      "55\n",
      "20\n",
      "[17, 20, 26, 31, 44, 54, 55, 77, 93]\n"
     ]
    }
   ],
   "source": [
    "def insertionSort(alist):\n",
    "    \n",
    "   for index in range(1,len(alist)):\n",
    "     \n",
    "     currentvalue = alist[index]\n",
    "    \n",
    "     position = index\n",
    "     print(currentvalue)\n",
    "     while position>0 and alist[position-1]>currentvalue:\n",
    "         alist[position]=alist[position-1]\n",
    "         position = position-1\n",
    "\n",
    "     alist[position]=currentvalue\n",
    "\n",
    "alist = [54,26,93,17,77,31,44,55,20]\n",
    "insertionSort(alist)\n",
    "print(alist)"
   ]
  },
  {
   "cell_type": "code",
   "execution_count": 194,
   "metadata": {},
   "outputs": [
    {
     "name": "stdout",
     "output_type": "stream",
     "text": [
      "5 3\n",
      "Index of the element is :  None\n"
     ]
    }
   ],
   "source": [
    "arr1 = [5, 6, 7, 8, 9, 10, 1, 2, 3] \n",
    "n = len(arr1) \n",
    "key = 3\n",
    "print(\"Index of the element is : \",  \n",
    "      pivotedBinarySearch(arr1, n, key)) "
   ]
  },
  {
   "cell_type": "code",
   "execution_count": 192,
   "metadata": {},
   "outputs": [],
   "source": [
    "def pivotedBinarySearch(arr, n, q):\n",
    "    pivot = findPivot(arr,n)\n",
    "    print(pivot, q)\n",
    "    if q < arr[pivot]:\n",
    "        BinarySearch(arr[:pivot], q)\n",
    "    elif q == arr[pivot]:\n",
    "        return pivot\n",
    "    else:\n",
    "        BinarySearch(arr[pivot:], q)\n",
    "    "
   ]
  },
  {
   "cell_type": "code",
   "execution_count": 199,
   "metadata": {},
   "outputs": [],
   "source": [
    "def findPivot(arr, n):\n",
    "    for i in range(n):\n",
    "        if arr[i] > arr[i+1]:\n",
    "            return i\n",
    "    "
   ]
  },
  {
   "cell_type": "code",
   "execution_count": 141,
   "metadata": {},
   "outputs": [],
   "source": [
    "def BinarySearch(arr,  q):\n",
    "    if len(arr) == 0:\n",
    "        return -1\n",
    "    \n",
    "    \n",
    "    midpoint = len(arr) // 2\n",
    "    \n",
    "    if arr[midpoint] == q:\n",
    "        print(q)\n",
    "        return q\n",
    "    \n",
    "    else:\n",
    "        if q < arr[midpoint]:\n",
    "            return BinarySearch(arr[:midpoint], q)\n",
    "        else:\n",
    "            return BinarySearch(arr[midpoint:], q)\n",
    "            \n",
    "    "
   ]
  },
  {
   "cell_type": "code",
   "execution_count": 189,
   "metadata": {},
   "outputs": [],
   "source": [
    "def binarySearch(arr,  key): \n",
    "  \n",
    "    if len(arr)==0: \n",
    "        return -1\n",
    "          \n",
    "    #low + (high - low)/2;     \n",
    "    mid = len(arr) // 2 \n",
    "      \n",
    "    if key == arr[mid]: \n",
    "        return mid \n",
    "    if key > arr[mid]: \n",
    "        return binarySearch(arr[mid:],  key)\n",
    "    else:\n",
    "        return binarySearch( arr[:mid], key);"
   ]
  },
  {
   "cell_type": "code",
   "execution_count": 190,
   "metadata": {},
   "outputs": [
    {
     "name": "stdout",
     "output_type": "stream",
     "text": [
      "5 3\n"
     ]
    }
   ],
   "source": [
    "pivotedBinarySearch(arr1, len(arr1), q=3)"
   ]
  },
  {
   "cell_type": "code",
   "execution_count": 191,
   "metadata": {},
   "outputs": [
    {
     "data": {
      "text/plain": [
       "2"
      ]
     },
     "execution_count": 191,
     "metadata": {},
     "output_type": "execute_result"
    }
   ],
   "source": [
    "findPivot([ 3, 4, 5, 1,2], 5)"
   ]
  },
  {
   "cell_type": "code",
   "execution_count": 162,
   "metadata": {},
   "outputs": [
    {
     "data": {
      "text/plain": [
       "1"
      ]
     },
     "execution_count": 162,
     "metadata": {},
     "output_type": "execute_result"
    }
   ],
   "source": [
    "binarySearch([1,2,3,4, 7],  7)"
   ]
  },
  {
   "cell_type": "code",
   "execution_count": 210,
   "metadata": {},
   "outputs": [
    {
     "name": "stdout",
     "output_type": "stream",
     "text": [
      "-1\n",
      "0\n"
     ]
    }
   ],
   "source": [
    "def binarySearch(alist, item):\n",
    "    found = False\n",
    "    if len(alist) == 0:\n",
    "        return -1\n",
    "    else:\n",
    "        \n",
    "        midpoint = len(alist)//2\n",
    "\n",
    "        if alist[midpoint]==item:\n",
    "            \n",
    "            return midpoint\n",
    "        else:\n",
    "\n",
    "            if item<alist[midpoint]:\n",
    "                return binarySearch(alist[:midpoint],item)\n",
    "            else:\n",
    "                return binarySearch(alist[midpoint+1:],item)\n",
    "testlist = [0, 1, 2, 8, 13, 17, 19, 32, 42,]\n",
    "print(binarySearch(testlist, 3))\n",
    "print(binarySearch(testlist, 17))"
   ]
  },
  {
   "cell_type": "code",
   "execution_count": null,
   "metadata": {},
   "outputs": [],
   "source": []
  },
  {
   "cell_type": "code",
   "execution_count": 203,
   "metadata": {},
   "outputs": [],
   "source": [
    "def findPivot(arr, low, high): \n",
    "      \n",
    "    # base cases \n",
    "    if high < low: \n",
    "        return -1\n",
    "    if high == low: \n",
    "        return low \n",
    "      \n",
    "    #low + (high - low)/2; \n",
    "    mid = int((low + high)/2) \n",
    "      \n",
    "    if mid < high and arr[mid] > arr[mid + 1]: \n",
    "        return mid \n",
    "    if mid > low and arr[mid] < arr[mid - 1]: \n",
    "        return (mid-1) \n",
    "    if arr[low] >= arr[mid]: \n",
    "        return findPivot(arr, low, mid-1) \n",
    "    return findPivot(arr, mid + 1, high) "
   ]
  },
  {
   "cell_type": "code",
   "execution_count": 208,
   "metadata": {},
   "outputs": [
    {
     "data": {
      "text/plain": [
       "3"
      ]
     },
     "execution_count": 208,
     "metadata": {},
     "output_type": "execute_result"
    }
   ],
   "source": [
    "findPivot([5, 8, 9 , 9, 2, 3], 0, 5)"
   ]
  },
  {
   "cell_type": "code",
   "execution_count": 207,
   "metadata": {},
   "outputs": [],
   "source": [
    "def findPivot(arr, low, high):\n",
    "    if high < low:\n",
    "        return -1\n",
    "    if high == low:\n",
    "        return low\n",
    "    \n",
    "    mid = len(arr) // 2\n",
    "    if mid < high and arr[mid] > arr[mid+1]:\n",
    "        return mid\n",
    "    if mid > low and arr[mid] < arr[mid-1]:\n",
    "        return mid-1\n",
    "    if arr[low] >= arr[mid]:\n",
    "        return findPivot(arr, low, mid-1)\n",
    "    else:\n",
    "        return findPivot(arr, mid+1, high)"
   ]
  },
  {
   "cell_type": "code",
   "execution_count": 217,
   "metadata": {},
   "outputs": [],
   "source": [
    "def binarySearch(arr, low, high, key): \n",
    "  \n",
    "    if high < low: \n",
    "        return -1\n",
    "          \n",
    "    #low + (high - low)/2;     \n",
    "    mid = int((low + high)/2) \n",
    "      \n",
    "    if key == arr[mid]: \n",
    "        return mid \n",
    "    if key > arr[mid]: \n",
    "        return binarySearch(arr, (mid + 1), high, \n",
    "                                            key); \n",
    "    return binarySearch(arr, low, (mid -1), key); "
   ]
  },
  {
   "cell_type": "code",
   "execution_count": 215,
   "metadata": {},
   "outputs": [],
   "source": [
    "def binarySearch(arr, low, high, key):\n",
    "    if high < low:\n",
    "        return -1\n",
    "    \n",
    "    mid = len(arr)//2\n",
    "    if key == arr[mid]:\n",
    "        return mid\n",
    "    if key > arr[mid]:\n",
    "        return binarySearch(arr, (mid+1), high, key)\n",
    "    else:\n",
    "        return binarySearch(arr, low, (mid-1), key)\n",
    "        "
   ]
  },
  {
   "cell_type": "code",
   "execution_count": 218,
   "metadata": {},
   "outputs": [
    {
     "name": "stdout",
     "output_type": "stream",
     "text": [
      "-1\n",
      "5\n"
     ]
    }
   ],
   "source": [
    "testlist = [0, 1, 2, 8, 13, 17, 19, 32, 42,]\n",
    "print(binarySearch(testlist, 0, len(testlist), 3))\n",
    "print(binarySearch(testlist, 0, len(testlist), 17))"
   ]
  },
  {
   "cell_type": "code",
   "execution_count": 219,
   "metadata": {},
   "outputs": [],
   "source": [
    "# https://www.geeksforgeeks.org/check-if-an-array-is-sorted-and-rotated/"
   ]
  },
  {
   "cell_type": "code",
   "execution_count": 220,
   "metadata": {},
   "outputs": [],
   "source": [
    "arr = [1, 4, 45, 6, 10, -8]"
   ]
  },
  {
   "cell_type": "code",
   "execution_count": 221,
   "metadata": {},
   "outputs": [],
   "source": [
    "arr.sort()"
   ]
  },
  {
   "cell_type": "code",
   "execution_count": 222,
   "metadata": {},
   "outputs": [
    {
     "data": {
      "text/plain": [
       "[-8, 1, 4, 6, 10, 45]"
      ]
     },
     "execution_count": 222,
     "metadata": {},
     "output_type": "execute_result"
    }
   ],
   "source": [
    "arr"
   ]
  },
  {
   "cell_type": "code",
   "execution_count": 232,
   "metadata": {},
   "outputs": [
    {
     "name": "stdout",
     "output_type": "stream",
     "text": [
      "2 3 4 1 5\n",
      "3 4 6 1 7\n",
      "3 4 6 4 10\n",
      "4 5 10 1 11\n",
      "4 5 10 4 14\n",
      "4 5 10 6 16\n",
      "Found  4 5 10 45\n"
     ]
    }
   ],
   "source": [
    "i = 0\n",
    "j = 1\n",
    "min_sum_ =  arr[i] + arr[j]\n",
    "\n",
    "for i in range(0, len(arr)-1):\n",
    "    for j in range(1, i):\n",
    "        sum_ = arr[i] + arr[j]\n",
    "        \n",
    "        if sum_ > min_sum:\n",
    "            min_sum_ = sum_\n",
    "        print(i, i+1, arr[i], arr[j], sum_)\n",
    "        if sum_ == 16:\n",
    "            print('Found ',i, i+1, arr[i], arr[i+1])"
   ]
  },
  {
   "cell_type": "code",
   "execution_count": 233,
   "metadata": {},
   "outputs": [],
   "source": [
    "# https://www.geeksforgeeks.org/given-an-array-a-and-a-number-x-check-for-pair-in-a-with-sum-as-x/\n",
    "# https://www.geeksforgeeks.org/two-elements-whose-sum-is-closest-to-zero/"
   ]
  },
  {
   "cell_type": "code",
   "execution_count": 234,
   "metadata": {},
   "outputs": [
    {
     "name": "stdout",
     "output_type": "stream",
     "text": [
      "The two elements whose sum is minimum are -80 and  85\n"
     ]
    }
   ],
   "source": [
    "def minAbsSumPair(arr,arr_size): \n",
    "    inv_count = 0\n",
    "  \n",
    "    # Array should have at least \n",
    "    # two elements \n",
    "    if arr_size < 2: \n",
    "        print(\"Invalid Input\") \n",
    "        return\n",
    "  \n",
    "    # Initialization of values  \n",
    "    min_l = 0\n",
    "    min_r = 1\n",
    "    min_sum = arr[0] + arr[1] \n",
    "    for l in range (0, arr_size - 1): \n",
    "        for r in range (l + 1, arr_size): \n",
    "            sum = arr[l] + arr[r]                  \n",
    "            if abs(min_sum) > abs(sum):          \n",
    "                min_sum = sum\n",
    "                min_l = l \n",
    "                min_r = r \n",
    "  \n",
    "    print(\"The two elements whose sum is minimum are\",  \n",
    "            arr[min_l], \"and \", arr[min_r]) \n",
    "  \n",
    "# Driver program to test above function  \n",
    "arr = [1, 60, -10, 70, -80, 85] \n",
    "  \n",
    "minAbsSumPair(arr, 6); "
   ]
  },
  {
   "cell_type": "code",
   "execution_count": 238,
   "metadata": {},
   "outputs": [],
   "source": [
    "def minAbsSumPair(arr, arr_size):\n",
    "    inv_count = 0\n",
    "    \n",
    "    if arr_size < 2:\n",
    "        return\n",
    "    \n",
    "    min_l = 0\n",
    "    min_r = 1\n",
    "    min_sum = arr[min_l] + arr[min_r]\n",
    "    \n",
    "    for l in range(0, len(arr)-1):\n",
    "        for r in range(l+1, len(arr)):\n",
    "            sum_ = arr[l] + arr[r]\n",
    "            \n",
    "            if sum_ > min_sum:\n",
    "                min_sum = sum_\n",
    "                min_l = l\n",
    "                min_r = r\n",
    "    print(\"The two elements whose sum is minimum are\",  \n",
    "            arr[min_l], \"and \", arr[min_r]) "
   ]
  },
  {
   "cell_type": "code",
   "execution_count": 239,
   "metadata": {},
   "outputs": [
    {
     "name": "stdout",
     "output_type": "stream",
     "text": [
      "The two elements whose sum is minimum are 70 and  85\n",
      "None\n"
     ]
    }
   ],
   "source": [
    "arr = [1, 60, -10, 70, -80, 85] \n",
    "  \n",
    "print(minAbsSumPair(arr, 6)); "
   ]
  },
  {
   "cell_type": "code",
   "execution_count": null,
   "metadata": {},
   "outputs": [],
   "source": []
  }
 ],
 "metadata": {
  "kernelspec": {
   "display_name": "Python 3",
   "language": "python",
   "name": "python3"
  },
  "language_info": {
   "codemirror_mode": {
    "name": "ipython",
    "version": 3
   },
   "file_extension": ".py",
   "mimetype": "text/x-python",
   "name": "python",
   "nbconvert_exporter": "python",
   "pygments_lexer": "ipython3",
   "version": "3.7.6"
  }
 },
 "nbformat": 4,
 "nbformat_minor": 4
}
