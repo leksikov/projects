{
 "cells": [
  {
   "cell_type": "code",
   "execution_count": 1,
   "metadata": {},
   "outputs": [],
   "source": [
    "# Binary Search"
   ]
  },
  {
   "cell_type": "code",
   "execution_count": 10,
   "metadata": {},
   "outputs": [],
   "source": [
    "alist = [3, 4, 5, 6, 7, 8, 9, 10]"
   ]
  },
  {
   "cell_type": "code",
   "execution_count": 105,
   "metadata": {},
   "outputs": [],
   "source": [
    "def BinarySearch(arr, item):\n",
    "    \n",
    "    size = len(arr)\n",
    "    \n",
    "    midpoint = size // 2\n",
    "    found = False\n",
    "    \n",
    "    if len(arr) == 0:\n",
    "        return -1    \n",
    "        \n",
    "    if arr[midpoint] == item:\n",
    "        return midpoint\n",
    "\n",
    "    if item < arr[midpoint]:\n",
    "        return BinarySearch(arr[:len(arr)//2], item)\n",
    "    elif item > arr[midpoint]:\n",
    "        return BinarySearch(arr[(len(arr)//2):], item)\n"
   ]
  },
  {
   "cell_type": "code",
   "execution_count": 108,
   "metadata": {},
   "outputs": [],
   "source": [
    "def binarySearch(alist, item):\n",
    "    \n",
    "    while len(alist) > 0:\n",
    "        \n",
    "        midpoint = len(alist)//2\n",
    "        print(alist, midpoint)\n",
    "        \n",
    "        if alist[midpoint]==item:\n",
    "            return midpoint\n",
    "        elif item<alist[midpoint]:\n",
    "            return binarySearch(alist[:midpoint],item)\n",
    "        elif item > alist[midpoint]:\n",
    "            return binarySearch(alist[midpoint+1:],item)\n",
    "        else:\n",
    "            return False"
   ]
  },
  {
   "cell_type": "code",
   "execution_count": 144,
   "metadata": {},
   "outputs": [],
   "source": [
    "def binarySearch(alist, item):\n",
    "    first = 0\n",
    "    last = len(alist)-1\n",
    "    found = False\n",
    "    \n",
    "    while first <= last and not found:\n",
    "        \n",
    "        midpoint = first + last//2\n",
    "        print(alist, midpoint)\n",
    "        \n",
    "        if alist[midpoint]==item:\n",
    "            found = True\n",
    "            \n",
    "        \n",
    "        elif item<alist[midpoint]:\n",
    "            last = midpoint-1\n",
    "        elif item > alist[midpoint]:\n",
    "            first = midpoint+1\n",
    "\n",
    "    return found\n",
    "        "
   ]
  },
  {
   "cell_type": "code",
   "execution_count": null,
   "metadata": {},
   "outputs": [],
   "source": []
  },
  {
   "cell_type": "code",
   "execution_count": 165,
   "metadata": {},
   "outputs": [],
   "source": [
    "def binarySearch (arr, l, r, x):\n",
    "    \n",
    "    if len(arr) == 0:\n",
    "        return -1\n",
    "    \n",
    "    if r >= l:\n",
    "        \n",
    "        mid = (l+r)//2\n",
    "\n",
    "        if arr[mid] == x:\n",
    "            return mid\n",
    "\n",
    "        elif arr[mid] > x:\n",
    "            r = mid-1\n",
    "            return binarySearch(arr, l, r, x)\n",
    "        else:\n",
    "            l = mid+1\n",
    "            return binarySearch(arr, l, r, x)\n",
    "    else:\n",
    "        return False\n",
    "    \n",
    "    \n",
    "    "
   ]
  },
  {
   "cell_type": "code",
   "execution_count": 166,
   "metadata": {},
   "outputs": [],
   "source": [
    "arr = [3, 4, 5,6,7]"
   ]
  },
  {
   "cell_type": "code",
   "execution_count": 168,
   "metadata": {},
   "outputs": [
    {
     "data": {
      "text/plain": [
       "4"
      ]
     },
     "execution_count": 168,
     "metadata": {},
     "output_type": "execute_result"
    }
   ],
   "source": [
    "binarySearch(arr, 0, 5,7)"
   ]
  },
  {
   "cell_type": "code",
   "execution_count": null,
   "metadata": {},
   "outputs": [],
   "source": [
    "while i < len(lefthalf) and j < len(righthalf):\n",
    "            if lefthalf[i] <= righthalf[j]:\n",
    "                alist[k]=lefthalf[i]\n",
    "                i=i+1\n",
    "            else:\n",
    "                alist[k]=righthalf[j]\n",
    "                j=j+1\n",
    "            k=k+1\n",
    "\n",
    "        while i < len(lefthalf):\n",
    "            alist[k]=lefthalf[i]\n",
    "            i=i+1\n",
    "            k=k+1\n",
    "\n",
    "        while j < len(righthalf):\n",
    "            alist[k]=righthalf[j]\n",
    "            j=j+1\n",
    "            k=k+1\n",
    "    print(\"Merging \",alist)"
   ]
  },
  {
   "cell_type": "code",
   "execution_count": 182,
   "metadata": {},
   "outputs": [],
   "source": [
    "def mergeSort(alist):\n",
    "    print(\"Splitting \",alist)\n",
    "    if len(alist)>1:\n",
    "        mid = len(alist)//2\n",
    "        lefthalf = alist[:mid]\n",
    "        righthalf = alist[mid:]\n",
    "\n",
    "        mergeSort(lefthalf)\n",
    "        mergeSort(righthalf)\n",
    "\n",
    "        i=0\n",
    "        j=0\n",
    "        k=0\n",
    "        while i < len(lefthalf) and j < len(righthalf):\n",
    "            if lefthalf[i] <= righthalf[j]:\n",
    "                alist[k]=lefthalf[i]\n",
    "                i=i+1\n",
    "            else:\n",
    "                alist[k]=righthalf[j]\n",
    "                j=j+1\n",
    "            k=k+1\n",
    "\n",
    "        while i < len(lefthalf):\n",
    "            alist[k]=lefthalf[i]\n",
    "            i=i+1\n",
    "            k=k+1\n",
    "\n",
    "        while j < len(righthalf):\n",
    "            alist[k]=righthalf[j]\n",
    "            j=j+1\n",
    "            k=k+1\n",
    "    print(\"Merging \",alist) \n",
    "                    \n",
    "        \n",
    "    "
   ]
  },
  {
   "cell_type": "code",
   "execution_count": 189,
   "metadata": {},
   "outputs": [],
   "source": [
    "alist = [5,4]"
   ]
  },
  {
   "cell_type": "code",
   "execution_count": 190,
   "metadata": {},
   "outputs": [
    {
     "name": "stdout",
     "output_type": "stream",
     "text": [
      "Splitting  [5, 4]\n",
      "Splitting  [5]\n",
      "Merging  [5]\n",
      "Splitting  [4]\n",
      "Merging  [4]\n",
      "Merging  [4, 5]\n"
     ]
    }
   ],
   "source": [
    "mergeSort(alist)"
   ]
  },
  {
   "cell_type": "code",
   "execution_count": 191,
   "metadata": {},
   "outputs": [],
   "source": [
    "# Find two smallest elements"
   ]
  },
  {
   "cell_type": "code",
   "execution_count": 197,
   "metadata": {},
   "outputs": [],
   "source": [
    "arr = [12, 13, 1, 10, 34, 5]"
   ]
  },
  {
   "cell_type": "code",
   "execution_count": 201,
   "metadata": {},
   "outputs": [
    {
     "name": "stdout",
     "output_type": "stream",
     "text": [
      "1 5\n"
     ]
    }
   ],
   "source": [
    "first = last = 999\n",
    "\n",
    "for i in range(1, len(arr)):\n",
    "    if arr[i] < first:\n",
    "        last = first\n",
    "        first = arr[i]\n",
    "        \n",
    "    elif (arr[i] < last and arr[i] != first): \n",
    "            last = arr[i];    \n",
    "print(first, last)\n",
    "    \n",
    "    "
   ]
  },
  {
   "cell_type": "code",
   "execution_count": 283,
   "metadata": {},
   "outputs": [],
   "source": [
    "arr = [12, 13, 1, 10, 34, 5]"
   ]
  },
  {
   "cell_type": "code",
   "execution_count": 284,
   "metadata": {},
   "outputs": [],
   "source": [
    "k = 3\n",
    "max_arr = [0, 0, 0]"
   ]
  },
  {
   "cell_type": "code",
   "execution_count": 285,
   "metadata": {},
   "outputs": [],
   "source": [
    "max_arr[0]=arr[0]\n",
    "max_arr[1]=arr[1]\n",
    "max_arr[2]=arr[2]\n"
   ]
  },
  {
   "cell_type": "code",
   "execution_count": 286,
   "metadata": {},
   "outputs": [
    {
     "data": {
      "text/plain": [
       "[12, 13, 1]"
      ]
     },
     "execution_count": 286,
     "metadata": {},
     "output_type": "execute_result"
    }
   ],
   "source": [
    "max_arr"
   ]
  },
  {
   "cell_type": "code",
   "execution_count": 287,
   "metadata": {},
   "outputs": [],
   "source": [
    "def find_min(max_arr_):\n",
    "    min_ = 999\n",
    "    pos = 0\n",
    "    for i in range(len(max_arr_)):\n",
    "        if max_arr_[i] < min_:\n",
    "            min_ = max_arr_[i]\n",
    "            pos = i\n",
    "    return (min_, pos)\n",
    "    "
   ]
  },
  {
   "cell_type": "code",
   "execution_count": 288,
   "metadata": {},
   "outputs": [],
   "source": [
    "def find_max(max_arr_):\n",
    "    max_ = 0\n",
    "    pos = 0\n",
    "    for i in range(len(max_arr_)):\n",
    "        if max_arr_[i] > max_:\n",
    "            max_ = max_arr_[i]\n",
    "            pos = i\n",
    "    return (max_, pos)"
   ]
  },
  {
   "cell_type": "code",
   "execution_count": 289,
   "metadata": {},
   "outputs": [
    {
     "data": {
      "text/plain": [
       "(1, 2)"
      ]
     },
     "execution_count": 289,
     "metadata": {},
     "output_type": "execute_result"
    }
   ],
   "source": [
    "find_min([12, 13, 1])"
   ]
  },
  {
   "cell_type": "code",
   "execution_count": 292,
   "metadata": {},
   "outputs": [
    {
     "name": "stdout",
     "output_type": "stream",
     "text": [
      "34 1\n",
      "34 1\n",
      "34 1\n"
     ]
    }
   ],
   "source": [
    "for i in range(k,len(arr)):\n",
    "    \n",
    "    \n",
    "    max_, pos = find_max(max_arr)\n",
    "    \n",
    "    \n",
    "    \n",
    "    print(max_, pos)\n",
    "    if arr[i] > max_:\n",
    "        max_arr[pos] = arr[i]\n",
    "    \n",
    "    "
   ]
  },
  {
   "cell_type": "code",
   "execution_count": 291,
   "metadata": {},
   "outputs": [
    {
     "data": {
      "text/plain": [
       "[12, 34, 1]"
      ]
     },
     "execution_count": 291,
     "metadata": {},
     "output_type": "execute_result"
    }
   ],
   "source": [
    "int kth_smallest2(vector<int> arr, int k)\n",
    "{\n",
    "for(int i = k - 1; i < arr.size(); ++i)\n",
    "{\n",
    "for(auto j = 0; j <= k; ++j)\n",
    "{\n",
    "if(arr[i] < arr[j])\n",
    "{\n",
    "int temp = arr[i];\n",
    "\n",
    "arr[i] = arr[j];\n",
    "arr[j] = temp;\n",
    "}\n",
    "}\n",
    "}\n",
    "return arr[k - 1];\n",
    "}"
   ]
  },
  {
   "cell_type": "code",
   "execution_count": 314,
   "metadata": {},
   "outputs": [],
   "source": [
    "arr = [12, 13, 10, 1,  34, 5]"
   ]
  },
  {
   "cell_type": "code",
   "execution_count": 315,
   "metadata": {},
   "outputs": [],
   "source": [
    "for i in range(k, len(arr)):\n",
    "    for j in range(0, k):\n",
    "        if arr[i] > arr[j]:\n",
    "            temp = arr[i]\n",
    "            arr[i] = arr[j]\n",
    "            arr[j] = temp"
   ]
  },
  {
   "cell_type": "code",
   "execution_count": 316,
   "metadata": {},
   "outputs": [
    {
     "data": {
      "text/plain": [
       "[34, 13, 12, 1, 10, 5]"
      ]
     },
     "execution_count": 316,
     "metadata": {},
     "output_type": "execute_result"
    }
   ],
   "source": [
    "arr"
   ]
  },
  {
   "cell_type": "code",
   "execution_count": 317,
   "metadata": {},
   "outputs": [
    {
     "ename": "NameError",
     "evalue": "name 'countOccurrences' is not defined",
     "output_type": "error",
     "traceback": [
      "\u001b[1;31m---------------------------------------------------------------------------\u001b[0m",
      "\u001b[1;31mNameError\u001b[0m                                 Traceback (most recent call last)",
      "\u001b[1;32m<ipython-input-317-2fd594aa4270>\u001b[0m in \u001b[0;36m<module>\u001b[1;34m\u001b[0m\n\u001b[0;32m      3\u001b[0m \u001b[0mn\u001b[0m \u001b[1;33m=\u001b[0m \u001b[0mlen\u001b[0m\u001b[1;33m(\u001b[0m\u001b[0marr\u001b[0m\u001b[1;33m)\u001b[0m\u001b[1;33m\u001b[0m\u001b[1;33m\u001b[0m\u001b[0m\n\u001b[0;32m      4\u001b[0m \u001b[0mx\u001b[0m \u001b[1;33m=\u001b[0m \u001b[1;36m2\u001b[0m\u001b[1;33m\u001b[0m\u001b[1;33m\u001b[0m\u001b[0m\n\u001b[1;32m----> 5\u001b[1;33m \u001b[0mprint\u001b[0m\u001b[1;33m(\u001b[0m\u001b[0mcountOccurrences\u001b[0m\u001b[1;33m(\u001b[0m\u001b[0marr\u001b[0m\u001b[1;33m,\u001b[0m \u001b[0mn\u001b[0m\u001b[1;33m,\u001b[0m \u001b[0mx\u001b[0m\u001b[1;33m)\u001b[0m\u001b[1;33m)\u001b[0m\u001b[1;33m\u001b[0m\u001b[1;33m\u001b[0m\u001b[0m\n\u001b[0m",
      "\u001b[1;31mNameError\u001b[0m: name 'countOccurrences' is not defined"
     ]
    }
   ],
   "source": [
    "arr = [ 1, 2, 2, 2, 2,  \n",
    "        3, 4, 7, 8, 8 ] \n",
    "n = len(arr) \n",
    "x = 2\n",
    "print(countOccurrences(arr, n, x))"
   ]
  },
  {
   "cell_type": "code",
   "execution_count": 318,
   "metadata": {},
   "outputs": [
    {
     "data": {
      "text/plain": [
       "[1, 2, 2, 2, 2, 3, 4, 7, 8, 8]"
      ]
     },
     "execution_count": 318,
     "metadata": {},
     "output_type": "execute_result"
    }
   ],
   "source": [
    "arr"
   ]
  },
  {
   "cell_type": "code",
   "execution_count": null,
   "metadata": {},
   "outputs": [],
   "source": [
    "# https://www.geeksforgeeks.org/count-number-of-occurrences-or-frequency-in-a-sorted-array/\n",
    "def countOccurrences(arr, n, x):\n",
    "    \n",
    "    ind = binarySearch(arr, 0, n, x)\n",
    "    \n",
    "    if ind == -1:\n",
    "        return -1\n",
    "    \n",
    "    l_count = 1\n",
    "    left = ind - 1\n",
    "    for i in range(0, ind):\n",
    "        if arr[i] == x:\n",
    "            l_count+=1\n",
    "    \n",
    "    r_count = 1\n",
    "    right = ind + 1\n",
    "    for i in range(ind+1, n):\n",
    "        if arr[i] == x:\n",
    "            r_count+=1\n",
    "    \n",
    "    return l_count + r_count"
   ]
  },
  {
   "cell_type": "code",
   "execution_count": 319,
   "metadata": {},
   "outputs": [],
   "source": [
    "def countOccurrences(arr, n, x):\n",
    "    \n",
    "    ind = binarySearch(arr, 0, n, x)\n",
    "    \n",
    "    if ind == -1:\n",
    "        return -1\n",
    "    \n",
    "    l_count = 1\n",
    "    left = ind - 1\n",
    "    \n",
    "    while (left >=0 and arr[left] == x):\n",
    "        left-=1\n",
    "        l_count +=1\n",
    "    \n",
    "    while (right<=n and arr[right]==x):\n",
    "        right+=1\n",
    "        r_count += 1\n",
    "    return l_count + r_count"
   ]
  },
  {
   "cell_type": "code",
   "execution_count": null,
   "metadata": {},
   "outputs": [],
   "source": [
    "def binarySearch(arr, left, right, x):\n",
    "    if right < left:\n",
    "        return -1\n",
    "    \n",
    "    mid = (left+right) // 2 \n",
    "    \n",
    "    if arr[mid] == x:\n",
    "        return mid\n",
    "    \n",
    "    if arr[mid] < x :\n",
    "        return binarySearch(arr, left, mid-1, x)\n",
    "    elif arr[mid] > x:\n",
    "        return binarySearch(arr, mid+1, right, x)"
   ]
  },
  {
   "cell_type": "code",
   "execution_count": 353,
   "metadata": {},
   "outputs": [
    {
     "data": {
      "text/plain": [
       "(0, 0, 39)"
      ]
     },
     "execution_count": 353,
     "metadata": {},
     "output_type": "execute_result"
    }
   ],
   "source": [
    "arr = [1, 8, 30, 40, 100] \n",
    "x = 50\n",
    "findPair(arr, x) "
   ]
  },
  {
   "cell_type": "code",
   "execution_count": 351,
   "metadata": {},
   "outputs": [],
   "source": [
    "def findPair(arr, x):\n",
    "    i = 0\n",
    "    j = 1\n",
    "    size = len(arr)-1\n",
    "    min_sum = 999\n",
    "    pos_i = 0\n",
    "    pos_j = 0\n",
    "    while i < size or j < size:\n",
    "        if arr[j] - arr[i] == x:\n",
    "            if arr[j] - arr[i] < x:\n",
    "                min_sum = arr[j] - arr[i]\n",
    "            \n",
    "            return (arr[j], arr[i], min_sum)\n",
    "        \n",
    "        elif arr[j] - arr[i] > x:\n",
    "            if arr[j] - arr[i] < x:\n",
    "                min_sum = arr[j] - arr[i]\n",
    "            \n",
    "            i += 1\n",
    "            \n",
    "        elif arr[j] - arr[i] < x:\n",
    "            \n",
    "            if arr[j] - arr[i] < x:\n",
    "                min_sum = arr[j] - arr[i]\n",
    "            j+=1\n",
    "            \n",
    "    return (pos_i, pos_j, min_sum)"
   ]
  },
  {
   "cell_type": "code",
   "execution_count": 354,
   "metadata": {},
   "outputs": [],
   "source": [
    "# https://www.geeksforgeeks.org/two-elements-whose-sum-is-closest-to-zero/"
   ]
  },
  {
   "cell_type": "code",
   "execution_count": null,
   "metadata": {},
   "outputs": [],
   "source": []
  }
 ],
 "metadata": {
  "kernelspec": {
   "display_name": "Python 3",
   "language": "python",
   "name": "python3"
  },
  "language_info": {
   "codemirror_mode": {
    "name": "ipython",
    "version": 3
   },
   "file_extension": ".py",
   "mimetype": "text/x-python",
   "name": "python",
   "nbconvert_exporter": "python",
   "pygments_lexer": "ipython3",
   "version": "3.7.6"
  }
 },
 "nbformat": 4,
 "nbformat_minor": 4
}
