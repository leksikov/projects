{
 "cells": [
  {
   "cell_type": "code",
   "execution_count": 7,
   "metadata": {},
   "outputs": [],
   "source": [
    "import hurst\n",
    "import numpy as np\n",
    "import pandas as pd\n",
    "from matplotlib import pyplot as plt"
   ]
  },
  {
   "cell_type": "code",
   "execution_count": 721,
   "metadata": {},
   "outputs": [],
   "source": [
    "\n",
    "def hurstF(ts):\n",
    "    lags = range(2, 20)\n",
    "    tau = [np.sqrt(np.std(np.subtract(ts[lag:], ts[:-lag]))) for lag in lags]\n",
    "    # plot on log-log scale\n",
    "    #plt.plot(np.log(lags), np.log(tau)); plt.show()\n",
    "    # calculate Hurst as slope of log-log plot\n",
    "    #print(lags, tau)\n",
    "    m = np.polyfit(np.log(lags), np.log(tau), 1)\n",
    "\n",
    " \n",
    "    hurst = m[0]*2.0\n",
    "    #print ('hurst = ',hurst)\n",
    "    #plt.clf(), plt.close()\n",
    "    return hurst\n",
    "\n",
    "\n",
    "def hurstF2(p):\n",
    "    lags = range(2,20)\n",
    "\n",
    "\n",
    "    variancetau = []; tau = []\n",
    "\n",
    "    for lag in lags: \n",
    "\n",
    "        #  Write the different lags into a vector to compute a set of tau or lags\n",
    "        tau.append(lag)\n",
    "\n",
    "        # Compute the log returns on all days, then compute the variance on the difference in log returns\n",
    "        # call this pp or the price difference\n",
    "        pp = np.subtract(p[lag:], p[:-lag])\n",
    "        variancetau.append(np.var(pp))\n",
    "\n",
    "    # we now have a set of tau or lags and a corresponding set of variances.\n",
    "    #print tau\n",
    "    #print variancetau\n",
    "\n",
    "    # plot the log of those variance against the log of tau and get the slope\n",
    "    m = np.polyfit(np.log10(tau),np.log10(variancetau),1)\n",
    "\n",
    "    hurst = m[0] / 2\n",
    "\n",
    "    return hurst\n",
    "\n",
    "def hurstF3(series):\n",
    "   \n",
    "\n",
    "    #H, c, data = compute_Hc(series.replace([np.inf, -np.inf], np.na).dropna(), kind='price', simplified=True)\n",
    "    H, c, data = hurst.compute_Hc(series.replace([np.inf, -np.inf], np.nan).dropna(), kind='random_walk', simplified=False)\n",
    "    return H\n",
    "\n",
    "def hurstF4(series):\n",
    "   \n",
    "    \n",
    "    H, c, data = hurst.compute_Hc(series, kind='random_walk', simplified=True)\n",
    "    return H\n",
    "\n"
   ]
  },
  {
   "cell_type": "code",
   "execution_count": 30,
   "metadata": {},
   "outputs": [],
   "source": [
    "ts = hurst.random_walk(1000, proba=0.5)"
   ]
  },
  {
   "cell_type": "code",
   "execution_count": 326,
   "metadata": {},
   "outputs": [],
   "source": [
    "res = []\n",
    "for i in range(1000):\n",
    "    ts = hurst.random_walk(1000, proba=0.8)\n",
    "    ts = (100.0+pd.Series(ts))\n",
    "    res.append(hurstF(ts.values))\n",
    "    "
   ]
  },
  {
   "cell_type": "code",
   "execution_count": 327,
   "metadata": {},
   "outputs": [
    {
     "data": {
      "text/plain": [
       "(array([ 3.,  3., 17., 17., 25., 41., 36., 53., 63., 71., 62., 82., 68.,\n",
       "        72., 65., 49., 47., 25., 21., 26., 11.,  7.,  7.,  3.,  8.,  2.,\n",
       "         2.,  2.,  2.,  1.,  2.,  4.,  2.,  3.,  1.,  3.,  4.,  5., 10.,\n",
       "        10., 11., 15., 13.,  8.,  9.,  3.,  3.,  2.,  0.,  1.]),\n",
       " array([0.41557153, 0.4246815 , 0.43379146, 0.44290142, 0.45201139,\n",
       "        0.46112135, 0.47023131, 0.47934128, 0.48845124, 0.49756121,\n",
       "        0.50667117, 0.51578113, 0.5248911 , 0.53400106, 0.54311102,\n",
       "        0.55222099, 0.56133095, 0.57044091, 0.57955088, 0.58866084,\n",
       "        0.5977708 , 0.60688077, 0.61599073, 0.6251007 , 0.63421066,\n",
       "        0.64332062, 0.65243059, 0.66154055, 0.67065051, 0.67976048,\n",
       "        0.68887044, 0.6979804 , 0.70709037, 0.71620033, 0.7253103 ,\n",
       "        0.73442026, 0.74353022, 0.75264019, 0.76175015, 0.77086011,\n",
       "        0.77997008, 0.78908004, 0.79819   , 0.80729997, 0.81640993,\n",
       "        0.8255199 , 0.83462986, 0.84373982, 0.85284979, 0.86195975,\n",
       "        0.87106971]),\n",
       " <a list of 50 Patch objects>)"
      ]
     },
     "execution_count": 327,
     "metadata": {},
     "output_type": "execute_result"
    },
    {
     "data": {
      "image/png": "[encoded data removed]",
      "text/plain": [
       "<Figure size 432x288 with 1 Axes>"
      ]
     },
     "metadata": {
      "needs_background": "light"
     },
     "output_type": "display_data"
    }
   ],
   "source": [
    "plt.hist(res, bins=50)"
   ]
  },
  {
   "cell_type": "code",
   "execution_count": 317,
   "metadata": {},
   "outputs": [
    {
     "data": {
      "text/plain": [
       "(array([ 1.,  0.,  0.,  0.,  0.,  0.,  1.,  1.,  1.,  1.,  3.,  4.,  7.,\n",
       "         5.,  4., 19., 15., 24., 26., 30., 33., 57., 45., 52., 58., 66.,\n",
       "        56., 44., 65., 67., 39., 43., 45., 44., 28., 32., 30., 21., 12.,\n",
       "        11.,  2.,  3.,  1.,  1.,  0.,  0.,  0.,  2.,  0.,  1.]),\n",
       " array([0.16189817, 0.16840729, 0.17491641, 0.18142554, 0.18793466,\n",
       "        0.19444378, 0.2009529 , 0.20746202, 0.21397114, 0.22048027,\n",
       "        0.22698939, 0.23349851, 0.24000763, 0.24651675, 0.25302588,\n",
       "        0.259535  , 0.26604412, 0.27255324, 0.27906236, 0.28557148,\n",
       "        0.29208061, 0.29858973, 0.30509885, 0.31160797, 0.31811709,\n",
       "        0.32462622, 0.33113534, 0.33764446, 0.34415358, 0.3506627 ,\n",
       "        0.35717182, 0.36368095, 0.37019007, 0.37669919, 0.38320831,\n",
       "        0.38971743, 0.39622656, 0.40273568, 0.4092448 , 0.41575392,\n",
       "        0.42226304, 0.42877216, 0.43528129, 0.44179041, 0.44829953,\n",
       "        0.45480865, 0.46131777, 0.4678269 , 0.47433602, 0.48084514,\n",
       "        0.48735426]),\n",
       " <a list of 50 Patch objects>)"
      ]
     },
     "execution_count": 317,
     "metadata": {},
     "output_type": "execute_result"
    },
    {
     "data": {
      "image/png": "[encoded data removed]",
      "text/plain": [
       "<Figure size 432x288 with 1 Axes>"
      ]
     },
     "metadata": {
      "needs_background": "light"
     },
     "output_type": "display_data"
    }
   ],
   "source": [
    "plt.hist(res, bins=50)"
   ]
  },
  {
   "cell_type": "code",
   "execution_count": 330,
   "metadata": {},
   "outputs": [],
   "source": [
    "res2 = []\n",
    "for i in range(1000):\n",
    "    ts = hurst.random_walk(1000, proba=0.2)\n",
    "    ts = (100.0+pd.Series(ts))\n",
    "    res2.append(hurstF2(ts.values))\n",
    "    "
   ]
  },
  {
   "cell_type": "code",
   "execution_count": 331,
   "metadata": {},
   "outputs": [
    {
     "data": {
      "text/plain": [
       "(array([ 2.,  2.,  1.,  2.,  1.,  3.,  6., 12., 18., 15., 20., 29., 26.,\n",
       "        46., 42., 41., 51., 47., 67., 51., 65., 52., 65., 55., 43., 33.,\n",
       "        20., 35., 27., 23., 27., 23., 13., 16.,  7.,  2.,  4.,  4.,  0.,\n",
       "         0.,  2.,  1.,  0.,  0.,  0.,  0.,  0.,  0.,  0.,  1.]),\n",
       " array([0.12022648, 0.12613714, 0.1320478 , 0.13795846, 0.14386911,\n",
       "        0.14977977, 0.15569043, 0.16160108, 0.16751174, 0.1734224 ,\n",
       "        0.17933306, 0.18524371, 0.19115437, 0.19706503, 0.20297568,\n",
       "        0.20888634, 0.214797  , 0.22070766, 0.22661831, 0.23252897,\n",
       "        0.23843963, 0.24435028, 0.25026094, 0.2561716 , 0.26208226,\n",
       "        0.26799291, 0.27390357, 0.27981423, 0.28572488, 0.29163554,\n",
       "        0.2975462 , 0.30345686, 0.30936751, 0.31527817, 0.32118883,\n",
       "        0.32709948, 0.33301014, 0.3389208 , 0.34483146, 0.35074211,\n",
       "        0.35665277, 0.36256343, 0.36847408, 0.37438474, 0.3802954 ,\n",
       "        0.38620606, 0.39211671, 0.39802737, 0.40393803, 0.40984868,\n",
       "        0.41575934]),\n",
       " <a list of 50 Patch objects>)"
      ]
     },
     "execution_count": 331,
     "metadata": {},
     "output_type": "execute_result"
    },
    {
     "data": {
      "image/png": "[encoded data removed]",
      "text/plain": [
       "<Figure size 432x288 with 1 Axes>"
      ]
     },
     "metadata": {
      "needs_background": "light"
     },
     "output_type": "display_data"
    }
   ],
   "source": [
    "plt.hist(res2, bins=50)"
   ]
  },
  {
   "cell_type": "code",
   "execution_count": 104,
   "metadata": {},
   "outputs": [
    {
     "data": {
      "text/plain": [
       "(array([ 1.,  3.,  1.,  1.,  2.,  3.,  6., 10., 10.,  9., 16., 13., 18.,\n",
       "        16., 25., 28., 29., 32., 36., 24., 33., 49., 49., 39., 39., 43.,\n",
       "        47., 43., 51., 34., 38., 37., 28., 35., 24., 28., 18., 17., 19.,\n",
       "        12.,  9.,  9.,  3.,  6.,  1.,  1.,  2.,  0.,  2.,  1.]),\n",
       " array([0.28683542, 0.29421961, 0.3016038 , 0.30898799, 0.31637218,\n",
       "        0.32375637, 0.33114056, 0.33852475, 0.34590894, 0.35329313,\n",
       "        0.36067732, 0.36806151, 0.3754457 , 0.38282989, 0.39021408,\n",
       "        0.39759827, 0.40498246, 0.41236665, 0.41975084, 0.42713503,\n",
       "        0.43451922, 0.44190341, 0.4492876 , 0.45667179, 0.46405598,\n",
       "        0.47144017, 0.47882436, 0.48620855, 0.49359273, 0.50097692,\n",
       "        0.50836111, 0.5157453 , 0.52312949, 0.53051368, 0.53789787,\n",
       "        0.54528206, 0.55266625, 0.56005044, 0.56743463, 0.57481882,\n",
       "        0.58220301, 0.5895872 , 0.59697139, 0.60435558, 0.61173977,\n",
       "        0.61912396, 0.62650815, 0.63389234, 0.64127653, 0.64866072,\n",
       "        0.65604491]),\n",
       " <a list of 50 Patch objects>)"
      ]
     },
     "execution_count": 104,
     "metadata": {},
     "output_type": "execute_result"
    },
    {
     "data": {
      "image/png": "[encoded data removed]",
      "text/plain": [
       "<Figure size 432x288 with 1 Axes>"
      ]
     },
     "metadata": {
      "needs_background": "light"
     },
     "output_type": "display_data"
    }
   ],
   "source": [
    "plt.hist(res2, bins=50)"
   ]
  },
  {
   "cell_type": "code",
   "execution_count": 334,
   "metadata": {},
   "outputs": [],
   "source": [
    "res3 = []\n",
    "for i in range(1000):\n",
    "    ts = hurst.random_walk(1000, proba=0.2)\n",
    "    ts = (100.0+pd.Series(ts))\n",
    "    res3.append(hurstF3(ts))\n",
    "    "
   ]
  },
  {
   "cell_type": "code",
   "execution_count": 335,
   "metadata": {},
   "outputs": [
    {
     "data": {
      "text/plain": [
       "(array([ 4.,  1.,  4.,  8.,  9., 13., 15., 17., 23., 17., 26., 32., 39.,\n",
       "        46., 41., 51., 55., 53., 41., 55., 51., 54., 40., 43., 31., 24.,\n",
       "        39., 30., 19., 20., 10., 12., 12., 12., 10., 16.,  5.,  3.,  3.,\n",
       "         7.,  5.,  0.,  1.,  0.,  0.,  0.,  1.,  0.,  1.,  1.]),\n",
       " array([0.24906743, 0.25272646, 0.25638549, 0.26004452, 0.26370355,\n",
       "        0.26736258, 0.27102161, 0.27468064, 0.27833967, 0.2819987 ,\n",
       "        0.28565773, 0.28931676, 0.29297579, 0.29663482, 0.30029385,\n",
       "        0.30395288, 0.30761191, 0.31127094, 0.31492997, 0.318589  ,\n",
       "        0.32224803, 0.32590706, 0.32956609, 0.33322512, 0.33688415,\n",
       "        0.34054318, 0.34420221, 0.34786124, 0.35152027, 0.3551793 ,\n",
       "        0.35883833, 0.36249736, 0.36615639, 0.36981542, 0.37347445,\n",
       "        0.37713348, 0.3807925 , 0.38445153, 0.38811056, 0.39176959,\n",
       "        0.39542862, 0.39908765, 0.40274668, 0.40640571, 0.41006474,\n",
       "        0.41372377, 0.4173828 , 0.42104183, 0.42470086, 0.42835989,\n",
       "        0.43201892]),\n",
       " <a list of 50 Patch objects>)"
      ]
     },
     "execution_count": 335,
     "metadata": {},
     "output_type": "execute_result"
    },
    {
     "data": {
      "image/png": "[encoded data removed]",
      "text/plain": [
       "<Figure size 432x288 with 1 Axes>"
      ]
     },
     "metadata": {
      "needs_background": "light"
     },
     "output_type": "display_data"
    }
   ],
   "source": [
    "plt.hist(res3, bins=50)"
   ]
  },
  {
   "cell_type": "code",
   "execution_count": 342,
   "metadata": {},
   "outputs": [],
   "source": [
    "res4 = []\n",
    "for i in range(1000):\n",
    "    ts = hurst.random_walk(1000, proba=0.2)\n",
    "    ts = (100.0+pd.Series(ts))\n",
    "    res4.append(hurstF4(ts))\n",
    "    "
   ]
  },
  {
   "cell_type": "code",
   "execution_count": 343,
   "metadata": {},
   "outputs": [
    {
     "data": {
      "text/plain": [
       "(array([ 2.,  1.,  5.,  7.,  3.,  5.,  7., 12., 18., 23., 36., 44., 53.,\n",
       "        64., 61., 58., 66., 64., 58., 55., 57., 42., 40., 39., 33., 29.,\n",
       "        24., 18., 19., 15.,  6.,  4.,  3.,  5.,  5.,  7.,  3.,  2.,  1.,\n",
       "         4.,  1.,  0.,  0.,  0.,  0.,  0.,  0.,  0.,  0.,  1.]),\n",
       " array([0.19843089, 0.20297228, 0.20751366, 0.21205504, 0.21659642,\n",
       "        0.22113781, 0.22567919, 0.23022057, 0.23476195, 0.23930334,\n",
       "        0.24384472, 0.2483861 , 0.25292748, 0.25746887, 0.26201025,\n",
       "        0.26655163, 0.27109301, 0.2756344 , 0.28017578, 0.28471716,\n",
       "        0.28925854, 0.29379993, 0.29834131, 0.30288269, 0.30742407,\n",
       "        0.31196546, 0.31650684, 0.32104822, 0.3255896 , 0.33013099,\n",
       "        0.33467237, 0.33921375, 0.34375513, 0.34829652, 0.3528379 ,\n",
       "        0.35737928, 0.36192066, 0.36646205, 0.37100343, 0.37554481,\n",
       "        0.38008619, 0.38462758, 0.38916896, 0.39371034, 0.39825172,\n",
       "        0.40279311, 0.40733449, 0.41187587, 0.41641725, 0.42095864,\n",
       "        0.42550002]),\n",
       " <a list of 50 Patch objects>)"
      ]
     },
     "execution_count": 343,
     "metadata": {},
     "output_type": "execute_result"
    },
    {
     "data": {
      "image/png": "[encoded data removed]",
      "text/plain": [
       "<Figure size 432x288 with 1 Axes>"
      ]
     },
     "metadata": {
      "needs_background": "light"
     },
     "output_type": "display_data"
    }
   ],
   "source": [
    "plt.hist(res4, bins=50)"
   ]
  },
  {
   "cell_type": "code",
   "execution_count": 338,
   "metadata": {},
   "outputs": [
    {
     "data": {
      "text/plain": [
       "0.0919013586489099"
      ]
     },
     "execution_count": 338,
     "metadata": {},
     "output_type": "execute_result"
    }
   ],
   "source": [
    "np.std(res)"
   ]
  },
  {
   "cell_type": "code",
   "execution_count": 130,
   "metadata": {},
   "outputs": [
    {
     "data": {
      "text/plain": [
       "0.034839641326984326"
      ]
     },
     "execution_count": 130,
     "metadata": {},
     "output_type": "execute_result"
    }
   ],
   "source": [
    "np.std(res2)"
   ]
  },
  {
   "cell_type": "code",
   "execution_count": 116,
   "metadata": {},
   "outputs": [
    {
     "data": {
      "text/plain": [
       "0.04423068394474515"
      ]
     },
     "execution_count": 116,
     "metadata": {},
     "output_type": "execute_result"
    }
   ],
   "source": [
    "np.std(res3)"
   ]
  },
  {
   "cell_type": "code",
   "execution_count": 339,
   "metadata": {},
   "outputs": [
    {
     "data": {
      "text/plain": [
       "0.058235987950184934"
      ]
     },
     "execution_count": 339,
     "metadata": {},
     "output_type": "execute_result"
    }
   ],
   "source": [
    "np.std(res4)"
   ]
  },
  {
   "cell_type": "code",
   "execution_count": 85,
   "metadata": {},
   "outputs": [],
   "source": [
    "res = []\n",
    "for i in range(1000):\n",
    "    ts = hurst.random_walk(100, proba=0.5)\n",
    "    ts = (100.0+pd.Series(ts))\n",
    "    res.append(hurstF(ts.values))\n",
    "    "
   ]
  },
  {
   "cell_type": "code",
   "execution_count": 86,
   "metadata": {},
   "outputs": [],
   "source": [
    "res = np.asarray(res)"
   ]
  },
  {
   "cell_type": "code",
   "execution_count": 87,
   "metadata": {},
   "outputs": [
    {
     "data": {
      "text/plain": [
       "(array([ 4.,  1.,  3.,  3.,  1.,  2.,  8.,  5.,  8.,  7., 10., 14., 13.,\n",
       "        25., 18., 21., 18., 25., 23., 37., 38., 43., 40., 38., 40., 50.,\n",
       "        45., 37., 47., 41., 28., 29., 47., 50., 26., 24., 33., 22., 18.,\n",
       "        20., 10.,  6.,  6.,  7.,  2.,  3.,  1.,  1.,  0.,  2.]),\n",
       " array([0.0548221 , 0.06889619, 0.08297029, 0.09704438, 0.11111847,\n",
       "        0.12519257, 0.13926666, 0.15334075, 0.16741485, 0.18148894,\n",
       "        0.19556303, 0.20963713, 0.22371122, 0.23778531, 0.25185941,\n",
       "        0.2659335 , 0.28000759, 0.29408169, 0.30815578, 0.32222987,\n",
       "        0.33630397, 0.35037806, 0.36445215, 0.37852625, 0.39260034,\n",
       "        0.40667443, 0.42074853, 0.43482262, 0.44889671, 0.46297081,\n",
       "        0.4770449 , 0.49111899, 0.50519309, 0.51926718, 0.53334127,\n",
       "        0.54741537, 0.56148946, 0.57556355, 0.58963765, 0.60371174,\n",
       "        0.61778583, 0.63185993, 0.64593402, 0.66000811, 0.6740822 ,\n",
       "        0.6881563 , 0.70223039, 0.71630448, 0.73037858, 0.74445267,\n",
       "        0.75852676]),\n",
       " <a list of 50 Patch objects>)"
      ]
     },
     "execution_count": 87,
     "metadata": {},
     "output_type": "execute_result"
    },
    {
     "data": {
      "image/png": "[encoded data removed]",
      "text/plain": [
       "<Figure size 432x288 with 1 Axes>"
      ]
     },
     "metadata": {
      "needs_background": "light"
     },
     "output_type": "display_data"
    }
   ],
   "source": [
    "plt.hist(res, bins=50)"
   ]
  },
  {
   "cell_type": "code",
   "execution_count": 93,
   "metadata": {},
   "outputs": [
    {
     "data": {
      "text/plain": [
       "0.7585267644652488"
      ]
     },
     "execution_count": 93,
     "metadata": {},
     "output_type": "execute_result"
    }
   ],
   "source": [
    "np.max(res)"
   ]
  },
  {
   "cell_type": "code",
   "execution_count": 89,
   "metadata": {},
   "outputs": [
    {
     "data": {
      "text/plain": [
       "0.6668673055161696"
      ]
     },
     "execution_count": 89,
     "metadata": {},
     "output_type": "execute_result"
    }
   ],
   "source": [
    "np.mean(res) + np.std(res)*2"
   ]
  },
  {
   "cell_type": "code",
   "execution_count": 90,
   "metadata": {},
   "outputs": [
    {
     "data": {
      "text/plain": [
       "0.6115371184850369"
      ]
     },
     "execution_count": 90,
     "metadata": {},
     "output_type": "execute_result"
    }
   ],
   "source": [
    "np.quantile(res, 0.95)"
   ]
  },
  {
   "cell_type": "code",
   "execution_count": 73,
   "metadata": {},
   "outputs": [
    {
     "data": {
      "text/plain": [
       "(array([  3.,   2.,   4.,   4.,   3.,  11.,  15.,  19.,  31.,  36.,  50.,\n",
       "         70., 101., 112., 158., 173., 224., 287., 332., 393., 428., 468.,\n",
       "        524., 575., 626., 598., 569., 595., 545., 514., 474., 404., 339.,\n",
       "        339., 241., 195., 157., 110.,  86.,  65.,  52.,  24.,  21.,  11.,\n",
       "          7.,   2.,   1.,   0.,   0.,   2.]),\n",
       " array([0.35703495, 0.36238489, 0.36773484, 0.37308479, 0.37843473,\n",
       "        0.38378468, 0.38913463, 0.39448457, 0.39983452, 0.40518447,\n",
       "        0.41053441, 0.41588436, 0.42123431, 0.42658425, 0.4319342 ,\n",
       "        0.43728415, 0.4426341 , 0.44798404, 0.45333399, 0.45868394,\n",
       "        0.46403388, 0.46938383, 0.47473378, 0.48008372, 0.48543367,\n",
       "        0.49078362, 0.49613356, 0.50148351, 0.50683346, 0.5121834 ,\n",
       "        0.51753335, 0.5228833 , 0.52823324, 0.53358319, 0.53893314,\n",
       "        0.54428308, 0.54963303, 0.55498298, 0.56033292, 0.56568287,\n",
       "        0.57103282, 0.57638276, 0.58173271, 0.58708266, 0.59243261,\n",
       "        0.59778255, 0.6031325 , 0.60848245, 0.61383239, 0.61918234,\n",
       "        0.62453229]),\n",
       " <a list of 50 Patch objects>)"
      ]
     },
     "execution_count": 73,
     "metadata": {},
     "output_type": "execute_result"
    },
    {
     "data": {
      "image/png": "[encoded data removed]",
      "text/plain": [
       "<Figure size 432x288 with 1 Axes>"
      ]
     },
     "metadata": {
      "needs_background": "light"
     },
     "output_type": "display_data"
    }
   ],
   "source": [
    "plt.hist(res, bins=50)"
   ]
  },
  {
   "cell_type": "code",
   "execution_count": 82,
   "metadata": {},
   "outputs": [
    {
     "data": {
      "text/plain": [
       "0.42217027928209866"
      ]
     },
     "execution_count": 82,
     "metadata": {},
     "output_type": "execute_result"
    }
   ],
   "source": [
    "np.mean(res) - np.std(res)*2"
   ]
  },
  {
   "cell_type": "code",
   "execution_count": 81,
   "metadata": {},
   "outputs": [
    {
     "data": {
      "text/plain": [
       "0.43318501357237227"
      ]
     },
     "execution_count": 81,
     "metadata": {},
     "output_type": "execute_result"
    }
   ],
   "source": [
    "np.quantile(res, 0.05)"
   ]
  },
  {
   "cell_type": "code",
   "execution_count": 84,
   "metadata": {},
   "outputs": [
    {
     "data": {
      "text/plain": [
       "0.3570349468340073"
      ]
     },
     "execution_count": 84,
     "metadata": {},
     "output_type": "execute_result"
    }
   ],
   "source": [
    "np.min(res)"
   ]
  },
  {
   "cell_type": "code",
   "execution_count": 57,
   "metadata": {},
   "outputs": [
    {
     "data": {
      "text/plain": [
       "(array([ 1.,  2.,  3.,  0.,  2.,  2.,  3.,  6.,  7.,  9.,  7.,  8., 16.,\n",
       "        15., 18., 20., 27., 30., 38., 39., 46., 46., 41., 35., 46., 49.,\n",
       "        53., 39., 36., 39., 42., 40., 48., 40., 37., 20., 21., 12., 17.,\n",
       "         7.,  9.,  7.,  3.,  6.,  5.,  1.,  0.,  0.,  0.,  2.]),\n",
       " array([0.38019662, 0.38458295, 0.38896929, 0.39335562, 0.39774195,\n",
       "        0.40212828, 0.40651461, 0.41090094, 0.41528727, 0.4196736 ,\n",
       "        0.42405993, 0.42844627, 0.4328326 , 0.43721893, 0.44160526,\n",
       "        0.44599159, 0.45037792, 0.45476425, 0.45915058, 0.46353692,\n",
       "        0.46792325, 0.47230958, 0.47669591, 0.48108224, 0.48546857,\n",
       "        0.4898549 , 0.49424123, 0.49862756, 0.5030139 , 0.50740023,\n",
       "        0.51178656, 0.51617289, 0.52055922, 0.52494555, 0.52933188,\n",
       "        0.53371821, 0.53810455, 0.54249088, 0.54687721, 0.55126354,\n",
       "        0.55564987, 0.5600362 , 0.56442253, 0.56880886, 0.57319519,\n",
       "        0.57758153, 0.58196786, 0.58635419, 0.59074052, 0.59512685,\n",
       "        0.59951318]),\n",
       " <a list of 50 Patch objects>)"
      ]
     },
     "execution_count": 57,
     "metadata": {},
     "output_type": "execute_result"
    },
    {
     "data": {
      "image/png": "[encoded data removed]",
      "text/plain": [
       "<Figure size 432x288 with 1 Axes>"
      ]
     },
     "metadata": {
      "needs_background": "light"
     },
     "output_type": "display_data"
    }
   ],
   "source": [
    "plt.hist(res, bins=50)"
   ]
  },
  {
   "cell_type": "code",
   "execution_count": null,
   "metadata": {},
   "outputs": [],
   "source": []
  },
  {
   "cell_type": "code",
   "execution_count": 60,
   "metadata": {},
   "outputs": [
    {
     "data": {
      "text/plain": [
       "0.035745039874399066"
      ]
     },
     "execution_count": 60,
     "metadata": {},
     "output_type": "execute_result"
    }
   ],
   "source": [
    "np.std(res)"
   ]
  },
  {
   "cell_type": "code",
   "execution_count": 62,
   "metadata": {},
   "outputs": [
    {
     "data": {
      "text/plain": [
       "0.548685693124763"
      ]
     },
     "execution_count": 62,
     "metadata": {},
     "output_type": "execute_result"
    }
   ],
   "source": [
    "np.quantile(res,0.95)"
   ]
  },
  {
   "cell_type": "code",
   "execution_count": 63,
   "metadata": {},
   "outputs": [
    {
     "data": {
      "text/plain": [
       "0.43297468103212916"
      ]
     },
     "execution_count": 63,
     "metadata": {},
     "output_type": "execute_result"
    }
   ],
   "source": [
    "np.quantile(res,0.05)"
   ]
  },
  {
   "cell_type": "code",
   "execution_count": 70,
   "metadata": {},
   "outputs": [
    {
     "data": {
      "text/plain": [
       "100.0"
      ]
     },
     "execution_count": 70,
     "metadata": {},
     "output_type": "execute_result"
    }
   ],
   "source": [
    "np.sqrt(10000)"
   ]
  },
  {
   "cell_type": "code",
   "execution_count": null,
   "metadata": {},
   "outputs": [],
   "source": []
  },
  {
   "cell_type": "code",
   "execution_count": 47,
   "metadata": {},
   "outputs": [
    {
     "data": {
      "text/plain": [
       "(array([ 1.,  1.,  0.,  0.,  0.,  2.,  1.,  4.,  4.,  7.,  5.,  9., 22.,\n",
       "        17., 29., 28., 24., 39., 46., 40., 34., 46., 39., 51., 43., 54.,\n",
       "        45., 49., 36., 46., 31., 48., 39., 31., 30., 20., 16., 13., 15.,\n",
       "         8.,  8.,  6.,  6.,  0.,  4.,  0.,  2.,  0.,  0.,  1.]),\n",
       " array([0.46314545, 0.46455673, 0.46596801, 0.46737929, 0.46879058,\n",
       "        0.47020186, 0.47161314, 0.47302443, 0.47443571, 0.47584699,\n",
       "        0.47725827, 0.47866956, 0.48008084, 0.48149212, 0.48290341,\n",
       "        0.48431469, 0.48572597, 0.48713725, 0.48854854, 0.48995982,\n",
       "        0.4913711 , 0.49278239, 0.49419367, 0.49560495, 0.49701623,\n",
       "        0.49842752, 0.4998388 , 0.50125008, 0.50266137, 0.50407265,\n",
       "        0.50548393, 0.50689521, 0.5083065 , 0.50971778, 0.51112906,\n",
       "        0.51254035, 0.51395163, 0.51536291, 0.51677419, 0.51818548,\n",
       "        0.51959676, 0.52100804, 0.52241933, 0.52383061, 0.52524189,\n",
       "        0.52665317, 0.52806446, 0.52947574, 0.53088702, 0.53229831,\n",
       "        0.53370959]),\n",
       " <a list of 50 Patch objects>)"
      ]
     },
     "execution_count": 47,
     "metadata": {},
     "output_type": "execute_result"
    },
    {
     "data": {
      "image/png": "[encoded data removed]",
      "text/plain": [
       "<Figure size 432x288 with 1 Axes>"
      ]
     },
     "metadata": {
      "needs_background": "light"
     },
     "output_type": "display_data"
    }
   ],
   "source": [
    "plt.hist(res, bins=50)"
   ]
  },
  {
   "cell_type": "code",
   "execution_count": null,
   "metadata": {},
   "outputs": [],
   "source": []
  },
  {
   "cell_type": "code",
   "execution_count": 48,
   "metadata": {},
   "outputs": [],
   "source": [
    "res_10k = np.asarray(res)"
   ]
  },
  {
   "cell_type": "code",
   "execution_count": 49,
   "metadata": {},
   "outputs": [
    {
     "data": {
      "text/plain": [
       "0.4985885214451836"
      ]
     },
     "execution_count": 49,
     "metadata": {},
     "output_type": "execute_result"
    }
   ],
   "source": [
    "res_10k.mean()"
   ]
  },
  {
   "cell_type": "code",
   "execution_count": 51,
   "metadata": {},
   "outputs": [
    {
     "data": {
      "text/plain": [
       "0.4986053841207832"
      ]
     },
     "execution_count": 51,
     "metadata": {},
     "output_type": "execute_result"
    }
   ],
   "source": [
    "np.median(res_10k)"
   ]
  },
  {
   "cell_type": "code",
   "execution_count": 52,
   "metadata": {},
   "outputs": [
    {
     "data": {
      "text/plain": [
       "0.00011955917118178245"
      ]
     },
     "execution_count": 52,
     "metadata": {},
     "output_type": "execute_result"
    }
   ],
   "source": [
    "np.var(res_10k)"
   ]
  },
  {
   "cell_type": "code",
   "execution_count": 53,
   "metadata": {},
   "outputs": [
    {
     "data": {
      "text/plain": [
       "0.010934311646454132"
      ]
     },
     "execution_count": 53,
     "metadata": {},
     "output_type": "execute_result"
    }
   ],
   "source": [
    "np.std(res_10k)"
   ]
  },
  {
   "cell_type": "code",
   "execution_count": 64,
   "metadata": {},
   "outputs": [
    {
     "data": {
      "text/plain": [
       "0.5165780825484761"
      ]
     },
     "execution_count": 64,
     "metadata": {},
     "output_type": "execute_result"
    }
   ],
   "source": [
    "np.quantile(res_10k, 0.95)"
   ]
  },
  {
   "cell_type": "code",
   "execution_count": 41,
   "metadata": {},
   "outputs": [
    {
     "data": {
      "text/plain": [
       "0.509402502049804"
      ]
     },
     "execution_count": 41,
     "metadata": {},
     "output_type": "execute_result"
    }
   ],
   "source": [
    "hurstF(ts.values)"
   ]
  },
  {
   "cell_type": "code",
   "execution_count": 38,
   "metadata": {},
   "outputs": [
    {
     "data": {
      "text/plain": [
       "0      100.000000\n",
       "1       99.842008\n",
       "2       99.389291\n",
       "3       99.409526\n",
       "4       99.388693\n",
       "          ...    \n",
       "995    100.207553\n",
       "996    100.172170\n",
       "997     99.098854\n",
       "998     99.320773\n",
       "999    101.688521\n",
       "Length: 1000, dtype: float64"
      ]
     },
     "execution_count": 38,
     "metadata": {},
     "output_type": "execute_result"
    }
   ],
   "source": [
    "ts"
   ]
  },
  {
   "cell_type": "code",
   "execution_count": null,
   "metadata": {},
   "outputs": [],
   "source": [
    "## searching for best rwi indicator"
   ]
  },
  {
   "cell_type": "code",
   "execution_count": 136,
   "metadata": {},
   "outputs": [],
   "source": [
    "def Momersion(df_):\n",
    "    #print(np.where(df == 1)[0])\n",
    "    #df = df['returns'].copy() * df['returns'].shift(1)\n",
    "    df_ = df_.copy() * df_.shift(1)\n",
    "    \n",
    "    df_ = df_.fillna(0) #df.dropna()\n",
    "    df_ = np.sign(df_)\n",
    "    pos = len(np.where(df_ == 1)[0])\n",
    "    neg = len(np.where(df_ == -1)[0])\n",
    "    #zero = len(np.where(df == 0.0)[0])\n",
    "    if (pos + neg) == 0.0:\n",
    "        return -1.0\n",
    "    #print(pos, neg)\n",
    "    mom = (pos / (pos+neg )) *100.0\n",
    "    return mom"
   ]
  },
  {
   "cell_type": "code",
   "execution_count": 134,
   "metadata": {},
   "outputs": [
    {
     "data": {
      "text/plain": [
       "53.106212424849694"
      ]
     },
     "execution_count": 134,
     "metadata": {},
     "output_type": "execute_result"
    }
   ],
   "source": [
    "Momersion(ts.diff())"
   ]
  },
  {
   "cell_type": "code",
   "execution_count": 141,
   "metadata": {},
   "outputs": [],
   "source": [
    "res_momersion = []\n",
    "for i in range(1000):\n",
    "    ts = hurst.random_walk(1000, proba=0.5)\n",
    "    ts = (100.0+pd.Series(ts))\n",
    "    res_momersion.append(Momersion(ts.diff()))\n",
    "    "
   ]
  },
  {
   "cell_type": "code",
   "execution_count": 142,
   "metadata": {},
   "outputs": [
    {
     "data": {
      "text/plain": [
       "(array([ 2.,  2.,  2.,  0.,  1.,  2.,  5.,  4.,  5., 10., 18., 12., 16.,\n",
       "        22., 22., 43., 16., 27., 33., 43., 44., 36., 54., 47., 29., 46.,\n",
       "        50., 56., 48., 40., 40., 41., 35.,  5., 23., 21., 24., 25., 12.,\n",
       "        11.,  3.,  7.,  3.,  6.,  3.,  2.,  1.,  1.,  1.,  1.]),\n",
       " array([45.29058116, 45.47895792, 45.66733467, 45.85571142, 46.04408818,\n",
       "        46.23246493, 46.42084168, 46.60921844, 46.79759519, 46.98597194,\n",
       "        47.1743487 , 47.36272545, 47.5511022 , 47.73947896, 47.92785571,\n",
       "        48.11623246, 48.30460922, 48.49298597, 48.68136273, 48.86973948,\n",
       "        49.05811623, 49.24649299, 49.43486974, 49.62324649, 49.81162325,\n",
       "        50.        , 50.18837675, 50.37675351, 50.56513026, 50.75350701,\n",
       "        50.94188377, 51.13026052, 51.31863727, 51.50701403, 51.69539078,\n",
       "        51.88376754, 52.07214429, 52.26052104, 52.4488978 , 52.63727455,\n",
       "        52.8256513 , 53.01402806, 53.20240481, 53.39078156, 53.57915832,\n",
       "        53.76753507, 53.95591182, 54.14428858, 54.33266533, 54.52104208,\n",
       "        54.70941884]),\n",
       " <a list of 50 Patch objects>)"
      ]
     },
     "execution_count": 142,
     "metadata": {},
     "output_type": "execute_result"
    },
    {
     "data": {
      "image/png": "[encoded data removed]",
      "text/plain": [
       "<Figure size 432x288 with 1 Axes>"
      ]
     },
     "metadata": {
      "needs_background": "light"
     },
     "output_type": "display_data"
    }
   ],
   "source": [
    "plt.hist(res_momersion, bins=50)"
   ]
  },
  {
   "cell_type": "code",
   "execution_count": 152,
   "metadata": {},
   "outputs": [
    {
     "data": {
      "text/plain": [
       "53.08555693799144"
      ]
     },
     "execution_count": 152,
     "metadata": {},
     "output_type": "execute_result"
    }
   ],
   "source": [
    "np.mean(res_momersion) + 2* np.std(res_momersion)"
   ]
  },
  {
   "cell_type": "code",
   "execution_count": 144,
   "metadata": {},
   "outputs": [
    {
     "data": {
      "text/plain": [
       "0.015635199519616522"
      ]
     },
     "execution_count": 144,
     "metadata": {},
     "output_type": "execute_result"
    }
   ],
   "source": [
    "np.std(res_momersion)/100"
   ]
  },
  {
   "cell_type": "code",
   "execution_count": 140,
   "metadata": {},
   "outputs": [
    {
     "data": {
      "text/plain": [
       "4.912151949639098"
      ]
     },
     "execution_count": 140,
     "metadata": {},
     "output_type": "execute_result"
    }
   ],
   "source": [
    "np.std(res_momersion)"
   ]
  },
  {
   "cell_type": "code",
   "execution_count": 153,
   "metadata": {},
   "outputs": [],
   "source": [
    "def MomersionDouble(df_):\n",
    "\n",
    "    #df = df[df!=0.0]\n",
    "    shift_returns = df_.shift(1).fillna(0)\n",
    "    shift_returns2 = df_.shift(2).fillna(0)\n",
    "    shift_returns3 = df_.shift(3).fillna(0)\n",
    "    Pattern = np.sign(shift_returns * shift_returns2)\n",
    "    Pattern2= np.sign(shift_returns2 * shift_returns3)\n",
    "    df_ = df_.fillna(0) #df.dropna()\n",
    "\n",
    "    pp = len(np.where( (Pattern == 1 ) & (Pattern2 == 1 ) )[0])\n",
    "    pm = len(np.where( (Pattern == 1 ) & (Pattern2 == -1 ) )[0])\n",
    "    mp = len(np.where( (Pattern == -1 ) & (Pattern2 == 1 ) )[0])\n",
    "    mm = len(np.where( (Pattern == -1 ) & (Pattern2 == -1 ) )[0])\n",
    "\n",
    "    total = 50+100*(pp+pm-mp-mm)/(pp + pm + mp+ mm)\n",
    "    #threshUp = total>=np.sqrt(len(df))\n",
    "\n",
    "    return total #(total, len(df), np.sqrt(len(df)))\n"
   ]
  },
  {
   "cell_type": "code",
   "execution_count": 312,
   "metadata": {},
   "outputs": [],
   "source": [
    "res_momersion_double = []\n",
    "for i in range(1000):\n",
    "    ts = hurst.random_walk(1000, proba=0.3)\n",
    "    ts = (100.0+pd.Series(ts))\n",
    "    ts = pd.DataFrame(ts.pct_change(), columns=['returns']).dropna()\n",
    "    res_momersion_double.append(MomersionDouble(ts))\n",
    "    "
   ]
  },
  {
   "cell_type": "code",
   "execution_count": 313,
   "metadata": {},
   "outputs": [
    {
     "data": {
      "text/plain": [
       "(array([ 2.,  0.,  1.,  3.,  2.,  2.,  3., 11., 11., 12., 19., 19., 27.,\n",
       "        28., 22., 40., 36., 46., 46., 47., 75., 50., 49., 40., 53., 38.,\n",
       "        44., 41., 33., 33., 40., 17., 16., 24., 18., 12., 10., 10.,  6.,\n",
       "         6.,  4.,  2.,  0.,  0.,  1.,  0.,  0.,  0.,  0.,  1.]),\n",
       " array([37.14859438, 37.57028112, 37.99196787, 38.41365462, 38.83534137,\n",
       "        39.25702811, 39.67871486, 40.10040161, 40.52208835, 40.9437751 ,\n",
       "        41.36546185, 41.78714859, 42.20883534, 42.63052209, 43.05220884,\n",
       "        43.47389558, 43.89558233, 44.31726908, 44.73895582, 45.16064257,\n",
       "        45.58232932, 46.00401606, 46.42570281, 46.84738956, 47.26907631,\n",
       "        47.69076305, 48.1124498 , 48.53413655, 48.95582329, 49.37751004,\n",
       "        49.79919679, 50.22088353, 50.64257028, 51.06425703, 51.48594378,\n",
       "        51.90763052, 52.32931727, 52.75100402, 53.17269076, 53.59437751,\n",
       "        54.01606426, 54.437751  , 54.85943775, 55.2811245 , 55.70281124,\n",
       "        56.12449799, 56.54618474, 56.96787149, 57.38955823, 57.81124498,\n",
       "        58.23293173]),\n",
       " <a list of 50 Patch objects>)"
      ]
     },
     "execution_count": 313,
     "metadata": {},
     "output_type": "execute_result"
    },
    {
     "data": {
      "image/png": "[encoded data removed]",
      "text/plain": [
       "<Figure size 432x288 with 1 Axes>"
      ]
     },
     "metadata": {
      "needs_background": "light"
     },
     "output_type": "display_data"
    }
   ],
   "source": [
    "plt.hist(res_momersion_double, bins=50)"
   ]
  },
  {
   "cell_type": "code",
   "execution_count": 163,
   "metadata": {},
   "outputs": [
    {
     "data": {
      "text/plain": [
       "0.03289424745484711"
      ]
     },
     "execution_count": 163,
     "metadata": {},
     "output_type": "execute_result"
    }
   ],
   "source": [
    "np.std(res_momersion_double) / 100"
   ]
  },
  {
   "cell_type": "code",
   "execution_count": 164,
   "metadata": {},
   "outputs": [],
   "source": [
    "def momersionPeriod(ts_, p_):\n",
    "    \n",
    "    ts_1 = np.sign(ts_.pct_change(p_).fillna(0))\n",
    "    ts_2 = np.sign(ts_.pct_change(p_).shift(p_).fillna(0))\n",
    "    \n",
    "    val = ts_1 * ts_2\n",
    "    pos = len(val[val == 1])\n",
    "    neg = len(val[val == -1])\n",
    "        \n",
    "    if pos + neg == 0:\n",
    "        return 0\n",
    "    \n",
    "    mom = (pos/(pos+neg)) * 100.0\n",
    "    return mom"
   ]
  },
  {
   "cell_type": "code",
   "execution_count": 308,
   "metadata": {},
   "outputs": [],
   "source": [
    "res_momersion_period = []\n",
    "for i in range(1000):\n",
    "    ts = hurst.random_walk(1000, proba=0.8)\n",
    "    ts = (100.0+pd.Series(ts))\n",
    "    \n",
    "    res_momersion_period.append(momersionPeriod(ts, 20))\n",
    "    "
   ]
  },
  {
   "cell_type": "code",
   "execution_count": 309,
   "metadata": {},
   "outputs": [
    {
     "data": {
      "text/plain": [
       "(array([ 2.,  2.,  1.,  0.,  1.,  0.,  0.,  0.,  1.,  3.,  3.,  2.,  3.,\n",
       "         6.,  4., 10., 12.,  7., 11.,  9., 15., 18., 20., 12., 22., 21.,\n",
       "        22., 29., 36., 33., 18., 43., 43., 45., 22., 53., 35., 44., 30.,\n",
       "        51., 40., 42., 32., 47., 49., 19., 12., 16., 20., 34.]),\n",
       " array([ 81.875 ,  82.2375,  82.6   ,  82.9625,  83.325 ,  83.6875,\n",
       "         84.05  ,  84.4125,  84.775 ,  85.1375,  85.5   ,  85.8625,\n",
       "         86.225 ,  86.5875,  86.95  ,  87.3125,  87.675 ,  88.0375,\n",
       "         88.4   ,  88.7625,  89.125 ,  89.4875,  89.85  ,  90.2125,\n",
       "         90.575 ,  90.9375,  91.3   ,  91.6625,  92.025 ,  92.3875,\n",
       "         92.75  ,  93.1125,  93.475 ,  93.8375,  94.2   ,  94.5625,\n",
       "         94.925 ,  95.2875,  95.65  ,  96.0125,  96.375 ,  96.7375,\n",
       "         97.1   ,  97.4625,  97.825 ,  98.1875,  98.55  ,  98.9125,\n",
       "         99.275 ,  99.6375, 100.    ]),\n",
       " <a list of 50 Patch objects>)"
      ]
     },
     "execution_count": 309,
     "metadata": {},
     "output_type": "execute_result"
    },
    {
     "data": {
      "image/png": "[encoded data removed]",
      "text/plain": [
       "<Figure size 432x288 with 1 Axes>"
      ]
     },
     "metadata": {
      "needs_background": "light"
     },
     "output_type": "display_data"
    }
   ],
   "source": [
    "plt.hist(res_momersion_period, bins=50)"
   ]
  },
  {
   "cell_type": "code",
   "execution_count": 189,
   "metadata": {},
   "outputs": [
    {
     "data": {
      "text/plain": [
       "0.10655225665577195"
      ]
     },
     "execution_count": 189,
     "metadata": {},
     "output_type": "execute_result"
    }
   ],
   "source": [
    "np.std(res_momersion_period)/100"
   ]
  },
  {
   "cell_type": "code",
   "execution_count": 190,
   "metadata": {},
   "outputs": [],
   "source": [
    "def marketMeannes(df_):\n",
    "    \n",
    "    m = np.median(df_) \n",
    "    nh = 0\n",
    "    nl = 0\n",
    "    \n",
    "    for i in range(1, len(df_)-1):\n",
    "        Pt = df_[i]\n",
    "        Py = df_[i-1]\n",
    "        \n",
    "        if (Py > m) & (Py > Pt):\n",
    "            nl += 1\n",
    "        elif (Py < m) & (Py < Pt):\n",
    "            nh += 1\n",
    "        else:\n",
    "            None\n",
    "    return (nl+nh)/(len(df_)-1)"
   ]
  },
  {
   "cell_type": "code",
   "execution_count": 296,
   "metadata": {},
   "outputs": [],
   "source": [
    "res_mmi = []\n",
    "for i in range(1000):\n",
    "    ts = hurst.random_walk(1000, proba=0.8)\n",
    "    ts = (100.0+pd.Series(ts))\n",
    "    \n",
    "    res_mmi.append(marketMeannes(ts.fillna(0)))\n",
    "    "
   ]
  },
  {
   "cell_type": "code",
   "execution_count": 297,
   "metadata": {},
   "outputs": [
    {
     "data": {
      "text/plain": [
       "(array([  3.,   3.,   2.,   1.,   3.,   2.,   1.,   2.,   3.,   0.,   3.,\n",
       "          2.,   1.,   4.,   3.,   2.,   6.,   5.,  15.,  19.,  37.,  54.,\n",
       "         77., 111., 118., 153., 118.,  91.,  55.,  33.,  13.,   5.,   5.,\n",
       "          3.,   3.,   4.,   4.,   2.,   2.,   4.,   3.,   2.,   1.,   6.,\n",
       "          1.,   1.,   4.,   2.,   3.,   5.]),\n",
       " array([0.34934935, 0.35531532, 0.36128128, 0.36724725, 0.37321321,\n",
       "        0.37917918, 0.38514515, 0.39111111, 0.39707708, 0.40304304,\n",
       "        0.40900901, 0.41497497, 0.42094094, 0.42690691, 0.43287287,\n",
       "        0.43883884, 0.4448048 , 0.45077077, 0.45673674, 0.4627027 ,\n",
       "        0.46866867, 0.47463463, 0.4806006 , 0.48656657, 0.49253253,\n",
       "        0.4984985 , 0.50446446, 0.51043043, 0.5163964 , 0.52236236,\n",
       "        0.52832833, 0.53429429, 0.54026026, 0.54622623, 0.55219219,\n",
       "        0.55815816, 0.56412412, 0.57009009, 0.57605606, 0.58202202,\n",
       "        0.58798799, 0.59395395, 0.59991992, 0.60588589, 0.61185185,\n",
       "        0.61781782, 0.62378378, 0.62974975, 0.63571572, 0.64168168,\n",
       "        0.64764765]),\n",
       " <a list of 50 Patch objects>)"
      ]
     },
     "execution_count": 297,
     "metadata": {},
     "output_type": "execute_result"
    },
    {
     "data": {
      "image/png": "[encoded data removed]",
      "text/plain": [
       "<Figure size 432x288 with 1 Axes>"
      ]
     },
     "metadata": {
      "needs_background": "light"
     },
     "output_type": "display_data"
    }
   ],
   "source": [
    "plt.hist(res_mmi, bins=50)"
   ]
  },
  {
   "cell_type": "code",
   "execution_count": 293,
   "metadata": {},
   "outputs": [
    {
     "data": {
      "text/plain": [
       "(array([ 1.,  1.,  0.,  1.,  2.,  0.,  2.,  4.,  4.,  2., 12.,  1., 13.,\n",
       "         9., 16., 19.,  7., 29., 29., 24., 39., 45., 27., 56., 51., 60.,\n",
       "        61., 22., 60., 48., 57., 53., 46., 14., 36., 43., 24., 17.,  5.,\n",
       "        11., 12., 14.,  7.,  3.,  0.,  2.,  5.,  4.,  1.,  1.]),\n",
       " array([0.46646647, 0.46828829, 0.47011011, 0.47193193, 0.47375375,\n",
       "        0.47557558, 0.4773974 , 0.47921922, 0.48104104, 0.48286286,\n",
       "        0.48468468, 0.48650651, 0.48832833, 0.49015015, 0.49197197,\n",
       "        0.49379379, 0.49561562, 0.49743744, 0.49925926, 0.50108108,\n",
       "        0.5029029 , 0.50472472, 0.50654655, 0.50836837, 0.51019019,\n",
       "        0.51201201, 0.51383383, 0.51565566, 0.51747748, 0.5192993 ,\n",
       "        0.52112112, 0.52294294, 0.52476476, 0.52658659, 0.52840841,\n",
       "        0.53023023, 0.53205205, 0.53387387, 0.5356957 , 0.53751752,\n",
       "        0.53933934, 0.54116116, 0.54298298, 0.5448048 , 0.54662663,\n",
       "        0.54844845, 0.55027027, 0.55209209, 0.55391391, 0.55573574,\n",
       "        0.55755756]),\n",
       " <a list of 50 Patch objects>)"
      ]
     },
     "execution_count": 293,
     "metadata": {},
     "output_type": "execute_result"
    },
    {
     "data": {
      "image/png": "[encoded data removed]",
      "text/plain": [
       "<Figure size 432x288 with 1 Axes>"
      ]
     },
     "metadata": {
      "needs_background": "light"
     },
     "output_type": "display_data"
    }
   ],
   "source": [
    "plt.hist(res_mmi, bins=50)"
   ]
  },
  {
   "cell_type": "code",
   "execution_count": 291,
   "metadata": {},
   "outputs": [
    {
     "data": {
      "text/plain": [
       "(array([ 3.,  0.,  0.,  2.,  2.,  3.,  4.,  6.,  5.,  7.,  5.,  9.,  8.,\n",
       "         8., 12.,  9., 13., 14., 17., 13., 25., 20., 12., 28., 35., 28.,\n",
       "        42., 37., 40., 46., 30., 41., 39., 60., 45., 38., 40., 54., 25.,\n",
       "        41., 27., 31., 22., 20., 10.,  9.,  3.,  7.,  3.,  2.]),\n",
       " array([0.52252252, 0.52576577, 0.52900901, 0.53225225, 0.5354955 ,\n",
       "        0.53873874, 0.54198198, 0.54522523, 0.54846847, 0.55171171,\n",
       "        0.55495495, 0.5581982 , 0.56144144, 0.56468468, 0.56792793,\n",
       "        0.57117117, 0.57441441, 0.57765766, 0.5809009 , 0.58414414,\n",
       "        0.58738739, 0.59063063, 0.59387387, 0.59711712, 0.60036036,\n",
       "        0.6036036 , 0.60684685, 0.61009009, 0.61333333, 0.61657658,\n",
       "        0.61981982, 0.62306306, 0.62630631, 0.62954955, 0.63279279,\n",
       "        0.63603604, 0.63927928, 0.64252252, 0.64576577, 0.64900901,\n",
       "        0.65225225, 0.6554955 , 0.65873874, 0.66198198, 0.66522523,\n",
       "        0.66846847, 0.67171171, 0.67495495, 0.6781982 , 0.68144144,\n",
       "        0.68468468]),\n",
       " <a list of 50 Patch objects>)"
      ]
     },
     "execution_count": 291,
     "metadata": {},
     "output_type": "execute_result"
    },
    {
     "data": {
      "image/png": "[encoded data removed]",
      "text/plain": [
       "<Figure size 432x288 with 1 Axes>"
      ]
     },
     "metadata": {
      "needs_background": "light"
     },
     "output_type": "display_data"
    }
   ],
   "source": [
    "plt.hist(res_mmi, bins=50)"
   ]
  },
  {
   "cell_type": "code",
   "execution_count": 206,
   "metadata": {},
   "outputs": [
    {
     "data": {
      "text/plain": [
       "(array([ 1.,  0.,  0.,  0.,  0.,  2.,  1.,  3.,  0.,  7.,  6.,  8., 11.,\n",
       "        10.,  8., 22., 16., 40., 42., 24., 49., 50., 36., 63., 24., 58.,\n",
       "        66., 32., 61., 68., 32., 46., 46., 24., 35., 28., 13., 21.,  7.,\n",
       "        12., 10.,  3.,  7.,  3.,  1.,  2.,  1.,  0.,  0.,  1.]),\n",
       " array([0.70670671, 0.70834835, 0.70998999, 0.71163163, 0.71327327,\n",
       "        0.71491491, 0.71655656, 0.7181982 , 0.71983984, 0.72148148,\n",
       "        0.72312312, 0.72476476, 0.72640641, 0.72804805, 0.72968969,\n",
       "        0.73133133, 0.73297297, 0.73461461, 0.73625626, 0.7378979 ,\n",
       "        0.73953954, 0.74118118, 0.74282282, 0.74446446, 0.74610611,\n",
       "        0.74774775, 0.74938939, 0.75103103, 0.75267267, 0.75431431,\n",
       "        0.75595596, 0.7575976 , 0.75923924, 0.76088088, 0.76252252,\n",
       "        0.76416416, 0.76580581, 0.76744745, 0.76908909, 0.77073073,\n",
       "        0.77237237, 0.77401401, 0.77565566, 0.7772973 , 0.77893894,\n",
       "        0.78058058, 0.78222222, 0.78386386, 0.78550551, 0.78714715,\n",
       "        0.78878879]),\n",
       " <a list of 50 Patch objects>)"
      ]
     },
     "execution_count": 206,
     "metadata": {},
     "output_type": "execute_result"
    },
    {
     "data": {
      "image/png": "[encoded data removed]",
      "text/plain": [
       "<Figure size 432x288 with 1 Axes>"
      ]
     },
     "metadata": {
      "needs_background": "light"
     },
     "output_type": "display_data"
    }
   ],
   "source": [
    "plt.hist(res_mmi, bins=50)"
   ]
  },
  {
   "cell_type": "code",
   "execution_count": 210,
   "metadata": {},
   "outputs": [
    {
     "data": {
      "text/plain": [
       "0.7497497497497497"
      ]
     },
     "execution_count": 210,
     "metadata": {},
     "output_type": "execute_result"
    }
   ],
   "source": [
    "np.median(res_mmi)"
   ]
  },
  {
   "cell_type": "code",
   "execution_count": 207,
   "metadata": {},
   "outputs": [
    {
     "data": {
      "text/plain": [
       "0.011918714042761566"
      ]
     },
     "execution_count": 207,
     "metadata": {},
     "output_type": "execute_result"
    }
   ],
   "source": [
    "np.std(res_mmi)"
   ]
  },
  {
   "cell_type": "code",
   "execution_count": 208,
   "metadata": {},
   "outputs": [
    {
     "data": {
      "text/plain": [
       "0.7297297297297297"
      ]
     },
     "execution_count": 208,
     "metadata": {},
     "output_type": "execute_result"
    }
   ],
   "source": [
    "np.quantile(res_mmi, 0.05)"
   ]
  },
  {
   "cell_type": "code",
   "execution_count": 211,
   "metadata": {},
   "outputs": [],
   "source": [
    "def ShannonFast(df):\n",
    "    # wrong pattern match\n",
    "    df=df[df!=0.0]\n",
    "    shift_returns = df.shift(1)\n",
    "    shift_returns2 = df.shift(2)\n",
    "    shift_returns3 = df.shift(3)\n",
    "    \n",
    "    #df['test']  = np.sign(df['returns']).astype('str').dropna() + np.sign(df['shift_returns2']).astype('str').dropna() +  np.sign(df['shift_returns3']).dropna().astype('str')\n",
    "    \n",
    "    df =df.dropna(axis=0)\n",
    "    \n",
    "    Pattern  = np.sign(df.shift(1).dropna()).astype('str') + np.sign(shift_returns2.dropna()).astype('str') +  np.sign(shift_returns3.dropna()).astype('str')\n",
    "    \n",
    "    Pattern=Pattern.dropna().str.replace('.0','')\n",
    "    patternList = Pattern.dropna().str.replace('.0','').unique().tolist()\n",
    "    total = 0.0\n",
    "    ShannonPatterns = {}\n",
    "    \n",
    "    for e in patternList:\n",
    "        ShannonPatterns[e] = 0\n",
    "\n",
    "    for pattern in ShannonPatterns.keys():        \n",
    "        value = (len(np.where(Pattern==pattern)[0]))\n",
    "        ShannonPatterns[pattern] +=  value\n",
    "        total += value\n",
    "        \n",
    "    \n",
    "    ProbSum = 0.0\n",
    "    for pattern in ShannonPatterns.keys():\n",
    "        p = ShannonPatterns[pattern] / total        \n",
    "        value = p * np.log2(p)        \n",
    "        if math.isnan(value):\n",
    "            continue\n",
    "        ProbSum = ProbSum + value\n",
    "    Shannon_val = -ProbSum\n",
    "    return Shannon_val"
   ]
  },
  {
   "cell_type": "code",
   "execution_count": 217,
   "metadata": {},
   "outputs": [],
   "source": [
    "\n",
    "def ShannonReallyFast(shannon_df):\n",
    "    #print(shannon_df, 'suka')\n",
    "    patterns = {'000', '001', '010', '100', '101', '110', '011', '111'}\n",
    "    shannon_df = pd.DataFrame(shannon_df.copy(), columns=['returns'])\n",
    "    shannon_df['pattern1'] = np.sign(shannon_df[['returns']])\n",
    "    shannon_df['pattern2'] = np.sign(shannon_df[['returns']].shift(1))\n",
    "    shannon_df['pattern3'] = np.sign(shannon_df[['returns']].shift(2))\n",
    "    shannon_df.dropna(inplace=True)\n",
    "    shannon_df = shannon_df[(shannon_df.pattern1 != 0.0) & (shannon_df.pattern2 != 0.0) & (shannon_df.pattern3 != 0.0)]\n",
    "    shannon_df['merged'] = shannon_df.pattern1.astype('str') + shannon_df.pattern2.astype('str') + shannon_df.pattern3.astype('str')\n",
    "    shannon_df['merged'] = shannon_df['merged'].str.replace('.0', '')\n",
    "    shannon_df['merged'] = shannon_df['merged'].str.replace('-1', '0')\n",
    "    prob_df = shannon_df.groupby('merged').count()['returns']\n",
    "    pattern_df = pd.DataFrame(patterns).set_index(0).sort_values(by=0)\n",
    "    #prob_df = prob_df.drop(index='111')\n",
    "    pattern_df = pattern_df.join(prob_df).fillna(0)\n",
    "    \n",
    "    ProbSum = 0.0\n",
    "    for pattern in patterns:\n",
    "        \n",
    "        p = pattern_df.loc[pattern] / pattern_df.returns.sum()      \n",
    "        value = p * np.log2(p)        \n",
    "        if math.isnan(value):\n",
    "            continue\n",
    "        ProbSum = ProbSum + value\n",
    "    Shannon_val = -ProbSum\n",
    "    \n",
    "    return Shannon_val\n",
    "    "
   ]
  },
  {
   "cell_type": "code",
   "execution_count": 219,
   "metadata": {},
   "outputs": [],
   "source": [
    "import math"
   ]
  },
  {
   "cell_type": "code",
   "execution_count": 278,
   "metadata": {},
   "outputs": [
    {
     "name": "stderr",
     "output_type": "stream",
     "text": [
      "C:\\Users\\lexik\\.conda\\envs\\quant\\lib\\site-packages\\ipykernel_launcher.py:6: RuntimeWarning: invalid value encountered in sign\n",
      "  \n",
      "C:\\Users\\lexik\\.conda\\envs\\quant\\lib\\site-packages\\ipykernel_launcher.py:7: RuntimeWarning: invalid value encountered in sign\n",
      "  import sys\n"
     ]
    }
   ],
   "source": [
    "res_shannon = []\n",
    "for i in range(1000):\n",
    "    ts = hurst.random_walk(1000, proba=0.3)\n",
    "    ts = (100.0+pd.Series(ts))\n",
    "    ts = pd.DataFrame(ts.pct_change(), columns=['returns']).dropna()\n",
    "    res_shannon.append(ShannonReallyFast(ts)[0])\n",
    "    "
   ]
  },
  {
   "cell_type": "code",
   "execution_count": 279,
   "metadata": {},
   "outputs": [
    {
     "data": {
      "text/plain": [
       "(array([ 1.,  0.,  0.,  0.,  1.,  0.,  1.,  0.,  1.,  1.,  0.,  0.,  1.,\n",
       "         2.,  1.,  1.,  0.,  5.,  4.,  3.,  3.,  3.,  4.,  6., 10.,  6.,\n",
       "         7., 11., 16., 14., 20., 19., 19., 25., 21., 28., 34., 45., 35.,\n",
       "        50., 63., 52., 72., 66., 73., 80., 69., 59., 47., 21.]),\n",
       " array([2.9697563 , 2.97035957, 2.97096283, 2.97156609, 2.97216935,\n",
       "        2.97277261, 2.97337587, 2.97397913, 2.97458239, 2.97518566,\n",
       "        2.97578892, 2.97639218, 2.97699544, 2.9775987 , 2.97820196,\n",
       "        2.97880522, 2.97940849, 2.98001175, 2.98061501, 2.98121827,\n",
       "        2.98182153, 2.98242479, 2.98302805, 2.98363131, 2.98423458,\n",
       "        2.98483784, 2.9854411 , 2.98604436, 2.98664762, 2.98725088,\n",
       "        2.98785414, 2.9884574 , 2.98906067, 2.98966393, 2.99026719,\n",
       "        2.99087045, 2.99147371, 2.99207697, 2.99268023, 2.99328349,\n",
       "        2.99388676, 2.99449002, 2.99509328, 2.99569654, 2.9962998 ,\n",
       "        2.99690306, 2.99750632, 2.99810958, 2.99871285, 2.99931611,\n",
       "        2.99991937]),\n",
       " <a list of 50 Patch objects>)"
      ]
     },
     "execution_count": 279,
     "metadata": {},
     "output_type": "execute_result"
    },
    {
     "data": {
      "image/png": "[encoded data removed]",
      "text/plain": [
       "<Figure size 432x288 with 1 Axes>"
      ]
     },
     "metadata": {
      "needs_background": "light"
     },
     "output_type": "display_data"
    }
   ],
   "source": [
    "plt.hist(res_shannon, bins=50)"
   ]
  },
  {
   "cell_type": "code",
   "execution_count": null,
   "metadata": {},
   "outputs": [],
   "source": [
    "# Shannon is good for trending detection vs (mean reversal and random)"
   ]
  },
  {
   "cell_type": "code",
   "execution_count": 277,
   "metadata": {},
   "outputs": [
    {
     "data": {
      "text/plain": [
       "2.6606123823383396"
      ]
     },
     "execution_count": 277,
     "metadata": {},
     "output_type": "execute_result"
    }
   ],
   "source": [
    "np.quantile(res_shannon, 0.05)"
   ]
  },
  {
   "cell_type": "code",
   "execution_count": 231,
   "metadata": {},
   "outputs": [],
   "source": [
    "def autoCorrel(df, lag):\n",
    "    return pd.Series.autocorr(df, lag) * 100.0\n",
    "\n"
   ]
  },
  {
   "cell_type": "code",
   "execution_count": 282,
   "metadata": {},
   "outputs": [],
   "source": [
    "res_correl = []\n",
    "for i in range(1000):\n",
    "    ts = hurst.random_walk(1000, proba=0.3)\n",
    "    ts = (100.0+pd.Series(ts))\n",
    "    #ts = pd.DataFrame(ts.pct_change(), columns=['returns']).dropna()\n",
    "    res_correl.append(autoCorrel(ts.pct_change().dropna(), 5))\n",
    "    "
   ]
  },
  {
   "cell_type": "code",
   "execution_count": 283,
   "metadata": {},
   "outputs": [
    {
     "data": {
      "text/plain": [
       "(array([ 1.,  0.,  0.,  0.,  3.,  1.,  6.,  3.,  4.,  4.,  8.,  4.,  9.,\n",
       "        11., 26., 18., 23., 43., 33., 51., 52., 51., 47., 47., 59., 57.,\n",
       "        60., 45., 50., 46., 47., 37., 27., 25., 18., 21., 20., 10.,  7.,\n",
       "         6.,  7.,  7.,  2.,  1.,  1.,  0.,  0.,  0.,  0.,  2.]),\n",
       " array([-14.17836433, -13.73040259, -13.28244085, -12.83447912,\n",
       "        -12.38651738, -11.93855564, -11.49059391, -11.04263217,\n",
       "        -10.59467043, -10.1467087 ,  -9.69874696,  -9.25078522,\n",
       "         -8.80282349,  -8.35486175,  -7.90690001,  -7.45893828,\n",
       "         -7.01097654,  -6.5630148 ,  -6.11505307,  -5.66709133,\n",
       "         -5.21912959,  -4.77116786,  -4.32320612,  -3.87524438,\n",
       "         -3.42728265,  -2.97932091,  -2.53135917,  -2.08339744,\n",
       "         -1.6354357 ,  -1.18747396,  -0.73951223,  -0.29155049,\n",
       "          0.15641125,   0.60437298,   1.05233472,   1.50029646,\n",
       "          1.94825819,   2.39621993,   2.84418167,   3.2921434 ,\n",
       "          3.74010514,   4.18806688,   4.63602861,   5.08399035,\n",
       "          5.53195209,   5.97991382,   6.42787556,   6.8758373 ,\n",
       "          7.32379903,   7.77176077,   8.21972251]),\n",
       " <a list of 50 Patch objects>)"
      ]
     },
     "execution_count": 283,
     "metadata": {},
     "output_type": "execute_result"
    },
    {
     "data": {
      "image/png": "[encoded data removed]",
      "text/plain": [
       "<Figure size 432x288 with 1 Axes>"
      ]
     },
     "metadata": {
      "needs_background": "light"
     },
     "output_type": "display_data"
    }
   ],
   "source": [
    "plt.hist(res_correl, bins=50)"
   ]
  },
  {
   "cell_type": "code",
   "execution_count": 270,
   "metadata": {},
   "outputs": [
    {
     "data": {
      "text/plain": [
       "0.02056061820920556"
      ]
     },
     "execution_count": 270,
     "metadata": {},
     "output_type": "execute_result"
    }
   ],
   "source": [
    "np.std(res_correl)/100"
   ]
  },
  {
   "cell_type": "code",
   "execution_count": null,
   "metadata": {},
   "outputs": [],
   "source": [
    "# best selected indicators:\n",
    "# Momersion, HurstF3, HurstF\n",
    "\n",
    "# for Shannon an  d MMI are trend vs (mean reversal and random)\n",
    "#Shannon and MMI are difficult to set thresholds and interpret\n",
    "\n",
    "# thresh for correl sign is -15 and 15\n"
   ]
  },
  {
   "cell_type": "code",
   "execution_count": 650,
   "metadata": {},
   "outputs": [],
   "source": [
    "ts = hurst.random_walk(1000, proba=0.7)\n",
    "ts = (100.0+pd.Series(ts))"
   ]
  },
  {
   "cell_type": "code",
   "execution_count": 651,
   "metadata": {},
   "outputs": [
    {
     "data": {
      "text/plain": [
       "<matplotlib.axes._subplots.AxesSubplot at 0x2180d932d08>"
      ]
     },
     "execution_count": 651,
     "metadata": {},
     "output_type": "execute_result"
    },
    {
     "data": {
      "image/png": "[encoded data removed]",
      "text/plain": [
       "<Figure size 432x288 with 1 Axes>"
      ]
     },
     "metadata": {
      "needs_background": "light"
     },
     "output_type": "display_data"
    }
   ],
   "source": [
    "ts.plot()"
   ]
  },
  {
   "cell_type": "code",
   "execution_count": 649,
   "metadata": {},
   "outputs": [
    {
     "data": {
      "text/plain": [
       "<matplotlib.axes._subplots.AxesSubplot at 0x2180d8d93c8>"
      ]
     },
     "execution_count": 649,
     "metadata": {},
     "output_type": "execute_result"
    },
    {
     "data": {
      "image/png": "[encoded data removed]",
      "text/plain": [
       "<Figure size 432x288 with 1 Axes>"
      ]
     },
     "metadata": {
      "needs_background": "light"
     },
     "output_type": "display_data"
    }
   ],
   "source": [
    "ts.diff().plot()"
   ]
  },
  {
   "cell_type": "code",
   "execution_count": null,
   "metadata": {},
   "outputs": [],
   "source": [
    "\"\"\"\n",
    "hurstF, and F2 and F3 says that it is mean-reverting series\n",
    "lag 20 is appopriate than 100\n",
    "\n",
    "hurst F4, and Momersion with period says that it is trending\n",
    "\n",
    "Shannon and MMI says that either it random or mean reverting.\n",
    "\n",
    "\n",
    "auto_corrl says that it is strongly anti-correlated on short periods and high correl on long periods\n",
    "\n",
    "\n",
    "Momersion and Momersion double made it correct 50 prediction\n",
    "\n",
    "RWI says random, mean reverting on short tf and trending on high tf\n",
    "\n",
    "In fact it is short reverting on low tf and high revering on long tf.\n",
    "\n",
    "\n",
    "\n",
    "\n",
    "### Mom and Mom Double were good at identifying if series was random or not\n",
    "\n",
    "### other were good to capture short term mean reversion and long term trendiness\n",
    "\n",
    "\n",
    "\"\"\""
   ]
  },
  {
   "cell_type": "code",
   "execution_count": 581,
   "metadata": {},
   "outputs": [],
   "source": [
    "#sel_df = df.copy()"
   ]
  },
  {
   "cell_type": "code",
   "execution_count": 580,
   "metadata": {},
   "outputs": [],
   "source": [
    "#df.to_pickle('random with non-random look ts.pkl')"
   ]
  },
  {
   "cell_type": "code",
   "execution_count": 735,
   "metadata": {},
   "outputs": [
    {
     "data": {
      "text/plain": [
       "<matplotlib.axes._subplots.AxesSubplot at 0x2180efe4108>"
      ]
     },
     "execution_count": 735,
     "metadata": {},
     "output_type": "execute_result"
    },
    {
     "data": {
      "image/png": "[encoded data removed]",
      "text/plain": [
       "<Figure size 432x288 with 1 Axes>"
      ]
     },
     "metadata": {
      "needs_background": "light"
     },
     "output_type": "display_data"
    }
   ],
   "source": [
    "sel_df.price.pct_change(5).cumsum().plot()"
   ]
  },
  {
   "cell_type": "code",
   "execution_count": 674,
   "metadata": {},
   "outputs": [],
   "source": [
    "df = pd.DataFrame(ts.pct_change().dropna(), columns=['returns'])"
   ]
  },
  {
   "cell_type": "code",
   "execution_count": 739,
   "metadata": {},
   "outputs": [
    {
     "data": {
      "text/plain": [
       "<matplotlib.axes._subplots.AxesSubplot at 0x21810082988>"
      ]
     },
     "execution_count": 739,
     "metadata": {},
     "output_type": "execute_result"
    },
    {
     "data": {
      "image/png": "[encoded data removed]",
      "text/plain": [
       "<Figure size 432x288 with 1 Axes>"
      ]
     },
     "metadata": {
      "needs_background": "light"
     },
     "output_type": "display_data"
    }
   ],
   "source": [
    "ts.apply.rolling(HurstF).dropna().plot()"
   ]
  },
  {
   "cell_type": "code",
   "execution_count": 662,
   "metadata": {},
   "outputs": [
    {
     "data": {
      "text/plain": [
       "0.830974764254987"
      ]
     },
     "execution_count": 662,
     "metadata": {},
     "output_type": "execute_result"
    }
   ],
   "source": [
    "hurstF4(ts)"
   ]
  },
  {
   "cell_type": "code",
   "execution_count": 676,
   "metadata": {},
   "outputs": [
    {
     "data": {
      "text/plain": [
       "0.750501002004008"
      ]
     },
     "execution_count": 676,
     "metadata": {},
     "output_type": "execute_result"
    }
   ],
   "source": [
    "marketMeannes(df.values)"
   ]
  },
  {
   "cell_type": "code",
   "execution_count": 680,
   "metadata": {},
   "outputs": [
    {
     "data": {
      "text/plain": [
       "2.2928795072439048"
      ]
     },
     "execution_count": 680,
     "metadata": {},
     "output_type": "execute_result"
    }
   ],
   "source": [
    "autoCorrel(df.returns,1)"
   ]
  },
  {
   "cell_type": "code",
   "execution_count": 681,
   "metadata": {},
   "outputs": [
    {
     "name": "stderr",
     "output_type": "stream",
     "text": [
      "C:\\Users\\lexik\\.conda\\envs\\quant\\lib\\site-packages\\ipykernel_launcher.py:6: RuntimeWarning: invalid value encountered in sign\n",
      "  \n",
      "C:\\Users\\lexik\\.conda\\envs\\quant\\lib\\site-packages\\ipykernel_launcher.py:7: RuntimeWarning: invalid value encountered in sign\n",
      "  import sys\n"
     ]
    },
    {
     "data": {
      "text/plain": [
       "returns    2.914652\n",
       "dtype: float64"
      ]
     },
     "execution_count": 681,
     "metadata": {},
     "output_type": "execute_result"
    }
   ],
   "source": [
    "ShannonReallyFast(df)"
   ]
  },
  {
   "cell_type": "code",
   "execution_count": 682,
   "metadata": {},
   "outputs": [
    {
     "data": {
      "text/plain": [
       "57.31584258324924"
      ]
     },
     "execution_count": 682,
     "metadata": {},
     "output_type": "execute_result"
    }
   ],
   "source": [
    "momersionPeriod(ts.diff(), 4)"
   ]
  },
  {
   "cell_type": "code",
   "execution_count": 685,
   "metadata": {},
   "outputs": [
    {
     "data": {
      "text/plain": [
       "55.91182364729459"
      ]
     },
     "execution_count": 685,
     "metadata": {},
     "output_type": "execute_result"
    }
   ],
   "source": [
    "Momersion(ts.diff())"
   ]
  },
  {
   "cell_type": "code",
   "execution_count": 536,
   "metadata": {},
   "outputs": [
    {
     "data": {
      "text/plain": [
       "<matplotlib.axes._subplots.AxesSubplot at 0x2180ad48f08>"
      ]
     },
     "execution_count": 536,
     "metadata": {},
     "output_type": "execute_result"
    },
    {
     "data": {
      "image/png": "[encoded data removed]",
      "text/plain": [
       "<Figure size 432x288 with 1 Axes>"
      ]
     },
     "metadata": {
      "needs_background": "light"
     },
     "output_type": "display_data"
    }
   ],
   "source": [
    "df.returns.plot()"
   ]
  },
  {
   "cell_type": "code",
   "execution_count": 716,
   "metadata": {},
   "outputs": [],
   "source": [
    "p = 20\n",
    "df = pd.DataFrame(ts.dropna(), columns=['price'])"
   ]
  },
  {
   "cell_type": "code",
   "execution_count": 717,
   "metadata": {},
   "outputs": [],
   "source": [
    "df['High_max'] = df.price.rolling(p).max()\n",
    "df['High_min'] = df.price.rolling(p).min()\n",
    "df['RWI_high'] = (df.price - df['High_min']) / np.sqrt(p)\n",
    "df['RWI_low'] = (df['High_max']-df.price ) / np.sqrt(p)"
   ]
  },
  {
   "cell_type": "code",
   "execution_count": 718,
   "metadata": {},
   "outputs": [
    {
     "data": {
      "text/plain": [
       "(1.1142112704384606, 0.6614885116109789)"
      ]
     },
     "execution_count": 718,
     "metadata": {},
     "output_type": "execute_result"
    }
   ],
   "source": [
    "df['RWI_high'].mean() , df['RWI_low'].mean()"
   ]
  },
  {
   "cell_type": "code",
   "execution_count": 720,
   "metadata": {},
   "outputs": [
    {
     "data": {
      "text/plain": [
       "<matplotlib.axes._subplots.AxesSubplot at 0x2180db01208>"
      ]
     },
     "execution_count": 720,
     "metadata": {},
     "output_type": "execute_result"
    },
    {
     "data": {
      "image/png": "[encoded data removed]",
      "text/plain": [
       "<Figure size 432x288 with 1 Axes>"
      ]
     },
     "metadata": {
      "needs_background": "light"
     },
     "output_type": "display_data"
    }
   ],
   "source": [
    "df['RWI_low'].plot()"
   ]
  },
  {
   "cell_type": "code",
   "execution_count": 714,
   "metadata": {},
   "outputs": [
    {
     "data": {
      "text/plain": [
       "<matplotlib.axes._subplots.AxesSubplot at 0x2180d9acf48>"
      ]
     },
     "execution_count": 714,
     "metadata": {},
     "output_type": "execute_result"
    },
    {
     "data": {
      "image/png": "[encoded data removed]",
      "text/plain": [
       "<Figure size 432x288 with 1 Axes>"
      ]
     },
     "metadata": {
      "needs_background": "light"
     },
     "output_type": "display_data"
    }
   ],
   "source": [
    "(df['RWI_high'].dropna() - df['RWI_low'].dropna()).plot()"
   ]
  },
  {
   "cell_type": "code",
   "execution_count": 348,
   "metadata": {},
   "outputs": [
    {
     "data": {
      "text/plain": [
       "<matplotlib.axes._subplots.AxesSubplot at 0x218046d8648>"
      ]
     },
     "execution_count": 348,
     "metadata": {},
     "output_type": "execute_result"
    },
    {
     "data": {
      "image/png": "[encoded data removed]",
      "text/plain": [
       "<Figure size 432x288 with 1 Axes>"
      ]
     },
     "metadata": {
      "needs_background": "light"
     },
     "output_type": "display_data"
    }
   ],
   "source": [
    "ts.rolling(50).min().plot()"
   ]
  },
  {
   "cell_type": "code",
   "execution_count": null,
   "metadata": {},
   "outputs": [],
   "source": [
    "def RWI(ts_):\n",
    "    "
   ]
  }
 ],
 "metadata": {
  "kernelspec": {
   "display_name": "Python 3",
   "language": "python",
   "name": "python3"
  },
  "language_info": {
   "codemirror_mode": {
    "name": "ipython",
    "version": 3
   },
   "file_extension": ".py",
   "mimetype": "text/x-python",
   "name": "python",
   "nbconvert_exporter": "python",
   "pygments_lexer": "ipython3",
   "version": "3.7.6"
  }
 },
 "nbformat": 4,
 "nbformat_minor": 4
}
