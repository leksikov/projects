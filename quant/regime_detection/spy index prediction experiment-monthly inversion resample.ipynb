{
 "cells": [
  {
   "cell_type": "code",
   "execution_count": 1,
   "metadata": {},
   "outputs": [],
   "source": [
    "import numpy as np\n",
    "import pandas as pd\n",
    "import rwi\n",
    "\n",
    "from sklearn.decomposition import PCA\n",
    "\n",
    "\n",
    "from sklearn.cluster import KMeans\n",
    "import seaborn as sns; sns.set()\n",
    "%matplotlib inline"
   ]
  },
  {
   "cell_type": "code",
   "execution_count": 2,
   "metadata": {},
   "outputs": [],
   "source": [
    "import rwi\n",
    "from sklearn.ensemble import RandomForestClassifier\n",
    "from sklearn.model_selection import train_test_split"
   ]
  },
  {
   "cell_type": "code",
   "execution_count": 134,
   "metadata": {},
   "outputs": [],
   "source": [
    "def load_df(name):\n",
    "    eurusd_df = pd.read_csv(name)\n",
    "    eurusd_df = eurusd_df.rename(columns={'<TICKER>':'Ticker', '<DTYYYYMMDD>':'Date', '<TIME>':'Time', '<OPEN>':'Open', '<HIGH>':'High', '<LOW>':'Low', '<CLOSE>':'Close', '<VOL>':'Vol'})\n",
    "    eurusd_df[['Date']] = pd.to_datetime(eurusd_df['Date'].astype('str'), yearfirst=True)\n",
    "    eurusd_df =eurusd_df.sort_values(by=['Date', 'Time'])\n",
    "    eur_df = eurusd_df[['Date', 'Time', 'Close', 'Open', 'High', 'Low', 'Vol']].rename(columns={'Close':'Close'})\n",
    "    eur_df['Change'] = eur_df['Close'].pct_change()\n",
    "    eur_df.dropna(inplace=True)\n",
    "    #eur_df = eur_df[eur_df.Date>'2020-01-01']\n",
    "    #eur_df = eur_df.set_index('Date')\n",
    "    return eur_df"
   ]
  },
  {
   "cell_type": "code",
   "execution_count": 135,
   "metadata": {},
   "outputs": [],
   "source": [
    "import FinanceDataReader as fdr"
   ]
  },
  {
   "cell_type": "code",
   "execution_count": 136,
   "metadata": {},
   "outputs": [],
   "source": [
    "#sp500 = fdr.DataReader('US500', start = '2009-01-01')"
   ]
  },
  {
   "cell_type": "code",
   "execution_count": 137,
   "metadata": {},
   "outputs": [],
   "source": [
    "#sp500.to_csv('SP500.csv', encoding='utf-8')"
   ]
  },
  {
   "cell_type": "code",
   "execution_count": 210,
   "metadata": {},
   "outputs": [],
   "source": [
    "sp500 = pd.read_csv('SP500.csv', encoding='utf-8')\n",
    "sp500['Date'] = pd.to_datetime(sp500['Date'], yearfirst=True)\n",
    "sp500 = sp500.set_index('Date')\n",
    "#sp500 = sp500.loc[:'2019-12-31']\n",
    "sp500['price'] = sp500['Close']"
   ]
  },
  {
   "cell_type": "code",
   "execution_count": 211,
   "metadata": {},
   "outputs": [],
   "source": [
    "sp500 = sp500.resample('W').last()"
   ]
  },
  {
   "cell_type": "code",
   "execution_count": 212,
   "metadata": {},
   "outputs": [],
   "source": [
    "sp500 = rwi.generate_features(sp500)"
   ]
  },
  {
   "cell_type": "code",
   "execution_count": 213,
   "metadata": {},
   "outputs": [],
   "source": [
    "sp500['atr_5'] = sp500.returns.rolling(5).std()\n",
    "sp500['atr_20'] = sp500.returns.rolling(20).std()\n",
    "sp500['atr_50'] = sp500.returns.rolling(50).std()\n",
    "sp500['range'] = 100*(sp500['High'] - sp500['Low'])/sp500['Low']\n",
    "sp500['adj_close'] = sp500['Close'] / (sp500['High']*0.5 + sp500['Low']*0.5)\n",
    "sp500['adj_close'] = sp500['adj_close'].replace([np.inf, -np.inf, 0], 0)\n",
    "\n"
   ]
  },
  {
   "cell_type": "code",
   "execution_count": 214,
   "metadata": {},
   "outputs": [
    {
     "data": {
      "text/plain": [
       "Index(['Close', 'Open', 'High', 'Low', 'Volume', 'Change', 'price', 'returns',\n",
       "       'ROC_2', 'ROC_3', 'ROC_5', 'ROC_20', 'ROC_50', 'ROC_100', 'ROC_200',\n",
       "       'ROC_500', 'abs_returns', 'atr_5', 'atr_20', 'atr_50', 'range',\n",
       "       'adj_close'],\n",
       "      dtype='object')"
      ]
     },
     "execution_count": 214,
     "metadata": {},
     "output_type": "execute_result"
    }
   ],
   "source": [
    "sp500.columns"
   ]
  },
  {
   "cell_type": "code",
   "execution_count": 215,
   "metadata": {},
   "outputs": [],
   "source": [
    "sp500.drop(columns=['ROC_100', 'ROC_200',\n",
    "       'ROC_500',  'ROC_50', 'atr_50'], inplace=True)"
   ]
  },
  {
   "cell_type": "code",
   "execution_count": 216,
   "metadata": {},
   "outputs": [],
   "source": [
    "#sp500 = pd.get_dummies(sp500, columns=['month', 'day', 'week_day'])"
   ]
  },
  {
   "cell_type": "code",
   "execution_count": 217,
   "metadata": {},
   "outputs": [],
   "source": [
    "sp500.loc[:,'shift_returns'] = sp500['returns'].shift(-1)\n",
    "sp500.dropna(inplace=True) # .fillna(0, inplace=True)#"
   ]
  },
  {
   "cell_type": "code",
   "execution_count": 218,
   "metadata": {},
   "outputs": [],
   "source": [
    "sp500 = sp500[sp500.shift_returns != 0.0]"
   ]
  },
  {
   "cell_type": "code",
   "execution_count": 219,
   "metadata": {},
   "outputs": [],
   "source": [
    "sp500.drop(columns=['Close', 'Open', 'High', 'Low', 'Volume', 'Change', 'range', 'adj_close','price'], inplace=True)"
   ]
  },
  {
   "cell_type": "code",
   "execution_count": 220,
   "metadata": {},
   "outputs": [],
   "source": [
    "sp500 = sp500.reset_index(drop=True)"
   ]
  },
  {
   "cell_type": "code",
   "execution_count": 221,
   "metadata": {},
   "outputs": [
    {
     "data": {
      "text/plain": [
       "<matplotlib.axes._subplots.AxesSubplot at 0x1fbf0382708>"
      ]
     },
     "execution_count": 221,
     "metadata": {},
     "output_type": "execute_result"
    },
    {
     "data": {
      "image/png": "[encoded data removed]",
      "text/plain": [
       "<Figure size 432x288 with 1 Axes>"
      ]
     },
     "metadata": {
      "needs_background": "light"
     },
     "output_type": "display_data"
    }
   ],
   "source": [
    "sp500.shift_returns.cumsum().plot()"
   ]
  },
  {
   "cell_type": "code",
   "execution_count": 222,
   "metadata": {},
   "outputs": [],
   "source": [
    "sp500_ = sp500.copy()"
   ]
  },
  {
   "cell_type": "code",
   "execution_count": 223,
   "metadata": {},
   "outputs": [],
   "source": [
    "sp500_.loc[:, ['returns', 'ROC_2', 'ROC_3', 'ROC_5', 'ROC_20', 'shift_returns']] = -1 * sp500_[['returns', 'ROC_2', 'ROC_3', 'ROC_5', 'ROC_20',  'shift_returns']]"
   ]
  },
  {
   "cell_type": "code",
   "execution_count": 224,
   "metadata": {},
   "outputs": [],
   "source": [
    "sp500_ = sp500_.iloc[:int(sp500_.shape[0] * 0.75)]"
   ]
  },
  {
   "cell_type": "code",
   "execution_count": 225,
   "metadata": {},
   "outputs": [
    {
     "data": {
      "text/plain": [
       "<matplotlib.axes._subplots.AxesSubplot at 0x1fbf0a38b88>"
      ]
     },
     "execution_count": 225,
     "metadata": {},
     "output_type": "execute_result"
    },
    {
     "data": {
      "image/png": "[encoded data removed]",
      "text/plain": [
       "<Figure size 432x288 with 1 Axes>"
      ]
     },
     "metadata": {
      "needs_background": "light"
     },
     "output_type": "display_data"
    }
   ],
   "source": [
    "sp500_.returns.cumsum().plot()"
   ]
  },
  {
   "cell_type": "code",
   "execution_count": 226,
   "metadata": {},
   "outputs": [
    {
     "data": {
      "text/html": [
       "<div>\n",
       "<style scoped>\n",
       "    .dataframe tbody tr th:only-of-type {\n",
       "        vertical-align: middle;\n",
       "    }\n",
       "\n",
       "    .dataframe tbody tr th {\n",
       "        vertical-align: top;\n",
       "    }\n",
       "\n",
       "    .dataframe thead th {\n",
       "        text-align: right;\n",
       "    }\n",
       "</style>\n",
       "<table border=\"1\" class=\"dataframe\">\n",
       "  <thead>\n",
       "    <tr style=\"text-align: right;\">\n",
       "      <th></th>\n",
       "      <th>returns</th>\n",
       "      <th>ROC_2</th>\n",
       "      <th>ROC_3</th>\n",
       "      <th>ROC_5</th>\n",
       "      <th>ROC_20</th>\n",
       "      <th>abs_returns</th>\n",
       "      <th>atr_5</th>\n",
       "      <th>atr_20</th>\n",
       "      <th>shift_returns</th>\n",
       "    </tr>\n",
       "  </thead>\n",
       "  <tbody>\n",
       "    <tr>\n",
       "      <th>91</th>\n",
       "      <td>0.002715</td>\n",
       "      <td>-0.024537</td>\n",
       "      <td>-0.064264</td>\n",
       "      <td>0.000178</td>\n",
       "      <td>0.198659</td>\n",
       "      <td>0.002715</td>\n",
       "      <td>0.036781</td>\n",
       "      <td>0.021941</td>\n",
       "      <td>0.021378</td>\n",
       "    </tr>\n",
       "    <tr>\n",
       "      <th>92</th>\n",
       "      <td>0.021378</td>\n",
       "      <td>0.024093</td>\n",
       "      <td>-0.003159</td>\n",
       "      <td>0.011772</td>\n",
       "      <td>0.221272</td>\n",
       "      <td>0.021378</td>\n",
       "      <td>0.037898</td>\n",
       "      <td>0.021918</td>\n",
       "      <td>0.004831</td>\n",
       "    </tr>\n",
       "    <tr>\n",
       "      <th>93</th>\n",
       "      <td>0.004831</td>\n",
       "      <td>0.026209</td>\n",
       "      <td>0.028924</td>\n",
       "      <td>-0.038055</td>\n",
       "      <td>0.245720</td>\n",
       "      <td>0.004831</td>\n",
       "      <td>0.025095</td>\n",
       "      <td>0.020768</td>\n",
       "      <td>0.035388</td>\n",
       "    </tr>\n",
       "    <tr>\n",
       "      <th>94</th>\n",
       "      <td>0.035388</td>\n",
       "      <td>0.040219</td>\n",
       "      <td>0.061597</td>\n",
       "      <td>0.037059</td>\n",
       "      <td>0.247504</td>\n",
       "      <td>0.035388</td>\n",
       "      <td>0.023495</td>\n",
       "      <td>0.020868</td>\n",
       "      <td>0.029814</td>\n",
       "    </tr>\n",
       "    <tr>\n",
       "      <th>95</th>\n",
       "      <td>0.029814</td>\n",
       "      <td>0.065202</td>\n",
       "      <td>0.070033</td>\n",
       "      <td>0.094126</td>\n",
       "      <td>0.259281</td>\n",
       "      <td>0.029814</td>\n",
       "      <td>0.014637</td>\n",
       "      <td>0.021200</td>\n",
       "      <td>0.004285</td>\n",
       "    </tr>\n",
       "    <tr>\n",
       "      <th>96</th>\n",
       "      <td>0.004285</td>\n",
       "      <td>0.034099</td>\n",
       "      <td>0.069487</td>\n",
       "      <td>0.095696</td>\n",
       "      <td>0.245840</td>\n",
       "      <td>0.004285</td>\n",
       "      <td>0.014216</td>\n",
       "      <td>0.021254</td>\n",
       "      <td>-0.071929</td>\n",
       "    </tr>\n",
       "    <tr>\n",
       "      <th>97</th>\n",
       "      <td>-0.071929</td>\n",
       "      <td>-0.067644</td>\n",
       "      <td>-0.037830</td>\n",
       "      <td>0.002389</td>\n",
       "      <td>0.137388</td>\n",
       "      <td>0.071929</td>\n",
       "      <td>0.042882</td>\n",
       "      <td>0.027626</td>\n",
       "      <td>0.017702</td>\n",
       "    </tr>\n",
       "    <tr>\n",
       "      <th>98</th>\n",
       "      <td>0.017702</td>\n",
       "      <td>-0.054228</td>\n",
       "      <td>-0.049942</td>\n",
       "      <td>0.015260</td>\n",
       "      <td>0.155479</td>\n",
       "      <td>0.017702</td>\n",
       "      <td>0.043589</td>\n",
       "      <td>0.027672</td>\n",
       "      <td>-0.096265</td>\n",
       "    </tr>\n",
       "    <tr>\n",
       "      <th>99</th>\n",
       "      <td>-0.096265</td>\n",
       "      <td>-0.078564</td>\n",
       "      <td>-0.150493</td>\n",
       "      <td>-0.116393</td>\n",
       "      <td>0.050163</td>\n",
       "      <td>0.096265</td>\n",
       "      <td>0.056903</td>\n",
       "      <td>0.036141</td>\n",
       "      <td>0.075742</td>\n",
       "    </tr>\n",
       "    <tr>\n",
       "      <th>100</th>\n",
       "      <td>0.075742</td>\n",
       "      <td>-0.020523</td>\n",
       "      <td>-0.002821</td>\n",
       "      <td>-0.070466</td>\n",
       "      <td>0.114396</td>\n",
       "      <td>0.075742</td>\n",
       "      <td>0.069850</td>\n",
       "      <td>0.039665</td>\n",
       "      <td>0.029296</td>\n",
       "    </tr>\n",
       "    <tr>\n",
       "      <th>101</th>\n",
       "      <td>0.029296</td>\n",
       "      <td>0.105038</td>\n",
       "      <td>0.008772</td>\n",
       "      <td>-0.045455</td>\n",
       "      <td>0.138889</td>\n",
       "      <td>0.029296</td>\n",
       "      <td>0.072346</td>\n",
       "      <td>0.040012</td>\n",
       "      <td>0.017766</td>\n",
       "    </tr>\n",
       "    <tr>\n",
       "      <th>102</th>\n",
       "      <td>0.017766</td>\n",
       "      <td>0.047061</td>\n",
       "      <td>0.122803</td>\n",
       "      <td>0.044240</td>\n",
       "      <td>0.137491</td>\n",
       "      <td>0.017766</td>\n",
       "      <td>0.063442</td>\n",
       "      <td>0.039990</td>\n",
       "      <td>0.038560</td>\n",
       "    </tr>\n",
       "    <tr>\n",
       "      <th>103</th>\n",
       "      <td>0.038560</td>\n",
       "      <td>0.056326</td>\n",
       "      <td>0.085621</td>\n",
       "      <td>0.065098</td>\n",
       "      <td>0.175505</td>\n",
       "      <td>0.038560</td>\n",
       "      <td>0.064840</td>\n",
       "      <td>0.040573</td>\n",
       "      <td>-0.068041</td>\n",
       "    </tr>\n",
       "    <tr>\n",
       "      <th>104</th>\n",
       "      <td>-0.068041</td>\n",
       "      <td>-0.029481</td>\n",
       "      <td>-0.011715</td>\n",
       "      <td>0.093323</td>\n",
       "      <td>0.088345</td>\n",
       "      <td>0.068041</td>\n",
       "      <td>0.053116</td>\n",
       "      <td>0.043944</td>\n",
       "      <td>0.066658</td>\n",
       "    </tr>\n",
       "    <tr>\n",
       "      <th>105</th>\n",
       "      <td>0.066658</td>\n",
       "      <td>-0.001383</td>\n",
       "      <td>0.037178</td>\n",
       "      <td>0.084239</td>\n",
       "      <td>0.133058</td>\n",
       "      <td>0.066658</td>\n",
       "      <td>0.050780</td>\n",
       "      <td>0.045974</td>\n",
       "      <td>0.013043</td>\n",
       "    </tr>\n",
       "    <tr>\n",
       "      <th>106</th>\n",
       "      <td>0.013043</td>\n",
       "      <td>0.079701</td>\n",
       "      <td>0.011660</td>\n",
       "      <td>0.067986</td>\n",
       "      <td>0.118405</td>\n",
       "      <td>0.013043</td>\n",
       "      <td>0.050302</td>\n",
       "      <td>0.045737</td>\n",
       "      <td>-0.018257</td>\n",
       "    </tr>\n",
       "    <tr>\n",
       "      <th>107</th>\n",
       "      <td>-0.018257</td>\n",
       "      <td>-0.005215</td>\n",
       "      <td>0.061444</td>\n",
       "      <td>0.031963</td>\n",
       "      <td>0.090364</td>\n",
       "      <td>0.018257</td>\n",
       "      <td>0.052103</td>\n",
       "      <td>0.046041</td>\n",
       "      <td>0.017035</td>\n",
       "    </tr>\n",
       "    <tr>\n",
       "      <th>108</th>\n",
       "      <td>0.017035</td>\n",
       "      <td>-0.001222</td>\n",
       "      <td>0.011821</td>\n",
       "      <td>0.010438</td>\n",
       "      <td>0.052742</td>\n",
       "      <td>0.017035</td>\n",
       "      <td>0.049610</td>\n",
       "      <td>0.044631</td>\n",
       "      <td>0.020226</td>\n",
       "    </tr>\n",
       "    <tr>\n",
       "      <th>109</th>\n",
       "      <td>0.020226</td>\n",
       "      <td>0.037261</td>\n",
       "      <td>0.019004</td>\n",
       "      <td>0.098705</td>\n",
       "      <td>0.112694</td>\n",
       "      <td>0.020226</td>\n",
       "      <td>0.030404</td>\n",
       "      <td>0.043639</td>\n",
       "      <td>0.033480</td>\n",
       "    </tr>\n",
       "    <tr>\n",
       "      <th>110</th>\n",
       "      <td>0.033480</td>\n",
       "      <td>0.053706</td>\n",
       "      <td>0.070741</td>\n",
       "      <td>0.065527</td>\n",
       "      <td>0.173426</td>\n",
       "      <td>0.033480</td>\n",
       "      <td>0.019137</td>\n",
       "      <td>0.043342</td>\n",
       "      <td>0.028189</td>\n",
       "    </tr>\n",
       "    <tr>\n",
       "      <th>111</th>\n",
       "      <td>0.028189</td>\n",
       "      <td>0.061669</td>\n",
       "      <td>0.081895</td>\n",
       "      <td>0.080673</td>\n",
       "      <td>0.198900</td>\n",
       "      <td>0.028189</td>\n",
       "      <td>0.020289</td>\n",
       "      <td>0.043531</td>\n",
       "      <td>-0.001629</td>\n",
       "    </tr>\n",
       "    <tr>\n",
       "      <th>112</th>\n",
       "      <td>-0.001629</td>\n",
       "      <td>0.026559</td>\n",
       "      <td>0.060040</td>\n",
       "      <td>0.097301</td>\n",
       "      <td>0.175892</td>\n",
       "      <td>0.001629</td>\n",
       "      <td>0.013454</td>\n",
       "      <td>0.043517</td>\n",
       "      <td>-0.087860</td>\n",
       "    </tr>\n",
       "    <tr>\n",
       "      <th>113</th>\n",
       "      <td>-0.087860</td>\n",
       "      <td>-0.089489</td>\n",
       "      <td>-0.061300</td>\n",
       "      <td>-0.007594</td>\n",
       "      <td>0.083202</td>\n",
       "      <td>0.087860</td>\n",
       "      <td>0.050088</td>\n",
       "      <td>0.048601</td>\n",
       "      <td>-0.118116</td>\n",
       "    </tr>\n",
       "  </tbody>\n",
       "</table>\n",
       "</div>"
      ],
      "text/plain": [
       "      returns     ROC_2     ROC_3     ROC_5    ROC_20  abs_returns     atr_5  \\\n",
       "91   0.002715 -0.024537 -0.064264  0.000178  0.198659     0.002715  0.036781   \n",
       "92   0.021378  0.024093 -0.003159  0.011772  0.221272     0.021378  0.037898   \n",
       "93   0.004831  0.026209  0.028924 -0.038055  0.245720     0.004831  0.025095   \n",
       "94   0.035388  0.040219  0.061597  0.037059  0.247504     0.035388  0.023495   \n",
       "95   0.029814  0.065202  0.070033  0.094126  0.259281     0.029814  0.014637   \n",
       "96   0.004285  0.034099  0.069487  0.095696  0.245840     0.004285  0.014216   \n",
       "97  -0.071929 -0.067644 -0.037830  0.002389  0.137388     0.071929  0.042882   \n",
       "98   0.017702 -0.054228 -0.049942  0.015260  0.155479     0.017702  0.043589   \n",
       "99  -0.096265 -0.078564 -0.150493 -0.116393  0.050163     0.096265  0.056903   \n",
       "100  0.075742 -0.020523 -0.002821 -0.070466  0.114396     0.075742  0.069850   \n",
       "101  0.029296  0.105038  0.008772 -0.045455  0.138889     0.029296  0.072346   \n",
       "102  0.017766  0.047061  0.122803  0.044240  0.137491     0.017766  0.063442   \n",
       "103  0.038560  0.056326  0.085621  0.065098  0.175505     0.038560  0.064840   \n",
       "104 -0.068041 -0.029481 -0.011715  0.093323  0.088345     0.068041  0.053116   \n",
       "105  0.066658 -0.001383  0.037178  0.084239  0.133058     0.066658  0.050780   \n",
       "106  0.013043  0.079701  0.011660  0.067986  0.118405     0.013043  0.050302   \n",
       "107 -0.018257 -0.005215  0.061444  0.031963  0.090364     0.018257  0.052103   \n",
       "108  0.017035 -0.001222  0.011821  0.010438  0.052742     0.017035  0.049610   \n",
       "109  0.020226  0.037261  0.019004  0.098705  0.112694     0.020226  0.030404   \n",
       "110  0.033480  0.053706  0.070741  0.065527  0.173426     0.033480  0.019137   \n",
       "111  0.028189  0.061669  0.081895  0.080673  0.198900     0.028189  0.020289   \n",
       "112 -0.001629  0.026559  0.060040  0.097301  0.175892     0.001629  0.013454   \n",
       "113 -0.087860 -0.089489 -0.061300 -0.007594  0.083202     0.087860  0.050088   \n",
       "\n",
       "       atr_20  shift_returns  \n",
       "91   0.021941       0.021378  \n",
       "92   0.021918       0.004831  \n",
       "93   0.020768       0.035388  \n",
       "94   0.020868       0.029814  \n",
       "95   0.021200       0.004285  \n",
       "96   0.021254      -0.071929  \n",
       "97   0.027626       0.017702  \n",
       "98   0.027672      -0.096265  \n",
       "99   0.036141       0.075742  \n",
       "100  0.039665       0.029296  \n",
       "101  0.040012       0.017766  \n",
       "102  0.039990       0.038560  \n",
       "103  0.040573      -0.068041  \n",
       "104  0.043944       0.066658  \n",
       "105  0.045974       0.013043  \n",
       "106  0.045737      -0.018257  \n",
       "107  0.046041       0.017035  \n",
       "108  0.044631       0.020226  \n",
       "109  0.043639       0.033480  \n",
       "110  0.043342       0.028189  \n",
       "111  0.043531      -0.001629  \n",
       "112  0.043517      -0.087860  \n",
       "113  0.048601      -0.118116  "
      ]
     },
     "execution_count": 226,
     "metadata": {},
     "output_type": "execute_result"
    }
   ],
   "source": [
    "sp500.iloc[int(sp500.shape[0] * 0.80):]"
   ]
  },
  {
   "cell_type": "code",
   "execution_count": 228,
   "metadata": {},
   "outputs": [
    {
     "data": {
      "text/html": [
       "<div>\n",
       "<style scoped>\n",
       "    .dataframe tbody tr th:only-of-type {\n",
       "        vertical-align: middle;\n",
       "    }\n",
       "\n",
       "    .dataframe tbody tr th {\n",
       "        vertical-align: top;\n",
       "    }\n",
       "\n",
       "    .dataframe thead th {\n",
       "        text-align: right;\n",
       "    }\n",
       "</style>\n",
       "<table border=\"1\" class=\"dataframe\">\n",
       "  <thead>\n",
       "    <tr style=\"text-align: right;\">\n",
       "      <th></th>\n",
       "      <th>returns</th>\n",
       "      <th>ROC_2</th>\n",
       "      <th>ROC_3</th>\n",
       "      <th>ROC_5</th>\n",
       "      <th>ROC_20</th>\n",
       "      <th>abs_returns</th>\n",
       "      <th>atr_5</th>\n",
       "      <th>atr_20</th>\n",
       "      <th>shift_returns</th>\n",
       "    </tr>\n",
       "  </thead>\n",
       "  <tbody>\n",
       "    <tr>\n",
       "      <th>0</th>\n",
       "      <td>0.083928</td>\n",
       "      <td>0.035317</td>\n",
       "      <td>0.101832</td>\n",
       "      <td>-0.039088</td>\n",
       "      <td>0.323386</td>\n",
       "      <td>0.083928</td>\n",
       "      <td>0.077313</td>\n",
       "      <td>0.059358</td>\n",
       "      <td>0.036193</td>\n",
       "    </tr>\n",
       "    <tr>\n",
       "      <th>1</th>\n",
       "      <td>0.036193</td>\n",
       "      <td>0.120121</td>\n",
       "      <td>0.071510</td>\n",
       "      <td>0.082637</td>\n",
       "      <td>0.476036</td>\n",
       "      <td>0.036193</td>\n",
       "      <td>0.064891</td>\n",
       "      <td>0.050571</td>\n",
       "      <td>-0.002293</td>\n",
       "    </tr>\n",
       "    <tr>\n",
       "      <th>2</th>\n",
       "      <td>-0.002293</td>\n",
       "      <td>0.033900</td>\n",
       "      <td>0.117829</td>\n",
       "      <td>0.135733</td>\n",
       "      <td>0.391790</td>\n",
       "      <td>0.002293</td>\n",
       "      <td>0.053530</td>\n",
       "      <td>0.048955</td>\n",
       "      <td>0.063257</td>\n",
       "    </tr>\n",
       "    <tr>\n",
       "      <th>3</th>\n",
       "      <td>0.063257</td>\n",
       "      <td>0.060964</td>\n",
       "      <td>0.097157</td>\n",
       "      <td>0.132473</td>\n",
       "      <td>0.365274</td>\n",
       "      <td>0.063257</td>\n",
       "      <td>0.052948</td>\n",
       "      <td>0.047285</td>\n",
       "      <td>0.022393</td>\n",
       "    </tr>\n",
       "    <tr>\n",
       "      <th>4</th>\n",
       "      <td>0.022393</td>\n",
       "      <td>0.085650</td>\n",
       "      <td>0.083357</td>\n",
       "      <td>0.203478</td>\n",
       "      <td>0.335947</td>\n",
       "      <td>0.022393</td>\n",
       "      <td>0.033843</td>\n",
       "      <td>0.046643</td>\n",
       "      <td>0.031457</td>\n",
       "    </tr>\n",
       "    <tr>\n",
       "      <th>...</th>\n",
       "      <td>...</td>\n",
       "      <td>...</td>\n",
       "      <td>...</td>\n",
       "      <td>...</td>\n",
       "      <td>...</td>\n",
       "      <td>...</td>\n",
       "      <td>...</td>\n",
       "      <td>...</td>\n",
       "      <td>...</td>\n",
       "    </tr>\n",
       "    <tr>\n",
       "      <th>99</th>\n",
       "      <td>-0.096265</td>\n",
       "      <td>-0.078564</td>\n",
       "      <td>-0.150493</td>\n",
       "      <td>-0.116393</td>\n",
       "      <td>0.050163</td>\n",
       "      <td>0.096265</td>\n",
       "      <td>0.056903</td>\n",
       "      <td>0.036141</td>\n",
       "      <td>0.075742</td>\n",
       "    </tr>\n",
       "    <tr>\n",
       "      <th>100</th>\n",
       "      <td>0.075742</td>\n",
       "      <td>-0.020523</td>\n",
       "      <td>-0.002821</td>\n",
       "      <td>-0.070466</td>\n",
       "      <td>0.114396</td>\n",
       "      <td>0.075742</td>\n",
       "      <td>0.069850</td>\n",
       "      <td>0.039665</td>\n",
       "      <td>0.029296</td>\n",
       "    </tr>\n",
       "    <tr>\n",
       "      <th>101</th>\n",
       "      <td>0.029296</td>\n",
       "      <td>0.105038</td>\n",
       "      <td>0.008772</td>\n",
       "      <td>-0.045455</td>\n",
       "      <td>0.138889</td>\n",
       "      <td>0.029296</td>\n",
       "      <td>0.072346</td>\n",
       "      <td>0.040012</td>\n",
       "      <td>0.017766</td>\n",
       "    </tr>\n",
       "    <tr>\n",
       "      <th>102</th>\n",
       "      <td>0.017766</td>\n",
       "      <td>0.047061</td>\n",
       "      <td>0.122803</td>\n",
       "      <td>0.044240</td>\n",
       "      <td>0.137491</td>\n",
       "      <td>0.017766</td>\n",
       "      <td>0.063442</td>\n",
       "      <td>0.039990</td>\n",
       "      <td>0.038560</td>\n",
       "    </tr>\n",
       "    <tr>\n",
       "      <th>103</th>\n",
       "      <td>0.038560</td>\n",
       "      <td>0.056326</td>\n",
       "      <td>0.085621</td>\n",
       "      <td>0.065098</td>\n",
       "      <td>0.175505</td>\n",
       "      <td>0.038560</td>\n",
       "      <td>0.064840</td>\n",
       "      <td>0.040573</td>\n",
       "      <td>-0.068041</td>\n",
       "    </tr>\n",
       "  </tbody>\n",
       "</table>\n",
       "<p>104 rows × 9 columns</p>\n",
       "</div>"
      ],
      "text/plain": [
       "      returns     ROC_2     ROC_3     ROC_5    ROC_20  abs_returns     atr_5  \\\n",
       "0    0.083928  0.035317  0.101832 -0.039088  0.323386     0.083928  0.077313   \n",
       "1    0.036193  0.120121  0.071510  0.082637  0.476036     0.036193  0.064891   \n",
       "2   -0.002293  0.033900  0.117829  0.135733  0.391790     0.002293  0.053530   \n",
       "3    0.063257  0.060964  0.097157  0.132473  0.365274     0.063257  0.052948   \n",
       "4    0.022393  0.085650  0.083357  0.203478  0.335947     0.022393  0.033843   \n",
       "..        ...       ...       ...       ...       ...          ...       ...   \n",
       "99  -0.096265 -0.078564 -0.150493 -0.116393  0.050163     0.096265  0.056903   \n",
       "100  0.075742 -0.020523 -0.002821 -0.070466  0.114396     0.075742  0.069850   \n",
       "101  0.029296  0.105038  0.008772 -0.045455  0.138889     0.029296  0.072346   \n",
       "102  0.017766  0.047061  0.122803  0.044240  0.137491     0.017766  0.063442   \n",
       "103  0.038560  0.056326  0.085621  0.065098  0.175505     0.038560  0.064840   \n",
       "\n",
       "       atr_20  shift_returns  \n",
       "0    0.059358       0.036193  \n",
       "1    0.050571      -0.002293  \n",
       "2    0.048955       0.063257  \n",
       "3    0.047285       0.022393  \n",
       "4    0.046643       0.031457  \n",
       "..        ...            ...  \n",
       "99   0.036141       0.075742  \n",
       "100  0.039665       0.029296  \n",
       "101  0.040012       0.017766  \n",
       "102  0.039990       0.038560  \n",
       "103  0.040573      -0.068041  \n",
       "\n",
       "[104 rows x 9 columns]"
      ]
     },
     "execution_count": 228,
     "metadata": {},
     "output_type": "execute_result"
    }
   ],
   "source": [
    "sp500.iloc[0:-10]"
   ]
  },
  {
   "cell_type": "code",
   "execution_count": 229,
   "metadata": {},
   "outputs": [],
   "source": [
    "sp500 = pd.concat([sp500_,  sp500], axis=0).reset_index(drop=True)"
   ]
  },
  {
   "cell_type": "code",
   "execution_count": 230,
   "metadata": {},
   "outputs": [],
   "source": [
    "X = sp500.drop(columns='shift_returns')\n",
    "y = sp500['shift_returns']"
   ]
  },
  {
   "cell_type": "code",
   "execution_count": 231,
   "metadata": {},
   "outputs": [
    {
     "data": {
      "text/plain": [
       "<matplotlib.axes._subplots.AxesSubplot at 0x1fbf0434e48>"
      ]
     },
     "execution_count": 231,
     "metadata": {},
     "output_type": "execute_result"
    },
    {
     "data": {
      "image/png": "[encoded data removed]",
      "text/plain": [
       "<Figure size 432x288 with 1 Axes>"
      ]
     },
     "metadata": {
      "needs_background": "light"
     },
     "output_type": "display_data"
    }
   ],
   "source": [
    "X.returns.cumsum().plot()"
   ]
  },
  {
   "cell_type": "code",
   "execution_count": 232,
   "metadata": {},
   "outputs": [],
   "source": [
    "y = np.sign(y)\n",
    "X = X.select_dtypes('number')"
   ]
  },
  {
   "cell_type": "code",
   "execution_count": 233,
   "metadata": {},
   "outputs": [],
   "source": [
    "X_train= X.iloc[0:-100] #X.iloc[:int(X.shape[0] * 0.75)]\n",
    "y_train = y[0:-100] #y[:int(X.shape[0] * 0.75)]\n",
    "X_test = X.iloc[-114:] #X.iloc[int(X.shape[0] * 0.80):]\n",
    "y_test = y[-114:] #y[int(X.shape[0] * 0.80):]\n",
    "#X_train, X_test, y_train, y_test = train_test_split(  X, y, test_size=0.20, random_state=42)"
   ]
  },
  {
   "cell_type": "code",
   "execution_count": 234,
   "metadata": {},
   "outputs": [],
   "source": [
    "clf = RandomForestClassifier(n_estimators= 1000, random_state=0, criterion='gini', n_jobs=-1)\n"
   ]
  },
  {
   "cell_type": "code",
   "execution_count": 235,
   "metadata": {},
   "outputs": [
    {
     "data": {
      "text/plain": [
       "RandomForestClassifier(bootstrap=True, ccp_alpha=0.0, class_weight=None,\n",
       "                       criterion='gini', max_depth=None, max_features='auto',\n",
       "                       max_leaf_nodes=None, max_samples=None,\n",
       "                       min_impurity_decrease=0.0, min_impurity_split=None,\n",
       "                       min_samples_leaf=1, min_samples_split=2,\n",
       "                       min_weight_fraction_leaf=0.0, n_estimators=1000,\n",
       "                       n_jobs=-1, oob_score=False, random_state=0, verbose=0,\n",
       "                       warm_start=False)"
      ]
     },
     "execution_count": 235,
     "metadata": {},
     "output_type": "execute_result"
    }
   ],
   "source": [
    "clf.fit(X_train, y_train)"
   ]
  },
  {
   "cell_type": "code",
   "execution_count": 236,
   "metadata": {},
   "outputs": [],
   "source": [
    "y_pred = clf.predict(X_test)"
   ]
  },
  {
   "cell_type": "code",
   "execution_count": 237,
   "metadata": {},
   "outputs": [],
   "source": [
    "score = clf.score(X_test, y_test)"
   ]
  },
  {
   "cell_type": "code",
   "execution_count": 238,
   "metadata": {},
   "outputs": [],
   "source": [
    "from sklearn.metrics import roc_auc_score\n",
    "rf_probs = clf.predict_proba(X_test)[:, 1]\n",
    "# Calculate roc auc\n",
    "roc_value = roc_auc_score(y_test, rf_probs)"
   ]
  },
  {
   "cell_type": "code",
   "execution_count": 239,
   "metadata": {},
   "outputs": [
    {
     "name": "stdout",
     "output_type": "stream",
     "text": [
      "0.7 0.7083333333333334\n"
     ]
    }
   ],
   "source": [
    "# we have to reove low tf indicators\n",
    "print(score, roc_value)"
   ]
  },
  {
   "cell_type": "code",
   "execution_count": 240,
   "metadata": {},
   "outputs": [
    {
     "data": {
      "text/plain": [
       "Index(['returns', 'ROC_2', 'ROC_3', 'ROC_5', 'ROC_20', 'abs_returns', 'atr_5',\n",
       "       'atr_20'],\n",
       "      dtype='object')"
      ]
     },
     "execution_count": 240,
     "metadata": {},
     "output_type": "execute_result"
    }
   ],
   "source": [
    "X_test.columns"
   ]
  },
  {
   "cell_type": "code",
   "execution_count": 241,
   "metadata": {},
   "outputs": [
    {
     "data": {
      "text/plain": [
       "Index(['returns', 'ROC_2', 'ROC_3', 'ROC_5', 'ROC_20', 'abs_returns', 'atr_5',\n",
       "       'atr_20'],\n",
       "      dtype='object')"
      ]
     },
     "execution_count": 241,
     "metadata": {},
     "output_type": "execute_result"
    }
   ],
   "source": [
    "X_train.columns"
   ]
  },
  {
   "cell_type": "code",
   "execution_count": 249,
   "metadata": {},
   "outputs": [
    {
     "name": "stderr",
     "output_type": "stream",
     "text": [
      "C:\\Users\\lexik\\.conda\\envs\\NN\\lib\\site-packages\\ipykernel_launcher.py:1: SettingWithCopyWarning: \n",
      "A value is trying to be set on a copy of a slice from a DataFrame.\n",
      "Try using .loc[row_indexer,col_indexer] = value instead\n",
      "\n",
      "See the caveats in the documentation: https://pandas.pydata.org/pandas-docs/stable/user_guide/indexing.html#returning-a-view-versus-a-copy\n",
      "  \"\"\"Entry point for launching an IPython kernel.\n",
      "C:\\Users\\lexik\\.conda\\envs\\NN\\lib\\site-packages\\ipykernel_launcher.py:2: SettingWithCopyWarning: \n",
      "A value is trying to be set on a copy of a slice from a DataFrame.\n",
      "Try using .loc[row_indexer,col_indexer] = value instead\n",
      "\n",
      "See the caveats in the documentation: https://pandas.pydata.org/pandas-docs/stable/user_guide/indexing.html#returning-a-view-versus-a-copy\n",
      "  \n",
      "C:\\Users\\lexik\\.conda\\envs\\NN\\lib\\site-packages\\ipykernel_launcher.py:3: SettingWithCopyWarning: \n",
      "A value is trying to be set on a copy of a slice from a DataFrame.\n",
      "Try using .loc[row_indexer,col_indexer] = value instead\n",
      "\n",
      "See the caveats in the documentation: https://pandas.pydata.org/pandas-docs/stable/user_guide/indexing.html#returning-a-view-versus-a-copy\n",
      "  This is separate from the ipykernel package so we can avoid doing imports until\n",
      "C:\\Users\\lexik\\.conda\\envs\\NN\\lib\\site-packages\\ipykernel_launcher.py:4: SettingWithCopyWarning: \n",
      "A value is trying to be set on a copy of a slice from a DataFrame.\n",
      "Try using .loc[row_indexer,col_indexer] = value instead\n",
      "\n",
      "See the caveats in the documentation: https://pandas.pydata.org/pandas-docs/stable/user_guide/indexing.html#returning-a-view-versus-a-copy\n",
      "  after removing the cwd from sys.path.\n"
     ]
    }
   ],
   "source": [
    "X_test['shift_returns'] = sp500.loc[X_test.index]['shift_returns']\n",
    "X_test['pred'] = y_pred\n",
    "X_test['direction'] = np.sign(X_test.shift_returns)\n",
    "X_test['res'] = X_test.shift_returns  * X_test['pred']"
   ]
  },
  {
   "cell_type": "code",
   "execution_count": 251,
   "metadata": {},
   "outputs": [
    {
     "data": {
      "text/plain": [
       "<matplotlib.axes._subplots.AxesSubplot at 0x1fbf07d9688>"
      ]
     },
     "execution_count": 251,
     "metadata": {},
     "output_type": "execute_result"
    },
    {
     "data": {
      "image/png": "[encoded data removed]",
      "text/plain": [
       "<Figure size 432x288 with 1 Axes>"
      ]
     },
     "metadata": {
      "needs_background": "light"
     },
     "output_type": "display_data"
    }
   ],
   "source": [
    "((X_test.reset_index().res ).cumsum()).fillna(0).plot()"
   ]
  },
  {
   "cell_type": "code",
   "execution_count": 244,
   "metadata": {},
   "outputs": [
    {
     "data": {
      "text/plain": [
       "<matplotlib.axes._subplots.AxesSubplot at 0x1fbf058d8c8>"
      ]
     },
     "execution_count": 244,
     "metadata": {},
     "output_type": "execute_result"
    },
    {
     "data": {
      "image/png": "[encoded data removed]",
      "text/plain": [
       "<Figure size 432x288 with 1 Axes>"
      ]
     },
     "metadata": {
      "needs_background": "light"
     },
     "output_type": "display_data"
    }
   ],
   "source": [
    "# 10h\n",
    "(X_test.reset_index().res.cumsum()).plot()"
   ]
  },
  {
   "cell_type": "code",
   "execution_count": 252,
   "metadata": {},
   "outputs": [
    {
     "data": {
      "text/plain": [
       "<matplotlib.axes._subplots.AxesSubplot at 0x1fbf0831048>"
      ]
     },
     "execution_count": 252,
     "metadata": {},
     "output_type": "execute_result"
    },
    {
     "data": {
      "image/png": "[encoded data removed]",
      "text/plain": [
       "<Figure size 432x288 with 1 Axes>"
      ]
     },
     "metadata": {
      "needs_background": "light"
     },
     "output_type": "display_data"
    }
   ],
   "source": [
    "X_test.reset_index().shift_returns.cumsum().plot()"
   ]
  },
  {
   "cell_type": "code",
   "execution_count": 246,
   "metadata": {},
   "outputs": [
    {
     "data": {
      "text/plain": [
       "<matplotlib.axes._subplots.AxesSubplot at 0x1fbf0648348>"
      ]
     },
     "execution_count": 246,
     "metadata": {},
     "output_type": "execute_result"
    },
    {
     "data": {
      "image/png": "[encoded data removed]",
      "text/plain": [
       "<Figure size 432x288 with 1 Axes>"
      ]
     },
     "metadata": {
      "needs_background": "light"
     },
     "output_type": "display_data"
    }
   ],
   "source": [
    "X_train.reset_index().returns.cumsum().plot()"
   ]
  },
  {
   "cell_type": "code",
   "execution_count": 254,
   "metadata": {},
   "outputs": [],
   "source": [
    "def apply_pca(X_):\n",
    "    \n",
    "    pca = PCA(n_components=3,  random_state=40)\n",
    "\n",
    "    pca_X = pca.fit_transform(X_.fillna(0)) \n",
    "\n",
    "    #print(pca.explained_variance_ratio_)\n",
    "\n",
    "    #print(pca.singular_values_)\n",
    "    pca_X = pd.DataFrame(pca_X, columns=['p1', 'p2', 'p3'])\n",
    "    return pca_X"
   ]
  },
  {
   "cell_type": "code",
   "execution_count": 273,
   "metadata": {},
   "outputs": [
    {
     "name": "stderr",
     "output_type": "stream",
     "text": [
      "C:\\Users\\lexik\\.conda\\envs\\NN\\lib\\site-packages\\pandas\\core\\indexing.py:964: SettingWithCopyWarning: \n",
      "A value is trying to be set on a copy of a slice from a DataFrame.\n",
      "Try using .loc[row_indexer,col_indexer] = value instead\n",
      "\n",
      "See the caveats in the documentation: https://pandas.pydata.org/pandas-docs/stable/user_guide/indexing.html#returning-a-view-versus-a-copy\n",
      "  self.obj[item] = s\n"
     ]
    }
   ],
   "source": [
    "cols = ['ROC_20',  'atr_20', 'ROC_5', 'atr_5']\n",
    "pca_X = apply_pca(X_train[cols])\n",
    "kmeans = KMeans(2, random_state=40).fit(pca_X)\n",
    "pca_X = apply_pca(X_test[cols])\n",
    "clusters = kmeans.predict(pca_X)\n",
    "X_test.loc[:,'clusters'] = clusters"
   ]
  },
  {
   "cell_type": "code",
   "execution_count": 274,
   "metadata": {},
   "outputs": [
    {
     "name": "stderr",
     "output_type": "stream",
     "text": [
      "C:\\Users\\lexik\\.conda\\envs\\NN\\lib\\site-packages\\ipykernel_launcher.py:1: SettingWithCopyWarning: \n",
      "A value is trying to be set on a copy of a slice from a DataFrame.\n",
      "Try using .loc[row_indexer,col_indexer] = value instead\n",
      "\n",
      "See the caveats in the documentation: https://pandas.pydata.org/pandas-docs/stable/user_guide/indexing.html#returning-a-view-versus-a-copy\n",
      "  \"\"\"Entry point for launching an IPython kernel.\n"
     ]
    }
   ],
   "source": [
    "X_test['res_bin'] = np.sign(X_test.res)"
   ]
  },
  {
   "cell_type": "code",
   "execution_count": 277,
   "metadata": {},
   "outputs": [
    {
     "data": {
      "text/html": [
       "<div>\n",
       "<style scoped>\n",
       "    .dataframe tbody tr th:only-of-type {\n",
       "        vertical-align: middle;\n",
       "    }\n",
       "\n",
       "    .dataframe tbody tr th {\n",
       "        vertical-align: top;\n",
       "    }\n",
       "\n",
       "    .dataframe thead th {\n",
       "        text-align: right;\n",
       "    }\n",
       "</style>\n",
       "<table border=\"1\" class=\"dataframe\">\n",
       "  <thead>\n",
       "    <tr style=\"text-align: right;\">\n",
       "      <th></th>\n",
       "      <th>returns</th>\n",
       "      <th>ROC_2</th>\n",
       "      <th>ROC_3</th>\n",
       "      <th>ROC_5</th>\n",
       "      <th>ROC_20</th>\n",
       "      <th>abs_returns</th>\n",
       "      <th>atr_5</th>\n",
       "      <th>atr_20</th>\n",
       "      <th>shift_returns</th>\n",
       "      <th>pred</th>\n",
       "      <th>direction</th>\n",
       "      <th>res</th>\n",
       "      <th>clusters</th>\n",
       "      <th>res_bin</th>\n",
       "    </tr>\n",
       "    <tr>\n",
       "      <th>res_bin</th>\n",
       "      <th></th>\n",
       "      <th></th>\n",
       "      <th></th>\n",
       "      <th></th>\n",
       "      <th></th>\n",
       "      <th></th>\n",
       "      <th></th>\n",
       "      <th></th>\n",
       "      <th></th>\n",
       "      <th></th>\n",
       "      <th></th>\n",
       "      <th></th>\n",
       "      <th></th>\n",
       "      <th></th>\n",
       "    </tr>\n",
       "  </thead>\n",
       "  <tbody>\n",
       "    <tr>\n",
       "      <th>1.0</th>\n",
       "      <td>4</td>\n",
       "      <td>4</td>\n",
       "      <td>4</td>\n",
       "      <td>4</td>\n",
       "      <td>4</td>\n",
       "      <td>4</td>\n",
       "      <td>4</td>\n",
       "      <td>4</td>\n",
       "      <td>4</td>\n",
       "      <td>4</td>\n",
       "      <td>4</td>\n",
       "      <td>4</td>\n",
       "      <td>4</td>\n",
       "      <td>4</td>\n",
       "    </tr>\n",
       "  </tbody>\n",
       "</table>\n",
       "</div>"
      ],
      "text/plain": [
       "         returns  ROC_2  ROC_3  ROC_5  ROC_20  abs_returns  atr_5  atr_20  \\\n",
       "res_bin                                                                     \n",
       "1.0            4      4      4      4       4            4      4       4   \n",
       "\n",
       "         shift_returns  pred  direction  res  clusters  res_bin  \n",
       "res_bin                                                          \n",
       "1.0                  4     4          4    4         4        4  "
      ]
     },
     "execution_count": 277,
     "metadata": {},
     "output_type": "execute_result"
    }
   ],
   "source": [
    "X_test[X_test.clusters==0].groupby(X_test.res_bin).count()"
   ]
  },
  {
   "cell_type": "code",
   "execution_count": 272,
   "metadata": {},
   "outputs": [
    {
     "data": {
      "text/plain": [
       "0.6"
      ]
     },
     "execution_count": 272,
     "metadata": {},
     "output_type": "execute_result"
    }
   ],
   "source": [
    "3/5"
   ]
  },
  {
   "cell_type": "code",
   "execution_count": 266,
   "metadata": {},
   "outputs": [],
   "source": [
    "# improve with xgboost\n",
    "# hyper parameter optimization\n",
    "# finalize model\n",
    "# use PCA custering to improve accuracy of results"
   ]
  },
  {
   "cell_type": "code",
   "execution_count": 245,
   "metadata": {},
   "outputs": [],
   "source": [
    "# swithc from Xgboost to LSTM\n",
    "# test\n",
    "# swithc from PCA to VAE"
   ]
  },
  {
   "cell_type": "code",
   "execution_count": 246,
   "metadata": {},
   "outputs": [],
   "source": [
    "# do backtesting step by step"
   ]
  },
  {
   "cell_type": "code",
   "execution_count": null,
   "metadata": {},
   "outputs": [],
   "source": []
  }
 ],
 "metadata": {
  "kernelspec": {
   "display_name": "Python 3",
   "language": "python",
   "name": "python3"
  },
  "language_info": {
   "codemirror_mode": {
    "name": "ipython",
    "version": 3
   },
   "file_extension": ".py",
   "mimetype": "text/x-python",
   "name": "python",
   "nbconvert_exporter": "python",
   "pygments_lexer": "ipython3",
   "version": "3.7.6"
  }
 },
 "nbformat": 4,
 "nbformat_minor": 4
}
