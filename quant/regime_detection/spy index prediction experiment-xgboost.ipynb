{
 "cells": [
  {
   "cell_type": "code",
   "execution_count": 43,
   "metadata": {},
   "outputs": [],
   "source": [
    "import numpy as np\n",
    "import pandas as pd\n",
    "import rwi\n",
    "\n",
    "from sklearn.decomposition import PCA\n",
    "\n",
    "import xgboost as xgb\n",
    "from sklearn.cluster import KMeans\n",
    "import matplotlib.pyplot as plt\n",
    "import seaborn as sns; sns.set()\n",
    "%matplotlib inline"
   ]
  },
  {
   "cell_type": "code",
   "execution_count": 2,
   "metadata": {},
   "outputs": [],
   "source": [
    "from sklearn.model_selection import StratifiedKFold\n",
    "from sklearn.model_selection import RandomizedSearchCV\n",
    "from sklearn.model_selection import cross_val_score\n",
    "\n",
    "from xgboost import plot_importance"
   ]
  },
  {
   "cell_type": "code",
   "execution_count": 3,
   "metadata": {},
   "outputs": [],
   "source": [
    "import rwi\n",
    "from sklearn.ensemble import RandomForestClassifier\n",
    "from sklearn.model_selection import train_test_split"
   ]
  },
  {
   "cell_type": "code",
   "execution_count": 4,
   "metadata": {},
   "outputs": [],
   "source": [
    "def load_df(name):\n",
    "    eurusd_df = pd.read_csv(name)\n",
    "    eurusd_df = eurusd_df.rename(columns={'<TICKER>':'Ticker', '<DTYYYYMMDD>':'Date', '<TIME>':'Time', '<OPEN>':'Open', '<HIGH>':'High', '<LOW>':'Low', '<CLOSE>':'Close', '<VOL>':'Vol'})\n",
    "    eurusd_df[['Date']] = pd.to_datetime(eurusd_df['Date'].astype('str'), yearfirst=True)\n",
    "    eurusd_df =eurusd_df.sort_values(by=['Date', 'Time'])\n",
    "    eur_df = eurusd_df[['Date', 'Time', 'Close', 'Open', 'High', 'Low', 'Vol']].rename(columns={'Close':'Close'})\n",
    "    eur_df['Change'] = eur_df['Close'].pct_change()\n",
    "    eur_df.dropna(inplace=True)\n",
    "    #eur_df = eur_df[eur_df.Date>'2020-01-01']\n",
    "    #eur_df = eur_df.set_index('Date')\n",
    "    return eur_df"
   ]
  },
  {
   "cell_type": "code",
   "execution_count": 5,
   "metadata": {},
   "outputs": [],
   "source": [
    "import FinanceDataReader as fdr"
   ]
  },
  {
   "cell_type": "code",
   "execution_count": 6,
   "metadata": {},
   "outputs": [],
   "source": [
    "#sp500 = fdr.DataReader('US500', start = '2009-01-01')"
   ]
  },
  {
   "cell_type": "code",
   "execution_count": 7,
   "metadata": {},
   "outputs": [],
   "source": [
    "#sp500.to_csv('SP500.csv', encoding='utf-8')"
   ]
  },
  {
   "cell_type": "code",
   "execution_count": 143,
   "metadata": {},
   "outputs": [],
   "source": [
    "sp500 = pd.read_csv('SP500.csv', encoding='utf-8')\n",
    "sp500['Date'] = pd.to_datetime(sp500['Date'], yearfirst=True)\n",
    "sp500 = sp500.set_index('Date')\n",
    "#sp500 = sp500.loc[:'2019-12-31']\n",
    "sp500['price'] = sp500['Close']"
   ]
  },
  {
   "cell_type": "code",
   "execution_count": 144,
   "metadata": {},
   "outputs": [],
   "source": [
    "sp500 = sp500.resample('W').last()"
   ]
  },
  {
   "cell_type": "code",
   "execution_count": 145,
   "metadata": {},
   "outputs": [],
   "source": [
    "sp500 = rwi.generate_features(sp500)"
   ]
  },
  {
   "cell_type": "code",
   "execution_count": 146,
   "metadata": {},
   "outputs": [],
   "source": [
    "sp500['atr_5'] = sp500.returns.rolling(5).std()\n",
    "sp500['atr_20'] = sp500.returns.rolling(20).std()\n",
    "sp500['atr_50'] = sp500.returns.rolling(50).std()\n",
    "sp500['range'] = 100*(sp500['High'] - sp500['Low'])/sp500['Low']\n",
    "sp500['adj_close'] = sp500['Close'] / (sp500['High']*0.5 + sp500['Low']*0.5)\n",
    "sp500['adj_close'] = sp500['adj_close'].replace([np.inf, -np.inf, 0], 0)\n",
    "\n"
   ]
  },
  {
   "cell_type": "code",
   "execution_count": 147,
   "metadata": {},
   "outputs": [
    {
     "data": {
      "text/plain": [
       "Index(['Close', 'Open', 'High', 'Low', 'Volume', 'Change', 'price', 'returns',\n",
       "       'ROC_2', 'ROC_3', 'ROC_5', 'ROC_20', 'ROC_50', 'ROC_100', 'ROC_200',\n",
       "       'ROC_500', 'abs_returns', 'atr_5', 'atr_20', 'atr_50', 'range',\n",
       "       'adj_close'],\n",
       "      dtype='object')"
      ]
     },
     "execution_count": 147,
     "metadata": {},
     "output_type": "execute_result"
    }
   ],
   "source": [
    "sp500.columns"
   ]
  },
  {
   "cell_type": "code",
   "execution_count": 148,
   "metadata": {},
   "outputs": [],
   "source": [
    "sp500.drop(columns=['ROC_100', 'ROC_200',\n",
    "       'ROC_500'], inplace=True)"
   ]
  },
  {
   "cell_type": "code",
   "execution_count": 149,
   "metadata": {},
   "outputs": [],
   "source": [
    "#sp500 = pd.get_dummies(sp500, columns=['month', 'day', 'week_day'])"
   ]
  },
  {
   "cell_type": "code",
   "execution_count": 150,
   "metadata": {},
   "outputs": [],
   "source": [
    "sp500.loc[:,'shift_returns'] = sp500['returns'].shift(-1)\n",
    "\n",
    "sp500.dropna(inplace=True) # .fillna(0, inplace=True)#"
   ]
  },
  {
   "cell_type": "code",
   "execution_count": 151,
   "metadata": {},
   "outputs": [],
   "source": [
    "\n",
    "sp500 = sp500[sp500.shift_returns != 0.0]\n"
   ]
  },
  {
   "cell_type": "code",
   "execution_count": 152,
   "metadata": {},
   "outputs": [
    {
     "data": {
      "text/plain": [
       "Index(['Close', 'Open', 'High', 'Low', 'Volume', 'Change', 'price', 'returns',\n",
       "       'ROC_2', 'ROC_3', 'ROC_5', 'ROC_20', 'ROC_50', 'abs_returns', 'atr_5',\n",
       "       'atr_20', 'atr_50', 'range', 'adj_close', 'shift_returns'],\n",
       "      dtype='object')"
      ]
     },
     "execution_count": 152,
     "metadata": {},
     "output_type": "execute_result"
    }
   ],
   "source": [
    "sp500.columns"
   ]
  },
  {
   "cell_type": "code",
   "execution_count": 153,
   "metadata": {},
   "outputs": [
    {
     "data": {
      "text/plain": [
       "<matplotlib.axes._subplots.AxesSubplot at 0x21db86700c8>"
      ]
     },
     "execution_count": 153,
     "metadata": {},
     "output_type": "execute_result"
    },
    {
     "data": {
      "image/png": "[encoded data removed]",
      "text/plain": [
       "<Figure size 360x360 with 1 Axes>"
      ]
     },
     "metadata": {
      "needs_background": "light"
     },
     "output_type": "display_data"
    }
   ],
   "source": [
    "neg = len(sp500[sp500.shift_returns < 0])\n",
    "pos = len(sp500[sp500.shift_returns > 0])\n",
    "under_df = sp500[sp500.shift_returns < 0].sample(pos-neg) \n",
    "sp500 = pd.concat([under_df, sp500])\n",
    "sp500.reset_index().returns.cumsum().plot()"
   ]
  },
  {
   "cell_type": "code",
   "execution_count": 154,
   "metadata": {},
   "outputs": [
    {
     "data": {
      "text/plain": [
       "<matplotlib.axes._subplots.AxesSubplot at 0x21db5ae8c08>"
      ]
     },
     "execution_count": 154,
     "metadata": {},
     "output_type": "execute_result"
    },
    {
     "data": {
      "image/png": "[encoded data removed]",
      "text/plain": [
       "<Figure size 360x360 with 1 Axes>"
      ]
     },
     "metadata": {
      "needs_background": "light"
     },
     "output_type": "display_data"
    }
   ],
   "source": [
    "sp500.reset_index().price.plot()"
   ]
  },
  {
   "cell_type": "code",
   "execution_count": 155,
   "metadata": {},
   "outputs": [],
   "source": [
    "sp500.drop(columns=['Close', 'Open', 'High', 'Low', 'Volume', 'price', 'range', 'adj_close', 'Change'], inplace=True)"
   ]
  },
  {
   "cell_type": "code",
   "execution_count": 220,
   "metadata": {},
   "outputs": [],
   "source": [
    "\n",
    "X = sp500.drop(columns='shift_returns')\n",
    "y = sp500['shift_returns']"
   ]
  },
  {
   "cell_type": "code",
   "execution_count": 221,
   "metadata": {},
   "outputs": [],
   "source": [
    "\n",
    "\n",
    "y = np.sign(y)\n",
    "\n",
    "X = X.select_dtypes('number')\n"
   ]
  },
  {
   "cell_type": "code",
   "execution_count": 222,
   "metadata": {},
   "outputs": [],
   "source": [
    "X_train=X.iloc[:int(X.shape[0] * 0.75)]\n",
    "y_train = y[:int(X.shape[0] * 0.75)]\n",
    "X_test = X.iloc[int(X.shape[0] * 0.80):]\n",
    "y_test = y[int(X.shape[0] * 0.80):]\n",
    "#X_train, X_test, y_train, y_test = train_test_split(  X, y, test_size=0.20, random_state=42)"
   ]
  },
  {
   "cell_type": "code",
   "execution_count": 223,
   "metadata": {},
   "outputs": [],
   "source": [
    "X_train=X.iloc[:-60]\n",
    "y_train = y[:-60]\n",
    "X_test = X.iloc[-50:]\n",
    "y_test = y[-50:]"
   ]
  },
  {
   "cell_type": "code",
   "execution_count": 159,
   "metadata": {},
   "outputs": [
    {
     "data": {
      "text/plain": [
       "31.900000000000034"
      ]
     },
     "execution_count": 159,
     "metadata": {},
     "output_type": "execute_result"
    }
   ],
   "source": [
    "X.shape[0] * 0.80 - X.shape[0] * 0.75"
   ]
  },
  {
   "cell_type": "code",
   "execution_count": 47,
   "metadata": {},
   "outputs": [],
   "source": [
    "params = {\n",
    "        'min_child_weight': [1, 2, 3, 5, 7, 10],\n",
    "        'gamma': [ 0.0, 0.1, 0.2 , 0.3, 0.4 , 0.5, 1, 1.5, 2, 5],\n",
    "        'subsample': [0.1, 0.3, 0.5, 0.6, 0.8, 1.0],\n",
    "        'colsample_bytree': [0.1, 0.3, 0.4, 0.5, 0.7, 0.6, 0.8, 1.0],\n",
    "        'max_depth': [3,  5,  8,  12, 15, 50],\n",
    "        \"learning_rate\"    : [0.001, 0.01, 0.1, 0.2, 0.5],\n",
    "        \"eta\" : [0.001, 0.01, 0.1, 0.2, 0.3],\n",
    "        \"n_estimators\":[1000]\n",
    "        }"
   ]
  },
  {
   "cell_type": "code",
   "execution_count": 180,
   "metadata": {},
   "outputs": [],
   "source": [
    "model = xgb.XGBClassifier(n_jobs=5)"
   ]
  },
  {
   "cell_type": "code",
   "execution_count": 49,
   "metadata": {},
   "outputs": [],
   "source": [
    "import time"
   ]
  },
  {
   "cell_type": "code",
   "execution_count": 53,
   "metadata": {},
   "outputs": [
    {
     "name": "stdout",
     "output_type": "stream",
     "text": [
      "Fitting 5 folds for each of 10000 candidates, totalling 50000 fits\n"
     ]
    },
    {
     "name": "stderr",
     "output_type": "stream",
     "text": [
      "[Parallel(n_jobs=5)]: Using backend LokyBackend with 5 concurrent workers.\n",
      "[Parallel(n_jobs=5)]: Done  31 tasks      | elapsed:    3.6s\n",
      "[Parallel(n_jobs=5)]: Done 152 tasks      | elapsed:   13.0s\n",
      "[Parallel(n_jobs=5)]: Done 355 tasks      | elapsed:   36.7s\n",
      "[Parallel(n_jobs=5)]: Done 638 tasks      | elapsed:  1.2min\n",
      "[Parallel(n_jobs=5)]: Done 1003 tasks      | elapsed:  2.0min\n",
      "[Parallel(n_jobs=5)]: Done 1448 tasks      | elapsed:  2.8min\n",
      "[Parallel(n_jobs=5)]: Done 1975 tasks      | elapsed:  3.7min\n",
      "[Parallel(n_jobs=5)]: Done 2582 tasks      | elapsed:  4.8min\n",
      "[Parallel(n_jobs=5)]: Done 3271 tasks      | elapsed:  6.1min\n",
      "[Parallel(n_jobs=5)]: Done 4040 tasks      | elapsed:  7.4min\n",
      "[Parallel(n_jobs=5)]: Done 4891 tasks      | elapsed:  8.8min\n",
      "[Parallel(n_jobs=5)]: Done 5822 tasks      | elapsed: 10.4min\n",
      "[Parallel(n_jobs=5)]: Done 6835 tasks      | elapsed: 12.0min\n",
      "[Parallel(n_jobs=5)]: Done 7928 tasks      | elapsed: 13.8min\n",
      "[Parallel(n_jobs=5)]: Done 9103 tasks      | elapsed: 15.7min\n",
      "[Parallel(n_jobs=5)]: Done 10358 tasks      | elapsed: 17.8min\n",
      "[Parallel(n_jobs=5)]: Done 11695 tasks      | elapsed: 20.2min\n",
      "[Parallel(n_jobs=5)]: Done 13112 tasks      | elapsed: 22.6min\n",
      "[Parallel(n_jobs=5)]: Done 14611 tasks      | elapsed: 25.1min\n",
      "[Parallel(n_jobs=5)]: Done 16190 tasks      | elapsed: 27.8min\n",
      "[Parallel(n_jobs=5)]: Done 17851 tasks      | elapsed: 30.8min\n",
      "[Parallel(n_jobs=5)]: Done 19592 tasks      | elapsed: 33.8min\n",
      "[Parallel(n_jobs=5)]: Done 21415 tasks      | elapsed: 37.0min\n",
      "[Parallel(n_jobs=5)]: Done 23318 tasks      | elapsed: 40.5min\n",
      "[Parallel(n_jobs=5)]: Done 25303 tasks      | elapsed: 44.0min\n",
      "[Parallel(n_jobs=5)]: Done 27368 tasks      | elapsed: 47.9min\n",
      "[Parallel(n_jobs=5)]: Done 29515 tasks      | elapsed: 51.9min\n",
      "[Parallel(n_jobs=5)]: Done 31742 tasks      | elapsed: 56.0min\n",
      "[Parallel(n_jobs=5)]: Done 34051 tasks      | elapsed: 60.2min\n",
      "[Parallel(n_jobs=5)]: Done 36440 tasks      | elapsed: 64.8min\n",
      "[Parallel(n_jobs=5)]: Done 38911 tasks      | elapsed: 71.0min\n",
      "[Parallel(n_jobs=5)]: Done 41462 tasks      | elapsed: 77.4min\n",
      "[Parallel(n_jobs=5)]: Done 44095 tasks      | elapsed: 82.8min\n",
      "[Parallel(n_jobs=5)]: Done 46808 tasks      | elapsed: 87.6min\n",
      "[Parallel(n_jobs=5)]: Done 49603 tasks      | elapsed: 93.1min\n",
      "[Parallel(n_jobs=5)]: Done 50000 out of 50000 | elapsed: 93.9min finished\n"
     ]
    },
    {
     "name": "stdout",
     "output_type": "stream",
     "text": [
      "RandomizedSearchCV took 5638.11 seconds for 10000 candidates parameter settings.\n"
     ]
    }
   ],
   "source": [
    "n_iter_search = 10000\n",
    "random_search = RandomizedSearchCV(model, param_distributions=params,\n",
    "                                   n_iter=n_iter_search,  cv=StratifiedKFold( n_splits=5, shuffle=True) ,\n",
    "                   scoring='roc_auc',\n",
    "                   verbose=2, refit=True, n_jobs=5)\n",
    "\n",
    "start = time.time()\n",
    "random_search.fit(X_train, y_train)\n",
    "print(\"RandomizedSearchCV took %.2f seconds for %d candidates\"\n",
    "      \" parameter settings.\" % ((time.time() - start), n_iter_search))\n"
   ]
  },
  {
   "cell_type": "code",
   "execution_count": 56,
   "metadata": {},
   "outputs": [
    {
     "data": {
      "text/plain": [
       "0.5906039215686274"
      ]
     },
     "execution_count": 56,
     "metadata": {},
     "output_type": "execute_result"
    }
   ],
   "source": [
    "random_search.best_score_ # for auc"
   ]
  },
  {
   "cell_type": "code",
   "execution_count": 57,
   "metadata": {},
   "outputs": [
    {
     "data": {
      "text/plain": [
       "XGBClassifier(base_score=0.5, booster='gbtree', colsample_bylevel=1,\n",
       "              colsample_bynode=1, colsample_bytree=0.3, eta=0.1, gamma=1,\n",
       "              learning_rate=0.2, max_delta_step=0, max_depth=15,\n",
       "              min_child_weight=3, missing=None, n_estimators=1000, n_jobs=5,\n",
       "              nthread=None, objective='binary:logistic', random_state=0,\n",
       "              reg_alpha=0, reg_lambda=1, scale_pos_weight=1, seed=None,\n",
       "              silent=None, subsample=0.3, verbosity=1)"
      ]
     },
     "execution_count": 57,
     "metadata": {},
     "output_type": "execute_result"
    }
   ],
   "source": [
    "random_search.best_estimator_ # for auc"
   ]
  },
  {
   "cell_type": "code",
   "execution_count": 224,
   "metadata": {},
   "outputs": [
    {
     "data": {
      "text/plain": [
       "XGBClassifier(base_score=0.5, booster='gbtree', colsample_bylevel=1,\n",
       "              colsample_bynode=1, colsample_bytree=0.3, eta=0.01, gamma=1,\n",
       "              learning_rate=0.001, max_delta_step=0, max_depth=15,\n",
       "              min_child_weight=3, missing=None, n_estimators=1000, n_jobs=5,\n",
       "              nthread=None, objective='binary:logistic', random_state=0,\n",
       "              reg_alpha=0, reg_lambda=1, scale_pos_weight=1, seed=None,\n",
       "              silent=None, subsample=0.3, verbosity=1)"
      ]
     },
     "execution_count": 224,
     "metadata": {},
     "output_type": "execute_result"
    }
   ],
   "source": [
    "model = xgb.XGBClassifier(base_score=0.5, booster='gbtree', colsample_bylevel=1,\n",
    "              colsample_bynode=1, colsample_bytree=0.3, eta=0.01, gamma=1,\n",
    "              learning_rate=0.001, max_delta_step=0, max_depth=15,\n",
    "              min_child_weight=3, missing=None, n_estimators=1000, n_jobs=5,\n",
    "              nthread=None, objective='binary:logistic', random_state=0,\n",
    "              reg_alpha=0, reg_lambda=1, scale_pos_weight=1, seed=None,\n",
    "              silent=None, subsample=0.3, verbosity=1)\n",
    "model.fit(X_train, y_train)"
   ]
  },
  {
   "cell_type": "code",
   "execution_count": 225,
   "metadata": {},
   "outputs": [],
   "source": [
    "y_pred = model.predict(X_test)"
   ]
  },
  {
   "cell_type": "code",
   "execution_count": 234,
   "metadata": {},
   "outputs": [],
   "source": [
    "score = model.score(X_test, y_test)"
   ]
  },
  {
   "cell_type": "code",
   "execution_count": 235,
   "metadata": {},
   "outputs": [
    {
     "data": {
      "text/plain": [
       "0.46"
      ]
     },
     "execution_count": 235,
     "metadata": {},
     "output_type": "execute_result"
    }
   ],
   "source": [
    "score"
   ]
  },
  {
   "cell_type": "code",
   "execution_count": 236,
   "metadata": {},
   "outputs": [],
   "source": [
    "from sklearn.metrics import roc_auc_score\n",
    "rf_probs = model.predict_proba(X_test)[:, 1]\n",
    "# Calculate roc auc\n",
    "roc_value = roc_auc_score(y_test, rf_probs)"
   ]
  },
  {
   "cell_type": "code",
   "execution_count": 237,
   "metadata": {},
   "outputs": [
    {
     "name": "stdout",
     "output_type": "stream",
     "text": [
      "0.46 0.5763546798029557\n"
     ]
    }
   ],
   "source": [
    "# we have to reove low tf indicators\n",
    "print(score, roc_value)"
   ]
  },
  {
   "cell_type": "code",
   "execution_count": 189,
   "metadata": {},
   "outputs": [
    {
     "data": {
      "image/png": "[encoded data removed]",
      "text/plain": [
       "<Figure size 360x360 with 1 Axes>"
      ]
     },
     "metadata": {
      "needs_background": "light"
     },
     "output_type": "display_data"
    }
   ],
   "source": [
    "xgb.plot_importance(model)\n",
    "plt.rcParams['figure.figsize'] = [5, 5]\n",
    "plt.show()"
   ]
  },
  {
   "cell_type": "code",
   "execution_count": 209,
   "metadata": {},
   "outputs": [],
   "source": [
    "X_test=X_test.reset_index()"
   ]
  },
  {
   "cell_type": "code",
   "execution_count": 203,
   "metadata": {},
   "outputs": [
    {
     "data": {
      "text/html": [
       "<div>\n",
       "<style scoped>\n",
       "    .dataframe tbody tr th:only-of-type {\n",
       "        vertical-align: middle;\n",
       "    }\n",
       "\n",
       "    .dataframe tbody tr th {\n",
       "        vertical-align: top;\n",
       "    }\n",
       "\n",
       "    .dataframe thead th {\n",
       "        text-align: right;\n",
       "    }\n",
       "</style>\n",
       "<table border=\"1\" class=\"dataframe\">\n",
       "  <thead>\n",
       "    <tr style=\"text-align: right;\">\n",
       "      <th></th>\n",
       "      <th>Date</th>\n",
       "      <th>returns</th>\n",
       "      <th>ROC_2</th>\n",
       "      <th>ROC_3</th>\n",
       "      <th>ROC_5</th>\n",
       "      <th>ROC_20</th>\n",
       "      <th>ROC_50</th>\n",
       "      <th>abs_returns</th>\n",
       "      <th>atr_5</th>\n",
       "      <th>atr_20</th>\n",
       "      <th>atr_50</th>\n",
       "      <th>shift_returns</th>\n",
       "    </tr>\n",
       "  </thead>\n",
       "  <tbody>\n",
       "    <tr>\n",
       "      <th>0</th>\n",
       "      <td>2015-03-01</td>\n",
       "      <td>-0.002752</td>\n",
       "      <td>0.003575</td>\n",
       "      <td>0.023573</td>\n",
       "      <td>0.025351</td>\n",
       "      <td>0.099003</td>\n",
       "      <td>0.133698</td>\n",
       "      <td>0.002752</td>\n",
       "      <td>0.022360</td>\n",
       "      <td>0.019822</td>\n",
       "      <td>0.016356</td>\n",
       "      <td>-0.015921</td>\n",
       "    </tr>\n",
       "    <tr>\n",
       "      <th>1</th>\n",
       "      <td>2019-08-18</td>\n",
       "      <td>-0.010322</td>\n",
       "      <td>-0.014902</td>\n",
       "      <td>-0.046396</td>\n",
       "      <td>-0.042392</td>\n",
       "      <td>0.018969</td>\n",
       "      <td>-0.004435</td>\n",
       "      <td>0.010322</td>\n",
       "      <td>0.017199</td>\n",
       "      <td>0.018053</td>\n",
       "      <td>0.023789</td>\n",
       "      <td>-0.014495</td>\n",
       "    </tr>\n",
       "    <tr>\n",
       "      <th>2</th>\n",
       "      <td>2013-04-14</td>\n",
       "      <td>0.022642</td>\n",
       "      <td>0.012451</td>\n",
       "      <td>0.020320</td>\n",
       "      <td>0.023995</td>\n",
       "      <td>0.120024</td>\n",
       "      <td>0.124141</td>\n",
       "      <td>0.022642</td>\n",
       "      <td>0.012315</td>\n",
       "      <td>0.013204</td>\n",
       "      <td>0.017036</td>\n",
       "      <td>-0.021374</td>\n",
       "    </tr>\n",
       "    <tr>\n",
       "      <th>3</th>\n",
       "      <td>2016-10-23</td>\n",
       "      <td>0.003828</td>\n",
       "      <td>-0.005858</td>\n",
       "      <td>-0.012582</td>\n",
       "      <td>0.000935</td>\n",
       "      <td>0.019825</td>\n",
       "      <td>0.019791</td>\n",
       "      <td>0.003828</td>\n",
       "      <td>0.008617</td>\n",
       "      <td>0.012184</td>\n",
       "      <td>0.018580</td>\n",
       "      <td>-0.006913</td>\n",
       "    </tr>\n",
       "    <tr>\n",
       "      <th>4</th>\n",
       "      <td>2018-02-04</td>\n",
       "      <td>-0.039309</td>\n",
       "      <td>-0.017289</td>\n",
       "      <td>-0.008691</td>\n",
       "      <td>0.032573</td>\n",
       "      <td>0.099619</td>\n",
       "      <td>0.161093</td>\n",
       "      <td>0.039309</td>\n",
       "      <td>0.026430</td>\n",
       "      <td>0.013021</td>\n",
       "      <td>0.010530</td>\n",
       "      <td>-0.053000</td>\n",
       "    </tr>\n",
       "  </tbody>\n",
       "</table>\n",
       "</div>"
      ],
      "text/plain": [
       "        Date   returns     ROC_2     ROC_3     ROC_5    ROC_20    ROC_50  \\\n",
       "0 2015-03-01 -0.002752  0.003575  0.023573  0.025351  0.099003  0.133698   \n",
       "1 2019-08-18 -0.010322 -0.014902 -0.046396 -0.042392  0.018969 -0.004435   \n",
       "2 2013-04-14  0.022642  0.012451  0.020320  0.023995  0.120024  0.124141   \n",
       "3 2016-10-23  0.003828 -0.005858 -0.012582  0.000935  0.019825  0.019791   \n",
       "4 2018-02-04 -0.039309 -0.017289 -0.008691  0.032573  0.099619  0.161093   \n",
       "\n",
       "   abs_returns     atr_5    atr_20    atr_50  shift_returns  \n",
       "0     0.002752  0.022360  0.019822  0.016356      -0.015921  \n",
       "1     0.010322  0.017199  0.018053  0.023789      -0.014495  \n",
       "2     0.022642  0.012315  0.013204  0.017036      -0.021374  \n",
       "3     0.003828  0.008617  0.012184  0.018580      -0.006913  \n",
       "4     0.039309  0.026430  0.013021  0.010530      -0.053000  "
      ]
     },
     "execution_count": 203,
     "metadata": {},
     "output_type": "execute_result"
    }
   ],
   "source": [
    "sp500.head()"
   ]
  },
  {
   "cell_type": "code",
   "execution_count": 210,
   "metadata": {},
   "outputs": [
    {
     "data": {
      "text/plain": [
       "0     2018-02-25\n",
       "1     2018-03-04\n",
       "2     2018-03-11\n",
       "3     2018-03-18\n",
       "4     2018-03-25\n",
       "         ...    \n",
       "105   2020-03-01\n",
       "106   2020-03-08\n",
       "107   2020-03-15\n",
       "108   2020-03-22\n",
       "109   2020-03-29\n",
       "Name: Date, Length: 110, dtype: datetime64[ns]"
      ]
     },
     "execution_count": 210,
     "metadata": {},
     "output_type": "execute_result"
    }
   ],
   "source": [
    "X_test['Date']"
   ]
  },
  {
   "cell_type": "code",
   "execution_count": 217,
   "metadata": {},
   "outputs": [
    {
     "data": {
      "text/html": [
       "<div>\n",
       "<style scoped>\n",
       "    .dataframe tbody tr th:only-of-type {\n",
       "        vertical-align: middle;\n",
       "    }\n",
       "\n",
       "    .dataframe tbody tr th {\n",
       "        vertical-align: top;\n",
       "    }\n",
       "\n",
       "    .dataframe thead th {\n",
       "        text-align: right;\n",
       "    }\n",
       "</style>\n",
       "<table border=\"1\" class=\"dataframe\">\n",
       "  <thead>\n",
       "    <tr style=\"text-align: right;\">\n",
       "      <th></th>\n",
       "      <th>Date</th>\n",
       "      <th>returns</th>\n",
       "      <th>ROC_2</th>\n",
       "      <th>ROC_3</th>\n",
       "      <th>ROC_5</th>\n",
       "      <th>ROC_20</th>\n",
       "      <th>ROC_50</th>\n",
       "      <th>abs_returns</th>\n",
       "      <th>atr_5</th>\n",
       "      <th>atr_20</th>\n",
       "      <th>atr_50</th>\n",
       "      <th>shift_returns</th>\n",
       "      <th>pred</th>\n",
       "      <th>direction</th>\n",
       "      <th>res</th>\n",
       "    </tr>\n",
       "  </thead>\n",
       "  <tbody>\n",
       "    <tr>\n",
       "      <th>0</th>\n",
       "      <td>2018-02-25</td>\n",
       "      <td>0.005504</td>\n",
       "      <td>0.047616</td>\n",
       "      <td>-0.005384</td>\n",
       "      <td>-0.022673</td>\n",
       "      <td>0.074788</td>\n",
       "      <td>0.146632</td>\n",
       "      <td>0.005504</td>\n",
       "      <td>0.040435</td>\n",
       "      <td>0.020344</td>\n",
       "      <td>0.014303</td>\n",
       "      <td>NaN</td>\n",
       "      <td>-1.0</td>\n",
       "      <td>NaN</td>\n",
       "      <td>NaN</td>\n",
       "    </tr>\n",
       "    <tr>\n",
       "      <th>1</th>\n",
       "      <td>2018-03-04</td>\n",
       "      <td>-0.020613</td>\n",
       "      <td>-0.015109</td>\n",
       "      <td>0.027003</td>\n",
       "      <td>-0.065306</td>\n",
       "      <td>0.052670</td>\n",
       "      <td>0.123641</td>\n",
       "      <td>0.020613</td>\n",
       "      <td>0.037848</td>\n",
       "      <td>0.021060</td>\n",
       "      <td>0.014686</td>\n",
       "      <td>-0.014495</td>\n",
       "      <td>-1.0</td>\n",
       "      <td>-1.0</td>\n",
       "      <td>0.014495</td>\n",
       "    </tr>\n",
       "    <tr>\n",
       "      <th>2</th>\n",
       "      <td>2018-03-11</td>\n",
       "      <td>0.034806</td>\n",
       "      <td>0.014193</td>\n",
       "      <td>0.019697</td>\n",
       "      <td>0.008809</td>\n",
       "      <td>0.078880</td>\n",
       "      <td>0.172961</td>\n",
       "      <td>0.034806</td>\n",
       "      <td>0.039476</td>\n",
       "      <td>0.022234</td>\n",
       "      <td>0.015170</td>\n",
       "      <td>NaN</td>\n",
       "      <td>-1.0</td>\n",
       "      <td>NaN</td>\n",
       "      <td>NaN</td>\n",
       "    </tr>\n",
       "    <tr>\n",
       "      <th>3</th>\n",
       "      <td>2018-03-18</td>\n",
       "      <td>-0.012480</td>\n",
       "      <td>0.022326</td>\n",
       "      <td>0.001713</td>\n",
       "      <td>0.049329</td>\n",
       "      <td>0.064128</td>\n",
       "      <td>0.152518</td>\n",
       "      <td>0.012480</td>\n",
       "      <td>0.027880</td>\n",
       "      <td>0.022535</td>\n",
       "      <td>0.015321</td>\n",
       "      <td>NaN</td>\n",
       "      <td>-1.0</td>\n",
       "      <td>NaN</td>\n",
       "      <td>NaN</td>\n",
       "    </tr>\n",
       "    <tr>\n",
       "      <th>4</th>\n",
       "      <td>2018-03-25</td>\n",
       "      <td>-0.061346</td>\n",
       "      <td>-0.073826</td>\n",
       "      <td>-0.039020</td>\n",
       "      <td>-0.054129</td>\n",
       "      <td>0.000162</td>\n",
       "      <td>0.094216</td>\n",
       "      <td>0.061346</td>\n",
       "      <td>0.035354</td>\n",
       "      <td>0.026765</td>\n",
       "      <td>0.017810</td>\n",
       "      <td>NaN</td>\n",
       "      <td>1.0</td>\n",
       "      <td>NaN</td>\n",
       "      <td>NaN</td>\n",
       "    </tr>\n",
       "    <tr>\n",
       "      <th>...</th>\n",
       "      <td>...</td>\n",
       "      <td>...</td>\n",
       "      <td>...</td>\n",
       "      <td>...</td>\n",
       "      <td>...</td>\n",
       "      <td>...</td>\n",
       "      <td>...</td>\n",
       "      <td>...</td>\n",
       "      <td>...</td>\n",
       "      <td>...</td>\n",
       "      <td>...</td>\n",
       "      <td>...</td>\n",
       "      <td>...</td>\n",
       "      <td>...</td>\n",
       "      <td>...</td>\n",
       "    </tr>\n",
       "    <tr>\n",
       "      <th>105</th>\n",
       "      <td>2020-03-01</td>\n",
       "      <td>-0.122062</td>\n",
       "      <td>-0.134688</td>\n",
       "      <td>-0.119050</td>\n",
       "      <td>-0.109314</td>\n",
       "      <td>-0.005418</td>\n",
       "      <td>0.045619</td>\n",
       "      <td>0.122062</td>\n",
       "      <td>0.059888</td>\n",
       "      <td>0.031047</td>\n",
       "      <td>0.023140</td>\n",
       "      <td>NaN</td>\n",
       "      <td>-1.0</td>\n",
       "      <td>NaN</td>\n",
       "      <td>NaN</td>\n",
       "    </tr>\n",
       "    <tr>\n",
       "      <th>106</th>\n",
       "      <td>2020-03-08</td>\n",
       "      <td>0.006125</td>\n",
       "      <td>-0.115937</td>\n",
       "      <td>-0.128563</td>\n",
       "      <td>-0.081735</td>\n",
       "      <td>-0.004642</td>\n",
       "      <td>0.059487</td>\n",
       "      <td>0.006125</td>\n",
       "      <td>0.061191</td>\n",
       "      <td>0.031054</td>\n",
       "      <td>0.023117</td>\n",
       "      <td>NaN</td>\n",
       "      <td>-1.0</td>\n",
       "      <td>NaN</td>\n",
       "      <td>NaN</td>\n",
       "    </tr>\n",
       "    <tr>\n",
       "      <th>107</th>\n",
       "      <td>2020-03-15</td>\n",
       "      <td>-0.092035</td>\n",
       "      <td>-0.085910</td>\n",
       "      <td>-0.207972</td>\n",
       "      <td>-0.204959</td>\n",
       "      <td>-0.108776</td>\n",
       "      <td>-0.044505</td>\n",
       "      <td>0.092035</td>\n",
       "      <td>0.062067</td>\n",
       "      <td>0.037032</td>\n",
       "      <td>0.026551</td>\n",
       "      <td>NaN</td>\n",
       "      <td>1.0</td>\n",
       "      <td>NaN</td>\n",
       "      <td>NaN</td>\n",
       "    </tr>\n",
       "    <tr>\n",
       "      <th>108</th>\n",
       "      <td>2020-03-22</td>\n",
       "      <td>-0.162279</td>\n",
       "      <td>-0.254314</td>\n",
       "      <td>-0.248189</td>\n",
       "      <td>-0.382877</td>\n",
       "      <td>-0.285625</td>\n",
       "      <td>-0.227158</td>\n",
       "      <td>0.162279</td>\n",
       "      <td>0.071732</td>\n",
       "      <td>0.050623</td>\n",
       "      <td>0.034838</td>\n",
       "      <td>NaN</td>\n",
       "      <td>1.0</td>\n",
       "      <td>NaN</td>\n",
       "      <td>NaN</td>\n",
       "    </tr>\n",
       "    <tr>\n",
       "      <th>109</th>\n",
       "      <td>2020-03-29</td>\n",
       "      <td>0.097697</td>\n",
       "      <td>-0.064582</td>\n",
       "      <td>-0.156617</td>\n",
       "      <td>-0.272554</td>\n",
       "      <td>-0.196425</td>\n",
       "      <td>-0.134520</td>\n",
       "      <td>0.097697</td>\n",
       "      <td>0.105391</td>\n",
       "      <td>0.056342</td>\n",
       "      <td>0.037704</td>\n",
       "      <td>NaN</td>\n",
       "      <td>-1.0</td>\n",
       "      <td>NaN</td>\n",
       "      <td>NaN</td>\n",
       "    </tr>\n",
       "  </tbody>\n",
       "</table>\n",
       "<p>110 rows × 15 columns</p>\n",
       "</div>"
      ],
      "text/plain": [
       "          Date   returns     ROC_2     ROC_3     ROC_5    ROC_20    ROC_50  \\\n",
       "0   2018-02-25  0.005504  0.047616 -0.005384 -0.022673  0.074788  0.146632   \n",
       "1   2018-03-04 -0.020613 -0.015109  0.027003 -0.065306  0.052670  0.123641   \n",
       "2   2018-03-11  0.034806  0.014193  0.019697  0.008809  0.078880  0.172961   \n",
       "3   2018-03-18 -0.012480  0.022326  0.001713  0.049329  0.064128  0.152518   \n",
       "4   2018-03-25 -0.061346 -0.073826 -0.039020 -0.054129  0.000162  0.094216   \n",
       "..         ...       ...       ...       ...       ...       ...       ...   \n",
       "105 2020-03-01 -0.122062 -0.134688 -0.119050 -0.109314 -0.005418  0.045619   \n",
       "106 2020-03-08  0.006125 -0.115937 -0.128563 -0.081735 -0.004642  0.059487   \n",
       "107 2020-03-15 -0.092035 -0.085910 -0.207972 -0.204959 -0.108776 -0.044505   \n",
       "108 2020-03-22 -0.162279 -0.254314 -0.248189 -0.382877 -0.285625 -0.227158   \n",
       "109 2020-03-29  0.097697 -0.064582 -0.156617 -0.272554 -0.196425 -0.134520   \n",
       "\n",
       "     abs_returns     atr_5    atr_20    atr_50  shift_returns  pred  \\\n",
       "0       0.005504  0.040435  0.020344  0.014303            NaN  -1.0   \n",
       "1       0.020613  0.037848  0.021060  0.014686      -0.014495  -1.0   \n",
       "2       0.034806  0.039476  0.022234  0.015170            NaN  -1.0   \n",
       "3       0.012480  0.027880  0.022535  0.015321            NaN  -1.0   \n",
       "4       0.061346  0.035354  0.026765  0.017810            NaN   1.0   \n",
       "..           ...       ...       ...       ...            ...   ...   \n",
       "105     0.122062  0.059888  0.031047  0.023140            NaN  -1.0   \n",
       "106     0.006125  0.061191  0.031054  0.023117            NaN  -1.0   \n",
       "107     0.092035  0.062067  0.037032  0.026551            NaN   1.0   \n",
       "108     0.162279  0.071732  0.050623  0.034838            NaN   1.0   \n",
       "109     0.097697  0.105391  0.056342  0.037704            NaN  -1.0   \n",
       "\n",
       "     direction       res  \n",
       "0          NaN       NaN  \n",
       "1         -1.0  0.014495  \n",
       "2          NaN       NaN  \n",
       "3          NaN       NaN  \n",
       "4          NaN       NaN  \n",
       "..         ...       ...  \n",
       "105        NaN       NaN  \n",
       "106        NaN       NaN  \n",
       "107        NaN       NaN  \n",
       "108        NaN       NaN  \n",
       "109        NaN       NaN  \n",
       "\n",
       "[110 rows x 15 columns]"
      ]
     },
     "execution_count": 217,
     "metadata": {},
     "output_type": "execute_result"
    }
   ],
   "source": [
    "X_test"
   ]
  },
  {
   "cell_type": "code",
   "execution_count": 196,
   "metadata": {},
   "outputs": [],
   "source": [
    "sp500 = sp500.reset_index()"
   ]
  },
  {
   "cell_type": "code",
   "execution_count": 218,
   "metadata": {},
   "outputs": [
    {
     "name": "stderr",
     "output_type": "stream",
     "text": [
      "C:\\Users\\lexik\\.conda\\envs\\NN\\lib\\site-packages\\pandas\\core\\series.py:679: RuntimeWarning: invalid value encountered in sign\n",
      "  result = getattr(ufunc, method)(*inputs, **kwargs)\n"
     ]
    }
   ],
   "source": [
    "X_test['shift_returns'] = sp500[sp500['Date'].isin(X_test['Date'])]['shift_returns'] #sp500.loc[X_test.reset_index().index]['shift_returns']\n",
    "X_test['pred'] = y_pred\n",
    "X_test['direction'] = np.sign(X_test.shift_returns)\n",
    "X_test['res'] = X_test.shift_returns  * X_test['pred']"
   ]
  },
  {
   "cell_type": "code",
   "execution_count": 219,
   "metadata": {},
   "outputs": [
    {
     "data": {
      "text/plain": [
       "<matplotlib.axes._subplots.AxesSubplot at 0x21db71e0388>"
      ]
     },
     "execution_count": 219,
     "metadata": {},
     "output_type": "execute_result"
    },
    {
     "data": {
      "image/png": "[encoded data removed]",
      "text/plain": [
       "<Figure size 360x360 with 1 Axes>"
      ]
     },
     "metadata": {
      "needs_background": "light"
     },
     "output_type": "display_data"
    }
   ],
   "source": [
    "# 10h\n",
    "(X_test.res.cumsum()).plot()"
   ]
  },
  {
   "cell_type": "code",
   "execution_count": 215,
   "metadata": {},
   "outputs": [
    {
     "data": {
      "text/plain": [
       "<matplotlib.axes._subplots.AxesSubplot at 0x21db7059548>"
      ]
     },
     "execution_count": 215,
     "metadata": {},
     "output_type": "execute_result"
    },
    {
     "data": {
      "image/png": "[encoded data removed]",
      "text/plain": [
       "<Figure size 360x360 with 1 Axes>"
      ]
     },
     "metadata": {
      "needs_background": "light"
     },
     "output_type": "display_data"
    }
   ],
   "source": [
    "X_test.reset_index().shift_returns.cumsum().plot()"
   ]
  },
  {
   "cell_type": "code",
   "execution_count": 216,
   "metadata": {},
   "outputs": [
    {
     "data": {
      "text/plain": [
       "<matplotlib.axes._subplots.AxesSubplot at 0x21db71790c8>"
      ]
     },
     "execution_count": 216,
     "metadata": {},
     "output_type": "execute_result"
    },
    {
     "data": {
      "image/png": "[encoded data removed]",
      "text/plain": [
       "<Figure size 360x360 with 1 Axes>"
      ]
     },
     "metadata": {
      "needs_background": "light"
     },
     "output_type": "display_data"
    }
   ],
   "source": [
    "X_test.reset_index().returns.cumsum().plot()"
   ]
  },
  {
   "cell_type": "code",
   "execution_count": 32,
   "metadata": {},
   "outputs": [],
   "source": [
    "\n",
    "# use PCA custering to improve accuracy of results"
   ]
  },
  {
   "cell_type": "code",
   "execution_count": 69,
   "metadata": {},
   "outputs": [],
   "source": [
    "def apply_pca(X_):\n",
    "    \n",
    "    pca = PCA(n_components=3,  random_state=40)\n",
    "\n",
    "    pca_X = pca.fit_transform(X_.fillna(0)) \n",
    "\n",
    "    #print(pca.explained_variance_ratio_)\n",
    "\n",
    "    #print(pca.singular_values_)\n",
    "    pca_X = pd.DataFrame(pca_X, columns=['p1', 'p2', 'p3'])\n",
    "    return pca_X\n",
    "\n",
    "def kmeans(pca_X_, n_clusters):\n",
    "    kmeans = KMeans(n_clusters, random_state=40).fit(pca_X_)\n",
    "    \n",
    "\n",
    "    y_ = kmeans.predict(pca_X_)\n",
    "    #kmeans.labels_\n",
    "    #kmeans.cluster_centers_\n",
    "    return y_\n",
    "\n",
    "def evaluate(df_, cond, cluster,  n_clusters, sampling, idx):\n",
    "    \n",
    "    count = df_[(df_.entry==1) & cond ].reset_index().val.count()\n",
    "    prop = df_[(df_.entry==1) & cond & (df.val > 0) ].val.count() / ( df[(df.entry==1) & cond & (df.val > 0) ].val.count() + df[(df.entry==1) & cond & (df.val < 0) ].val.count())\n",
    "    total_ret = df_[(df_.entry==1) & cond ].reset_index().val.sum()\n",
    "    sharpe_ratio = (252* df_[(df_.entry==1) & cond ].reset_index().val.mean()) / (df_[(df_.entry==1) & cond ].reset_index().val.std() * np.sqrt(252)) \n",
    "    profit_factor = df_[(df_.entry==1) & (cond) & (df_.val > 0)].val.sum() / df_[(df_.entry==1) & cond & (df_.val < 0)].val.abs().sum()\n",
    "    \n",
    "    max_drw = df_[(df_.entry==1) & cond ].reset_index().val.cumsum().min()\n",
    "    max_rsk = df_[(df_.entry==1) & cond ].reset_index().val.min()\n",
    "    volat = df_[(df_.entry==1) & cond ].reset_index().val.std() * np.sqrt(252)\n",
    "    \n",
    "    plots_idx[str(idx)+'_'+str(x)] = df_[(df_.entry==1) & cond ].reset_index().val.cumsum()\n",
    "    \n",
    "    return (count, prop, total_ret, sharpe_ratio, profit_factor, max_drw, max_rsk, volat, idx,   n_clusters, cluster,  ','.join(sampling))\n"
   ]
  },
  {
   "cell_type": "code",
   "execution_count": 70,
   "metadata": {},
   "outputs": [
    {
     "data": {
      "text/plain": [
       "Index(['Close', 'Open', 'High', 'Low', 'Volume', 'Change', 'price', 'returns',\n",
       "       'ROC_2', 'ROC_3', 'ROC_5', 'ROC_20', 'ROC_50', 'abs_returns', 'atr_5',\n",
       "       'atr_20', 'atr_50', 'range', 'adj_close'],\n",
       "      dtype='object')"
      ]
     },
     "execution_count": 70,
     "metadata": {},
     "output_type": "execute_result"
    }
   ],
   "source": [
    "X_train.columns"
   ]
  },
  {
   "cell_type": "code",
   "execution_count": 153,
   "metadata": {},
   "outputs": [
    {
     "name": "stderr",
     "output_type": "stream",
     "text": [
      "C:\\Users\\lexik\\.conda\\envs\\NN\\lib\\site-packages\\ipykernel_launcher.py:6: SettingWithCopyWarning: \n",
      "A value is trying to be set on a copy of a slice from a DataFrame.\n",
      "Try using .loc[row_indexer,col_indexer] = value instead\n",
      "\n",
      "See the caveats in the documentation: https://pandas.pydata.org/pandas-docs/stable/user_guide/indexing.html#returning-a-view-versus-a-copy\n",
      "  \n"
     ]
    }
   ],
   "source": [
    "cols = ['ROC_20', 'ROC_50', 'atr_20', 'atr_50']\n",
    "pca_X = apply_pca(X_train[cols])\n",
    "kmeans = KMeans(6, random_state=40).fit(pca_X)\n",
    "pca_X = apply_pca(X_test[cols])\n",
    "clusters = kmeans.predict(pca_X)\n",
    "X_test['clusters'] = clusters"
   ]
  },
  {
   "cell_type": "code",
   "execution_count": null,
   "metadata": {},
   "outputs": [],
   "source": []
  },
  {
   "cell_type": "code",
   "execution_count": 154,
   "metadata": {},
   "outputs": [
    {
     "data": {
      "text/plain": [
       "<matplotlib.axes._subplots.AxesSubplot at 0x18f27ca4bc8>"
      ]
     },
     "execution_count": 154,
     "metadata": {},
     "output_type": "execute_result"
    },
    {
     "data": {
      "image/png": "[encoded data removed]",
      "text/plain": [
       "<Figure size 432x288 with 1 Axes>"
      ]
     },
     "metadata": {
      "needs_background": "light"
     },
     "output_type": "display_data"
    }
   ],
   "source": [
    "X_test.reset_index().clusters.plot()"
   ]
  },
  {
   "cell_type": "code",
   "execution_count": 155,
   "metadata": {},
   "outputs": [
    {
     "data": {
      "text/plain": [
       "<matplotlib.axes._subplots.AxesSubplot at 0x18f27ce94c8>"
      ]
     },
     "execution_count": 155,
     "metadata": {},
     "output_type": "execute_result"
    },
    {
     "data": {
      "image/png": "[encoded data removed]",
      "text/plain": [
       "<Figure size 432x288 with 1 Axes>"
      ]
     },
     "metadata": {
      "needs_background": "light"
     },
     "output_type": "display_data"
    }
   ],
   "source": [
    "X_test[X_test.clusters==1].reset_index().res.cumsum().plot()"
   ]
  },
  {
   "cell_type": "code",
   "execution_count": 144,
   "metadata": {},
   "outputs": [
    {
     "name": "stderr",
     "output_type": "stream",
     "text": [
      "C:\\Users\\lexik\\.conda\\envs\\NN\\lib\\site-packages\\ipykernel_launcher.py:1: SettingWithCopyWarning: \n",
      "A value is trying to be set on a copy of a slice from a DataFrame.\n",
      "Try using .loc[row_indexer,col_indexer] = value instead\n",
      "\n",
      "See the caveats in the documentation: https://pandas.pydata.org/pandas-docs/stable/user_guide/indexing.html#returning-a-view-versus-a-copy\n",
      "  \"\"\"Entry point for launching an IPython kernel.\n"
     ]
    }
   ],
   "source": [
    "X_test['res_bin'] = np.sign(X_test.res)"
   ]
  },
  {
   "cell_type": "code",
   "execution_count": 146,
   "metadata": {},
   "outputs": [
    {
     "name": "stdout",
     "output_type": "stream",
     "text": [
      "AxesSubplot(0.125,0.125;0.775x0.755)\n"
     ]
    },
    {
     "data": {
      "image/png": "[encoded data removed]",
      "text/plain": [
       "<Figure size 432x288 with 1 Axes>"
      ]
     },
     "metadata": {
      "needs_background": "light"
     },
     "output_type": "display_data"
    }
   ],
   "source": [
    "print(X_test[X_test.clusters==1].res_bin.hist())"
   ]
  },
  {
   "cell_type": "code",
   "execution_count": 167,
   "metadata": {},
   "outputs": [
    {
     "data": {
      "text/html": [
       "<div>\n",
       "<style scoped>\n",
       "    .dataframe tbody tr th:only-of-type {\n",
       "        vertical-align: middle;\n",
       "    }\n",
       "\n",
       "    .dataframe tbody tr th {\n",
       "        vertical-align: top;\n",
       "    }\n",
       "\n",
       "    .dataframe thead th {\n",
       "        text-align: right;\n",
       "    }\n",
       "</style>\n",
       "<table border=\"1\" class=\"dataframe\">\n",
       "  <thead>\n",
       "    <tr style=\"text-align: right;\">\n",
       "      <th></th>\n",
       "      <th>Close</th>\n",
       "      <th>Open</th>\n",
       "      <th>High</th>\n",
       "      <th>Low</th>\n",
       "      <th>Volume</th>\n",
       "      <th>Change</th>\n",
       "      <th>price</th>\n",
       "      <th>returns</th>\n",
       "      <th>ROC_2</th>\n",
       "      <th>ROC_3</th>\n",
       "      <th>...</th>\n",
       "      <th>atr_20</th>\n",
       "      <th>atr_50</th>\n",
       "      <th>range</th>\n",
       "      <th>adj_close</th>\n",
       "      <th>shift_returns</th>\n",
       "      <th>pred</th>\n",
       "      <th>direction</th>\n",
       "      <th>res</th>\n",
       "      <th>clusters</th>\n",
       "      <th>res_bin</th>\n",
       "    </tr>\n",
       "    <tr>\n",
       "      <th>res_bin</th>\n",
       "      <th></th>\n",
       "      <th></th>\n",
       "      <th></th>\n",
       "      <th></th>\n",
       "      <th></th>\n",
       "      <th></th>\n",
       "      <th></th>\n",
       "      <th></th>\n",
       "      <th></th>\n",
       "      <th></th>\n",
       "      <th></th>\n",
       "      <th></th>\n",
       "      <th></th>\n",
       "      <th></th>\n",
       "      <th></th>\n",
       "      <th></th>\n",
       "      <th></th>\n",
       "      <th></th>\n",
       "      <th></th>\n",
       "      <th></th>\n",
       "      <th></th>\n",
       "    </tr>\n",
       "  </thead>\n",
       "  <tbody>\n",
       "    <tr>\n",
       "      <th>-1.0</th>\n",
       "      <td>3</td>\n",
       "      <td>3</td>\n",
       "      <td>3</td>\n",
       "      <td>3</td>\n",
       "      <td>3</td>\n",
       "      <td>3</td>\n",
       "      <td>3</td>\n",
       "      <td>3</td>\n",
       "      <td>3</td>\n",
       "      <td>3</td>\n",
       "      <td>...</td>\n",
       "      <td>3</td>\n",
       "      <td>3</td>\n",
       "      <td>3</td>\n",
       "      <td>3</td>\n",
       "      <td>3</td>\n",
       "      <td>3</td>\n",
       "      <td>3</td>\n",
       "      <td>3</td>\n",
       "      <td>3</td>\n",
       "      <td>3</td>\n",
       "    </tr>\n",
       "    <tr>\n",
       "      <th>1.0</th>\n",
       "      <td>4</td>\n",
       "      <td>4</td>\n",
       "      <td>4</td>\n",
       "      <td>4</td>\n",
       "      <td>4</td>\n",
       "      <td>4</td>\n",
       "      <td>4</td>\n",
       "      <td>4</td>\n",
       "      <td>4</td>\n",
       "      <td>4</td>\n",
       "      <td>...</td>\n",
       "      <td>4</td>\n",
       "      <td>4</td>\n",
       "      <td>4</td>\n",
       "      <td>4</td>\n",
       "      <td>4</td>\n",
       "      <td>4</td>\n",
       "      <td>4</td>\n",
       "      <td>4</td>\n",
       "      <td>4</td>\n",
       "      <td>4</td>\n",
       "    </tr>\n",
       "  </tbody>\n",
       "</table>\n",
       "<p>2 rows × 25 columns</p>\n",
       "</div>"
      ],
      "text/plain": [
       "         Close  Open  High  Low  Volume  Change  price  returns  ROC_2  ROC_3  \\\n",
       "res_bin                                                                         \n",
       "-1.0         3     3     3    3       3       3      3        3      3      3   \n",
       " 1.0         4     4     4    4       4       4      4        4      4      4   \n",
       "\n",
       "         ...  atr_20  atr_50  range  adj_close  shift_returns  pred  \\\n",
       "res_bin  ...                                                          \n",
       "-1.0     ...       3       3      3          3              3     3   \n",
       " 1.0     ...       4       4      4          4              4     4   \n",
       "\n",
       "         direction  res  clusters  res_bin  \n",
       "res_bin                                     \n",
       "-1.0             3    3         3        3  \n",
       " 1.0             4    4         4        4  \n",
       "\n",
       "[2 rows x 25 columns]"
      ]
     },
     "execution_count": 167,
     "metadata": {},
     "output_type": "execute_result"
    }
   ],
   "source": [
    "X_test[X_test.clusters==5].groupby(X_test.res_bin).count()"
   ]
  },
  {
   "cell_type": "code",
   "execution_count": 169,
   "metadata": {},
   "outputs": [
    {
     "data": {
      "text/plain": [
       "0.5714285714285714"
      ]
     },
     "execution_count": 169,
     "metadata": {},
     "output_type": "execute_result"
    }
   ],
   "source": [
    "4 / (3+4)"
   ]
  },
  {
   "cell_type": "code",
   "execution_count": 152,
   "metadata": {},
   "outputs": [
    {
     "data": {
      "text/plain": [
       "0.603448275862069"
      ]
     },
     "execution_count": 152,
     "metadata": {},
     "output_type": "execute_result"
    }
   ],
   "source": [
    "35/(35+23)"
   ]
  },
  {
   "cell_type": "code",
   "execution_count": 106,
   "metadata": {},
   "outputs": [
    {
     "data": {
      "text/plain": [
       "0.7"
      ]
     },
     "execution_count": 106,
     "metadata": {},
     "output_type": "execute_result"
    }
   ],
   "source": [
    "#0\n",
    "17.5/(17.5+7.5)"
   ]
  },
  {
   "cell_type": "code",
   "execution_count": 109,
   "metadata": {},
   "outputs": [
    {
     "data": {
      "text/plain": [
       "0.5833333333333334"
      ]
     },
     "execution_count": 109,
     "metadata": {},
     "output_type": "execute_result"
    }
   ],
   "source": [
    "# 1\n",
    "14/(10+14)"
   ]
  },
  {
   "cell_type": "code",
   "execution_count": 111,
   "metadata": {},
   "outputs": [
    {
     "data": {
      "text/plain": [
       "0.5357142857142857"
      ]
     },
     "execution_count": 111,
     "metadata": {},
     "output_type": "execute_result"
    }
   ],
   "source": [
    "# 2\n",
    "30 / (30+26)"
   ]
  },
  {
   "cell_type": "code",
   "execution_count": 68,
   "metadata": {},
   "outputs": [],
   "source": [
    "# swithc from Xgboost to LSTM\n",
    "# test\n",
    "# swithc from PCA to VAE\n",
    "# do backtesting step by step"
   ]
  },
  {
   "cell_type": "code",
   "execution_count": 170,
   "metadata": {},
   "outputs": [
    {
     "data": {
      "text/plain": [
       "'\\nbacktesting:\\n1. momentum and mean-reversal strategies\\n2. MAs cross-over\\n3. ML prediction returns aggregation\\n4. ML prediction + regime returns aggregation\\n5. Adding stop losses and tp to optimize returns of ML model\\n\\n'"
      ]
     },
     "execution_count": 170,
     "metadata": {},
     "output_type": "execute_result"
    }
   ],
   "source": [
    "\"\"\"\n",
    "backtesting:\n",
    "1. momentum and mean-reversal strategies\n",
    "2. MAs cross-over\n",
    "3. ML prediction returns aggregation\n",
    "4. ML prediction + regime returns aggregation\n",
    "5. Adding stop losses and tp to optimize returns of ML model\n",
    "\n",
    "\"\"\""
   ]
  },
  {
   "cell_type": "code",
   "execution_count": 171,
   "metadata": {},
   "outputs": [],
   "source": [
    "# ppt and prepare visualizations"
   ]
  },
  {
   "cell_type": "code",
   "execution_count": null,
   "metadata": {},
   "outputs": [],
   "source": []
  }
 ],
 "metadata": {
  "kernelspec": {
   "display_name": "Python 3",
   "language": "python",
   "name": "python3"
  },
  "language_info": {
   "codemirror_mode": {
    "name": "ipython",
    "version": 3
   },
   "file_extension": ".py",
   "mimetype": "text/x-python",
   "name": "python",
   "nbconvert_exporter": "python",
   "pygments_lexer": "ipython3",
   "version": "3.7.7"
  }
 },
 "nbformat": 4,
 "nbformat_minor": 4
}
