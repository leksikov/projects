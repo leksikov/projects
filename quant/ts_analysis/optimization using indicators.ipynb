{
 "cells": [
  {
   "cell_type": "code",
   "execution_count": 6,
   "metadata": {},
   "outputs": [],
   "source": [
    "import numpy as np\n",
    "import pandas as pd\n",
    "import rwi"
   ]
  },
  {
   "cell_type": "code",
   "execution_count": 691,
   "metadata": {},
   "outputs": [],
   "source": [
    "def momentum_strategy(ts, period, type_ret):\n",
    "    \n",
    "    ts['returns'] = ts[['Close']].pct_change(period).fillna(0)\n",
    "    ts['returns2'] = ts[['Close']].pct_change(period).fillna(0).shift(period).fillna(0)\n",
    "    \n",
    "    ts['entry'] = np.sign(ts['returns'] * ts.returns2) # signal\n",
    "    #ts['entry'] = ts['entry'].shift(1).fillna(0)\n",
    "    ts['direction'] = np.sign(ts.returns) # signal up, down\n",
    "    ts['shift_returns'] = ts.returns.shift(-1).fillna(0)\n",
    "    ts['shift_Change'] = ts['Change'].shift(-1).fillna(0)\n",
    "    if type_ret == 1:\n",
    "        ts['val'] = ts.shift_returns * ts.direction\n",
    "    else:\n",
    "        ts['val'] = ts.shift_Change * ts.direction\n",
    "    return ts #ts[(ts.entry==1) & (ts.val > 0) ].val.sum() / (ts[(ts.entry==1) & (ts.val < 0) ].val.abs().sum())  #.dropna()\n",
    "\n",
    "def mean_reversal(ts, period, type_ret):\n",
    "    \n",
    "    ts['returns'] = ts[['Close']].pct_change(period).fillna(0)\n",
    "    ts['returns2'] = ts[['Close']].pct_change(period).fillna(0).shift(period).fillna(0)\n",
    "    \n",
    "    ts['entry'] = np.sign(ts['returns'] * ts.returns2) * (-1) # signal\n",
    "    #ts['entry'] = ts['entry'].shift(1).fillna(0)\n",
    "    ts['direction'] = np.sign(ts.returns * (-1)) # signal up, down\n",
    "    ts['shift_returns'] = ts.returns.shift(-1).fillna(0)\n",
    "    ts['shift_Change'] = ts['Change'].shift(-1).fillna(0)\n",
    "    ts['val'] = ts.shift_returns * ts.direction\n",
    "    if type_ret == 1:\n",
    "        ts['val'] = ts.shift_returns * ts.direction - (0.03/100.0)\n",
    "    else:\n",
    "        ts['val'] = ts.shift_Change * ts.direction  - (0.03/100.0)\n",
    "    return ts #ts[(ts.entry==1) & (ts.val > 0) ].val.sum() / (ts[(ts.entry==1) & (ts.val < 0) ].val.abs().sum())  #.dropna()\n",
    "\n",
    "\n",
    "def mean_reversal2(ts, period, type_ret):\n",
    "    \n",
    "    ts['returns'] = ts[['Close']].pct_change(period).fillna(0)\n",
    "    ts['returns2'] = ts[['Close']].pct_change(period).fillna(0).shift(period).fillna(0)\n",
    "    \n",
    "    ts['entry'] = np.sign(ts['returns'] * ts.returns2)  # signal\n",
    "    #ts['entry'] = ts['entry'].shift(1).fillna(0)\n",
    "    ts['direction'] = np.sign(ts.returns * (-1)) # signal up, down\n",
    "    ts['shift_returns'] = ts.returns.shift(-1).fillna(0)\n",
    "    ts['shift_Change'] = ts['Change'].shift(-1).fillna(0)\n",
    "    ts['val'] = ts.shift_returns * ts.direction\n",
    "    if type_ret == 1:\n",
    "        ts['val'] = ts.shift_returns * ts.direction\n",
    "    else:\n",
    "        ts['val'] = ts.shift_Change * ts.direction\n",
    "    return ts #ts[(ts.entry==1) & (ts.val > 0) ].val.sum() / (ts[(ts.entry==1) & (ts.val < 0) ].val.abs().sum())  #.dropna()\n",
    "\n",
    "def ma_crossover(df_, a, b):\n",
    "\n",
    "    df_ = df_[['Close']]\n",
    "    df_['returns'] = df_['Close'].pct_change().fillna(0)\n",
    "    df_['shift_returns'] = df_['Close'].pct_change().shift(-1).fillna(0)\n",
    "    df_['sma'] = df_['Close'].rolling(a).mean().fillna(0)\n",
    "    df_['smb'] = df_['Close'].rolling(b).mean().fillna(0)\n",
    "    df_['signal'] = np.sign(df_.sma-df_.smb).diff().fillna(0)\n",
    "    df_['sig_up'] = df_['signal'].cumsum().apply(lambda x:x*(x>0))\n",
    "    df_['sig_dwn'] = df_['signal'].cumsum().apply(lambda x:x*(x<0))\n",
    "    df_['val'] = df_.returns * df_.sig_up + df_.returns * df_.sig_dwn\n",
    "    df_['pnls'] = np.cumsum(df_.returns * df_.sig_up + df_.returns * df_.sig_dwn)\n",
    "    \n",
    "    return df_"
   ]
  },
  {
   "cell_type": "code",
   "execution_count": 692,
   "metadata": {},
   "outputs": [],
   "source": [
    "def load_df(name):\n",
    "    eurusd_df = pd.read_csv(name)\n",
    "    eurusd_df = eurusd_df.rename(columns={'<TICKER>':'Ticker', '<DTYYYYMMDD>':'Date', '<TIME>':'Time', '<OPEN>':'Open', '<HIGH>':'High', '<LOW>':'Low', '<CLOSE>':'Close', '<VOL>':'Vol'})\n",
    "    eurusd_df[['Date']] = pd.to_datetime(eurusd_df['Date'].astype('str'), yearfirst=True)\n",
    "    eurusd_df =eurusd_df.sort_values(by=['Date', 'Time'])\n",
    "    eur_df = eurusd_df[['Date', 'Time', 'Close', 'Open', 'High', 'Low', 'Vol']].rename(columns={'Close':'Close'})\n",
    "    eur_df['Change'] = eur_df['Close'].pct_change()\n",
    "    eur_df.dropna(inplace=True)\n",
    "    #eur_df = eur_df[eur_df.Date>'2020-01-01']\n",
    "    #eur_df = eur_df.set_index('Date')\n",
    "    return eur_df"
   ]
  },
  {
   "cell_type": "code",
   "execution_count": 734,
   "metadata": {},
   "outputs": [],
   "source": [
    "name='../dataset/eurusd_fxcm/eurusd_60min.csv'\n",
    "eur_df = load_df(name)\n",
    "eur_df = eur_df.set_index('Date')\n",
    "eur_df.drop(columns=['Time'], inplace=True)"
   ]
  },
  {
   "cell_type": "code",
   "execution_count": 735,
   "metadata": {},
   "outputs": [],
   "source": [
    "eur_df['price'] = eur_df['Close']"
   ]
  },
  {
   "cell_type": "code",
   "execution_count": 736,
   "metadata": {},
   "outputs": [],
   "source": [
    "eur_df = rwi.generate_features(eur_df)"
   ]
  },
  {
   "cell_type": "code",
   "execution_count": 748,
   "metadata": {},
   "outputs": [],
   "source": [
    "df = mean_reversal2(eur_df, 1, 1).fillna(0)"
   ]
  },
  {
   "cell_type": "code",
   "execution_count": 749,
   "metadata": {},
   "outputs": [],
   "source": [
    "df['atr_14'] = df.returns.rolling(14).std().fillna(0)\n",
    "df['atr_50'] = df.returns.rolling(50).std().fillna(0)\n",
    "df['atr_200'] = df.returns.rolling(200).std().fillna(0)"
   ]
  },
  {
   "cell_type": "code",
   "execution_count": 750,
   "metadata": {},
   "outputs": [],
   "source": [
    "stats_list = ['mean', 'median', 'mean+std', 'mean+2std', 'midrange', 'mean-std', 'mean-2std']"
   ]
  },
  {
   "cell_type": "code",
   "execution_count": 751,
   "metadata": {},
   "outputs": [],
   "source": [
    "op_list = ['above', 'below']"
   ]
  },
  {
   "cell_type": "code",
   "execution_count": 752,
   "metadata": {},
   "outputs": [],
   "source": [
    "ind_list = ['ROC_2', 'ROC_3', 'ROC_5', 'ROC_20', 'ROC_50', 'ROC_100', 'ROC_200',  'ROC_500', 'abs_returns',  'atr_14', 'atr_50', 'atr_200']"
   ]
  },
  {
   "cell_type": "code",
   "execution_count": 753,
   "metadata": {},
   "outputs": [],
   "source": [
    "import itertools\n",
    "s=[ stats_list, op_list, ind_list ]\n",
    "comb_lst = list(itertools.product(*s))"
   ]
  },
  {
   "cell_type": "code",
   "execution_count": 754,
   "metadata": {},
   "outputs": [],
   "source": [
    "def thresh(df_, thresh_val):\n",
    "    if thresh_val == 'mean':\n",
    "        return df_.mean()\n",
    "    \n",
    "    elif thresh_val == 'median':\n",
    "        return df_.median()\n",
    "    \n",
    "    elif thresh_val == 'mean+std':\n",
    "        return df_.mean() + df_.std()\n",
    "    \n",
    "    elif thresh_val == 'mean+2std':\n",
    "        return df_.mean() + 2.0 * df_.std()\n",
    "    \n",
    "    elif thresh_val == 'midrange':\n",
    "        return (df_.max() + df_.min())/2.0\n",
    "    \n",
    "    elif thresh_val == 'mean-std':\n",
    "        return df_.mean() -  df_.std()\n",
    "    \n",
    "    elif thresh_val == 'mean-2std':\n",
    "        return df_.mean() -  2.0 * df_.std()\n",
    "    \n",
    "def operation(df_, op_, thresh_val):\n",
    "    \n",
    "    if op_ == 'above':\n",
    "        return df_ > thresh(df_, thresh_val)\n",
    "    elif op_ == 'below':\n",
    "        return df_ < thresh(df_, thresh_val)\n",
    "\n",
    "    else:\n",
    "        return 1\n",
    "    \n",
    "plots_idx = {}\n",
    "\n",
    "def evaluate(df_, cond, stat, op, ind):\n",
    "    \n",
    "    count = df_[(df_.entry==1) & cond ].reset_index().val.count()\n",
    "    prop = df_[(df_.entry==1) & cond & (df.val > 0) ].val.count() / ( df[(df.entry==1) & cond & (df.val > 0) ].val.count() + df[(df.entry==1) & cond & (df.val < 0) ].val.count())\n",
    "    total_ret = df_[(df_.entry==1) & cond ].reset_index().val.sum()\n",
    "    sharpe_ratio = (252* df_[(df_.entry==1) & cond ].reset_index().val.mean()) / (df_[(df_.entry==1) & cond ].reset_index().val.std() * np.sqrt(252)) \n",
    "    profit_factor = df_[(df_.entry==1) & (cond) & (df_.val > 0)].val.sum() / df_[(df_.entry==1) & cond & (df_.val < 0)].val.abs().sum()\n",
    "    \n",
    "    max_drw = df_[(df_.entry==1) & cond ].reset_index().val.cumsum().min()\n",
    "    max_rsk = df_[(df_.entry==1) & cond ].reset_index().val.min()\n",
    "    volat = df_[(df_.entry==1) & cond ].reset_index().val.std() * np.sqrt(252)\n",
    "    \n",
    "    plots_idx[ind+'_'+stat+'_'+op] = df_[(df_.entry==1) & cond ].reset_index().val.cumsum()\n",
    "    \n",
    "    return (count, prop, total_ret, sharpe_ratio, profit_factor, max_drw, max_rsk, volat, ind, stat,  op)\n",
    "\n",
    "def plot_perf(df_, cond):\n",
    "    return df_[(df_.entry==1) & cond ].reset_index().val.cumsum().plot()\n",
    "\n",
    "def driver(df_, comb_lst):\n",
    "    results = []\n",
    "    for stat, op, ind in comb_lst:\n",
    "        \n",
    "        \n",
    "\n",
    "        cond = operation(df_[ind], op, stat)\n",
    "        res = evaluate(df_, cond, stat, op, ind)\n",
    "        \n",
    "        results.append(res)\n",
    "    return results\n"
   ]
  },
  {
   "cell_type": "code",
   "execution_count": 755,
   "metadata": {},
   "outputs": [
    {
     "name": "stderr",
     "output_type": "stream",
     "text": [
      "C:\\Users\\lexik\\.conda\\envs\\quant\\lib\\site-packages\\ipykernel_launcher.py:38: RuntimeWarning: invalid value encountered in long_scalars\n",
      "C:\\Users\\lexik\\.conda\\envs\\quant\\lib\\site-packages\\ipykernel_launcher.py:41: RuntimeWarning: invalid value encountered in double_scalars\n"
     ]
    }
   ],
   "source": [
    "%timeit\n",
    "res_df = pd.DataFrame(driver(df, comb_lst), columns=['count', 'prop', 'total_ret', 'sharpe_ratio', 'profit_factor', 'max_drw', 'max_rsk', 'volat', 'ind', 'stat', 'op'])"
   ]
  },
  {
   "cell_type": "code",
   "execution_count": 756,
   "metadata": {},
   "outputs": [],
   "source": [
    "res_df['graph'] = res_df['ind'] + '_' + res_df['stat'] + '_' + res_df['op']\n",
    "res_df = res_df.replace([np.inf, -np.inf], np.nan)\n",
    "res_df.dropna(inplace=True)\n",
    "res_df = res_df[res_df['count'] > 200]"
   ]
  },
  {
   "cell_type": "code",
   "execution_count": 757,
   "metadata": {},
   "outputs": [
    {
     "data": {
      "text/html": [
       "<div>\n",
       "<style scoped>\n",
       "    .dataframe tbody tr th:only-of-type {\n",
       "        vertical-align: middle;\n",
       "    }\n",
       "\n",
       "    .dataframe tbody tr th {\n",
       "        vertical-align: top;\n",
       "    }\n",
       "\n",
       "    .dataframe thead th {\n",
       "        text-align: right;\n",
       "    }\n",
       "</style>\n",
       "<table border=\"1\" class=\"dataframe\">\n",
       "  <thead>\n",
       "    <tr style=\"text-align: right;\">\n",
       "      <th></th>\n",
       "      <th>count</th>\n",
       "      <th>prop</th>\n",
       "      <th>total_ret</th>\n",
       "      <th>sharpe_ratio</th>\n",
       "      <th>profit_factor</th>\n",
       "      <th>max_drw</th>\n",
       "      <th>max_rsk</th>\n",
       "      <th>volat</th>\n",
       "    </tr>\n",
       "  </thead>\n",
       "  <tbody>\n",
       "    <tr>\n",
       "      <th>count</th>\n",
       "      <td>1.000000</td>\n",
       "      <td>0.035279</td>\n",
       "      <td>0.951935</td>\n",
       "      <td>0.152933</td>\n",
       "      <td>0.181962</td>\n",
       "      <td>-0.571331</td>\n",
       "      <td>-0.589409</td>\n",
       "      <td>-0.630673</td>\n",
       "    </tr>\n",
       "    <tr>\n",
       "      <th>prop</th>\n",
       "      <td>0.035279</td>\n",
       "      <td>1.000000</td>\n",
       "      <td>0.213458</td>\n",
       "      <td>0.624406</td>\n",
       "      <td>0.618324</td>\n",
       "      <td>0.306666</td>\n",
       "      <td>0.188615</td>\n",
       "      <td>-0.103565</td>\n",
       "    </tr>\n",
       "    <tr>\n",
       "      <th>total_ret</th>\n",
       "      <td>0.951935</td>\n",
       "      <td>0.213458</td>\n",
       "      <td>1.000000</td>\n",
       "      <td>0.349102</td>\n",
       "      <td>0.371869</td>\n",
       "      <td>-0.485131</td>\n",
       "      <td>-0.494623</td>\n",
       "      <td>-0.618801</td>\n",
       "    </tr>\n",
       "    <tr>\n",
       "      <th>sharpe_ratio</th>\n",
       "      <td>0.152933</td>\n",
       "      <td>0.624406</td>\n",
       "      <td>0.349102</td>\n",
       "      <td>1.000000</td>\n",
       "      <td>0.995677</td>\n",
       "      <td>0.175321</td>\n",
       "      <td>0.314511</td>\n",
       "      <td>-0.332161</td>\n",
       "    </tr>\n",
       "    <tr>\n",
       "      <th>profit_factor</th>\n",
       "      <td>0.181962</td>\n",
       "      <td>0.618324</td>\n",
       "      <td>0.371869</td>\n",
       "      <td>0.995677</td>\n",
       "      <td>1.000000</td>\n",
       "      <td>0.159212</td>\n",
       "      <td>0.307435</td>\n",
       "      <td>-0.359921</td>\n",
       "    </tr>\n",
       "    <tr>\n",
       "      <th>max_drw</th>\n",
       "      <td>-0.571331</td>\n",
       "      <td>0.306666</td>\n",
       "      <td>-0.485131</td>\n",
       "      <td>0.175321</td>\n",
       "      <td>0.159212</td>\n",
       "      <td>1.000000</td>\n",
       "      <td>0.540388</td>\n",
       "      <td>0.260520</td>\n",
       "    </tr>\n",
       "    <tr>\n",
       "      <th>max_rsk</th>\n",
       "      <td>-0.589409</td>\n",
       "      <td>0.188615</td>\n",
       "      <td>-0.494623</td>\n",
       "      <td>0.314511</td>\n",
       "      <td>0.307435</td>\n",
       "      <td>0.540388</td>\n",
       "      <td>1.000000</td>\n",
       "      <td>0.208126</td>\n",
       "    </tr>\n",
       "    <tr>\n",
       "      <th>volat</th>\n",
       "      <td>-0.630673</td>\n",
       "      <td>-0.103565</td>\n",
       "      <td>-0.618801</td>\n",
       "      <td>-0.332161</td>\n",
       "      <td>-0.359921</td>\n",
       "      <td>0.260520</td>\n",
       "      <td>0.208126</td>\n",
       "      <td>1.000000</td>\n",
       "    </tr>\n",
       "  </tbody>\n",
       "</table>\n",
       "</div>"
      ],
      "text/plain": [
       "                  count      prop  total_ret  sharpe_ratio  profit_factor  \\\n",
       "count          1.000000  0.035279   0.951935      0.152933       0.181962   \n",
       "prop           0.035279  1.000000   0.213458      0.624406       0.618324   \n",
       "total_ret      0.951935  0.213458   1.000000      0.349102       0.371869   \n",
       "sharpe_ratio   0.152933  0.624406   0.349102      1.000000       0.995677   \n",
       "profit_factor  0.181962  0.618324   0.371869      0.995677       1.000000   \n",
       "max_drw       -0.571331  0.306666  -0.485131      0.175321       0.159212   \n",
       "max_rsk       -0.589409  0.188615  -0.494623      0.314511       0.307435   \n",
       "volat         -0.630673 -0.103565  -0.618801     -0.332161      -0.359921   \n",
       "\n",
       "                max_drw   max_rsk     volat  \n",
       "count         -0.571331 -0.589409 -0.630673  \n",
       "prop           0.306666  0.188615 -0.103565  \n",
       "total_ret     -0.485131 -0.494623 -0.618801  \n",
       "sharpe_ratio   0.175321  0.314511 -0.332161  \n",
       "profit_factor  0.159212  0.307435 -0.359921  \n",
       "max_drw        1.000000  0.540388  0.260520  \n",
       "max_rsk        0.540388  1.000000  0.208126  \n",
       "volat          0.260520  0.208126  1.000000  "
      ]
     },
     "execution_count": 757,
     "metadata": {},
     "output_type": "execute_result"
    }
   ],
   "source": [
    "res_df.corr(method='spearman')"
   ]
  },
  {
   "cell_type": "code",
   "execution_count": 758,
   "metadata": {},
   "outputs": [
    {
     "data": {
      "text/html": [
       "<div>\n",
       "<style scoped>\n",
       "    .dataframe tbody tr th:only-of-type {\n",
       "        vertical-align: middle;\n",
       "    }\n",
       "\n",
       "    .dataframe tbody tr th {\n",
       "        vertical-align: top;\n",
       "    }\n",
       "\n",
       "    .dataframe thead th {\n",
       "        text-align: right;\n",
       "    }\n",
       "</style>\n",
       "<table border=\"1\" class=\"dataframe\">\n",
       "  <thead>\n",
       "    <tr style=\"text-align: right;\">\n",
       "      <th></th>\n",
       "      <th>count</th>\n",
       "      <th>prop</th>\n",
       "      <th>total_ret</th>\n",
       "      <th>sharpe_ratio</th>\n",
       "      <th>profit_factor</th>\n",
       "      <th>max_drw</th>\n",
       "      <th>max_rsk</th>\n",
       "      <th>volat</th>\n",
       "      <th>ind</th>\n",
       "      <th>stat</th>\n",
       "      <th>op</th>\n",
       "      <th>graph</th>\n",
       "    </tr>\n",
       "  </thead>\n",
       "  <tbody>\n",
       "    <tr>\n",
       "      <th>162</th>\n",
       "      <td>591</td>\n",
       "      <td>0.546531</td>\n",
       "      <td>0.066623</td>\n",
       "      <td>1.165248</td>\n",
       "      <td>1.243613</td>\n",
       "      <td>-0.004211</td>\n",
       "      <td>-0.007805</td>\n",
       "      <td>0.024379</td>\n",
       "      <td>ROC_200</td>\n",
       "      <td>mean-2std</td>\n",
       "      <td>below</td>\n",
       "      <td>ROC_200_mean-2std_below</td>\n",
       "    </tr>\n",
       "    <tr>\n",
       "      <th>159</th>\n",
       "      <td>662</td>\n",
       "      <td>0.543807</td>\n",
       "      <td>0.060572</td>\n",
       "      <td>0.932197</td>\n",
       "      <td>1.191995</td>\n",
       "      <td>-0.023415</td>\n",
       "      <td>-0.011195</td>\n",
       "      <td>0.024735</td>\n",
       "      <td>ROC_20</td>\n",
       "      <td>mean-2std</td>\n",
       "      <td>below</td>\n",
       "      <td>ROC_20_mean-2std_below</td>\n",
       "    </tr>\n",
       "    <tr>\n",
       "      <th>160</th>\n",
       "      <td>669</td>\n",
       "      <td>0.537425</td>\n",
       "      <td>0.064742</td>\n",
       "      <td>0.929452</td>\n",
       "      <td>1.186939</td>\n",
       "      <td>-0.004251</td>\n",
       "      <td>-0.011195</td>\n",
       "      <td>0.026238</td>\n",
       "      <td>ROC_50</td>\n",
       "      <td>mean-2std</td>\n",
       "      <td>below</td>\n",
       "      <td>ROC_50_mean-2std_below</td>\n",
       "    </tr>\n",
       "    <tr>\n",
       "      <th>138</th>\n",
       "      <td>2643</td>\n",
       "      <td>0.537353</td>\n",
       "      <td>0.207320</td>\n",
       "      <td>0.877473</td>\n",
       "      <td>1.182473</td>\n",
       "      <td>-0.000928</td>\n",
       "      <td>-0.011195</td>\n",
       "      <td>0.022527</td>\n",
       "      <td>ROC_200</td>\n",
       "      <td>mean-std</td>\n",
       "      <td>below</td>\n",
       "      <td>ROC_200_mean-std_below</td>\n",
       "    </tr>\n",
       "    <tr>\n",
       "      <th>103</th>\n",
       "      <td>946</td>\n",
       "      <td>0.546227</td>\n",
       "      <td>0.072389</td>\n",
       "      <td>0.854936</td>\n",
       "      <td>1.178004</td>\n",
       "      <td>-0.027103</td>\n",
       "      <td>-0.010332</td>\n",
       "      <td>0.022555</td>\n",
       "      <td>ROC_500</td>\n",
       "      <td>midrange</td>\n",
       "      <td>above</td>\n",
       "      <td>ROC_500_midrange_above</td>\n",
       "    </tr>\n",
       "    <tr>\n",
       "      <th>...</th>\n",
       "      <td>...</td>\n",
       "      <td>...</td>\n",
       "      <td>...</td>\n",
       "      <td>...</td>\n",
       "      <td>...</td>\n",
       "      <td>...</td>\n",
       "      <td>...</td>\n",
       "      <td>...</td>\n",
       "      <td>...</td>\n",
       "      <td>...</td>\n",
       "      <td>...</td>\n",
       "      <td>...</td>\n",
       "    </tr>\n",
       "    <tr>\n",
       "      <th>157</th>\n",
       "      <td>871</td>\n",
       "      <td>0.509781</td>\n",
       "      <td>-0.000896</td>\n",
       "      <td>-0.009337</td>\n",
       "      <td>0.998247</td>\n",
       "      <td>-0.023940</td>\n",
       "      <td>-0.020240</td>\n",
       "      <td>0.027772</td>\n",
       "      <td>ROC_3</td>\n",
       "      <td>mean-2std</td>\n",
       "      <td>below</td>\n",
       "      <td>ROC_3_mean-2std_below</td>\n",
       "    </tr>\n",
       "    <tr>\n",
       "      <th>106</th>\n",
       "      <td>783</td>\n",
       "      <td>0.521739</td>\n",
       "      <td>-0.004248</td>\n",
       "      <td>-0.042146</td>\n",
       "      <td>0.992674</td>\n",
       "      <td>-0.032480</td>\n",
       "      <td>-0.011195</td>\n",
       "      <td>0.032436</td>\n",
       "      <td>atr_50</td>\n",
       "      <td>midrange</td>\n",
       "      <td>above</td>\n",
       "      <td>atr_50_midrange_above</td>\n",
       "    </tr>\n",
       "    <tr>\n",
       "      <th>133</th>\n",
       "      <td>2819</td>\n",
       "      <td>0.515853</td>\n",
       "      <td>-0.019364</td>\n",
       "      <td>-0.075123</td>\n",
       "      <td>0.986198</td>\n",
       "      <td>-0.052063</td>\n",
       "      <td>-0.020240</td>\n",
       "      <td>0.023043</td>\n",
       "      <td>ROC_3</td>\n",
       "      <td>mean-std</td>\n",
       "      <td>below</td>\n",
       "      <td>ROC_3_mean-std_below</td>\n",
       "    </tr>\n",
       "    <tr>\n",
       "      <th>83</th>\n",
       "      <td>1241</td>\n",
       "      <td>0.509724</td>\n",
       "      <td>-0.023694</td>\n",
       "      <td>-0.159666</td>\n",
       "      <td>0.972539</td>\n",
       "      <td>-0.069156</td>\n",
       "      <td>-0.011195</td>\n",
       "      <td>0.030134</td>\n",
       "      <td>atr_200</td>\n",
       "      <td>mean+2std</td>\n",
       "      <td>above</td>\n",
       "      <td>atr_200_mean+2std_above</td>\n",
       "    </tr>\n",
       "    <tr>\n",
       "      <th>156</th>\n",
       "      <td>978</td>\n",
       "      <td>0.504098</td>\n",
       "      <td>-0.047924</td>\n",
       "      <td>-0.432284</td>\n",
       "      <td>0.923106</td>\n",
       "      <td>-0.056797</td>\n",
       "      <td>-0.020240</td>\n",
       "      <td>0.028565</td>\n",
       "      <td>ROC_2</td>\n",
       "      <td>mean-2std</td>\n",
       "      <td>below</td>\n",
       "      <td>ROC_2_mean-2std_below</td>\n",
       "    </tr>\n",
       "  </tbody>\n",
       "</table>\n",
       "<p>158 rows × 12 columns</p>\n",
       "</div>"
      ],
      "text/plain": [
       "     count      prop  total_ret  sharpe_ratio  profit_factor   max_drw  \\\n",
       "162    591  0.546531   0.066623      1.165248       1.243613 -0.004211   \n",
       "159    662  0.543807   0.060572      0.932197       1.191995 -0.023415   \n",
       "160    669  0.537425   0.064742      0.929452       1.186939 -0.004251   \n",
       "138   2643  0.537353   0.207320      0.877473       1.182473 -0.000928   \n",
       "103    946  0.546227   0.072389      0.854936       1.178004 -0.027103   \n",
       "..     ...       ...        ...           ...            ...       ...   \n",
       "157    871  0.509781  -0.000896     -0.009337       0.998247 -0.023940   \n",
       "106    783  0.521739  -0.004248     -0.042146       0.992674 -0.032480   \n",
       "133   2819  0.515853  -0.019364     -0.075123       0.986198 -0.052063   \n",
       "83    1241  0.509724  -0.023694     -0.159666       0.972539 -0.069156   \n",
       "156    978  0.504098  -0.047924     -0.432284       0.923106 -0.056797   \n",
       "\n",
       "      max_rsk     volat      ind       stat     op                    graph  \n",
       "162 -0.007805  0.024379  ROC_200  mean-2std  below  ROC_200_mean-2std_below  \n",
       "159 -0.011195  0.024735   ROC_20  mean-2std  below   ROC_20_mean-2std_below  \n",
       "160 -0.011195  0.026238   ROC_50  mean-2std  below   ROC_50_mean-2std_below  \n",
       "138 -0.011195  0.022527  ROC_200   mean-std  below   ROC_200_mean-std_below  \n",
       "103 -0.010332  0.022555  ROC_500   midrange  above   ROC_500_midrange_above  \n",
       "..        ...       ...      ...        ...    ...                      ...  \n",
       "157 -0.020240  0.027772    ROC_3  mean-2std  below    ROC_3_mean-2std_below  \n",
       "106 -0.011195  0.032436   atr_50   midrange  above    atr_50_midrange_above  \n",
       "133 -0.020240  0.023043    ROC_3   mean-std  below     ROC_3_mean-std_below  \n",
       "83  -0.011195  0.030134  atr_200  mean+2std  above  atr_200_mean+2std_above  \n",
       "156 -0.020240  0.028565    ROC_2  mean-2std  below    ROC_2_mean-2std_below  \n",
       "\n",
       "[158 rows x 12 columns]"
      ]
     },
     "execution_count": 758,
     "metadata": {},
     "output_type": "execute_result"
    }
   ],
   "source": [
    "res_df.sort_values(by='sharpe_ratio', ascending=False)"
   ]
  },
  {
   "cell_type": "code",
   "execution_count": 707,
   "metadata": {},
   "outputs": [
    {
     "data": {
      "text/plain": [
       "371607"
      ]
     },
     "execution_count": 707,
     "metadata": {},
     "output_type": "execute_result"
    }
   ],
   "source": [
    "res_df['count'].max()"
   ]
  },
  {
   "cell_type": "code",
   "execution_count": 688,
   "metadata": {},
   "outputs": [
    {
     "data": {
      "text/plain": [
       "224"
      ]
     },
     "execution_count": 688,
     "metadata": {},
     "output_type": "execute_result"
    }
   ],
   "source": [
    "res_df['count'].min()"
   ]
  },
  {
   "cell_type": "code",
   "execution_count": 763,
   "metadata": {},
   "outputs": [
    {
     "data": {
      "text/plain": [
       "<matplotlib.axes._subplots.AxesSubplot at 0x1f380a8b8c8>"
      ]
     },
     "execution_count": 763,
     "metadata": {},
     "output_type": "execute_result"
    },
    {
     "data": {
      "image/png": "[encoded data removed]",
      "text/plain": [
       "<Figure size 432x288 with 1 Axes>"
      ]
     },
     "metadata": {
      "needs_background": "light"
     },
     "output_type": "display_data"
    }
   ],
   "source": [
    "plots_idx['ROC_200_mean-std_below'].plot()"
   ]
  },
  {
   "cell_type": "code",
   "execution_count": null,
   "metadata": {},
   "outputs": [],
   "source": []
  },
  {
   "cell_type": "code",
   "execution_count": 653,
   "metadata": {},
   "outputs": [
    {
     "data": {
      "text/plain": [
       "743.214"
      ]
     },
     "execution_count": 653,
     "metadata": {},
     "output_type": "execute_result"
    }
   ],
   "source": [
    "371607 * 0.2/100"
   ]
  },
  {
   "cell_type": "code",
   "execution_count": 669,
   "metadata": {},
   "outputs": [
    {
     "data": {
      "text/plain": [
       "2.0"
      ]
     },
     "execution_count": 669,
     "metadata": {},
     "output_type": "execute_result"
    }
   ],
   "source": [
    "1000* 0.2/100"
   ]
  },
  {
   "cell_type": "code",
   "execution_count": 646,
   "metadata": {},
   "outputs": [
    {
     "data": {
      "text/plain": [
       "2229642"
      ]
     },
     "execution_count": 646,
     "metadata": {},
     "output_type": "execute_result"
    }
   ],
   "source": [
    "60 * 371607"
   ]
  },
  {
   "cell_type": "code",
   "execution_count": null,
   "metadata": {},
   "outputs": [],
   "source": [
    "30000 * 1.4"
   ]
  },
  {
   "cell_type": "code",
   "execution_count": 651,
   "metadata": {},
   "outputs": [
    {
     "data": {
      "text/plain": [
       "74321.4"
      ]
     },
     "execution_count": 651,
     "metadata": {},
     "output_type": "execute_result"
    }
   ],
   "source": [
    "371607 * 20/100"
   ]
  },
  {
   "cell_type": "code",
   "execution_count": 654,
   "metadata": {},
   "outputs": [
    {
     "data": {
      "text/plain": [
       "42000.0"
      ]
     },
     "execution_count": 654,
     "metadata": {},
     "output_type": "execute_result"
    }
   ],
   "source": [
    "30000 * 1.4"
   ]
  },
  {
   "cell_type": "code",
   "execution_count": 667,
   "metadata": {},
   "outputs": [
    {
     "data": {
      "text/plain": [
       "0.03"
      ]
     },
     "execution_count": 667,
     "metadata": {},
     "output_type": "execute_result"
    }
   ],
   "source": [
    "(0.3/1000)*100"
   ]
  },
  {
   "cell_type": "code",
   "execution_count": 624,
   "metadata": {},
   "outputs": [],
   "source": [
    "sharpe_ratio = (252* df[(df.entry==1) ].reset_index().val.mean()) / (df[(df.entry==1)  ].reset_index().val.std() * np.sqrt(252)) "
   ]
  },
  {
   "cell_type": "code",
   "execution_count": 558,
   "metadata": {},
   "outputs": [
    {
     "data": {
      "text/plain": [
       "0.21449330736867364"
      ]
     },
     "execution_count": 558,
     "metadata": {},
     "output_type": "execute_result"
    }
   ],
   "source": [
    "sharpe_ratio"
   ]
  },
  {
   "cell_type": "code",
   "execution_count": 559,
   "metadata": {},
   "outputs": [],
   "source": [
    "profit_factor = df[(df.entry==1) & (df.val > 0)].val.sum() / df[(df.entry==1)  & (df.val < 0)].val.abs().sum()"
   ]
  },
  {
   "cell_type": "code",
   "execution_count": 560,
   "metadata": {},
   "outputs": [
    {
     "data": {
      "text/plain": [
       "1.043800360895987"
      ]
     },
     "execution_count": 560,
     "metadata": {},
     "output_type": "execute_result"
    }
   ],
   "source": [
    "profit_factor"
   ]
  },
  {
   "cell_type": "code",
   "execution_count": 561,
   "metadata": {},
   "outputs": [
    {
     "data": {
      "text/plain": [
       "0.4937722642046586"
      ]
     },
     "execution_count": 561,
     "metadata": {},
     "output_type": "execute_result"
    }
   ],
   "source": [
    "df[(df.entry==1) ].reset_index().val.sum()"
   ]
  },
  {
   "cell_type": "code",
   "execution_count": 562,
   "metadata": {},
   "outputs": [
    {
     "data": {
      "text/plain": [
       "<matplotlib.axes._subplots.AxesSubplot at 0x1f3803d2b08>"
      ]
     },
     "execution_count": 562,
     "metadata": {},
     "output_type": "execute_result"
    },
    {
     "data": {
      "image/png": "[encoded data removed]",
      "text/plain": [
       "<Figure size 432x288 with 1 Axes>"
      ]
     },
     "metadata": {
      "needs_background": "light"
     },
     "output_type": "display_data"
    }
   ],
   "source": [
    "df[(df.entry==1) ].reset_index().val.cumsum().plot()"
   ]
  },
  {
   "cell_type": "code",
   "execution_count": 403,
   "metadata": {},
   "outputs": [],
   "source": [
    "#### optimization using PCA-kmeans"
   ]
  },
  {
   "cell_type": "code",
   "execution_count": 414,
   "metadata": {},
   "outputs": [
    {
     "data": {
      "text/html": [
       "<div>\n",
       "<style scoped>\n",
       "    .dataframe tbody tr th:only-of-type {\n",
       "        vertical-align: middle;\n",
       "    }\n",
       "\n",
       "    .dataframe tbody tr th {\n",
       "        vertical-align: top;\n",
       "    }\n",
       "\n",
       "    .dataframe thead th {\n",
       "        text-align: right;\n",
       "    }\n",
       "</style>\n",
       "<table border=\"1\" class=\"dataframe\">\n",
       "  <thead>\n",
       "    <tr style=\"text-align: right;\">\n",
       "      <th></th>\n",
       "      <th></th>\n",
       "      <th>count</th>\n",
       "      <th>prop</th>\n",
       "      <th>total_ret</th>\n",
       "      <th>sharpe_ratio</th>\n",
       "      <th>profit_factor</th>\n",
       "    </tr>\n",
       "    <tr>\n",
       "      <th>ind</th>\n",
       "      <th>op</th>\n",
       "      <th></th>\n",
       "      <th></th>\n",
       "      <th></th>\n",
       "      <th></th>\n",
       "      <th></th>\n",
       "    </tr>\n",
       "  </thead>\n",
       "  <tbody>\n",
       "    <tr>\n",
       "      <th>ROC_500</th>\n",
       "      <th>below</th>\n",
       "      <td>1007.166667</td>\n",
       "      <td>0.490314</td>\n",
       "      <td>-0.017586</td>\n",
       "      <td>0.204380</td>\n",
       "      <td>1.041393</td>\n",
       "    </tr>\n",
       "    <tr>\n",
       "      <th>abs_returns</th>\n",
       "      <th>above</th>\n",
       "      <td>1082.000000</td>\n",
       "      <td>0.498335</td>\n",
       "      <td>-0.033106</td>\n",
       "      <td>0.069519</td>\n",
       "      <td>1.015598</td>\n",
       "    </tr>\n",
       "    <tr>\n",
       "      <th>atr_200</th>\n",
       "      <th>below</th>\n",
       "      <td>976.600000</td>\n",
       "      <td>0.501102</td>\n",
       "      <td>0.000719</td>\n",
       "      <td>0.059405</td>\n",
       "      <td>1.012402</td>\n",
       "    </tr>\n",
       "    <tr>\n",
       "      <th>ROC_20</th>\n",
       "      <th>below</th>\n",
       "      <td>1013.666667</td>\n",
       "      <td>0.503641</td>\n",
       "      <td>-0.058412</td>\n",
       "      <td>0.049636</td>\n",
       "      <td>1.013743</td>\n",
       "    </tr>\n",
       "    <tr>\n",
       "      <th>atr_14</th>\n",
       "      <th>above</th>\n",
       "      <td>888.000000</td>\n",
       "      <td>0.485180</td>\n",
       "      <td>-0.057909</td>\n",
       "      <td>0.007674</td>\n",
       "      <td>1.004607</td>\n",
       "    </tr>\n",
       "    <tr>\n",
       "      <th>atr_50</th>\n",
       "      <th>below</th>\n",
       "      <td>1049.600000</td>\n",
       "      <td>0.501437</td>\n",
       "      <td>-0.050014</td>\n",
       "      <td>-0.152260</td>\n",
       "      <td>0.973717</td>\n",
       "    </tr>\n",
       "    <tr>\n",
       "      <th>ROC_200</th>\n",
       "      <th>below</th>\n",
       "      <td>1209.800000</td>\n",
       "      <td>0.492342</td>\n",
       "      <td>-0.095968</td>\n",
       "      <td>-0.183202</td>\n",
       "      <td>0.968560</td>\n",
       "    </tr>\n",
       "    <tr>\n",
       "      <th>ROC_3</th>\n",
       "      <th>below</th>\n",
       "      <td>1186.000000</td>\n",
       "      <td>0.499404</td>\n",
       "      <td>-0.089628</td>\n",
       "      <td>-0.199208</td>\n",
       "      <td>0.965200</td>\n",
       "    </tr>\n",
       "    <tr>\n",
       "      <th rowspan=\"2\" valign=\"top\">ROC_50</th>\n",
       "      <th>above</th>\n",
       "      <td>1051.500000</td>\n",
       "      <td>0.490261</td>\n",
       "      <td>-0.105015</td>\n",
       "      <td>-0.266631</td>\n",
       "      <td>0.954699</td>\n",
       "    </tr>\n",
       "    <tr>\n",
       "      <th>below</th>\n",
       "      <td>1189.800000</td>\n",
       "      <td>0.492287</td>\n",
       "      <td>-0.121687</td>\n",
       "      <td>-0.326974</td>\n",
       "      <td>0.943373</td>\n",
       "    </tr>\n",
       "    <tr>\n",
       "      <th>ROC_2</th>\n",
       "      <th>below</th>\n",
       "      <td>1167.600000</td>\n",
       "      <td>0.495002</td>\n",
       "      <td>-0.134987</td>\n",
       "      <td>-0.346212</td>\n",
       "      <td>0.939655</td>\n",
       "    </tr>\n",
       "    <tr>\n",
       "      <th>ROC_100</th>\n",
       "      <th>above</th>\n",
       "      <td>1057.250000</td>\n",
       "      <td>0.490815</td>\n",
       "      <td>-0.124231</td>\n",
       "      <td>-0.354033</td>\n",
       "      <td>0.939072</td>\n",
       "    </tr>\n",
       "    <tr>\n",
       "      <th>ROC_5</th>\n",
       "      <th>below</th>\n",
       "      <td>1175.200000</td>\n",
       "      <td>0.494595</td>\n",
       "      <td>-0.161438</td>\n",
       "      <td>-0.378906</td>\n",
       "      <td>0.934662</td>\n",
       "    </tr>\n",
       "    <tr>\n",
       "      <th>ROC_2</th>\n",
       "      <th>above</th>\n",
       "      <td>1084.000000</td>\n",
       "      <td>0.485547</td>\n",
       "      <td>-0.142209</td>\n",
       "      <td>-0.381889</td>\n",
       "      <td>0.935008</td>\n",
       "    </tr>\n",
       "    <tr>\n",
       "      <th>ROC_100</th>\n",
       "      <th>below</th>\n",
       "      <td>1194.200000</td>\n",
       "      <td>0.489284</td>\n",
       "      <td>-0.154864</td>\n",
       "      <td>-0.383419</td>\n",
       "      <td>0.933948</td>\n",
       "    </tr>\n",
       "    <tr>\n",
       "      <th>ROC_5</th>\n",
       "      <th>above</th>\n",
       "      <td>1075.750000</td>\n",
       "      <td>0.485428</td>\n",
       "      <td>-0.151027</td>\n",
       "      <td>-0.441210</td>\n",
       "      <td>0.924911</td>\n",
       "    </tr>\n",
       "    <tr>\n",
       "      <th>atr_50</th>\n",
       "      <th>above</th>\n",
       "      <td>862.166667</td>\n",
       "      <td>0.475445</td>\n",
       "      <td>-0.129411</td>\n",
       "      <td>-0.524034</td>\n",
       "      <td>0.915073</td>\n",
       "    </tr>\n",
       "    <tr>\n",
       "      <th>ROC_3</th>\n",
       "      <th>above</th>\n",
       "      <td>1083.250000</td>\n",
       "      <td>0.481725</td>\n",
       "      <td>-0.183016</td>\n",
       "      <td>-0.542272</td>\n",
       "      <td>0.908934</td>\n",
       "    </tr>\n",
       "    <tr>\n",
       "      <th>atr_14</th>\n",
       "      <th>below</th>\n",
       "      <td>997.333333</td>\n",
       "      <td>0.495452</td>\n",
       "      <td>-0.143475</td>\n",
       "      <td>-0.558261</td>\n",
       "      <td>0.905725</td>\n",
       "    </tr>\n",
       "    <tr>\n",
       "      <th>abs_returns</th>\n",
       "      <th>below</th>\n",
       "      <td>1225.800000</td>\n",
       "      <td>0.486390</td>\n",
       "      <td>-0.199342</td>\n",
       "      <td>-0.568503</td>\n",
       "      <td>0.904866</td>\n",
       "    </tr>\n",
       "    <tr>\n",
       "      <th>ROC_200</th>\n",
       "      <th>above</th>\n",
       "      <td>1056.500000</td>\n",
       "      <td>0.486047</td>\n",
       "      <td>-0.191856</td>\n",
       "      <td>-0.642734</td>\n",
       "      <td>0.892724</td>\n",
       "    </tr>\n",
       "    <tr>\n",
       "      <th>ROC_20</th>\n",
       "      <th>above</th>\n",
       "      <td>1042.250000</td>\n",
       "      <td>0.478908</td>\n",
       "      <td>-0.198930</td>\n",
       "      <td>-0.672488</td>\n",
       "      <td>0.887585</td>\n",
       "    </tr>\n",
       "    <tr>\n",
       "      <th>atr_200</th>\n",
       "      <th>above</th>\n",
       "      <td>924.333333</td>\n",
       "      <td>0.477530</td>\n",
       "      <td>-0.185792</td>\n",
       "      <td>-0.761432</td>\n",
       "      <td>0.879546</td>\n",
       "    </tr>\n",
       "    <tr>\n",
       "      <th>ROC_500</th>\n",
       "      <th>above</th>\n",
       "      <td>1080.000000</td>\n",
       "      <td>0.485767</td>\n",
       "      <td>-0.245012</td>\n",
       "      <td>-0.798638</td>\n",
       "      <td>0.869265</td>\n",
       "    </tr>\n",
       "  </tbody>\n",
       "</table>\n",
       "</div>"
      ],
      "text/plain": [
       "                         count      prop  total_ret  sharpe_ratio  \\\n",
       "ind         op                                                      \n",
       "ROC_500     below  1007.166667  0.490314  -0.017586      0.204380   \n",
       "abs_returns above  1082.000000  0.498335  -0.033106      0.069519   \n",
       "atr_200     below   976.600000  0.501102   0.000719      0.059405   \n",
       "ROC_20      below  1013.666667  0.503641  -0.058412      0.049636   \n",
       "atr_14      above   888.000000  0.485180  -0.057909      0.007674   \n",
       "atr_50      below  1049.600000  0.501437  -0.050014     -0.152260   \n",
       "ROC_200     below  1209.800000  0.492342  -0.095968     -0.183202   \n",
       "ROC_3       below  1186.000000  0.499404  -0.089628     -0.199208   \n",
       "ROC_50      above  1051.500000  0.490261  -0.105015     -0.266631   \n",
       "            below  1189.800000  0.492287  -0.121687     -0.326974   \n",
       "ROC_2       below  1167.600000  0.495002  -0.134987     -0.346212   \n",
       "ROC_100     above  1057.250000  0.490815  -0.124231     -0.354033   \n",
       "ROC_5       below  1175.200000  0.494595  -0.161438     -0.378906   \n",
       "ROC_2       above  1084.000000  0.485547  -0.142209     -0.381889   \n",
       "ROC_100     below  1194.200000  0.489284  -0.154864     -0.383419   \n",
       "ROC_5       above  1075.750000  0.485428  -0.151027     -0.441210   \n",
       "atr_50      above   862.166667  0.475445  -0.129411     -0.524034   \n",
       "ROC_3       above  1083.250000  0.481725  -0.183016     -0.542272   \n",
       "atr_14      below   997.333333  0.495452  -0.143475     -0.558261   \n",
       "abs_returns below  1225.800000  0.486390  -0.199342     -0.568503   \n",
       "ROC_200     above  1056.500000  0.486047  -0.191856     -0.642734   \n",
       "ROC_20      above  1042.250000  0.478908  -0.198930     -0.672488   \n",
       "atr_200     above   924.333333  0.477530  -0.185792     -0.761432   \n",
       "ROC_500     above  1080.000000  0.485767  -0.245012     -0.798638   \n",
       "\n",
       "                   profit_factor  \n",
       "ind         op                    \n",
       "ROC_500     below       1.041393  \n",
       "abs_returns above       1.015598  \n",
       "atr_200     below       1.012402  \n",
       "ROC_20      below       1.013743  \n",
       "atr_14      above       1.004607  \n",
       "atr_50      below       0.973717  \n",
       "ROC_200     below       0.968560  \n",
       "ROC_3       below       0.965200  \n",
       "ROC_50      above       0.954699  \n",
       "            below       0.943373  \n",
       "ROC_2       below       0.939655  \n",
       "ROC_100     above       0.939072  \n",
       "ROC_5       below       0.934662  \n",
       "ROC_2       above       0.935008  \n",
       "ROC_100     below       0.933948  \n",
       "ROC_5       above       0.924911  \n",
       "atr_50      above       0.915073  \n",
       "ROC_3       above       0.908934  \n",
       "atr_14      below       0.905725  \n",
       "abs_returns below       0.904866  \n",
       "ROC_200     above       0.892724  \n",
       "ROC_20      above       0.887585  \n",
       "atr_200     above       0.879546  \n",
       "ROC_500     above       0.869265  "
      ]
     },
     "execution_count": 414,
     "metadata": {},
     "output_type": "execute_result"
    }
   ],
   "source": [
    "res_df.groupby(['ind', 'op']).mean().sort_values(by=['sharpe_ratio', 'op'], ascending=False)"
   ]
  },
  {
   "cell_type": "code",
   "execution_count": 463,
   "metadata": {},
   "outputs": [
    {
     "data": {
      "text/plain": [
       "<matplotlib.axes._subplots.AxesSubplot at 0x1f3fbb11f88>"
      ]
     },
     "execution_count": 463,
     "metadata": {},
     "output_type": "execute_result"
    },
    {
     "data": {
      "image/png": "[encoded data removed]",
      "text/plain": [
       "<Figure size 432x288 with 1 Axes>"
      ]
     },
     "metadata": {
      "needs_background": "light"
     },
     "output_type": "display_data"
    }
   ],
   "source": [
    "res_df[res_df['total_ret'] > 0]['volat'].hist()"
   ]
  },
  {
   "cell_type": "code",
   "execution_count": 459,
   "metadata": {},
   "outputs": [
    {
     "data": {
      "text/plain": [
       "<matplotlib.axes._subplots.AxesSubplot at 0x1f3fb399ac8>"
      ]
     },
     "execution_count": 459,
     "metadata": {},
     "output_type": "execute_result"
    },
    {
     "data": {
      "image/png": "[encoded data removed]",
      "text/plain": [
       "<Figure size 432x288 with 1 Axes>"
      ]
     },
     "metadata": {
      "needs_background": "light"
     },
     "output_type": "display_data"
    }
   ],
   "source": [
    "res_df.volat.hist()"
   ]
  },
  {
   "cell_type": "code",
   "execution_count": null,
   "metadata": {},
   "outputs": [],
   "source": []
  }
 ],
 "metadata": {
  "kernelspec": {
   "display_name": "Python 3",
   "language": "python",
   "name": "python3"
  },
  "language_info": {
   "codemirror_mode": {
    "name": "ipython",
    "version": 3
   },
   "file_extension": ".py",
   "mimetype": "text/x-python",
   "name": "python",
   "nbconvert_exporter": "python",
   "pygments_lexer": "ipython3",
   "version": "3.7.6"
  }
 },
 "nbformat": 4,
 "nbformat_minor": 4
}
