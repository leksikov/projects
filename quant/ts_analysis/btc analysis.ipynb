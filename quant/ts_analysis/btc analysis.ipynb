{
 "cells": [
  {
   "cell_type": "code",
   "execution_count": 87,
   "metadata": {},
   "outputs": [],
   "source": [
    "import numpy as np\n",
    "import pandas as pd\n",
    "%matplotlib inline\n",
    "\n",
    "\n",
    "import numpy as np\n",
    "\n",
    "import pandas as pd\n",
    "import numpy as np\n",
    "import  seaborn as sns\n",
    "import rwi as rwi\n",
    "import math\n",
    "import  seaborn as sns\n",
    "from matplotlib import pyplot as plt\n",
    "import hurst\n",
    "import statsmodels.api as sm"
   ]
  },
  {
   "cell_type": "code",
   "execution_count": 4,
   "metadata": {},
   "outputs": [],
   "source": [
    "import FinanceDataReader as fdr"
   ]
  },
  {
   "cell_type": "code",
   "execution_count": 569,
   "metadata": {},
   "outputs": [
    {
     "name": "stderr",
     "output_type": "stream",
     "text": [
      "C:\\Users\\lexik\\.conda\\envs\\quant\\lib\\site-packages\\FinanceDataReader\\investing\\data.py:58: FutureWarning: pandas.io.json.json_normalize is deprecated, use pandas.json_normalize instead\n",
      "  df = json_normalize(jo['quotes'])\n"
     ]
    }
   ],
   "source": [
    "btc = fdr.DataReader('BTC/USD', '2016-01-01')"
   ]
  },
  {
   "cell_type": "code",
   "execution_count": 155,
   "metadata": {},
   "outputs": [
    {
     "data": {
      "text/plain": [
       "<matplotlib.axes._subplots.AxesSubplot at 0x1bc84b0f888>"
      ]
     },
     "execution_count": 155,
     "metadata": {},
     "output_type": "execute_result"
    },
    {
     "data": {
      "image/png": "[encoded data removed]",
      "text/plain": [
       "<Figure size 432x288 with 1 Axes>"
      ]
     },
     "metadata": {
      "needs_background": "light"
     },
     "output_type": "display_data"
    }
   ],
   "source": [
    "btc.Close.plot()"
   ]
  },
  {
   "cell_type": "code",
   "execution_count": 156,
   "metadata": {},
   "outputs": [],
   "source": [
    "tmp = btc.copy()"
   ]
  },
  {
   "cell_type": "code",
   "execution_count": 157,
   "metadata": {},
   "outputs": [
    {
     "data": {
      "text/html": [
       "<div>\n",
       "<style scoped>\n",
       "    .dataframe tbody tr th:only-of-type {\n",
       "        vertical-align: middle;\n",
       "    }\n",
       "\n",
       "    .dataframe tbody tr th {\n",
       "        vertical-align: top;\n",
       "    }\n",
       "\n",
       "    .dataframe thead th {\n",
       "        text-align: right;\n",
       "    }\n",
       "</style>\n",
       "<table border=\"1\" class=\"dataframe\">\n",
       "  <thead>\n",
       "    <tr style=\"text-align: right;\">\n",
       "      <th></th>\n",
       "      <th>Close</th>\n",
       "      <th>Open</th>\n",
       "      <th>High</th>\n",
       "      <th>Low</th>\n",
       "      <th>Volume</th>\n",
       "      <th>Change</th>\n",
       "    </tr>\n",
       "    <tr>\n",
       "      <th>Date</th>\n",
       "      <th></th>\n",
       "      <th></th>\n",
       "      <th></th>\n",
       "      <th></th>\n",
       "      <th></th>\n",
       "      <th></th>\n",
       "    </tr>\n",
       "  </thead>\n",
       "  <tbody>\n",
       "    <tr>\n",
       "      <th>2019-01-02</th>\n",
       "      <td>2510.03</td>\n",
       "      <td>2476.96</td>\n",
       "      <td>2519.49</td>\n",
       "      <td>2467.47</td>\n",
       "      <td>0.0</td>\n",
       "      <td>0.0013</td>\n",
       "    </tr>\n",
       "    <tr>\n",
       "      <th>2019-01-03</th>\n",
       "      <td>2447.89</td>\n",
       "      <td>2491.92</td>\n",
       "      <td>2493.14</td>\n",
       "      <td>2443.96</td>\n",
       "      <td>0.0</td>\n",
       "      <td>-0.0248</td>\n",
       "    </tr>\n",
       "    <tr>\n",
       "      <th>2019-01-04</th>\n",
       "      <td>2531.94</td>\n",
       "      <td>2474.33</td>\n",
       "      <td>2538.07</td>\n",
       "      <td>2474.33</td>\n",
       "      <td>0.0</td>\n",
       "      <td>0.0343</td>\n",
       "    </tr>\n",
       "    <tr>\n",
       "      <th>2019-01-07</th>\n",
       "      <td>2549.69</td>\n",
       "      <td>2535.61</td>\n",
       "      <td>2566.16</td>\n",
       "      <td>2524.56</td>\n",
       "      <td>0.0</td>\n",
       "      <td>0.0070</td>\n",
       "    </tr>\n",
       "    <tr>\n",
       "      <th>2019-01-08</th>\n",
       "      <td>2574.41</td>\n",
       "      <td>2568.11</td>\n",
       "      <td>2579.82</td>\n",
       "      <td>2547.56</td>\n",
       "      <td>0.0</td>\n",
       "      <td>0.0097</td>\n",
       "    </tr>\n",
       "    <tr>\n",
       "      <th>...</th>\n",
       "      <td>...</td>\n",
       "      <td>...</td>\n",
       "      <td>...</td>\n",
       "      <td>...</td>\n",
       "      <td>...</td>\n",
       "      <td>...</td>\n",
       "    </tr>\n",
       "    <tr>\n",
       "      <th>2020-03-18</th>\n",
       "      <td>2398.10</td>\n",
       "      <td>2436.50</td>\n",
       "      <td>2453.57</td>\n",
       "      <td>2280.52</td>\n",
       "      <td>0.0</td>\n",
       "      <td>-0.0518</td>\n",
       "    </tr>\n",
       "    <tr>\n",
       "      <th>2020-03-19</th>\n",
       "      <td>2409.39</td>\n",
       "      <td>2393.48</td>\n",
       "      <td>2466.97</td>\n",
       "      <td>2319.78</td>\n",
       "      <td>0.0</td>\n",
       "      <td>0.0047</td>\n",
       "    </tr>\n",
       "    <tr>\n",
       "      <th>2020-03-20</th>\n",
       "      <td>2304.92</td>\n",
       "      <td>2431.94</td>\n",
       "      <td>2453.01</td>\n",
       "      <td>2295.56</td>\n",
       "      <td>0.0</td>\n",
       "      <td>-0.0434</td>\n",
       "    </tr>\n",
       "    <tr>\n",
       "      <th>2020-03-23</th>\n",
       "      <td>2237.40</td>\n",
       "      <td>2290.71</td>\n",
       "      <td>2300.73</td>\n",
       "      <td>2191.86</td>\n",
       "      <td>0.0</td>\n",
       "      <td>-0.0293</td>\n",
       "    </tr>\n",
       "    <tr>\n",
       "      <th>2020-03-24</th>\n",
       "      <td>2447.33</td>\n",
       "      <td>2344.44</td>\n",
       "      <td>2449.71</td>\n",
       "      <td>2344.44</td>\n",
       "      <td>0.0</td>\n",
       "      <td>0.0938</td>\n",
       "    </tr>\n",
       "  </tbody>\n",
       "</table>\n",
       "<p>309 rows × 6 columns</p>\n",
       "</div>"
      ],
      "text/plain": [
       "              Close     Open     High      Low  Volume  Change\n",
       "Date                                                          \n",
       "2019-01-02  2510.03  2476.96  2519.49  2467.47     0.0  0.0013\n",
       "2019-01-03  2447.89  2491.92  2493.14  2443.96     0.0 -0.0248\n",
       "2019-01-04  2531.94  2474.33  2538.07  2474.33     0.0  0.0343\n",
       "2019-01-07  2549.69  2535.61  2566.16  2524.56     0.0  0.0070\n",
       "2019-01-08  2574.41  2568.11  2579.82  2547.56     0.0  0.0097\n",
       "...             ...      ...      ...      ...     ...     ...\n",
       "2020-03-18  2398.10  2436.50  2453.57  2280.52     0.0 -0.0518\n",
       "2020-03-19  2409.39  2393.48  2466.97  2319.78     0.0  0.0047\n",
       "2020-03-20  2304.92  2431.94  2453.01  2295.56     0.0 -0.0434\n",
       "2020-03-23  2237.40  2290.71  2300.73  2191.86     0.0 -0.0293\n",
       "2020-03-24  2447.33  2344.44  2449.71  2344.44     0.0  0.0938\n",
       "\n",
       "[309 rows x 6 columns]"
      ]
     },
     "execution_count": 157,
     "metadata": {},
     "output_type": "execute_result"
    }
   ],
   "source": [
    "btc.loc['2019-01-01':]"
   ]
  },
  {
   "cell_type": "code",
   "execution_count": 159,
   "metadata": {},
   "outputs": [
    {
     "data": {
      "text/plain": [
       "array([0.53203622])"
      ]
     },
     "execution_count": 159,
     "metadata": {},
     "output_type": "execute_result"
    }
   ],
   "source": [
    "rwi.hurst(btc[['Close']])"
   ]
  },
  {
   "cell_type": "code",
   "execution_count": 943,
   "metadata": {},
   "outputs": [],
   "source": [
    "result = []\n",
    "for i in range(1, 200):\n",
    "    result.append(momersionPeriod(btc.loc['2019-01-01':]['Close'], i))"
   ]
  },
  {
   "cell_type": "code",
   "execution_count": 944,
   "metadata": {},
   "outputs": [
    {
     "data": {
      "text/plain": [
       "[<matplotlib.lines.Line2D at 0x1bc9eadf788>]"
      ]
     },
     "execution_count": 944,
     "metadata": {},
     "output_type": "execute_result"
    },
    {
     "data": {
      "image/png": "[encoded data removed]",
      "text/plain": [
       "<Figure size 432x288 with 1 Axes>"
      ]
     },
     "metadata": {
      "needs_background": "light"
     },
     "output_type": "display_data"
    }
   ],
   "source": [
    "plt.plot([i for i in range(1,50)], result[:49])"
   ]
  },
  {
   "cell_type": "code",
   "execution_count": 163,
   "metadata": {},
   "outputs": [
    {
     "data": {
      "text/plain": [
       "[<matplotlib.lines.Line2D at 0x1bc84cd2c08>]"
      ]
     },
     "execution_count": 163,
     "metadata": {},
     "output_type": "execute_result"
    },
    {
     "data": {
      "image/png": "[encoded data removed]",
      "text/plain": [
       "<Figure size 432x288 with 1 Axes>"
      ]
     },
     "metadata": {
      "needs_background": "light"
     },
     "output_type": "display_data"
    }
   ],
   "source": [
    "plt.plot([i for i in range(1,200)], result[:199])"
   ]
  },
  {
   "cell_type": "code",
   "execution_count": 166,
   "metadata": {},
   "outputs": [
    {
     "data": {
      "text/plain": [
       "[<matplotlib.lines.Line2D at 0x1bc84b96548>]"
      ]
     },
     "execution_count": 166,
     "metadata": {},
     "output_type": "execute_result"
    },
    {
     "data": {
      "image/png": "[encoded data removed]",
      "text/plain": [
       "<Figure size 432x288 with 1 Axes>"
      ]
     },
     "metadata": {
      "needs_background": "light"
     },
     "output_type": "display_data"
    }
   ],
   "source": [
    "plt.plot([i for i in range(1,200)], result[:199])"
   ]
  },
  {
   "cell_type": "code",
   "execution_count": 175,
   "metadata": {},
   "outputs": [
    {
     "data": {
      "text/plain": [
       "[<matplotlib.lines.Line2D at 0x1bc89fa9b08>]"
      ]
     },
     "execution_count": 175,
     "metadata": {},
     "output_type": "execute_result"
    },
    {
     "data": {
      "image/png": "[encoded data removed]",
      "text/plain": [
       "<Figure size 432x288 with 1 Axes>"
      ]
     },
     "metadata": {
      "needs_background": "light"
     },
     "output_type": "display_data"
    }
   ],
   "source": [
    "plt.plot(result[0:10])"
   ]
  },
  {
   "cell_type": "code",
   "execution_count": 125,
   "metadata": {},
   "outputs": [
    {
     "data": {
      "image/png": "[encoded data removed]",
      "text/plain": [
       "<Figure size 432x288 with 1 Axes>"
      ]
     },
     "metadata": {
      "needs_background": "light"
     },
     "output_type": "display_data"
    }
   ],
   "source": [
    "ax = sns.barplot(x=[i for i in range(1,200)], y=result, data=pd.Series(result[:200]))"
   ]
  },
  {
   "cell_type": "code",
   "execution_count": 127,
   "metadata": {},
   "outputs": [
    {
     "data": {
      "text/plain": [
       "<matplotlib.axes._subplots.AxesSubplot at 0x1bc88819508>"
      ]
     },
     "execution_count": 127,
     "metadata": {},
     "output_type": "execute_result"
    },
    {
     "data": {
      "image/png": "[encoded data removed]",
      "text/plain": [
       "<Figure size 432x288 with 1 Axes>"
      ]
     },
     "metadata": {
      "needs_background": "light"
     },
     "output_type": "display_data"
    }
   ],
   "source": [
    "btc.loc['2019-01-01':][['Close']].pct_change().plot()"
   ]
  },
  {
   "cell_type": "code",
   "execution_count": 367,
   "metadata": {},
   "outputs": [
    {
     "data": {
      "text/plain": [
       "50.814332247557005"
      ]
     },
     "execution_count": 367,
     "metadata": {},
     "output_type": "execute_result"
    }
   ],
   "source": [
    "rwi.Momersion(btc.loc['2019-01-01':].Close.pct_change(1))"
   ]
  },
  {
   "cell_type": "code",
   "execution_count": null,
   "metadata": {},
   "outputs": [],
   "source": []
  },
  {
   "cell_type": "code",
   "execution_count": 368,
   "metadata": {},
   "outputs": [
    {
     "data": {
      "text/plain": [
       "52.295081967213115"
      ]
     },
     "execution_count": 368,
     "metadata": {},
     "output_type": "execute_result"
    }
   ],
   "source": [
    "rwi.MomersionDouble(btc.loc['2019-01-01':].Close.pct_change(1))"
   ]
  },
  {
   "cell_type": "code",
   "execution_count": 352,
   "metadata": {},
   "outputs": [],
   "source": [
    "result = []\n",
    "for i in range(1, 500):\n",
    "    val = rwi.autoCorrel(btc.loc['2016-01-01':].Close.pct_change(i).fillna(0), 5)\n",
    "    result.append(val)\n",
    "    "
   ]
  },
  {
   "cell_type": "code",
   "execution_count": 353,
   "metadata": {},
   "outputs": [
    {
     "data": {
      "text/plain": [
       "[<matplotlib.lines.Line2D at 0x1bc8fa17e48>]"
      ]
     },
     "execution_count": 353,
     "metadata": {},
     "output_type": "execute_result"
    },
    {
     "data": {
      "image/png": "[encoded data removed]",
      "text/plain": [
       "<Figure size 432x288 with 1 Axes>"
      ]
     },
     "metadata": {
      "needs_background": "light"
     },
     "output_type": "display_data"
    }
   ],
   "source": [
    "plt.plot(result[0:10])"
   ]
  },
  {
   "cell_type": "code",
   "execution_count": 354,
   "metadata": {},
   "outputs": [
    {
     "data": {
      "text/plain": [
       "[<matplotlib.lines.Line2D at 0x1bc8fa77dc8>]"
      ]
     },
     "execution_count": 354,
     "metadata": {},
     "output_type": "execute_result"
    },
    {
     "data": {
      "image/png": "[encoded data removed]",
      "text/plain": [
       "<Figure size 432x288 with 1 Axes>"
      ]
     },
     "metadata": {
      "needs_background": "light"
     },
     "output_type": "display_data"
    }
   ],
   "source": [
    "plt.plot(result)"
   ]
  },
  {
   "cell_type": "code",
   "execution_count": 77,
   "metadata": {},
   "outputs": [],
   "source": [
    "p_ = 2\n",
    "ts_ = btc.Close\n",
    "ts_1 = np.sign(ts_.pct_change(p_).fillna(0))\n",
    "ts_2 = np.sign(ts_.pct_change(p_).shift(p_).fillna(0))\n",
    "\n",
    "val = ts_1 * ts_2\n",
    "pos = len(val[val == 1])\n",
    "neg = len(val[val == -1])\n",
    "\n",
    "\n",
    "mom = (pos/(pos+neg)) * 100.0"
   ]
  },
  {
   "cell_type": "code",
   "execution_count": 78,
   "metadata": {},
   "outputs": [
    {
     "data": {
      "text/plain": [
       "49.70375246872943"
      ]
     },
     "execution_count": 78,
     "metadata": {},
     "output_type": "execute_result"
    }
   ],
   "source": [
    "mom"
   ]
  },
  {
   "cell_type": "code",
   "execution_count": 183,
   "metadata": {},
   "outputs": [],
   "source": [
    "def momersionPeriod(ts_, p_):\n",
    "    ts_1 = np.sign(ts_.pct_change(p_).fillna(0))\n",
    "    ts_2 = np.sign(ts_.pct_change(p_).shift(p_).fillna(0))\n",
    "    \n",
    "    val = ts_1 * ts_2\n",
    "    pos = len(val[val == 1])\n",
    "    neg = len(val[val == -1])\n",
    "    if pos + neg == 0:\n",
    "        return 0\n",
    "   \n",
    "    mom = (pos/(pos+neg)) * 100.0\n",
    "    return mom"
   ]
  },
  {
   "cell_type": "code",
   "execution_count": 247,
   "metadata": {},
   "outputs": [
    {
     "data": {
      "text/plain": [
       "52.03405865657521"
      ]
     },
     "execution_count": 247,
     "metadata": {},
     "output_type": "execute_result"
    }
   ],
   "source": [
    "momersionPeriod(btc.loc['2016-01-01':]['Close'], 3)"
   ]
  },
  {
   "cell_type": "code",
   "execution_count": 227,
   "metadata": {},
   "outputs": [
    {
     "data": {
      "image/png": "[encoded data removed]",
      "text/plain": [
       "<Figure size 432x288 with 1 Axes>"
      ]
     },
     "execution_count": 227,
     "metadata": {},
     "output_type": "execute_result"
    },
    {
     "data": {
      "image/png": "[encoded data removed]",
      "text/plain": [
       "<Figure size 432x288 with 1 Axes>"
      ]
     },
     "metadata": {
      "needs_background": "light"
     },
     "output_type": "display_data"
    }
   ],
   "source": [
    "sm.graphics.tsa.plot_acf(pd.Series(btc.loc['2020-01-01':].Close).fillna(0).fillna(0), lags=50)"
   ]
  },
  {
   "cell_type": "code",
   "execution_count": 134,
   "metadata": {},
   "outputs": [
    {
     "data": {
      "text/plain": [
       "<matplotlib.axes._subplots.AxesSubplot at 0x1bc88a43b88>"
      ]
     },
     "execution_count": 134,
     "metadata": {},
     "output_type": "execute_result"
    },
    {
     "data": {
      "image/png": "[encoded data removed]",
      "text/plain": [
       "<Figure size 432x288 with 1 Axes>"
      ]
     },
     "metadata": {
      "needs_background": "light"
     },
     "output_type": "display_data"
    }
   ],
   "source": [
    "pd.Series(btc.loc['2019-01-01':].Close).pct_change(20).plot()"
   ]
  },
  {
   "cell_type": "code",
   "execution_count": 243,
   "metadata": {},
   "outputs": [
    {
     "data": {
      "text/plain": [
       "0.03571428571428571"
      ]
     },
     "execution_count": 243,
     "metadata": {},
     "output_type": "execute_result"
    }
   ],
   "source": [
    "rwi.marketMeannes(btc.loc['2020-01-01':].Close.pct_change(50).fillna(0))"
   ]
  },
  {
   "cell_type": "code",
   "execution_count": 355,
   "metadata": {},
   "outputs": [],
   "source": [
    "### trading strategy"
   ]
  },
  {
   "cell_type": "code",
   "execution_count": 570,
   "metadata": {},
   "outputs": [
    {
     "data": {
      "text/html": [
       "<div>\n",
       "<style scoped>\n",
       "    .dataframe tbody tr th:only-of-type {\n",
       "        vertical-align: middle;\n",
       "    }\n",
       "\n",
       "    .dataframe tbody tr th {\n",
       "        vertical-align: top;\n",
       "    }\n",
       "\n",
       "    .dataframe thead th {\n",
       "        text-align: right;\n",
       "    }\n",
       "</style>\n",
       "<table border=\"1\" class=\"dataframe\">\n",
       "  <thead>\n",
       "    <tr style=\"text-align: right;\">\n",
       "      <th></th>\n",
       "      <th>Close</th>\n",
       "      <th>Open</th>\n",
       "      <th>High</th>\n",
       "      <th>Low</th>\n",
       "      <th>Volume</th>\n",
       "      <th>Change</th>\n",
       "    </tr>\n",
       "    <tr>\n",
       "      <th>Date</th>\n",
       "      <th></th>\n",
       "      <th></th>\n",
       "      <th></th>\n",
       "      <th></th>\n",
       "      <th></th>\n",
       "      <th></th>\n",
       "    </tr>\n",
       "  </thead>\n",
       "  <tbody>\n",
       "    <tr>\n",
       "      <th>2016-01-01</th>\n",
       "      <td>433.98</td>\n",
       "      <td>429.02</td>\n",
       "      <td>436.49</td>\n",
       "      <td>426.26</td>\n",
       "      <td>12970.0</td>\n",
       "      <td>0.0116</td>\n",
       "    </tr>\n",
       "    <tr>\n",
       "      <th>2016-01-02</th>\n",
       "      <td>432.70</td>\n",
       "      <td>433.98</td>\n",
       "      <td>435.79</td>\n",
       "      <td>430.00</td>\n",
       "      <td>6380.0</td>\n",
       "      <td>-0.0029</td>\n",
       "    </tr>\n",
       "    <tr>\n",
       "      <th>2016-01-03</th>\n",
       "      <td>428.66</td>\n",
       "      <td>432.70</td>\n",
       "      <td>433.07</td>\n",
       "      <td>422.00</td>\n",
       "      <td>19180.0</td>\n",
       "      <td>-0.0093</td>\n",
       "    </tr>\n",
       "    <tr>\n",
       "      <th>2016-01-04</th>\n",
       "      <td>432.90</td>\n",
       "      <td>428.64</td>\n",
       "      <td>435.67</td>\n",
       "      <td>426.97</td>\n",
       "      <td>13020.0</td>\n",
       "      <td>0.0099</td>\n",
       "    </tr>\n",
       "    <tr>\n",
       "      <th>2016-01-05</th>\n",
       "      <td>431.84</td>\n",
       "      <td>432.90</td>\n",
       "      <td>434.91</td>\n",
       "      <td>428.22</td>\n",
       "      <td>11220.0</td>\n",
       "      <td>-0.0024</td>\n",
       "    </tr>\n",
       "    <tr>\n",
       "      <th>...</th>\n",
       "      <td>...</td>\n",
       "      <td>...</td>\n",
       "      <td>...</td>\n",
       "      <td>...</td>\n",
       "      <td>...</td>\n",
       "      <td>...</td>\n",
       "    </tr>\n",
       "    <tr>\n",
       "      <th>2020-03-21</th>\n",
       "      <td>6201.80</td>\n",
       "      <td>6211.10</td>\n",
       "      <td>6461.00</td>\n",
       "      <td>5884.70</td>\n",
       "      <td>12940.0</td>\n",
       "      <td>-0.0006</td>\n",
       "    </tr>\n",
       "    <tr>\n",
       "      <th>2020-03-22</th>\n",
       "      <td>5827.05</td>\n",
       "      <td>6202.70</td>\n",
       "      <td>6410.60</td>\n",
       "      <td>5757.30</td>\n",
       "      <td>16280.0</td>\n",
       "      <td>-0.0604</td>\n",
       "    </tr>\n",
       "    <tr>\n",
       "      <th>2020-03-23</th>\n",
       "      <td>6491.20</td>\n",
       "      <td>5820.10</td>\n",
       "      <td>6652.40</td>\n",
       "      <td>5682.70</td>\n",
       "      <td>19550.0</td>\n",
       "      <td>0.1140</td>\n",
       "    </tr>\n",
       "    <tr>\n",
       "      <th>2020-03-24</th>\n",
       "      <td>6762.00</td>\n",
       "      <td>6491.20</td>\n",
       "      <td>6838.50</td>\n",
       "      <td>6406.10</td>\n",
       "      <td>16620.0</td>\n",
       "      <td>0.0417</td>\n",
       "    </tr>\n",
       "    <tr>\n",
       "      <th>2020-03-25</th>\n",
       "      <td>6545.10</td>\n",
       "      <td>6762.00</td>\n",
       "      <td>6968.00</td>\n",
       "      <td>6449.90</td>\n",
       "      <td>14950.0</td>\n",
       "      <td>-0.0321</td>\n",
       "    </tr>\n",
       "  </tbody>\n",
       "</table>\n",
       "<p>1532 rows × 6 columns</p>\n",
       "</div>"
      ],
      "text/plain": [
       "              Close     Open     High      Low   Volume  Change\n",
       "Date                                                           \n",
       "2016-01-01   433.98   429.02   436.49   426.26  12970.0  0.0116\n",
       "2016-01-02   432.70   433.98   435.79   430.00   6380.0 -0.0029\n",
       "2016-01-03   428.66   432.70   433.07   422.00  19180.0 -0.0093\n",
       "2016-01-04   432.90   428.64   435.67   426.97  13020.0  0.0099\n",
       "2016-01-05   431.84   432.90   434.91   428.22  11220.0 -0.0024\n",
       "...             ...      ...      ...      ...      ...     ...\n",
       "2020-03-21  6201.80  6211.10  6461.00  5884.70  12940.0 -0.0006\n",
       "2020-03-22  5827.05  6202.70  6410.60  5757.30  16280.0 -0.0604\n",
       "2020-03-23  6491.20  5820.10  6652.40  5682.70  19550.0  0.1140\n",
       "2020-03-24  6762.00  6491.20  6838.50  6406.10  16620.0  0.0417\n",
       "2020-03-25  6545.10  6762.00  6968.00  6449.90  14950.0 -0.0321\n",
       "\n",
       "[1532 rows x 6 columns]"
      ]
     },
     "execution_count": 570,
     "metadata": {},
     "output_type": "execute_result"
    }
   ],
   "source": [
    "btc"
   ]
  },
  {
   "cell_type": "code",
   "execution_count": 571,
   "metadata": {},
   "outputs": [],
   "source": [
    "btc['returns'] = btc[['Close']].pct_change(1).fillna(0)\n",
    "btc['returns2'] = btc[['Close']].pct_change(1).fillna(0).shift(1).fillna(0)\n",
    "btc['entry'] = np.sign(btc['returns'] * btc.returns2)\n",
    "btc['entry'] = btc['entry'].shift(1)\n",
    "btc['res'] = np.sign(btc['returns'] * btc.returns2)"
   ]
  },
  {
   "cell_type": "code",
   "execution_count": 572,
   "metadata": {},
   "outputs": [
    {
     "data": {
      "text/html": [
       "<div>\n",
       "<style scoped>\n",
       "    .dataframe tbody tr th:only-of-type {\n",
       "        vertical-align: middle;\n",
       "    }\n",
       "\n",
       "    .dataframe tbody tr th {\n",
       "        vertical-align: top;\n",
       "    }\n",
       "\n",
       "    .dataframe thead th {\n",
       "        text-align: right;\n",
       "    }\n",
       "</style>\n",
       "<table border=\"1\" class=\"dataframe\">\n",
       "  <thead>\n",
       "    <tr style=\"text-align: right;\">\n",
       "      <th></th>\n",
       "      <th>Close</th>\n",
       "      <th>Open</th>\n",
       "      <th>High</th>\n",
       "      <th>Low</th>\n",
       "      <th>Volume</th>\n",
       "      <th>Change</th>\n",
       "      <th>returns</th>\n",
       "      <th>returns2</th>\n",
       "      <th>entry</th>\n",
       "      <th>res</th>\n",
       "    </tr>\n",
       "    <tr>\n",
       "      <th>Date</th>\n",
       "      <th></th>\n",
       "      <th></th>\n",
       "      <th></th>\n",
       "      <th></th>\n",
       "      <th></th>\n",
       "      <th></th>\n",
       "      <th></th>\n",
       "      <th></th>\n",
       "      <th></th>\n",
       "      <th></th>\n",
       "    </tr>\n",
       "  </thead>\n",
       "  <tbody>\n",
       "    <tr>\n",
       "      <th>2016-01-01</th>\n",
       "      <td>433.98</td>\n",
       "      <td>429.02</td>\n",
       "      <td>436.49</td>\n",
       "      <td>426.26</td>\n",
       "      <td>12970.0</td>\n",
       "      <td>0.0116</td>\n",
       "      <td>0.000000</td>\n",
       "      <td>0.000000</td>\n",
       "      <td>NaN</td>\n",
       "      <td>0.0</td>\n",
       "    </tr>\n",
       "    <tr>\n",
       "      <th>2016-01-02</th>\n",
       "      <td>432.70</td>\n",
       "      <td>433.98</td>\n",
       "      <td>435.79</td>\n",
       "      <td>430.00</td>\n",
       "      <td>6380.0</td>\n",
       "      <td>-0.0029</td>\n",
       "      <td>-0.002949</td>\n",
       "      <td>0.000000</td>\n",
       "      <td>0.0</td>\n",
       "      <td>0.0</td>\n",
       "    </tr>\n",
       "    <tr>\n",
       "      <th>2016-01-03</th>\n",
       "      <td>428.66</td>\n",
       "      <td>432.70</td>\n",
       "      <td>433.07</td>\n",
       "      <td>422.00</td>\n",
       "      <td>19180.0</td>\n",
       "      <td>-0.0093</td>\n",
       "      <td>-0.009337</td>\n",
       "      <td>-0.002949</td>\n",
       "      <td>0.0</td>\n",
       "      <td>1.0</td>\n",
       "    </tr>\n",
       "    <tr>\n",
       "      <th>2016-01-04</th>\n",
       "      <td>432.90</td>\n",
       "      <td>428.64</td>\n",
       "      <td>435.67</td>\n",
       "      <td>426.97</td>\n",
       "      <td>13020.0</td>\n",
       "      <td>0.0099</td>\n",
       "      <td>0.009891</td>\n",
       "      <td>-0.009337</td>\n",
       "      <td>1.0</td>\n",
       "      <td>-1.0</td>\n",
       "    </tr>\n",
       "    <tr>\n",
       "      <th>2016-01-05</th>\n",
       "      <td>431.84</td>\n",
       "      <td>432.90</td>\n",
       "      <td>434.91</td>\n",
       "      <td>428.22</td>\n",
       "      <td>11220.0</td>\n",
       "      <td>-0.0024</td>\n",
       "      <td>-0.002449</td>\n",
       "      <td>0.009891</td>\n",
       "      <td>-1.0</td>\n",
       "      <td>-1.0</td>\n",
       "    </tr>\n",
       "    <tr>\n",
       "      <th>...</th>\n",
       "      <td>...</td>\n",
       "      <td>...</td>\n",
       "      <td>...</td>\n",
       "      <td>...</td>\n",
       "      <td>...</td>\n",
       "      <td>...</td>\n",
       "      <td>...</td>\n",
       "      <td>...</td>\n",
       "      <td>...</td>\n",
       "      <td>...</td>\n",
       "    </tr>\n",
       "    <tr>\n",
       "      <th>2020-03-21</th>\n",
       "      <td>6201.80</td>\n",
       "      <td>6211.10</td>\n",
       "      <td>6461.00</td>\n",
       "      <td>5884.70</td>\n",
       "      <td>12940.0</td>\n",
       "      <td>-0.0006</td>\n",
       "      <td>-0.000645</td>\n",
       "      <td>0.005248</td>\n",
       "      <td>1.0</td>\n",
       "      <td>-1.0</td>\n",
       "    </tr>\n",
       "    <tr>\n",
       "      <th>2020-03-22</th>\n",
       "      <td>5827.05</td>\n",
       "      <td>6202.70</td>\n",
       "      <td>6410.60</td>\n",
       "      <td>5757.30</td>\n",
       "      <td>16280.0</td>\n",
       "      <td>-0.0604</td>\n",
       "      <td>-0.060426</td>\n",
       "      <td>-0.000645</td>\n",
       "      <td>-1.0</td>\n",
       "      <td>1.0</td>\n",
       "    </tr>\n",
       "    <tr>\n",
       "      <th>2020-03-23</th>\n",
       "      <td>6491.20</td>\n",
       "      <td>5820.10</td>\n",
       "      <td>6652.40</td>\n",
       "      <td>5682.70</td>\n",
       "      <td>19550.0</td>\n",
       "      <td>0.1140</td>\n",
       "      <td>0.113977</td>\n",
       "      <td>-0.060426</td>\n",
       "      <td>1.0</td>\n",
       "      <td>-1.0</td>\n",
       "    </tr>\n",
       "    <tr>\n",
       "      <th>2020-03-24</th>\n",
       "      <td>6762.00</td>\n",
       "      <td>6491.20</td>\n",
       "      <td>6838.50</td>\n",
       "      <td>6406.10</td>\n",
       "      <td>16620.0</td>\n",
       "      <td>0.0417</td>\n",
       "      <td>0.041718</td>\n",
       "      <td>0.113977</td>\n",
       "      <td>-1.0</td>\n",
       "      <td>1.0</td>\n",
       "    </tr>\n",
       "    <tr>\n",
       "      <th>2020-03-25</th>\n",
       "      <td>6545.10</td>\n",
       "      <td>6762.00</td>\n",
       "      <td>6968.00</td>\n",
       "      <td>6449.90</td>\n",
       "      <td>14950.0</td>\n",
       "      <td>-0.0321</td>\n",
       "      <td>-0.032076</td>\n",
       "      <td>0.041718</td>\n",
       "      <td>1.0</td>\n",
       "      <td>-1.0</td>\n",
       "    </tr>\n",
       "  </tbody>\n",
       "</table>\n",
       "<p>1532 rows × 10 columns</p>\n",
       "</div>"
      ],
      "text/plain": [
       "              Close     Open     High      Low   Volume  Change   returns  \\\n",
       "Date                                                                        \n",
       "2016-01-01   433.98   429.02   436.49   426.26  12970.0  0.0116  0.000000   \n",
       "2016-01-02   432.70   433.98   435.79   430.00   6380.0 -0.0029 -0.002949   \n",
       "2016-01-03   428.66   432.70   433.07   422.00  19180.0 -0.0093 -0.009337   \n",
       "2016-01-04   432.90   428.64   435.67   426.97  13020.0  0.0099  0.009891   \n",
       "2016-01-05   431.84   432.90   434.91   428.22  11220.0 -0.0024 -0.002449   \n",
       "...             ...      ...      ...      ...      ...     ...       ...   \n",
       "2020-03-21  6201.80  6211.10  6461.00  5884.70  12940.0 -0.0006 -0.000645   \n",
       "2020-03-22  5827.05  6202.70  6410.60  5757.30  16280.0 -0.0604 -0.060426   \n",
       "2020-03-23  6491.20  5820.10  6652.40  5682.70  19550.0  0.1140  0.113977   \n",
       "2020-03-24  6762.00  6491.20  6838.50  6406.10  16620.0  0.0417  0.041718   \n",
       "2020-03-25  6545.10  6762.00  6968.00  6449.90  14950.0 -0.0321 -0.032076   \n",
       "\n",
       "            returns2  entry  res  \n",
       "Date                              \n",
       "2016-01-01  0.000000    NaN  0.0  \n",
       "2016-01-02  0.000000    0.0  0.0  \n",
       "2016-01-03 -0.002949    0.0  1.0  \n",
       "2016-01-04 -0.009337    1.0 -1.0  \n",
       "2016-01-05  0.009891   -1.0 -1.0  \n",
       "...              ...    ...  ...  \n",
       "2020-03-21  0.005248    1.0 -1.0  \n",
       "2020-03-22 -0.000645   -1.0  1.0  \n",
       "2020-03-23 -0.060426    1.0 -1.0  \n",
       "2020-03-24  0.113977   -1.0  1.0  \n",
       "2020-03-25  0.041718    1.0 -1.0  \n",
       "\n",
       "[1532 rows x 10 columns]"
      ]
     },
     "execution_count": 572,
     "metadata": {},
     "output_type": "execute_result"
    }
   ],
   "source": [
    "btc"
   ]
  },
  {
   "cell_type": "code",
   "execution_count": null,
   "metadata": {},
   "outputs": [],
   "source": []
  },
  {
   "cell_type": "code",
   "execution_count": null,
   "metadata": {},
   "outputs": [],
   "source": []
  },
  {
   "cell_type": "code",
   "execution_count": 573,
   "metadata": {},
   "outputs": [],
   "source": [
    "btc['val'] = btc.res.fillna(0) *  btc.returns"
   ]
  },
  {
   "cell_type": "code",
   "execution_count": 574,
   "metadata": {},
   "outputs": [
    {
     "data": {
      "text/plain": [
       "0.0026644313470229725"
      ]
     },
     "execution_count": 574,
     "metadata": {},
     "output_type": "execute_result"
    }
   ],
   "source": [
    "btc.loc['2016-01-01':'2019-01-01'].val.mean()"
   ]
  },
  {
   "cell_type": "code",
   "execution_count": 575,
   "metadata": {},
   "outputs": [
    {
     "name": "stderr",
     "output_type": "stream",
     "text": [
      "C:\\Users\\lexik\\.conda\\envs\\quant\\lib\\site-packages\\ipykernel_launcher.py:1: UserWarning: Boolean Series key will be reindexed to match DataFrame index.\n",
      "  \"\"\"Entry point for launching an IPython kernel.\n"
     ]
    },
    {
     "data": {
      "image/png": "[encoded data removed]",
      "text/plain": [
       "<Figure size 432x288 with 1 Axes>"
      ]
     },
     "metadata": {
      "needs_background": "light"
     },
     "output_type": "display_data"
    }
   ],
   "source": [
    "a = (100.0 +(100.0 * btc.loc['2016-01-01':'2018-01-01'][btc.entry==1].val).cumsum()).plot()"
   ]
  },
  {
   "cell_type": "code",
   "execution_count": 576,
   "metadata": {},
   "outputs": [
    {
     "ename": "AttributeError",
     "evalue": "'AxesSubplot' object has no attribute 'std'",
     "output_type": "error",
     "traceback": [
      "\u001b[1;31m---------------------------------------------------------------------------\u001b[0m",
      "\u001b[1;31mAttributeError\u001b[0m                            Traceback (most recent call last)",
      "\u001b[1;32m<ipython-input-576-7408fc62a40f>\u001b[0m in \u001b[0;36m<module>\u001b[1;34m\u001b[0m\n\u001b[1;32m----> 1\u001b[1;33m \u001b[0ma\u001b[0m\u001b[1;33m.\u001b[0m\u001b[0mstd\u001b[0m\u001b[1;33m(\u001b[0m\u001b[1;33m)\u001b[0m\u001b[1;33m\u001b[0m\u001b[1;33m\u001b[0m\u001b[0m\n\u001b[0m",
      "\u001b[1;31mAttributeError\u001b[0m: 'AxesSubplot' object has no attribute 'std'"
     ]
    }
   ],
   "source": [
    "a.std()"
   ]
  },
  {
   "cell_type": "code",
   "execution_count": 577,
   "metadata": {},
   "outputs": [
    {
     "ename": "AttributeError",
     "evalue": "'AxesSubplot' object has no attribute 'mean'",
     "output_type": "error",
     "traceback": [
      "\u001b[1;31m---------------------------------------------------------------------------\u001b[0m",
      "\u001b[1;31mAttributeError\u001b[0m                            Traceback (most recent call last)",
      "\u001b[1;32m<ipython-input-577-d6ac9701668a>\u001b[0m in \u001b[0;36m<module>\u001b[1;34m\u001b[0m\n\u001b[1;32m----> 1\u001b[1;33m \u001b[0ma\u001b[0m\u001b[1;33m.\u001b[0m\u001b[0mmean\u001b[0m\u001b[1;33m(\u001b[0m\u001b[1;33m)\u001b[0m\u001b[1;33m\u001b[0m\u001b[1;33m\u001b[0m\u001b[0m\n\u001b[0m",
      "\u001b[1;31mAttributeError\u001b[0m: 'AxesSubplot' object has no attribute 'mean'"
     ]
    }
   ],
   "source": [
    "a.mean()"
   ]
  },
  {
   "cell_type": "code",
   "execution_count": 578,
   "metadata": {},
   "outputs": [
    {
     "ename": "TypeError",
     "evalue": "'AxesSubplot' object is not subscriptable",
     "output_type": "error",
     "traceback": [
      "\u001b[1;31m---------------------------------------------------------------------------\u001b[0m",
      "\u001b[1;31mTypeError\u001b[0m                                 Traceback (most recent call last)",
      "\u001b[1;32m<ipython-input-578-a01440cf14bb>\u001b[0m in \u001b[0;36m<module>\u001b[1;34m\u001b[0m\n\u001b[1;32m----> 1\u001b[1;33m \u001b[0ma\u001b[0m\u001b[1;33m[\u001b[0m\u001b[1;33m-\u001b[0m\u001b[1;36m1\u001b[0m\u001b[1;33m]\u001b[0m\u001b[1;33m\u001b[0m\u001b[1;33m\u001b[0m\u001b[0m\n\u001b[0m",
      "\u001b[1;31mTypeError\u001b[0m: 'AxesSubplot' object is not subscriptable"
     ]
    }
   ],
   "source": [
    "a[-1]"
   ]
  },
  {
   "cell_type": "code",
   "execution_count": 579,
   "metadata": {},
   "outputs": [
    {
     "data": {
      "text/plain": [
       "0.04034883093618335"
      ]
     },
     "execution_count": 579,
     "metadata": {},
     "output_type": "execute_result"
    }
   ],
   "source": [
    "btc.loc['2016-01-01':'2018-01-01'].val.std()"
   ]
  },
  {
   "cell_type": "code",
   "execution_count": 580,
   "metadata": {},
   "outputs": [],
   "source": [
    "## optimize"
   ]
  },
  {
   "cell_type": "code",
   "execution_count": 591,
   "metadata": {},
   "outputs": [],
   "source": []
  },
  {
   "cell_type": "code",
   "execution_count": 592,
   "metadata": {},
   "outputs": [
    {
     "data": {
      "text/html": [
       "<div>\n",
       "<style scoped>\n",
       "    .dataframe tbody tr th:only-of-type {\n",
       "        vertical-align: middle;\n",
       "    }\n",
       "\n",
       "    .dataframe tbody tr th {\n",
       "        vertical-align: top;\n",
       "    }\n",
       "\n",
       "    .dataframe thead th {\n",
       "        text-align: right;\n",
       "    }\n",
       "</style>\n",
       "<table border=\"1\" class=\"dataframe\">\n",
       "  <thead>\n",
       "    <tr style=\"text-align: right;\">\n",
       "      <th></th>\n",
       "      <th>Close</th>\n",
       "      <th>Open</th>\n",
       "      <th>High</th>\n",
       "      <th>Low</th>\n",
       "      <th>Volume</th>\n",
       "      <th>Change</th>\n",
       "      <th>returns</th>\n",
       "      <th>returns2</th>\n",
       "      <th>entry</th>\n",
       "      <th>res</th>\n",
       "      <th>val</th>\n",
       "      <th>shift_returns</th>\n",
       "    </tr>\n",
       "    <tr>\n",
       "      <th>Date</th>\n",
       "      <th></th>\n",
       "      <th></th>\n",
       "      <th></th>\n",
       "      <th></th>\n",
       "      <th></th>\n",
       "      <th></th>\n",
       "      <th></th>\n",
       "      <th></th>\n",
       "      <th></th>\n",
       "      <th></th>\n",
       "      <th></th>\n",
       "      <th></th>\n",
       "    </tr>\n",
       "  </thead>\n",
       "  <tbody>\n",
       "    <tr>\n",
       "      <th>2016-01-01</th>\n",
       "      <td>433.98</td>\n",
       "      <td>429.02</td>\n",
       "      <td>436.49</td>\n",
       "      <td>426.26</td>\n",
       "      <td>12970.0</td>\n",
       "      <td>0.0116</td>\n",
       "      <td>0.000000</td>\n",
       "      <td>0.000000</td>\n",
       "      <td>NaN</td>\n",
       "      <td>0.0</td>\n",
       "      <td>0.000000</td>\n",
       "      <td>-0.002949</td>\n",
       "    </tr>\n",
       "    <tr>\n",
       "      <th>2016-01-02</th>\n",
       "      <td>432.70</td>\n",
       "      <td>433.98</td>\n",
       "      <td>435.79</td>\n",
       "      <td>430.00</td>\n",
       "      <td>6380.0</td>\n",
       "      <td>-0.0029</td>\n",
       "      <td>-0.002949</td>\n",
       "      <td>0.000000</td>\n",
       "      <td>0.0</td>\n",
       "      <td>0.0</td>\n",
       "      <td>-0.000000</td>\n",
       "      <td>-0.009337</td>\n",
       "    </tr>\n",
       "    <tr>\n",
       "      <th>2016-01-03</th>\n",
       "      <td>428.66</td>\n",
       "      <td>432.70</td>\n",
       "      <td>433.07</td>\n",
       "      <td>422.00</td>\n",
       "      <td>19180.0</td>\n",
       "      <td>-0.0093</td>\n",
       "      <td>-0.009337</td>\n",
       "      <td>-0.002949</td>\n",
       "      <td>0.0</td>\n",
       "      <td>1.0</td>\n",
       "      <td>-0.009337</td>\n",
       "      <td>0.009891</td>\n",
       "    </tr>\n",
       "    <tr>\n",
       "      <th>2016-01-04</th>\n",
       "      <td>432.90</td>\n",
       "      <td>428.64</td>\n",
       "      <td>435.67</td>\n",
       "      <td>426.97</td>\n",
       "      <td>13020.0</td>\n",
       "      <td>0.0099</td>\n",
       "      <td>0.009891</td>\n",
       "      <td>-0.009337</td>\n",
       "      <td>1.0</td>\n",
       "      <td>-1.0</td>\n",
       "      <td>-0.009891</td>\n",
       "      <td>-0.002449</td>\n",
       "    </tr>\n",
       "    <tr>\n",
       "      <th>2016-01-05</th>\n",
       "      <td>431.84</td>\n",
       "      <td>432.90</td>\n",
       "      <td>434.91</td>\n",
       "      <td>428.22</td>\n",
       "      <td>11220.0</td>\n",
       "      <td>-0.0024</td>\n",
       "      <td>-0.002449</td>\n",
       "      <td>0.009891</td>\n",
       "      <td>-1.0</td>\n",
       "      <td>-1.0</td>\n",
       "      <td>0.002449</td>\n",
       "      <td>-0.008915</td>\n",
       "    </tr>\n",
       "    <tr>\n",
       "      <th>...</th>\n",
       "      <td>...</td>\n",
       "      <td>...</td>\n",
       "      <td>...</td>\n",
       "      <td>...</td>\n",
       "      <td>...</td>\n",
       "      <td>...</td>\n",
       "      <td>...</td>\n",
       "      <td>...</td>\n",
       "      <td>...</td>\n",
       "      <td>...</td>\n",
       "      <td>...</td>\n",
       "      <td>...</td>\n",
       "    </tr>\n",
       "    <tr>\n",
       "      <th>2020-03-21</th>\n",
       "      <td>6201.80</td>\n",
       "      <td>6211.10</td>\n",
       "      <td>6461.00</td>\n",
       "      <td>5884.70</td>\n",
       "      <td>12940.0</td>\n",
       "      <td>-0.0006</td>\n",
       "      <td>-0.000645</td>\n",
       "      <td>0.005248</td>\n",
       "      <td>1.0</td>\n",
       "      <td>-1.0</td>\n",
       "      <td>0.000645</td>\n",
       "      <td>-0.060426</td>\n",
       "    </tr>\n",
       "    <tr>\n",
       "      <th>2020-03-22</th>\n",
       "      <td>5827.05</td>\n",
       "      <td>6202.70</td>\n",
       "      <td>6410.60</td>\n",
       "      <td>5757.30</td>\n",
       "      <td>16280.0</td>\n",
       "      <td>-0.0604</td>\n",
       "      <td>-0.060426</td>\n",
       "      <td>-0.000645</td>\n",
       "      <td>-1.0</td>\n",
       "      <td>1.0</td>\n",
       "      <td>-0.060426</td>\n",
       "      <td>0.113977</td>\n",
       "    </tr>\n",
       "    <tr>\n",
       "      <th>2020-03-23</th>\n",
       "      <td>6491.20</td>\n",
       "      <td>5820.10</td>\n",
       "      <td>6652.40</td>\n",
       "      <td>5682.70</td>\n",
       "      <td>19550.0</td>\n",
       "      <td>0.1140</td>\n",
       "      <td>0.113977</td>\n",
       "      <td>-0.060426</td>\n",
       "      <td>1.0</td>\n",
       "      <td>-1.0</td>\n",
       "      <td>-0.113977</td>\n",
       "      <td>0.041718</td>\n",
       "    </tr>\n",
       "    <tr>\n",
       "      <th>2020-03-24</th>\n",
       "      <td>6762.00</td>\n",
       "      <td>6491.20</td>\n",
       "      <td>6838.50</td>\n",
       "      <td>6406.10</td>\n",
       "      <td>16620.0</td>\n",
       "      <td>0.0417</td>\n",
       "      <td>0.041718</td>\n",
       "      <td>0.113977</td>\n",
       "      <td>-1.0</td>\n",
       "      <td>1.0</td>\n",
       "      <td>0.041718</td>\n",
       "      <td>-0.032076</td>\n",
       "    </tr>\n",
       "    <tr>\n",
       "      <th>2020-03-25</th>\n",
       "      <td>6545.10</td>\n",
       "      <td>6762.00</td>\n",
       "      <td>6968.00</td>\n",
       "      <td>6449.90</td>\n",
       "      <td>14950.0</td>\n",
       "      <td>-0.0321</td>\n",
       "      <td>-0.032076</td>\n",
       "      <td>0.041718</td>\n",
       "      <td>1.0</td>\n",
       "      <td>-1.0</td>\n",
       "      <td>0.032076</td>\n",
       "      <td>0.000000</td>\n",
       "    </tr>\n",
       "  </tbody>\n",
       "</table>\n",
       "<p>1532 rows × 12 columns</p>\n",
       "</div>"
      ],
      "text/plain": [
       "              Close     Open     High      Low   Volume  Change   returns  \\\n",
       "Date                                                                        \n",
       "2016-01-01   433.98   429.02   436.49   426.26  12970.0  0.0116  0.000000   \n",
       "2016-01-02   432.70   433.98   435.79   430.00   6380.0 -0.0029 -0.002949   \n",
       "2016-01-03   428.66   432.70   433.07   422.00  19180.0 -0.0093 -0.009337   \n",
       "2016-01-04   432.90   428.64   435.67   426.97  13020.0  0.0099  0.009891   \n",
       "2016-01-05   431.84   432.90   434.91   428.22  11220.0 -0.0024 -0.002449   \n",
       "...             ...      ...      ...      ...      ...     ...       ...   \n",
       "2020-03-21  6201.80  6211.10  6461.00  5884.70  12940.0 -0.0006 -0.000645   \n",
       "2020-03-22  5827.05  6202.70  6410.60  5757.30  16280.0 -0.0604 -0.060426   \n",
       "2020-03-23  6491.20  5820.10  6652.40  5682.70  19550.0  0.1140  0.113977   \n",
       "2020-03-24  6762.00  6491.20  6838.50  6406.10  16620.0  0.0417  0.041718   \n",
       "2020-03-25  6545.10  6762.00  6968.00  6449.90  14950.0 -0.0321 -0.032076   \n",
       "\n",
       "            returns2  entry  res       val  shift_returns  \n",
       "Date                                                       \n",
       "2016-01-01  0.000000    NaN  0.0  0.000000      -0.002949  \n",
       "2016-01-02  0.000000    0.0  0.0 -0.000000      -0.009337  \n",
       "2016-01-03 -0.002949    0.0  1.0 -0.009337       0.009891  \n",
       "2016-01-04 -0.009337    1.0 -1.0 -0.009891      -0.002449  \n",
       "2016-01-05  0.009891   -1.0 -1.0  0.002449      -0.008915  \n",
       "...              ...    ...  ...       ...            ...  \n",
       "2020-03-21  0.005248    1.0 -1.0  0.000645      -0.060426  \n",
       "2020-03-22 -0.000645   -1.0  1.0 -0.060426       0.113977  \n",
       "2020-03-23 -0.060426    1.0 -1.0 -0.113977       0.041718  \n",
       "2020-03-24  0.113977   -1.0  1.0  0.041718      -0.032076  \n",
       "2020-03-25  0.041718    1.0 -1.0  0.032076       0.000000  \n",
       "\n",
       "[1532 rows x 12 columns]"
      ]
     },
     "execution_count": 592,
     "metadata": {},
     "output_type": "execute_result"
    }
   ],
   "source": [
    "btc"
   ]
  },
  {
   "cell_type": "code",
   "execution_count": 1131,
   "metadata": {},
   "outputs": [],
   "source": [
    "def optimize(ts, period):\n",
    "    \n",
    "    ts['returns'] = ts[['Close']].pct_change(period).fillna(0)\n",
    "    ts['returns2'] = ts[['Close']].pct_change(period).fillna(0).shift(1).fillna(0)\n",
    "    ts['shift_returns'] = ts.returns.shift(-1).fillna(0)\n",
    "    ts['entry'] = np.sign(ts['returns'] * ts.returns2)\n",
    "    #ts['entry'] = ts['entry'].shift(1).fillna(0)\n",
    "    ts['direction'] = np.sign(ts.returns)\n",
    "    ts['shift_Change'] = ts['Change'].shift(-1).fillna(0)\n",
    "    ts['val'] = ts.shift_returns * ts.direction\n",
    "    \n",
    "    return ts #ts[(ts.entry==1) & (ts.val > 0) ].val.sum() / (ts[(ts.entry==1) & (ts.val < 0) ].val.abs().sum())  #.dropna()"
   ]
  },
  {
   "cell_type": "code",
   "execution_count": 1119,
   "metadata": {},
   "outputs": [],
   "source": [
    "def optimize2(ts, period):\n",
    "    \n",
    "    ts['returns'] = ts[['Close']].pct_change(period).fillna(0)\n",
    "    #ts['returns2'] = ts[['Close']].pct_change(period).fillna(0).shift(1).fillna(0)\n",
    "    ts['shift_returns'] = ts.returns.shift(-1).fillna(0)  \n",
    "    ts['entry'] = np.sign(ts['returns'])\n",
    "    #ts['entry'] = ts['entry'].shift(1).fillna(0)\n",
    "    ts['direction'] = np.sign(ts.returns)\n",
    "    ts['shift_Change'] = ts['Change'].shift(-1).fillna(0)\n",
    "    ts['val'] = ts.shift_Change * ts.direction \n",
    "    \n",
    "    return ts #ts[(ts.entry==1) & (ts.val > 0) ].val.sum() / (ts[(ts.entry==1) & (ts.val < 0) ].val.abs().sum())  #.dropna()"
   ]
  },
  {
   "cell_type": "code",
   "execution_count": 1132,
   "metadata": {},
   "outputs": [],
   "source": [
    "df = optimize(btc.loc['2016-01-01':][['Close', 'Change']], 10)"
   ]
  },
  {
   "cell_type": "code",
   "execution_count": 1140,
   "metadata": {},
   "outputs": [
    {
     "data": {
      "text/plain": [
       "<matplotlib.axes._subplots.AxesSubplot at 0x1bca3153fc8>"
      ]
     },
     "execution_count": 1140,
     "metadata": {},
     "output_type": "execute_result"
    },
    {
     "data": {
      "image/png": "[encoded data removed]",
      "text/plain": [
       "<Figure size 432x288 with 1 Axes>"
      ]
     },
     "metadata": {
      "needs_background": "light"
     },
     "output_type": "display_data"
    }
   ],
   "source": [
    "df.entry.hist()"
   ]
  },
  {
   "cell_type": "code",
   "execution_count": 1114,
   "metadata": {},
   "outputs": [],
   "source": [
    "result = []\n",
    "for i in range(1, 50):\n",
    "    val = optimize2(btc.loc['2020-01-01':][['Close', 'Change']], i)\n",
    "    result.append((i, val))\n",
    "    "
   ]
  },
  {
   "cell_type": "code",
   "execution_count": 1115,
   "metadata": {},
   "outputs": [],
   "source": [
    "df = (pd.DataFrame(result)[1])"
   ]
  },
  {
   "cell_type": "code",
   "execution_count": 1116,
   "metadata": {},
   "outputs": [
    {
     "data": {
      "text/plain": [
       "<matplotlib.axes._subplots.AxesSubplot at 0x1bca1d0f148>"
      ]
     },
     "execution_count": 1116,
     "metadata": {},
     "output_type": "execute_result"
    },
    {
     "data": {
      "image/png": "[encoded data removed]",
      "text/plain": [
       "<Figure size 432x288 with 1 Axes>"
      ]
     },
     "metadata": {
      "needs_background": "light"
     },
     "output_type": "display_data"
    }
   ],
   "source": [
    "df[0:10].plot()"
   ]
  },
  {
   "cell_type": "code",
   "execution_count": null,
   "metadata": {},
   "outputs": [],
   "source": []
  },
  {
   "cell_type": "code",
   "execution_count": 1117,
   "metadata": {},
   "outputs": [],
   "source": [
    "# 8 day momentum and 20 days"
   ]
  },
  {
   "cell_type": "code",
   "execution_count": null,
   "metadata": {},
   "outputs": [],
   "source": [
    "# long term momentums are not random, they are auto-correlated\n",
    "# momentum trading can work\n",
    "# there are exit optimal periods\n",
    "\n",
    "# next check gold and eurusd on daily\n",
    "# check low tfs\n",
    "# do accurate backtesting\n",
    "# ML model with extra rwi indicators. \n",
    "# Vector backtesting\n",
    "# accurate backtesting\n",
    "# ML + filtering indicators\n",
    "# MA strategy + filtering indicators\n",
    "\n",
    "\n",
    "# clustering regimes\n",
    "# ML model for each cluster regime\n"
   ]
  },
  {
   "cell_type": "code",
   "execution_count": 1198,
   "metadata": {},
   "outputs": [],
   "source": [
    "# http://aaaquants.com/2017/08/18/quant-basics-2-vectorised-backtest/\n",
    "# https://github.com/aaaquants/QuantBasics1-4/blob/master/basics.py\n",
    "def calc_signals(tickers,p,a,b):\n",
    "    sma = p.rolling(a).mean().fillna(0)\n",
    "    smb = p.rolling(b).mean().fillna(0)\n",
    "    signal = np.sign(sma - smb).diff()\n",
    "    actual_signals = signal.dropna(how='all',axis=0)\n",
    "    for col in actual_signals.columns:\n",
    "        \n",
    "        idx = actual_signals[col].first_valid_index()\n",
    "        print(col, idx)\n",
    "        signal[col][idx] = signal[col][idx]/2.\n",
    "        \n",
    "    return signal"
   ]
  },
  {
   "cell_type": "code",
   "execution_count": 1203,
   "metadata": {},
   "outputs": [],
   "source": [
    "def calc_pnl(sig,p):\n",
    "    sig_up = sig.cumsum().apply(lambda x:x*(x>0))\n",
    "    sig_dwn = sig.cumsum().apply(lambda x:x*(x<0))\n",
    "    pnlx = np.cumsum(p.diff()*sig_up+p.diff()*sig_dwn).sum(axis=1)\n",
    "    return pnlx"
   ]
  },
  {
   "cell_type": "code",
   "execution_count": 1226,
   "metadata": {},
   "outputs": [
    {
     "data": {
      "text/plain": [
       "[<matplotlib.lines.Line2D at 0x1bca4979d08>]"
      ]
     },
     "execution_count": 1226,
     "metadata": {},
     "output_type": "execute_result"
    },
    {
     "data": {
      "image/png": "[encoded data removed]",
      "text/plain": [
       "<Figure size 432x288 with 1 Axes>"
      ]
     },
     "metadata": {
      "needs_background": "light"
     },
     "output_type": "display_data"
    }
   ],
   "source": [
    "plt.plot(np.cumsum(df[['Close']].diff() * sig_up+df[['Close']].diff()*sig_dwn))"
   ]
  },
  {
   "cell_type": "code",
   "execution_count": 1210,
   "metadata": {},
   "outputs": [],
   "source": [
    "sig_up = signal.cumsum().apply(lambda x:x*(x>0))\n",
    "sig_dwn = signal.cumsum().apply(lambda x:x*(x<0))"
   ]
  },
  {
   "cell_type": "code",
   "execution_count": 1228,
   "metadata": {},
   "outputs": [],
   "source": []
  },
  {
   "cell_type": "code",
   "execution_count": null,
   "metadata": {},
   "outputs": [],
   "source": []
  },
  {
   "cell_type": "code",
   "execution_count": 1207,
   "metadata": {},
   "outputs": [
    {
     "data": {
      "text/plain": [
       "[<matplotlib.lines.Line2D at 0x1bca382e548>]"
      ]
     },
     "execution_count": 1207,
     "metadata": {},
     "output_type": "execute_result"
    },
    {
     "data": {
      "image/png": "[encoded data removed]",
      "text/plain": [
       "<Figure size 432x288 with 1 Axes>"
      ]
     },
     "metadata": {
      "needs_background": "light"
     },
     "output_type": "display_data"
    }
   ],
   "source": [
    "plt.plot(signal.cumsum().apply(lambda x:x*(x>0)))"
   ]
  },
  {
   "cell_type": "code",
   "execution_count": 1208,
   "metadata": {},
   "outputs": [
    {
     "data": {
      "text/plain": [
       "[<matplotlib.lines.Line2D at 0x1bca4859c08>]"
      ]
     },
     "execution_count": 1208,
     "metadata": {},
     "output_type": "execute_result"
    },
    {
     "data": {
      "image/png": "[encoded data removed]",
      "text/plain": [
       "<Figure size 432x288 with 1 Axes>"
      ]
     },
     "metadata": {
      "needs_background": "light"
     },
     "output_type": "display_data"
    }
   ],
   "source": [
    "plt.plot(signal.cumsum().apply(lambda x:x*(x<0)))"
   ]
  },
  {
   "cell_type": "code",
   "execution_count": 1199,
   "metadata": {},
   "outputs": [
    {
     "name": "stdout",
     "output_type": "stream",
     "text": [
      "Close 2016-01-02 00:00:00\n"
     ]
    }
   ],
   "source": [
    "signal = calc_signals('eur', df[['Close']], 20, 100)"
   ]
  },
  {
   "cell_type": "code",
   "execution_count": 1202,
   "metadata": {},
   "outputs": [
    {
     "data": {
      "text/plain": [
       "0.0"
      ]
     },
     "execution_count": 1202,
     "metadata": {},
     "output_type": "execute_result"
    }
   ],
   "source": [
    "signal.loc['2016-01-02 00:00:00']['Close']"
   ]
  },
  {
   "cell_type": "code",
   "execution_count": 1151,
   "metadata": {},
   "outputs": [],
   "source": [
    "sma = df.Close.rolling(20).mean().fillna(0)"
   ]
  },
  {
   "cell_type": "code",
   "execution_count": 1152,
   "metadata": {},
   "outputs": [],
   "source": [
    "smb = df.Close.rolling(100).mean().fillna(0)"
   ]
  },
  {
   "cell_type": "code",
   "execution_count": 1146,
   "metadata": {},
   "outputs": [
    {
     "data": {
      "text/plain": [
       "Date\n",
       "2016-01-01          NaN\n",
       "2016-01-02          NaN\n",
       "2016-01-03          NaN\n",
       "2016-01-04          NaN\n",
       "2016-01-05          NaN\n",
       "                ...    \n",
       "2020-03-21   -1202.3230\n",
       "2020-03-22   -1343.3145\n",
       "2020-03-23   -1452.2135\n",
       "2020-03-24   -1549.6355\n",
       "2020-03-25   -1673.1035\n",
       "Name: Close, Length: 1532, dtype: float64"
      ]
     },
     "execution_count": 1146,
     "metadata": {},
     "output_type": "execute_result"
    }
   ],
   "source": [
    "sma-smb"
   ]
  },
  {
   "cell_type": "code",
   "execution_count": 1161,
   "metadata": {},
   "outputs": [
    {
     "data": {
      "text/plain": [
       "[<matplotlib.lines.Line2D at 0x1bca3499648>]"
      ]
     },
     "execution_count": 1161,
     "metadata": {},
     "output_type": "execute_result"
    },
    {
     "data": {
      "image/png": "[encoded data removed]",
      "text/plain": [
       "<Figure size 432x288 with 1 Axes>"
      ]
     },
     "metadata": {
      "needs_background": "light"
     },
     "output_type": "display_data"
    }
   ],
   "source": [
    "plt.plot(np.sign(sma-smb).diff())"
   ]
  },
  {
   "cell_type": "code",
   "execution_count": 1162,
   "metadata": {},
   "outputs": [
    {
     "data": {
      "text/plain": [
       "[<matplotlib.lines.Line2D at 0x1bca3502108>]"
      ]
     },
     "execution_count": 1162,
     "metadata": {},
     "output_type": "execute_result"
    },
    {
     "data": {
      "image/png": "[encoded data removed]",
      "text/plain": [
       "<Figure size 432x288 with 1 Axes>"
      ]
     },
     "metadata": {
      "needs_background": "light"
     },
     "output_type": "display_data"
    }
   ],
   "source": [
    "plt.plot(np.sign(sma-smb))"
   ]
  },
  {
   "cell_type": "code",
   "execution_count": 1157,
   "metadata": {},
   "outputs": [
    {
     "data": {
      "text/plain": [
       "[<matplotlib.lines.Line2D at 0x1bca3340688>]"
      ]
     },
     "execution_count": 1157,
     "metadata": {},
     "output_type": "execute_result"
    },
    {
     "data": {
      "image/png": "[encoded data removed]",
      "text/plain": [
       "<Figure size 432x288 with 1 Axes>"
      ]
     },
     "metadata": {
      "needs_background": "light"
     },
     "output_type": "display_data"
    }
   ],
   "source": [
    "plt.plot(sma)"
   ]
  },
  {
   "cell_type": "code",
   "execution_count": 1276,
   "metadata": {},
   "outputs": [],
   "source": [
    "signal = np.sign(sma - smb).diff()\n",
    "actual_signals = pd.DataFrame(signal).dropna(how='all',axis=0)"
   ]
  },
  {
   "cell_type": "code",
   "execution_count": 1289,
   "metadata": {},
   "outputs": [],
   "source": [
    "test = df[['Close']]"
   ]
  },
  {
   "cell_type": "code",
   "execution_count": 1290,
   "metadata": {},
   "outputs": [
    {
     "name": "stderr",
     "output_type": "stream",
     "text": [
      "C:\\Users\\lexik\\.conda\\envs\\quant\\lib\\site-packages\\ipykernel_launcher.py:1: SettingWithCopyWarning: \n",
      "A value is trying to be set on a copy of a slice from a DataFrame.\n",
      "Try using .loc[row_indexer,col_indexer] = value instead\n",
      "\n",
      "See the caveats in the documentation: https://pandas.pydata.org/pandas-docs/stable/user_guide/indexing.html#returning-a-view-versus-a-copy\n",
      "  \"\"\"Entry point for launching an IPython kernel.\n",
      "C:\\Users\\lexik\\.conda\\envs\\quant\\lib\\site-packages\\ipykernel_launcher.py:2: SettingWithCopyWarning: \n",
      "A value is trying to be set on a copy of a slice from a DataFrame.\n",
      "Try using .loc[row_indexer,col_indexer] = value instead\n",
      "\n",
      "See the caveats in the documentation: https://pandas.pydata.org/pandas-docs/stable/user_guide/indexing.html#returning-a-view-versus-a-copy\n",
      "  \n"
     ]
    }
   ],
   "source": [
    "test['sma'] = test[['Close']].rolling(20).mean().fillna(0)\n",
    "test['smb'] = test[['Close']].rolling(100).mean().fillna(0)"
   ]
  },
  {
   "cell_type": "code",
   "execution_count": 1291,
   "metadata": {},
   "outputs": [
    {
     "name": "stderr",
     "output_type": "stream",
     "text": [
      "C:\\Users\\lexik\\.conda\\envs\\quant\\lib\\site-packages\\ipykernel_launcher.py:1: SettingWithCopyWarning: \n",
      "A value is trying to be set on a copy of a slice from a DataFrame.\n",
      "Try using .loc[row_indexer,col_indexer] = value instead\n",
      "\n",
      "See the caveats in the documentation: https://pandas.pydata.org/pandas-docs/stable/user_guide/indexing.html#returning-a-view-versus-a-copy\n",
      "  \"\"\"Entry point for launching an IPython kernel.\n"
     ]
    }
   ],
   "source": [
    "test['signal'] = np.sign(test.sma-test.smb).diff().fillna(0)"
   ]
  },
  {
   "cell_type": "code",
   "execution_count": 1359,
   "metadata": {},
   "outputs": [
    {
     "data": {
      "text/plain": [
       "<matplotlib.axes._subplots.AxesSubplot at 0x1bcac11f3c8>"
      ]
     },
     "execution_count": 1359,
     "metadata": {},
     "output_type": "execute_result"
    },
    {
     "data": {
      "image/png": "[encoded data removed]",
      "text/plain": [
       "<Figure size 432x288 with 1 Axes>"
      ]
     },
     "metadata": {
      "needs_background": "light"
     },
     "output_type": "display_data"
    }
   ],
   "source": [
    "(test.signal.cumsum()).apply(lambda x: x * (x > 0)).plot()\n",
    "(test.signal.cumsum()).apply(lambda x: 1 if x > 0 else 0).plot()"
   ]
  },
  {
   "cell_type": "code",
   "execution_count": 1357,
   "metadata": {},
   "outputs": [
    {
     "data": {
      "text/html": [
       "<div>\n",
       "<style scoped>\n",
       "    .dataframe tbody tr th:only-of-type {\n",
       "        vertical-align: middle;\n",
       "    }\n",
       "\n",
       "    .dataframe tbody tr th {\n",
       "        vertical-align: top;\n",
       "    }\n",
       "\n",
       "    .dataframe thead th {\n",
       "        text-align: right;\n",
       "    }\n",
       "</style>\n",
       "<table border=\"1\" class=\"dataframe\">\n",
       "  <thead>\n",
       "    <tr style=\"text-align: right;\">\n",
       "      <th></th>\n",
       "      <th>Close</th>\n",
       "      <th>sma</th>\n",
       "      <th>smb</th>\n",
       "      <th>signal</th>\n",
       "      <th>sig_up</th>\n",
       "      <th>sig_dwn</th>\n",
       "      <th>diff</th>\n",
       "      <th>pnlx</th>\n",
       "    </tr>\n",
       "    <tr>\n",
       "      <th>Date</th>\n",
       "      <th></th>\n",
       "      <th></th>\n",
       "      <th></th>\n",
       "      <th></th>\n",
       "      <th></th>\n",
       "      <th></th>\n",
       "      <th></th>\n",
       "      <th></th>\n",
       "    </tr>\n",
       "  </thead>\n",
       "  <tbody>\n",
       "    <tr>\n",
       "      <th>2016-01-01</th>\n",
       "      <td>433.98</td>\n",
       "      <td>0.0000</td>\n",
       "      <td>0.000</td>\n",
       "      <td>0.0</td>\n",
       "      <td>0.0</td>\n",
       "      <td>0.0</td>\n",
       "      <td>0.00</td>\n",
       "      <td>NaN</td>\n",
       "    </tr>\n",
       "    <tr>\n",
       "      <th>2016-01-02</th>\n",
       "      <td>432.70</td>\n",
       "      <td>0.0000</td>\n",
       "      <td>0.000</td>\n",
       "      <td>0.0</td>\n",
       "      <td>0.0</td>\n",
       "      <td>0.0</td>\n",
       "      <td>-1.28</td>\n",
       "      <td>0.00</td>\n",
       "    </tr>\n",
       "    <tr>\n",
       "      <th>2016-01-03</th>\n",
       "      <td>428.66</td>\n",
       "      <td>0.0000</td>\n",
       "      <td>0.000</td>\n",
       "      <td>0.0</td>\n",
       "      <td>0.0</td>\n",
       "      <td>0.0</td>\n",
       "      <td>-4.04</td>\n",
       "      <td>0.00</td>\n",
       "    </tr>\n",
       "    <tr>\n",
       "      <th>2016-01-04</th>\n",
       "      <td>432.90</td>\n",
       "      <td>0.0000</td>\n",
       "      <td>0.000</td>\n",
       "      <td>0.0</td>\n",
       "      <td>0.0</td>\n",
       "      <td>0.0</td>\n",
       "      <td>4.24</td>\n",
       "      <td>0.00</td>\n",
       "    </tr>\n",
       "    <tr>\n",
       "      <th>2016-01-05</th>\n",
       "      <td>431.84</td>\n",
       "      <td>0.0000</td>\n",
       "      <td>0.000</td>\n",
       "      <td>0.0</td>\n",
       "      <td>0.0</td>\n",
       "      <td>0.0</td>\n",
       "      <td>-1.06</td>\n",
       "      <td>0.00</td>\n",
       "    </tr>\n",
       "    <tr>\n",
       "      <th>...</th>\n",
       "      <td>...</td>\n",
       "      <td>...</td>\n",
       "      <td>...</td>\n",
       "      <td>...</td>\n",
       "      <td>...</td>\n",
       "      <td>...</td>\n",
       "      <td>...</td>\n",
       "      <td>...</td>\n",
       "    </tr>\n",
       "    <tr>\n",
       "      <th>2020-03-21</th>\n",
       "      <td>6201.80</td>\n",
       "      <td>7059.3790</td>\n",
       "      <td>8261.702</td>\n",
       "      <td>0.0</td>\n",
       "      <td>-0.0</td>\n",
       "      <td>-1.0</td>\n",
       "      <td>-4.00</td>\n",
       "      <td>13274.14</td>\n",
       "    </tr>\n",
       "    <tr>\n",
       "      <th>2020-03-22</th>\n",
       "      <td>5827.05</td>\n",
       "      <td>6903.8265</td>\n",
       "      <td>8247.141</td>\n",
       "      <td>0.0</td>\n",
       "      <td>-0.0</td>\n",
       "      <td>-1.0</td>\n",
       "      <td>-374.75</td>\n",
       "      <td>13648.89</td>\n",
       "    </tr>\n",
       "    <tr>\n",
       "      <th>2020-03-23</th>\n",
       "      <td>6491.20</td>\n",
       "      <td>6788.8315</td>\n",
       "      <td>8241.045</td>\n",
       "      <td>0.0</td>\n",
       "      <td>-0.0</td>\n",
       "      <td>-1.0</td>\n",
       "      <td>664.15</td>\n",
       "      <td>12984.74</td>\n",
       "    </tr>\n",
       "    <tr>\n",
       "      <th>2020-03-24</th>\n",
       "      <td>6762.00</td>\n",
       "      <td>6687.5025</td>\n",
       "      <td>8237.138</td>\n",
       "      <td>0.0</td>\n",
       "      <td>-0.0</td>\n",
       "      <td>-1.0</td>\n",
       "      <td>270.80</td>\n",
       "      <td>12713.94</td>\n",
       "    </tr>\n",
       "    <tr>\n",
       "      <th>2020-03-25</th>\n",
       "      <td>6545.10</td>\n",
       "      <td>6560.2175</td>\n",
       "      <td>8233.321</td>\n",
       "      <td>0.0</td>\n",
       "      <td>-0.0</td>\n",
       "      <td>-1.0</td>\n",
       "      <td>-216.90</td>\n",
       "      <td>12930.84</td>\n",
       "    </tr>\n",
       "  </tbody>\n",
       "</table>\n",
       "<p>1532 rows × 8 columns</p>\n",
       "</div>"
      ],
      "text/plain": [
       "              Close        sma       smb  signal  sig_up  sig_dwn    diff  \\\n",
       "Date                                                                        \n",
       "2016-01-01   433.98     0.0000     0.000     0.0     0.0      0.0    0.00   \n",
       "2016-01-02   432.70     0.0000     0.000     0.0     0.0      0.0   -1.28   \n",
       "2016-01-03   428.66     0.0000     0.000     0.0     0.0      0.0   -4.04   \n",
       "2016-01-04   432.90     0.0000     0.000     0.0     0.0      0.0    4.24   \n",
       "2016-01-05   431.84     0.0000     0.000     0.0     0.0      0.0   -1.06   \n",
       "...             ...        ...       ...     ...     ...      ...     ...   \n",
       "2020-03-21  6201.80  7059.3790  8261.702     0.0    -0.0     -1.0   -4.00   \n",
       "2020-03-22  5827.05  6903.8265  8247.141     0.0    -0.0     -1.0 -374.75   \n",
       "2020-03-23  6491.20  6788.8315  8241.045     0.0    -0.0     -1.0  664.15   \n",
       "2020-03-24  6762.00  6687.5025  8237.138     0.0    -0.0     -1.0  270.80   \n",
       "2020-03-25  6545.10  6560.2175  8233.321     0.0    -0.0     -1.0 -216.90   \n",
       "\n",
       "                pnlx  \n",
       "Date                  \n",
       "2016-01-01       NaN  \n",
       "2016-01-02      0.00  \n",
       "2016-01-03      0.00  \n",
       "2016-01-04      0.00  \n",
       "2016-01-05      0.00  \n",
       "...              ...  \n",
       "2020-03-21  13274.14  \n",
       "2020-03-22  13648.89  \n",
       "2020-03-23  12984.74  \n",
       "2020-03-24  12713.94  \n",
       "2020-03-25  12930.84  \n",
       "\n",
       "[1532 rows x 8 columns]"
      ]
     },
     "execution_count": 1357,
     "metadata": {},
     "output_type": "execute_result"
    }
   ],
   "source": [
    "test"
   ]
  },
  {
   "cell_type": "code",
   "execution_count": 1352,
   "metadata": {},
   "outputs": [
    {
     "data": {
      "text/plain": [
       "<matplotlib.axes._subplots.AxesSubplot at 0x1bcaaec2988>"
      ]
     },
     "execution_count": 1352,
     "metadata": {},
     "output_type": "execute_result"
    },
    {
     "data": {
      "image/png": "[encoded data removed]",
      "text/plain": [
       "<Figure size 432x288 with 1 Axes>"
      ]
     },
     "metadata": {
      "needs_background": "light"
     },
     "output_type": "display_data"
    }
   ],
   "source": [
    "test.sig_up.plot()"
   ]
  },
  {
   "cell_type": "code",
   "execution_count": 1293,
   "metadata": {},
   "outputs": [
    {
     "data": {
      "text/plain": [
       "<matplotlib.axes._subplots.AxesSubplot at 0x1bca54da748>"
      ]
     },
     "execution_count": 1293,
     "metadata": {},
     "output_type": "execute_result"
    },
    {
     "data": {
      "image/png": "[encoded data removed]",
      "text/plain": [
       "<Figure size 432x288 with 1 Axes>"
      ]
     },
     "metadata": {
      "needs_background": "light"
     },
     "output_type": "display_data"
    }
   ],
   "source": [
    "test.signal.plot()"
   ]
  },
  {
   "cell_type": "code",
   "execution_count": 1298,
   "metadata": {},
   "outputs": [],
   "source": [
    "sig_up = test.signal.cumsum().apply(lambda x:x*(x>0))"
   ]
  },
  {
   "cell_type": "code",
   "execution_count": 1299,
   "metadata": {},
   "outputs": [],
   "source": [
    "sig_dwn = test.signal.cumsum().apply(lambda x:x*(x<0))"
   ]
  },
  {
   "cell_type": "code",
   "execution_count": 1307,
   "metadata": {},
   "outputs": [
    {
     "name": "stderr",
     "output_type": "stream",
     "text": [
      "C:\\Users\\lexik\\.conda\\envs\\quant\\lib\\site-packages\\ipykernel_launcher.py:1: SettingWithCopyWarning: \n",
      "A value is trying to be set on a copy of a slice from a DataFrame.\n",
      "Try using .loc[row_indexer,col_indexer] = value instead\n",
      "\n",
      "See the caveats in the documentation: https://pandas.pydata.org/pandas-docs/stable/user_guide/indexing.html#returning-a-view-versus-a-copy\n",
      "  \"\"\"Entry point for launching an IPython kernel.\n",
      "C:\\Users\\lexik\\.conda\\envs\\quant\\lib\\site-packages\\ipykernel_launcher.py:2: SettingWithCopyWarning: \n",
      "A value is trying to be set on a copy of a slice from a DataFrame.\n",
      "Try using .loc[row_indexer,col_indexer] = value instead\n",
      "\n",
      "See the caveats in the documentation: https://pandas.pydata.org/pandas-docs/stable/user_guide/indexing.html#returning-a-view-versus-a-copy\n",
      "  \n"
     ]
    }
   ],
   "source": [
    "test['sig_up'] = sig_up\n",
    "test['sig_dwn'] = sig_dwn"
   ]
  },
  {
   "cell_type": "code",
   "execution_count": null,
   "metadata": {},
   "outputs": [],
   "source": [
    "pnlx = np.cumsum(p.diff()*sig_up+p.diff()*sig_dwn).sum(axis=1)"
   ]
  },
  {
   "cell_type": "code",
   "execution_count": 1318,
   "metadata": {},
   "outputs": [
    {
     "name": "stderr",
     "output_type": "stream",
     "text": [
      "C:\\Users\\lexik\\.conda\\envs\\quant\\lib\\site-packages\\ipykernel_launcher.py:1: SettingWithCopyWarning: \n",
      "A value is trying to be set on a copy of a slice from a DataFrame.\n",
      "Try using .loc[row_indexer,col_indexer] = value instead\n",
      "\n",
      "See the caveats in the documentation: https://pandas.pydata.org/pandas-docs/stable/user_guide/indexing.html#returning-a-view-versus-a-copy\n",
      "  \"\"\"Entry point for launching an IPython kernel.\n"
     ]
    }
   ],
   "source": [
    "test['diff'] = test.Close.diff().fillna(0)"
   ]
  },
  {
   "cell_type": "code",
   "execution_count": 1327,
   "metadata": {},
   "outputs": [
    {
     "data": {
      "text/plain": [
       "<matplotlib.axes._subplots.AxesSubplot at 0x1bcaaaf93c8>"
      ]
     },
     "execution_count": 1327,
     "metadata": {},
     "output_type": "execute_result"
    },
    {
     "data": {
      "image/png": "[encoded data removed]",
      "text/plain": [
       "<Figure size 432x288 with 1 Axes>"
      ]
     },
     "metadata": {
      "needs_background": "light"
     },
     "output_type": "display_data"
    }
   ],
   "source": [
    "(test[test.sig_up==1]['diff'].cumsum() + test[test.sig_dwn==1]['diff'].cumsum()).plot()"
   ]
  },
  {
   "cell_type": "code",
   "execution_count": 1328,
   "metadata": {},
   "outputs": [
    {
     "name": "stderr",
     "output_type": "stream",
     "text": [
      "C:\\Users\\lexik\\.conda\\envs\\quant\\lib\\site-packages\\ipykernel_launcher.py:1: SettingWithCopyWarning: \n",
      "A value is trying to be set on a copy of a slice from a DataFrame.\n",
      "Try using .loc[row_indexer,col_indexer] = value instead\n",
      "\n",
      "See the caveats in the documentation: https://pandas.pydata.org/pandas-docs/stable/user_guide/indexing.html#returning-a-view-versus-a-copy\n",
      "  \"\"\"Entry point for launching an IPython kernel.\n"
     ]
    }
   ],
   "source": [
    "test['pnlx'] = np.cumsum(test.Close.diff() * test.sig_up + test.Close.diff() * test.sig_dwn)"
   ]
  },
  {
   "cell_type": "code",
   "execution_count": 1346,
   "metadata": {},
   "outputs": [
    {
     "data": {
      "text/plain": [
       "<matplotlib.axes._subplots.AxesSubplot at 0x1bcaacdb908>"
      ]
     },
     "execution_count": 1346,
     "metadata": {},
     "output_type": "execute_result"
    },
    {
     "data": {
      "image/png": "[encoded data removed]",
      "text/plain": [
       "<Figure size 432x288 with 1 Axes>"
      ]
     },
     "metadata": {
      "needs_background": "light"
     },
     "output_type": "display_data"
    }
   ],
   "source": [
    "test.pnlx.plot()"
   ]
  },
  {
   "cell_type": "code",
   "execution_count": 1314,
   "metadata": {},
   "outputs": [
    {
     "data": {
      "text/plain": [
       "<matplotlib.axes._subplots.AxesSubplot at 0x1bca5a8ca88>"
      ]
     },
     "execution_count": 1314,
     "metadata": {},
     "output_type": "execute_result"
    },
    {
     "data": {
      "image/png": "[encoded data removed]",
      "text/plain": [
       "<Figure size 1080x864 with 1 Axes>"
      ]
     },
     "metadata": {
      "needs_background": "light"
     },
     "output_type": "display_data"
    }
   ],
   "source": [
    "test[['signal', 'sig_up', 'sig_dwn']].plot(figsize=(15,12))"
   ]
  },
  {
   "cell_type": "code",
   "execution_count": 1296,
   "metadata": {},
   "outputs": [
    {
     "data": {
      "text/plain": [
       "<matplotlib.axes._subplots.AxesSubplot at 0x1bca5556388>"
      ]
     },
     "execution_count": 1296,
     "metadata": {},
     "output_type": "execute_result"
    },
    {
     "data": {
      "image/png": "[encoded data removed]",
      "text/plain": [
       "<Figure size 432x288 with 1 Axes>"
      ]
     },
     "metadata": {
      "needs_background": "light"
     },
     "output_type": "display_data"
    }
   ],
   "source": [
    "test.signal.plot()"
   ]
  },
  {
   "cell_type": "code",
   "execution_count": 1281,
   "metadata": {},
   "outputs": [
    {
     "data": {
      "text/plain": [
       "<matplotlib.axes._subplots.AxesSubplot at 0x1bca51d6d08>"
      ]
     },
     "execution_count": 1281,
     "metadata": {},
     "output_type": "execute_result"
    },
    {
     "data": {
      "image/png": "[encoded data removed]",
      "text/plain": [
       "<Figure size 432x288 with 1 Axes>"
      ]
     },
     "metadata": {
      "needs_background": "light"
     },
     "output_type": "display_data"
    }
   ],
   "source": [
    "test.signal.plot()"
   ]
  },
  {
   "cell_type": "code",
   "execution_count": 1360,
   "metadata": {},
   "outputs": [
    {
     "data": {
      "text/html": [
       "<div>\n",
       "<style scoped>\n",
       "    .dataframe tbody tr th:only-of-type {\n",
       "        vertical-align: middle;\n",
       "    }\n",
       "\n",
       "    .dataframe tbody tr th {\n",
       "        vertical-align: top;\n",
       "    }\n",
       "\n",
       "    .dataframe thead th {\n",
       "        text-align: right;\n",
       "    }\n",
       "</style>\n",
       "<table border=\"1\" class=\"dataframe\">\n",
       "  <thead>\n",
       "    <tr style=\"text-align: right;\">\n",
       "      <th></th>\n",
       "      <th>Close</th>\n",
       "      <th>sma</th>\n",
       "      <th>smb</th>\n",
       "      <th>signal</th>\n",
       "      <th>sig_up</th>\n",
       "      <th>sig_dwn</th>\n",
       "      <th>diff</th>\n",
       "      <th>pnlx</th>\n",
       "    </tr>\n",
       "    <tr>\n",
       "      <th>Date</th>\n",
       "      <th></th>\n",
       "      <th></th>\n",
       "      <th></th>\n",
       "      <th></th>\n",
       "      <th></th>\n",
       "      <th></th>\n",
       "      <th></th>\n",
       "      <th></th>\n",
       "    </tr>\n",
       "  </thead>\n",
       "  <tbody>\n",
       "    <tr>\n",
       "      <th>2016-01-01</th>\n",
       "      <td>433.98</td>\n",
       "      <td>0.0000</td>\n",
       "      <td>0.000</td>\n",
       "      <td>0.0</td>\n",
       "      <td>0.0</td>\n",
       "      <td>0.0</td>\n",
       "      <td>0.00</td>\n",
       "      <td>NaN</td>\n",
       "    </tr>\n",
       "    <tr>\n",
       "      <th>2016-01-02</th>\n",
       "      <td>432.70</td>\n",
       "      <td>0.0000</td>\n",
       "      <td>0.000</td>\n",
       "      <td>0.0</td>\n",
       "      <td>0.0</td>\n",
       "      <td>0.0</td>\n",
       "      <td>-1.28</td>\n",
       "      <td>0.00</td>\n",
       "    </tr>\n",
       "    <tr>\n",
       "      <th>2016-01-03</th>\n",
       "      <td>428.66</td>\n",
       "      <td>0.0000</td>\n",
       "      <td>0.000</td>\n",
       "      <td>0.0</td>\n",
       "      <td>0.0</td>\n",
       "      <td>0.0</td>\n",
       "      <td>-4.04</td>\n",
       "      <td>0.00</td>\n",
       "    </tr>\n",
       "    <tr>\n",
       "      <th>2016-01-04</th>\n",
       "      <td>432.90</td>\n",
       "      <td>0.0000</td>\n",
       "      <td>0.000</td>\n",
       "      <td>0.0</td>\n",
       "      <td>0.0</td>\n",
       "      <td>0.0</td>\n",
       "      <td>4.24</td>\n",
       "      <td>0.00</td>\n",
       "    </tr>\n",
       "    <tr>\n",
       "      <th>2016-01-05</th>\n",
       "      <td>431.84</td>\n",
       "      <td>0.0000</td>\n",
       "      <td>0.000</td>\n",
       "      <td>0.0</td>\n",
       "      <td>0.0</td>\n",
       "      <td>0.0</td>\n",
       "      <td>-1.06</td>\n",
       "      <td>0.00</td>\n",
       "    </tr>\n",
       "    <tr>\n",
       "      <th>...</th>\n",
       "      <td>...</td>\n",
       "      <td>...</td>\n",
       "      <td>...</td>\n",
       "      <td>...</td>\n",
       "      <td>...</td>\n",
       "      <td>...</td>\n",
       "      <td>...</td>\n",
       "      <td>...</td>\n",
       "    </tr>\n",
       "    <tr>\n",
       "      <th>2020-03-21</th>\n",
       "      <td>6201.80</td>\n",
       "      <td>7059.3790</td>\n",
       "      <td>8261.702</td>\n",
       "      <td>0.0</td>\n",
       "      <td>-0.0</td>\n",
       "      <td>-1.0</td>\n",
       "      <td>-4.00</td>\n",
       "      <td>13274.14</td>\n",
       "    </tr>\n",
       "    <tr>\n",
       "      <th>2020-03-22</th>\n",
       "      <td>5827.05</td>\n",
       "      <td>6903.8265</td>\n",
       "      <td>8247.141</td>\n",
       "      <td>0.0</td>\n",
       "      <td>-0.0</td>\n",
       "      <td>-1.0</td>\n",
       "      <td>-374.75</td>\n",
       "      <td>13648.89</td>\n",
       "    </tr>\n",
       "    <tr>\n",
       "      <th>2020-03-23</th>\n",
       "      <td>6491.20</td>\n",
       "      <td>6788.8315</td>\n",
       "      <td>8241.045</td>\n",
       "      <td>0.0</td>\n",
       "      <td>-0.0</td>\n",
       "      <td>-1.0</td>\n",
       "      <td>664.15</td>\n",
       "      <td>12984.74</td>\n",
       "    </tr>\n",
       "    <tr>\n",
       "      <th>2020-03-24</th>\n",
       "      <td>6762.00</td>\n",
       "      <td>6687.5025</td>\n",
       "      <td>8237.138</td>\n",
       "      <td>0.0</td>\n",
       "      <td>-0.0</td>\n",
       "      <td>-1.0</td>\n",
       "      <td>270.80</td>\n",
       "      <td>12713.94</td>\n",
       "    </tr>\n",
       "    <tr>\n",
       "      <th>2020-03-25</th>\n",
       "      <td>6545.10</td>\n",
       "      <td>6560.2175</td>\n",
       "      <td>8233.321</td>\n",
       "      <td>0.0</td>\n",
       "      <td>-0.0</td>\n",
       "      <td>-1.0</td>\n",
       "      <td>-216.90</td>\n",
       "      <td>12930.84</td>\n",
       "    </tr>\n",
       "  </tbody>\n",
       "</table>\n",
       "<p>1532 rows × 8 columns</p>\n",
       "</div>"
      ],
      "text/plain": [
       "              Close        sma       smb  signal  sig_up  sig_dwn    diff  \\\n",
       "Date                                                                        \n",
       "2016-01-01   433.98     0.0000     0.000     0.0     0.0      0.0    0.00   \n",
       "2016-01-02   432.70     0.0000     0.000     0.0     0.0      0.0   -1.28   \n",
       "2016-01-03   428.66     0.0000     0.000     0.0     0.0      0.0   -4.04   \n",
       "2016-01-04   432.90     0.0000     0.000     0.0     0.0      0.0    4.24   \n",
       "2016-01-05   431.84     0.0000     0.000     0.0     0.0      0.0   -1.06   \n",
       "...             ...        ...       ...     ...     ...      ...     ...   \n",
       "2020-03-21  6201.80  7059.3790  8261.702     0.0    -0.0     -1.0   -4.00   \n",
       "2020-03-22  5827.05  6903.8265  8247.141     0.0    -0.0     -1.0 -374.75   \n",
       "2020-03-23  6491.20  6788.8315  8241.045     0.0    -0.0     -1.0  664.15   \n",
       "2020-03-24  6762.00  6687.5025  8237.138     0.0    -0.0     -1.0  270.80   \n",
       "2020-03-25  6545.10  6560.2175  8233.321     0.0    -0.0     -1.0 -216.90   \n",
       "\n",
       "                pnlx  \n",
       "Date                  \n",
       "2016-01-01       NaN  \n",
       "2016-01-02      0.00  \n",
       "2016-01-03      0.00  \n",
       "2016-01-04      0.00  \n",
       "2016-01-05      0.00  \n",
       "...              ...  \n",
       "2020-03-21  13274.14  \n",
       "2020-03-22  13648.89  \n",
       "2020-03-23  12984.74  \n",
       "2020-03-24  12713.94  \n",
       "2020-03-25  12930.84  \n",
       "\n",
       "[1532 rows x 8 columns]"
      ]
     },
     "execution_count": 1360,
     "metadata": {},
     "output_type": "execute_result"
    }
   ],
   "source": [
    "test"
   ]
  },
  {
   "cell_type": "code",
   "execution_count": null,
   "metadata": {},
   "outputs": [],
   "source": []
  }
 ],
 "metadata": {
  "kernelspec": {
   "display_name": "Python 3",
   "language": "python",
   "name": "python3"
  },
  "language_info": {
   "codemirror_mode": {
    "name": "ipython",
    "version": 3
   },
   "file_extension": ".py",
   "mimetype": "text/x-python",
   "name": "python",
   "nbconvert_exporter": "python",
   "pygments_lexer": "ipython3",
   "version": "3.7.6"
  }
 },
 "nbformat": 4,
 "nbformat_minor": 4
}
