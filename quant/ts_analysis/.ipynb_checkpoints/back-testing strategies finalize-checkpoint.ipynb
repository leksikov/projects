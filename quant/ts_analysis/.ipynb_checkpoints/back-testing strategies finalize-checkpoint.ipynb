{
 "cells": [
  {
   "cell_type": "code",
   "execution_count": 1,
   "metadata": {},
   "outputs": [],
   "source": [
    "import numpy as np\n",
    "import pandas as pd\n"
   ]
  },
  {
   "cell_type": "code",
   "execution_count": 635,
   "metadata": {},
   "outputs": [],
   "source": [
    "def momentum_strategy(ts, period, type_ret):\n",
    "    \n",
    "    ts['returns'] = ts[['Close']].pct_change(period).fillna(0)\n",
    "    ts['returns2'] = ts[['Close']].pct_change(period).fillna(0).shift(period).fillna(0)\n",
    "    \n",
    "    ts['entry'] = np.sign(ts['returns'] * ts.returns2) # signal\n",
    "    #ts['entry'] = ts['entry'].shift(1).fillna(0)\n",
    "    ts['direction'] = np.sign(ts.returns) # signal up, down\n",
    "    ts['shift_returns'] = ts.returns.shift(-1).fillna(0)\n",
    "    ts['shift_Change'] = ts['Change'].shift(-1).fillna(0)\n",
    "    if type_ret == 1:\n",
    "        ts['val'] = ts.shift_returns * ts.direction\n",
    "    else:\n",
    "        ts['val'] = ts.shift_Change * ts.direction\n",
    "    return ts #ts[(ts.entry==1) & (ts.val > 0) ].val.sum() / (ts[(ts.entry==1) & (ts.val < 0) ].val.abs().sum())  #.dropna()"
   ]
  },
  {
   "cell_type": "code",
   "execution_count": 634,
   "metadata": {},
   "outputs": [],
   "source": [
    "def mean_reversal(ts, period, type_ret):\n",
    "    \n",
    "    ts['returns'] = ts[['Close']].pct_change(period).fillna(0)\n",
    "    ts['returns2'] = ts[['Close']].pct_change(period).fillna(0).shift(period).fillna(0)\n",
    "    \n",
    "    ts['entry'] = np.sign(ts['returns'] * ts.returns2) * (-1) # signal\n",
    "    #ts['entry'] = ts['entry'].shift(1).fillna(0)\n",
    "    ts['direction'] = np.sign(ts.returns * (-1)) # signal up, down\n",
    "    ts['shift_returns'] = ts.returns.shift(-1).fillna(0)\n",
    "    ts['shift_Change'] = ts['Change'].shift(-1).fillna(0)\n",
    "    ts['val'] = ts.shift_returns * ts.direction\n",
    "    if type_ret == 1:\n",
    "        ts['val'] = ts.shift_returns * ts.direction\n",
    "    else:\n",
    "        ts['val'] = ts.shift_Change * ts.direction\n",
    "    return ts #ts[(ts.entry==1) & (ts.val > 0) ].val.sum() / (ts[(ts.entry==1) & (ts.val < 0) ].val.abs().sum())  #.dropna()"
   ]
  },
  {
   "cell_type": "code",
   "execution_count": 636,
   "metadata": {},
   "outputs": [],
   "source": [
    "def mean_reversal2(ts, period, type_ret):\n",
    "    \n",
    "    ts['returns'] = ts[['Close']].pct_change(period).fillna(0)\n",
    "    ts['returns2'] = ts[['Close']].pct_change(period).fillna(0).shift(period).fillna(0)\n",
    "    \n",
    "    ts['entry'] = np.sign(ts['returns'] * ts.returns2)  # signal\n",
    "    #ts['entry'] = ts['entry'].shift(1).fillna(0)\n",
    "    ts['direction'] = np.sign(ts.returns * (-1)) # signal up, down\n",
    "    ts['shift_returns'] = ts.returns.shift(-1).fillna(0)\n",
    "    ts['shift_Change'] = ts['Change'].shift(-1).fillna(0)\n",
    "    ts['val'] = ts.shift_returns * ts.direction\n",
    "    if type_ret == 1:\n",
    "        ts['val'] = ts.shift_returns * ts.direction\n",
    "    else:\n",
    "        ts['val'] = ts.shift_Change * ts.direction\n",
    "    return ts #ts[(ts.entry==1) & (ts.val > 0) ].val.sum() / (ts[(ts.entry==1) & (ts.val < 0) ].val.abs().sum())  #.dropna()"
   ]
  },
  {
   "cell_type": "code",
   "execution_count": 352,
   "metadata": {},
   "outputs": [],
   "source": [
    "def ma_crossover(df_, a, b):\n",
    "\n",
    "    df_ = df_[['Close']]\n",
    "    df_['returns'] = df_['Close'].pct_change().fillna(0)\n",
    "    df_['shift_returns'] = df_['Close'].pct_change().shift(-1).fillna(0)\n",
    "    df_['sma'] = df_['Close'].rolling(a).mean().fillna(0)\n",
    "    df_['smb'] = df_['Close'].rolling(b).mean().fillna(0)\n",
    "    df_['signal'] = np.sign(df_.sma-df_.smb).diff().fillna(0)\n",
    "    df_['sig_up'] = df_['signal'].cumsum().apply(lambda x:x*(x>0))\n",
    "    df_['sig_dwn'] = df_['signal'].cumsum().apply(lambda x:x*(x<0))\n",
    "    df_['val'] = df_.returns * df_.sig_up + df_.returns * df_.sig_dwn\n",
    "    df_['pnls'] = np.cumsum(df_.returns * df_.sig_up + df_.returns * df_.sig_dwn)\n",
    "    \n",
    "    return df_"
   ]
  },
  {
   "cell_type": "code",
   "execution_count": null,
   "metadata": {},
   "outputs": [],
   "source": [
    "result = []\n",
    "for i in range(1, 50):\n",
    "    val = momentum_strategy(btc.loc['2020-01-01':][['Close', 'Change']], i)\n",
    "    result.append((i, val))\n",
    "    "
   ]
  },
  {
   "cell_type": "code",
   "execution_count": 7,
   "metadata": {},
   "outputs": [
    {
     "data": {
      "text/plain": [
       "'\\nnumber of trades\\nnumber of up/dwn trades ratio\\nnumber of correct trades, accuracy\\ntotal profit\\nprofit factor\\nSharpe ratio of returns\\nSharpe ratio of trades\\nMax drawdown\\n\\n\\n'"
      ]
     },
     "execution_count": 7,
     "metadata": {},
     "output_type": "execute_result"
    }
   ],
   "source": [
    "## strategy performance descriptions:\n",
    "\"\"\"\n",
    "number of trades\n",
    "number of up/dwn trades ratio\n",
    "number of correct trades, accuracy\n",
    "total profit\n",
    "profit factor\n",
    "Sharpe ratio of returns\n",
    "Sharpe ratio of trades\n",
    "Max drawdown\n",
    "\n",
    "\n",
    "\"\"\""
   ]
  },
  {
   "cell_type": "code",
   "execution_count": 421,
   "metadata": {},
   "outputs": [],
   "source": [
    "def load_df(name):\n",
    "    eurusd_df = pd.read_csv(name)\n",
    "    eurusd_df = eurusd_df.rename(columns={'<TICKER>':'Ticker', '<DTYYYYMMDD>':'Date', '<TIME>':'Time', '<OPEN>':'Open', '<HIGH>':'High', '<LOW>':'Low', '<CLOSE>':'Close', '<VOL>':'Vol'})\n",
    "    eurusd_df[['Date']] = pd.to_datetime(eurusd_df['Date'].astype('str'), yearfirst=True)\n",
    "    eurusd_df =eurusd_df.sort_values(by=['Date', 'Time'])\n",
    "    eur_df = eurusd_df[['Date', 'Time', 'Close', 'Open', 'High', 'Low', 'Vol']].rename(columns={'Close':'Close'})\n",
    "    eur_df['Change'] = eur_df['Close'].pct_change()\n",
    "    eur_df.dropna(inplace=True)\n",
    "    #eur_df = eur_df[eur_df.Date>'2020-01-01']\n",
    "    #eur_df = eur_df.set_index('Date')\n",
    "    return eur_df"
   ]
  },
  {
   "cell_type": "code",
   "execution_count": 422,
   "metadata": {},
   "outputs": [],
   "source": [
    "name='../dataset/eurusd_fxcm/eurusd_1d.csv'\n",
    "eur_df = load_df(name)\n",
    "eur_df = eur_df.set_index('Date')\n",
    "eur_df.drop(columns=['Time'], inplace=True)"
   ]
  },
  {
   "cell_type": "code",
   "execution_count": 35,
   "metadata": {},
   "outputs": [],
   "source": [
    "res = momentum_strategy(eur_df, 1)"
   ]
  },
  {
   "cell_type": "code",
   "execution_count": 38,
   "metadata": {},
   "outputs": [
    {
     "data": {
      "text/plain": [
       "<matplotlib.axes._subplots.AxesSubplot at 0x2a301065f08>"
      ]
     },
     "execution_count": 38,
     "metadata": {},
     "output_type": "execute_result"
    },
    {
     "data": {
      "image/png": "[encoded data removed]",
      "text/plain": [
       "<Figure size 1080x864 with 1 Axes>"
      ]
     },
     "metadata": {
      "needs_background": "light"
     },
     "output_type": "display_data"
    }
   ],
   "source": [
    "res.loc['2020-01-20':].Close.plot(figsize=(15,12))"
   ]
  },
  {
   "cell_type": "code",
   "execution_count": 43,
   "metadata": {},
   "outputs": [
    {
     "data": {
      "text/plain": [
       "<matplotlib.axes._subplots.AxesSubplot at 0x2a3010d9d48>"
      ]
     },
     "execution_count": 43,
     "metadata": {},
     "output_type": "execute_result"
    },
    {
     "data": {
      "image/png": "[encoded data removed]",
      "text/plain": [
       "<Figure size 432x288 with 1 Axes>"
      ]
     },
     "metadata": {
      "needs_background": "light"
     },
     "output_type": "display_data"
    }
   ],
   "source": [
    "res.loc['2020-03-19':].val.cumsum().plot()"
   ]
  },
  {
   "cell_type": "code",
   "execution_count": 46,
   "metadata": {},
   "outputs": [
    {
     "data": {
      "text/plain": [
       "Date\n",
       "2020-02-19   -0.002045\n",
       "2020-02-20   -0.007570\n",
       "2020-02-21   -0.008362\n",
       "2020-02-23   -0.009294\n",
       "2020-02-24   -0.006437\n",
       "2020-02-25   -0.005821\n",
       "2020-02-26    0.004284\n",
       "2020-02-27    0.007185\n",
       "2020-02-28    0.009307\n",
       "2020-03-01    0.017677\n",
       "2020-03-02    0.020575\n",
       "2020-03-03    0.017139\n",
       "2020-03-04    0.009553\n",
       "2020-03-05    0.015550\n",
       "2020-03-06    0.024212\n",
       "2020-03-08    0.025205\n",
       "2020-03-09    0.017765\n",
       "2020-03-10    0.022432\n",
       "2020-03-11    0.029439\n",
       "2020-03-12    0.036477\n",
       "2020-03-13    0.031793\n",
       "2020-03-15    0.032484\n",
       "2020-03-16    0.019288\n",
       "2020-03-17    0.025915\n",
       "2020-03-18    0.052280\n",
       "2020-03-19    0.048619\n",
       "2020-03-20    0.048198\n",
       "2020-03-22    0.041219\n",
       "2020-03-23    0.044406\n",
       "2020-03-24    0.052778\n",
       "2020-03-25    0.067363\n",
       "2020-03-26    0.067363\n",
       "Name: val, dtype: float64"
      ]
     },
     "execution_count": 46,
     "metadata": {},
     "output_type": "execute_result"
    }
   ],
   "source": [
    "res.loc['2020-02-19':].val.cumsum()"
   ]
  },
  {
   "cell_type": "code",
   "execution_count": 47,
   "metadata": {},
   "outputs": [
    {
     "data": {
      "text/plain": [
       "0.06736267475423374"
      ]
     },
     "execution_count": 47,
     "metadata": {},
     "output_type": "execute_result"
    }
   ],
   "source": [
    "res.loc['2020-02-19':].val.sum()"
   ]
  },
  {
   "cell_type": "code",
   "execution_count": 116,
   "metadata": {},
   "outputs": [],
   "source": [
    "df = res"
   ]
  },
  {
   "cell_type": "code",
   "execution_count": 117,
   "metadata": {},
   "outputs": [
    {
     "data": {
      "text/html": [
       "<div>\n",
       "<style scoped>\n",
       "    .dataframe tbody tr th:only-of-type {\n",
       "        vertical-align: middle;\n",
       "    }\n",
       "\n",
       "    .dataframe tbody tr th {\n",
       "        vertical-align: top;\n",
       "    }\n",
       "\n",
       "    .dataframe thead th {\n",
       "        text-align: right;\n",
       "    }\n",
       "</style>\n",
       "<table border=\"1\" class=\"dataframe\">\n",
       "  <thead>\n",
       "    <tr style=\"text-align: right;\">\n",
       "      <th></th>\n",
       "      <th>Close</th>\n",
       "      <th>Vol</th>\n",
       "      <th>Change</th>\n",
       "      <th>returns</th>\n",
       "      <th>returns2</th>\n",
       "      <th>entry</th>\n",
       "      <th>direction</th>\n",
       "      <th>shift_returns</th>\n",
       "      <th>shift_Change</th>\n",
       "      <th>val</th>\n",
       "    </tr>\n",
       "    <tr>\n",
       "      <th>Date</th>\n",
       "      <th></th>\n",
       "      <th></th>\n",
       "      <th></th>\n",
       "      <th></th>\n",
       "      <th></th>\n",
       "      <th></th>\n",
       "      <th></th>\n",
       "      <th></th>\n",
       "      <th></th>\n",
       "      <th></th>\n",
       "    </tr>\n",
       "  </thead>\n",
       "  <tbody>\n",
       "    <tr>\n",
       "      <th>2010-03-02</th>\n",
       "      <td>1.36185</td>\n",
       "      <td>44046</td>\n",
       "      <td>0.004307</td>\n",
       "      <td>0.000000</td>\n",
       "      <td>0.000000</td>\n",
       "      <td>0.0</td>\n",
       "      <td>0.0</td>\n",
       "      <td>0.005933</td>\n",
       "      <td>0.005933</td>\n",
       "      <td>0.000000</td>\n",
       "    </tr>\n",
       "    <tr>\n",
       "      <th>2010-03-03</th>\n",
       "      <td>1.36993</td>\n",
       "      <td>58804</td>\n",
       "      <td>0.005933</td>\n",
       "      <td>0.005933</td>\n",
       "      <td>0.000000</td>\n",
       "      <td>0.0</td>\n",
       "      <td>1.0</td>\n",
       "      <td>-0.008665</td>\n",
       "      <td>-0.008665</td>\n",
       "      <td>-0.008665</td>\n",
       "    </tr>\n",
       "    <tr>\n",
       "      <th>2010-03-04</th>\n",
       "      <td>1.35806</td>\n",
       "      <td>54033</td>\n",
       "      <td>-0.008665</td>\n",
       "      <td>-0.008665</td>\n",
       "      <td>0.005933</td>\n",
       "      <td>-1.0</td>\n",
       "      <td>-1.0</td>\n",
       "      <td>0.002857</td>\n",
       "      <td>0.002857</td>\n",
       "      <td>-0.002857</td>\n",
       "    </tr>\n",
       "    <tr>\n",
       "      <th>2010-03-05</th>\n",
       "      <td>1.36194</td>\n",
       "      <td>37976</td>\n",
       "      <td>0.002857</td>\n",
       "      <td>0.002857</td>\n",
       "      <td>-0.008665</td>\n",
       "      <td>-1.0</td>\n",
       "      <td>1.0</td>\n",
       "      <td>0.001212</td>\n",
       "      <td>0.001212</td>\n",
       "      <td>0.001212</td>\n",
       "    </tr>\n",
       "    <tr>\n",
       "      <th>2010-03-07</th>\n",
       "      <td>1.36359</td>\n",
       "      <td>1891</td>\n",
       "      <td>0.001212</td>\n",
       "      <td>0.001212</td>\n",
       "      <td>0.002857</td>\n",
       "      <td>1.0</td>\n",
       "      <td>1.0</td>\n",
       "      <td>-0.001313</td>\n",
       "      <td>-0.001313</td>\n",
       "      <td>-0.001313</td>\n",
       "    </tr>\n",
       "  </tbody>\n",
       "</table>\n",
       "</div>"
      ],
      "text/plain": [
       "              Close    Vol    Change   returns  returns2  entry  direction  \\\n",
       "Date                                                                         \n",
       "2010-03-02  1.36185  44046  0.004307  0.000000  0.000000    0.0        0.0   \n",
       "2010-03-03  1.36993  58804  0.005933  0.005933  0.000000    0.0        1.0   \n",
       "2010-03-04  1.35806  54033 -0.008665 -0.008665  0.005933   -1.0       -1.0   \n",
       "2010-03-05  1.36194  37976  0.002857  0.002857 -0.008665   -1.0        1.0   \n",
       "2010-03-07  1.36359   1891  0.001212  0.001212  0.002857    1.0        1.0   \n",
       "\n",
       "            shift_returns  shift_Change       val  \n",
       "Date                                               \n",
       "2010-03-02       0.005933      0.005933  0.000000  \n",
       "2010-03-03      -0.008665     -0.008665 -0.008665  \n",
       "2010-03-04       0.002857      0.002857 -0.002857  \n",
       "2010-03-05       0.001212      0.001212  0.001212  \n",
       "2010-03-07      -0.001313     -0.001313 -0.001313  "
      ]
     },
     "execution_count": 117,
     "metadata": {},
     "output_type": "execute_result"
    }
   ],
   "source": [
    "df.head()"
   ]
  },
  {
   "cell_type": "code",
   "execution_count": 118,
   "metadata": {},
   "outputs": [
    {
     "data": {
      "text/plain": [
       "<matplotlib.axes._subplots.AxesSubplot at 0x2a302fa6648>"
      ]
     },
     "execution_count": 118,
     "metadata": {},
     "output_type": "execute_result"
    },
    {
     "data": {
      "image/png": "[encoded data removed]",
      "text/plain": [
       "<Figure size 432x288 with 1 Axes>"
      ]
     },
     "metadata": {
      "needs_background": "light"
     },
     "output_type": "display_data"
    }
   ],
   "source": [
    "df[df.entry==1].shift_returns.hist(bins=50)"
   ]
  },
  {
   "cell_type": "code",
   "execution_count": 119,
   "metadata": {},
   "outputs": [
    {
     "data": {
      "text/plain": [
       "<matplotlib.axes._subplots.AxesSubplot at 0x2a3030ac1c8>"
      ]
     },
     "execution_count": 119,
     "metadata": {},
     "output_type": "execute_result"
    },
    {
     "data": {
      "image/png": "[encoded data removed]",
      "text/plain": [
       "<Figure size 432x288 with 1 Axes>"
      ]
     },
     "metadata": {
      "needs_background": "light"
     },
     "output_type": "display_data"
    }
   ],
   "source": [
    "df[df.entry==1].returns.hist(bins=50)"
   ]
  },
  {
   "cell_type": "code",
   "execution_count": 120,
   "metadata": {},
   "outputs": [
    {
     "data": {
      "text/html": [
       "<div>\n",
       "<style scoped>\n",
       "    .dataframe tbody tr th:only-of-type {\n",
       "        vertical-align: middle;\n",
       "    }\n",
       "\n",
       "    .dataframe tbody tr th {\n",
       "        vertical-align: top;\n",
       "    }\n",
       "\n",
       "    .dataframe thead th {\n",
       "        text-align: right;\n",
       "    }\n",
       "</style>\n",
       "<table border=\"1\" class=\"dataframe\">\n",
       "  <thead>\n",
       "    <tr style=\"text-align: right;\">\n",
       "      <th></th>\n",
       "      <th>returns</th>\n",
       "      <th>shift_returns</th>\n",
       "    </tr>\n",
       "  </thead>\n",
       "  <tbody>\n",
       "    <tr>\n",
       "      <th>returns</th>\n",
       "      <td>1.000000</td>\n",
       "      <td>0.005951</td>\n",
       "    </tr>\n",
       "    <tr>\n",
       "      <th>shift_returns</th>\n",
       "      <td>0.005951</td>\n",
       "      <td>1.000000</td>\n",
       "    </tr>\n",
       "  </tbody>\n",
       "</table>\n",
       "</div>"
      ],
      "text/plain": [
       "                returns  shift_returns\n",
       "returns        1.000000       0.005951\n",
       "shift_returns  0.005951       1.000000"
      ]
     },
     "execution_count": 120,
     "metadata": {},
     "output_type": "execute_result"
    }
   ],
   "source": [
    "df[(df.entry==1) ][['returns', 'shift_returns']].corr(method='spearman')"
   ]
  },
  {
   "cell_type": "code",
   "execution_count": 130,
   "metadata": {},
   "outputs": [
    {
     "data": {
      "text/plain": [
       "returns    0.000008\n",
       "dtype: float64"
      ]
     },
     "execution_count": 130,
     "metadata": {},
     "output_type": "execute_result"
    }
   ],
   "source": [
    "df[(df.entry==-1) ][['returns']].mean()"
   ]
  },
  {
   "cell_type": "code",
   "execution_count": 122,
   "metadata": {},
   "outputs": [
    {
     "data": {
      "text/plain": [
       "-0.0015170834202830343"
      ]
     },
     "execution_count": 122,
     "metadata": {},
     "output_type": "execute_result"
    }
   ],
   "source": [
    "df[(df.entry==1) ].returns.mean() / (df[(df.entry==1) ].returns.std() * np.sqrt(252))"
   ]
  },
  {
   "cell_type": "code",
   "execution_count": 123,
   "metadata": {},
   "outputs": [
    {
     "data": {
      "text/plain": [
       "-0.010768568619975974"
      ]
     },
     "execution_count": 123,
     "metadata": {},
     "output_type": "execute_result"
    }
   ],
   "source": [
    "df[df.entry==1].val.mean() / df[df.entry==1].val.std()"
   ]
  },
  {
   "cell_type": "code",
   "execution_count": 124,
   "metadata": {},
   "outputs": [
    {
     "data": {
      "text/plain": [
       "0.9700764136539642"
      ]
     },
     "execution_count": 124,
     "metadata": {},
     "output_type": "execute_result"
    }
   ],
   "source": [
    "df[(df.entry==1) & (df.val > 0)].val.abs().sum() / df[(df.entry==1) & (df.val < 0)].val.abs().sum()"
   ]
  },
  {
   "cell_type": "code",
   "execution_count": 125,
   "metadata": {},
   "outputs": [
    {
     "data": {
      "text/plain": [
       "2.748583049201733"
      ]
     },
     "execution_count": 125,
     "metadata": {},
     "output_type": "execute_result"
    }
   ],
   "source": [
    "df[(df.entry==1) & (df.val > 0)].val.sum()"
   ]
  },
  {
   "cell_type": "code",
   "execution_count": 126,
   "metadata": {},
   "outputs": [
    {
     "data": {
      "text/plain": [
       "-2.8333675682812545"
      ]
     },
     "execution_count": 126,
     "metadata": {},
     "output_type": "execute_result"
    }
   ],
   "source": [
    "df[(df.entry==1) & (df.val < 0)].val.sum()"
   ]
  },
  {
   "cell_type": "code",
   "execution_count": null,
   "metadata": {},
   "outputs": [],
   "source": []
  },
  {
   "cell_type": "code",
   "execution_count": 127,
   "metadata": {},
   "outputs": [
    {
     "data": {
      "text/plain": [
       "<matplotlib.axes._subplots.AxesSubplot at 0x2a3031a1a08>"
      ]
     },
     "execution_count": 127,
     "metadata": {},
     "output_type": "execute_result"
    },
    {
     "data": {
      "image/png": "[encoded data removed]",
      "text/plain": [
       "<Figure size 432x288 with 1 Axes>"
      ]
     },
     "metadata": {
      "needs_background": "light"
     },
     "output_type": "display_data"
    }
   ],
   "source": [
    "df[df.entry==-1].reset_index().val.cumsum().plot()"
   ]
  },
  {
   "cell_type": "code",
   "execution_count": 128,
   "metadata": {},
   "outputs": [
    {
     "data": {
      "text/plain": [
       "<matplotlib.axes._subplots.AxesSubplot at 0x2a3031fd788>"
      ]
     },
     "execution_count": 128,
     "metadata": {},
     "output_type": "execute_result"
    },
    {
     "data": {
      "image/png": "[encoded data removed]",
      "text/plain": [
       "<Figure size 432x288 with 1 Axes>"
      ]
     },
     "metadata": {
      "needs_background": "light"
     },
     "output_type": "display_data"
    }
   ],
   "source": [
    "df[(df.entry==-1) & (df.direction==1)].reset_index().val.cumsum().plot()"
   ]
  },
  {
   "cell_type": "code",
   "execution_count": 129,
   "metadata": {},
   "outputs": [
    {
     "data": {
      "text/plain": [
       "<matplotlib.axes._subplots.AxesSubplot at 0x2a303262748>"
      ]
     },
     "execution_count": 129,
     "metadata": {},
     "output_type": "execute_result"
    },
    {
     "data": {
      "image/png": "[encoded data removed]",
      "text/plain": [
       "<Figure size 432x288 with 1 Axes>"
      ]
     },
     "metadata": {
      "needs_background": "light"
     },
     "output_type": "display_data"
    }
   ],
   "source": [
    "df[(df.entry==-1) & (df.direction==-1)].reset_index().val.cumsum().plot()"
   ]
  },
  {
   "cell_type": "code",
   "execution_count": 172,
   "metadata": {},
   "outputs": [],
   "source": [
    "### check mean reversal strategy"
   ]
  },
  {
   "cell_type": "code",
   "execution_count": 173,
   "metadata": {},
   "outputs": [],
   "source": [
    "res = mean_reversal(eur_df, 1)"
   ]
  },
  {
   "cell_type": "code",
   "execution_count": 174,
   "metadata": {},
   "outputs": [
    {
     "data": {
      "text/html": [
       "<div>\n",
       "<style scoped>\n",
       "    .dataframe tbody tr th:only-of-type {\n",
       "        vertical-align: middle;\n",
       "    }\n",
       "\n",
       "    .dataframe tbody tr th {\n",
       "        vertical-align: top;\n",
       "    }\n",
       "\n",
       "    .dataframe thead th {\n",
       "        text-align: right;\n",
       "    }\n",
       "</style>\n",
       "<table border=\"1\" class=\"dataframe\">\n",
       "  <thead>\n",
       "    <tr style=\"text-align: right;\">\n",
       "      <th></th>\n",
       "      <th>Close</th>\n",
       "      <th>Vol</th>\n",
       "      <th>Change</th>\n",
       "      <th>returns</th>\n",
       "      <th>returns2</th>\n",
       "      <th>entry</th>\n",
       "      <th>direction</th>\n",
       "      <th>shift_returns</th>\n",
       "      <th>shift_Change</th>\n",
       "      <th>val</th>\n",
       "    </tr>\n",
       "    <tr>\n",
       "      <th>Date</th>\n",
       "      <th></th>\n",
       "      <th></th>\n",
       "      <th></th>\n",
       "      <th></th>\n",
       "      <th></th>\n",
       "      <th></th>\n",
       "      <th></th>\n",
       "      <th></th>\n",
       "      <th></th>\n",
       "      <th></th>\n",
       "    </tr>\n",
       "  </thead>\n",
       "  <tbody>\n",
       "    <tr>\n",
       "      <th>2010-03-02</th>\n",
       "      <td>1.36185</td>\n",
       "      <td>44046</td>\n",
       "      <td>0.004307</td>\n",
       "      <td>0.000000</td>\n",
       "      <td>0.000000</td>\n",
       "      <td>-0.0</td>\n",
       "      <td>0.0</td>\n",
       "      <td>0.005933</td>\n",
       "      <td>0.005933</td>\n",
       "      <td>0.000000</td>\n",
       "    </tr>\n",
       "    <tr>\n",
       "      <th>2010-03-03</th>\n",
       "      <td>1.36993</td>\n",
       "      <td>58804</td>\n",
       "      <td>0.005933</td>\n",
       "      <td>0.005933</td>\n",
       "      <td>0.000000</td>\n",
       "      <td>-0.0</td>\n",
       "      <td>-1.0</td>\n",
       "      <td>-0.008665</td>\n",
       "      <td>-0.008665</td>\n",
       "      <td>0.008665</td>\n",
       "    </tr>\n",
       "    <tr>\n",
       "      <th>2010-03-04</th>\n",
       "      <td>1.35806</td>\n",
       "      <td>54033</td>\n",
       "      <td>-0.008665</td>\n",
       "      <td>-0.008665</td>\n",
       "      <td>0.005933</td>\n",
       "      <td>1.0</td>\n",
       "      <td>1.0</td>\n",
       "      <td>0.002857</td>\n",
       "      <td>0.002857</td>\n",
       "      <td>0.002857</td>\n",
       "    </tr>\n",
       "    <tr>\n",
       "      <th>2010-03-05</th>\n",
       "      <td>1.36194</td>\n",
       "      <td>37976</td>\n",
       "      <td>0.002857</td>\n",
       "      <td>0.002857</td>\n",
       "      <td>-0.008665</td>\n",
       "      <td>1.0</td>\n",
       "      <td>-1.0</td>\n",
       "      <td>0.001212</td>\n",
       "      <td>0.001212</td>\n",
       "      <td>-0.001212</td>\n",
       "    </tr>\n",
       "    <tr>\n",
       "      <th>2010-03-07</th>\n",
       "      <td>1.36359</td>\n",
       "      <td>1891</td>\n",
       "      <td>0.001212</td>\n",
       "      <td>0.001212</td>\n",
       "      <td>0.002857</td>\n",
       "      <td>-1.0</td>\n",
       "      <td>-1.0</td>\n",
       "      <td>-0.001313</td>\n",
       "      <td>-0.001313</td>\n",
       "      <td>0.001313</td>\n",
       "    </tr>\n",
       "    <tr>\n",
       "      <th>...</th>\n",
       "      <td>...</td>\n",
       "      <td>...</td>\n",
       "      <td>...</td>\n",
       "      <td>...</td>\n",
       "      <td>...</td>\n",
       "      <td>...</td>\n",
       "      <td>...</td>\n",
       "      <td>...</td>\n",
       "      <td>...</td>\n",
       "      <td>...</td>\n",
       "    </tr>\n",
       "    <tr>\n",
       "      <th>2020-03-22</th>\n",
       "      <td>1.06888</td>\n",
       "      <td>28400</td>\n",
       "      <td>-0.000421</td>\n",
       "      <td>-0.000421</td>\n",
       "      <td>0.003660</td>\n",
       "      <td>1.0</td>\n",
       "      <td>1.0</td>\n",
       "      <td>0.006979</td>\n",
       "      <td>0.006979</td>\n",
       "      <td>0.006979</td>\n",
       "    </tr>\n",
       "    <tr>\n",
       "      <th>2020-03-23</th>\n",
       "      <td>1.07634</td>\n",
       "      <td>360567</td>\n",
       "      <td>0.006979</td>\n",
       "      <td>0.006979</td>\n",
       "      <td>-0.000421</td>\n",
       "      <td>1.0</td>\n",
       "      <td>-1.0</td>\n",
       "      <td>0.003187</td>\n",
       "      <td>0.003187</td>\n",
       "      <td>-0.003187</td>\n",
       "    </tr>\n",
       "    <tr>\n",
       "      <th>2020-03-24</th>\n",
       "      <td>1.07977</td>\n",
       "      <td>288802</td>\n",
       "      <td>0.003187</td>\n",
       "      <td>0.003187</td>\n",
       "      <td>0.006979</td>\n",
       "      <td>-1.0</td>\n",
       "      <td>-1.0</td>\n",
       "      <td>0.008372</td>\n",
       "      <td>0.008372</td>\n",
       "      <td>-0.008372</td>\n",
       "    </tr>\n",
       "    <tr>\n",
       "      <th>2020-03-25</th>\n",
       "      <td>1.08881</td>\n",
       "      <td>266724</td>\n",
       "      <td>0.008372</td>\n",
       "      <td>0.008372</td>\n",
       "      <td>0.003187</td>\n",
       "      <td>-1.0</td>\n",
       "      <td>-1.0</td>\n",
       "      <td>0.014585</td>\n",
       "      <td>0.014585</td>\n",
       "      <td>-0.014585</td>\n",
       "    </tr>\n",
       "    <tr>\n",
       "      <th>2020-03-26</th>\n",
       "      <td>1.10469</td>\n",
       "      <td>243643</td>\n",
       "      <td>0.014585</td>\n",
       "      <td>0.014585</td>\n",
       "      <td>0.008372</td>\n",
       "      <td>-1.0</td>\n",
       "      <td>-1.0</td>\n",
       "      <td>0.000000</td>\n",
       "      <td>0.000000</td>\n",
       "      <td>-0.000000</td>\n",
       "    </tr>\n",
       "  </tbody>\n",
       "</table>\n",
       "<p>3094 rows × 10 columns</p>\n",
       "</div>"
      ],
      "text/plain": [
       "              Close     Vol    Change   returns  returns2  entry  direction  \\\n",
       "Date                                                                          \n",
       "2010-03-02  1.36185   44046  0.004307  0.000000  0.000000   -0.0        0.0   \n",
       "2010-03-03  1.36993   58804  0.005933  0.005933  0.000000   -0.0       -1.0   \n",
       "2010-03-04  1.35806   54033 -0.008665 -0.008665  0.005933    1.0        1.0   \n",
       "2010-03-05  1.36194   37976  0.002857  0.002857 -0.008665    1.0       -1.0   \n",
       "2010-03-07  1.36359    1891  0.001212  0.001212  0.002857   -1.0       -1.0   \n",
       "...             ...     ...       ...       ...       ...    ...        ...   \n",
       "2020-03-22  1.06888   28400 -0.000421 -0.000421  0.003660    1.0        1.0   \n",
       "2020-03-23  1.07634  360567  0.006979  0.006979 -0.000421    1.0       -1.0   \n",
       "2020-03-24  1.07977  288802  0.003187  0.003187  0.006979   -1.0       -1.0   \n",
       "2020-03-25  1.08881  266724  0.008372  0.008372  0.003187   -1.0       -1.0   \n",
       "2020-03-26  1.10469  243643  0.014585  0.014585  0.008372   -1.0       -1.0   \n",
       "\n",
       "            shift_returns  shift_Change       val  \n",
       "Date                                               \n",
       "2010-03-02       0.005933      0.005933  0.000000  \n",
       "2010-03-03      -0.008665     -0.008665  0.008665  \n",
       "2010-03-04       0.002857      0.002857  0.002857  \n",
       "2010-03-05       0.001212      0.001212 -0.001212  \n",
       "2010-03-07      -0.001313     -0.001313  0.001313  \n",
       "...                   ...           ...       ...  \n",
       "2020-03-22       0.006979      0.006979  0.006979  \n",
       "2020-03-23       0.003187      0.003187 -0.003187  \n",
       "2020-03-24       0.008372      0.008372 -0.008372  \n",
       "2020-03-25       0.014585      0.014585 -0.014585  \n",
       "2020-03-26       0.000000      0.000000 -0.000000  \n",
       "\n",
       "[3094 rows x 10 columns]"
      ]
     },
     "execution_count": 174,
     "metadata": {},
     "output_type": "execute_result"
    }
   ],
   "source": [
    "res"
   ]
  },
  {
   "cell_type": "code",
   "execution_count": 178,
   "metadata": {},
   "outputs": [
    {
     "data": {
      "text/plain": [
       "<matplotlib.axes._subplots.AxesSubplot at 0x2a304f02188>"
      ]
     },
     "execution_count": 178,
     "metadata": {},
     "output_type": "execute_result"
    },
    {
     "data": {
      "image/png": "[encoded data removed]",
      "text/plain": [
       "<Figure size 432x288 with 1 Axes>"
      ]
     },
     "metadata": {
      "needs_background": "light"
     },
     "output_type": "display_data"
    }
   ],
   "source": [
    "res[(res.entry==1) ].val.cumsum().plot()"
   ]
  },
  {
   "cell_type": "code",
   "execution_count": 179,
   "metadata": {},
   "outputs": [
    {
     "data": {
      "text/plain": [
       "8.494703566554316e-06"
      ]
     },
     "execution_count": 179,
     "metadata": {},
     "output_type": "execute_result"
    }
   ],
   "source": [
    "res[(res.entry==1)].returns.mean()"
   ]
  },
  {
   "cell_type": "code",
   "execution_count": 180,
   "metadata": {},
   "outputs": [
    {
     "data": {
      "text/plain": [
       "1.2188090539932972e-05"
      ]
     },
     "execution_count": 180,
     "metadata": {},
     "output_type": "execute_result"
    }
   ],
   "source": [
    "res[(res.entry==1)].returns.median()"
   ]
  },
  {
   "cell_type": "code",
   "execution_count": 182,
   "metadata": {},
   "outputs": [
    {
     "data": {
      "text/plain": [
       "-0.00017735438063578446"
      ]
     },
     "execution_count": 182,
     "metadata": {},
     "output_type": "execute_result"
    }
   ],
   "source": [
    "res[(res.entry==1)].shift_returns.mean()"
   ]
  },
  {
   "cell_type": "code",
   "execution_count": 184,
   "metadata": {},
   "outputs": [
    {
     "data": {
      "text/html": [
       "<div>\n",
       "<style scoped>\n",
       "    .dataframe tbody tr th:only-of-type {\n",
       "        vertical-align: middle;\n",
       "    }\n",
       "\n",
       "    .dataframe tbody tr th {\n",
       "        vertical-align: top;\n",
       "    }\n",
       "\n",
       "    .dataframe thead th {\n",
       "        text-align: right;\n",
       "    }\n",
       "</style>\n",
       "<table border=\"1\" class=\"dataframe\">\n",
       "  <thead>\n",
       "    <tr style=\"text-align: right;\">\n",
       "      <th></th>\n",
       "      <th>returns</th>\n",
       "      <th>shift_returns</th>\n",
       "    </tr>\n",
       "  </thead>\n",
       "  <tbody>\n",
       "    <tr>\n",
       "      <th>returns</th>\n",
       "      <td>1.000000</td>\n",
       "      <td>-0.046515</td>\n",
       "    </tr>\n",
       "    <tr>\n",
       "      <th>shift_returns</th>\n",
       "      <td>-0.046515</td>\n",
       "      <td>1.000000</td>\n",
       "    </tr>\n",
       "  </tbody>\n",
       "</table>\n",
       "</div>"
      ],
      "text/plain": [
       "                returns  shift_returns\n",
       "returns        1.000000      -0.046515\n",
       "shift_returns -0.046515       1.000000"
      ]
     },
     "execution_count": 184,
     "metadata": {},
     "output_type": "execute_result"
    }
   ],
   "source": [
    "res[(res.entry==1)][['returns', 'shift_returns']].corr()"
   ]
  },
  {
   "cell_type": "code",
   "execution_count": 253,
   "metadata": {},
   "outputs": [
    {
     "data": {
      "text/plain": [
       "2.8946301829526844"
      ]
     },
     "execution_count": 253,
     "metadata": {},
     "output_type": "execute_result"
    }
   ],
   "source": [
    "res[res.entry==1].val.max() * 100"
   ]
  },
  {
   "cell_type": "code",
   "execution_count": 189,
   "metadata": {},
   "outputs": [
    {
     "data": {
      "text/plain": [
       "<matplotlib.axes._subplots.AxesSubplot at 0x2a30619d588>"
      ]
     },
     "execution_count": 189,
     "metadata": {},
     "output_type": "execute_result"
    },
    {
     "data": {
      "image/png": "[encoded data removed]",
      "text/plain": [
       "<Figure size 432x288 with 1 Axes>"
      ]
     },
     "metadata": {
      "needs_background": "light"
     },
     "output_type": "display_data"
    }
   ],
   "source": [
    "res.val.hist(bins=50)"
   ]
  },
  {
   "cell_type": "code",
   "execution_count": 199,
   "metadata": {},
   "outputs": [
    {
     "data": {
      "text/plain": [
       "0.44859165607666773"
      ]
     },
     "execution_count": 199,
     "metadata": {},
     "output_type": "execute_result"
    }
   ],
   "source": [
    "(100.0 * 252*res.val.mean() ) / (np.sqrt(252) * res.val.std() * 100)"
   ]
  },
  {
   "cell_type": "code",
   "execution_count": 196,
   "metadata": {},
   "outputs": [
    {
     "data": {
      "text/plain": [
       "3.6978978667151656"
      ]
     },
     "execution_count": 196,
     "metadata": {},
     "output_type": "execute_result"
    }
   ],
   "source": [
    "252.0 *res.val.mean() * 100.0"
   ]
  },
  {
   "cell_type": "code",
   "execution_count": 277,
   "metadata": {},
   "outputs": [],
   "source": [
    "ev = 0.5074626865671642 * res[res.val > 0].val.mean() - 0.4925373134328358 * res[res.val < 0].val.mean()"
   ]
  },
  {
   "cell_type": "code",
   "execution_count": 278,
   "metadata": {},
   "outputs": [
    {
     "data": {
      "text/plain": [
       "0.3685947186124407"
      ]
     },
     "execution_count": 278,
     "metadata": {},
     "output_type": "execute_result"
    }
   ],
   "source": [
    "ev * 100.0"
   ]
  },
  {
   "cell_type": "code",
   "execution_count": 285,
   "metadata": {},
   "outputs": [
    {
     "data": {
      "text/plain": [
       "92.88586909033505"
      ]
     },
     "execution_count": 285,
     "metadata": {},
     "output_type": "execute_result"
    }
   ],
   "source": [
    "(ev * 252)*100"
   ]
  },
  {
   "cell_type": "code",
   "execution_count": null,
   "metadata": {},
   "outputs": [],
   "source": []
  },
  {
   "cell_type": "code",
   "execution_count": 276,
   "metadata": {},
   "outputs": [
    {
     "data": {
      "text/plain": [
       "0.4925373134328358"
      ]
     },
     "execution_count": 276,
     "metadata": {},
     "output_type": "execute_result"
    }
   ],
   "source": [
    "res[res.val < 0].val.count() / (res[res.val > 0].val.count() + res[res.val < 0].val.count())"
   ]
  },
  {
   "cell_type": "code",
   "execution_count": 219,
   "metadata": {},
   "outputs": [
    {
     "data": {
      "text/plain": [
       "1.083260001349983"
      ]
     },
     "execution_count": 219,
     "metadata": {},
     "output_type": "execute_result"
    }
   ],
   "source": [
    "res[res.val > 0].val.sum() / res[res.val < 0].val.abs().sum()"
   ]
  },
  {
   "cell_type": "code",
   "execution_count": 221,
   "metadata": {},
   "outputs": [
    {
     "data": {
      "text/plain": [
       "1564"
      ]
     },
     "execution_count": 221,
     "metadata": {},
     "output_type": "execute_result"
    }
   ],
   "source": [
    "res[res.val > 0].val.count()"
   ]
  },
  {
   "cell_type": "code",
   "execution_count": 210,
   "metadata": {},
   "outputs": [
    {
     "data": {
      "text/plain": [
       "0.5074626865671642"
      ]
     },
     "execution_count": 210,
     "metadata": {},
     "output_type": "execute_result"
    }
   ],
   "source": [
    "res[res.val > 0].val.count() / (res[res.val < 0].val.count() + res[res.val > 0].val.count())"
   ]
  },
  {
   "cell_type": "code",
   "execution_count": 237,
   "metadata": {},
   "outputs": [
    {
     "data": {
      "text/html": [
       "<div>\n",
       "<style scoped>\n",
       "    .dataframe tbody tr th:only-of-type {\n",
       "        vertical-align: middle;\n",
       "    }\n",
       "\n",
       "    .dataframe tbody tr th {\n",
       "        vertical-align: top;\n",
       "    }\n",
       "\n",
       "    .dataframe thead th {\n",
       "        text-align: right;\n",
       "    }\n",
       "</style>\n",
       "<table border=\"1\" class=\"dataframe\">\n",
       "  <thead>\n",
       "    <tr style=\"text-align: right;\">\n",
       "      <th></th>\n",
       "      <th>val</th>\n",
       "      <th>shift_returns</th>\n",
       "    </tr>\n",
       "  </thead>\n",
       "  <tbody>\n",
       "    <tr>\n",
       "      <th>val</th>\n",
       "      <td>1.000000</td>\n",
       "      <td>0.035642</td>\n",
       "    </tr>\n",
       "    <tr>\n",
       "      <th>shift_returns</th>\n",
       "      <td>0.035642</td>\n",
       "      <td>1.000000</td>\n",
       "    </tr>\n",
       "  </tbody>\n",
       "</table>\n",
       "</div>"
      ],
      "text/plain": [
       "                    val  shift_returns\n",
       "val            1.000000       0.035642\n",
       "shift_returns  0.035642       1.000000"
      ]
     },
     "execution_count": 237,
     "metadata": {},
     "output_type": "execute_result"
    }
   ],
   "source": [
    "res[res.entry==1][['val', 'shift_returns']].corr(method='spearman')"
   ]
  },
  {
   "cell_type": "code",
   "execution_count": 245,
   "metadata": {},
   "outputs": [
    {
     "name": "stderr",
     "output_type": "stream",
     "text": [
      "C:\\Users\\lexik\\.conda\\envs\\quant\\lib\\site-packages\\ipykernel_launcher.py:1: UserWarning: Boolean Series key will be reindexed to match DataFrame index.\n",
      "  \"\"\"Entry point for launching an IPython kernel.\n"
     ]
    },
    {
     "data": {
      "text/plain": [
       "<matplotlib.axes._subplots.AxesSubplot at 0x2a30668fdc8>"
      ]
     },
     "execution_count": 245,
     "metadata": {},
     "output_type": "execute_result"
    },
    {
     "data": {
      "image/png": "[encoded data removed]",
      "text/plain": [
       "<Figure size 432x288 with 1 Axes>"
      ]
     },
     "metadata": {
      "needs_background": "light"
     },
     "output_type": "display_data"
    }
   ],
   "source": [
    "res.loc['2020-01-01':][(res.entry==1) ].Close.plot()"
   ]
  },
  {
   "cell_type": "code",
   "execution_count": 255,
   "metadata": {},
   "outputs": [],
   "source": []
  },
  {
   "cell_type": "code",
   "execution_count": 258,
   "metadata": {},
   "outputs": [
    {
     "name": "stderr",
     "output_type": "stream",
     "text": [
      "C:\\Users\\lexik\\.conda\\envs\\quant\\lib\\site-packages\\ipykernel_launcher.py:1: SettingWithCopyWarning: \n",
      "A value is trying to be set on a copy of a slice from a DataFrame.\n",
      "Try using .loc[row_indexer,col_indexer] = value instead\n",
      "\n",
      "See the caveats in the documentation: https://pandas.pydata.org/pandas-docs/stable/user_guide/indexing.html#returning-a-view-versus-a-copy\n",
      "  \"\"\"Entry point for launching an IPython kernel.\n"
     ]
    }
   ],
   "source": [
    "a = res[res.entry==1]\n",
    "a['cum_shift_returns'] = a['shift_returns'].cumsum()\n",
    "a['cum_returns'] = a['returns'].cumsum()\n",
    "a['cum_val'] = a.val.cumsum()\n",
    "a[['cum_val', 'cum_returns', 'cum_shift_returns']].plot.scatter(x='cum_shift_returns', y='cum_val')"
   ]
  },
  {
   "cell_type": "code",
   "execution_count": 264,
   "metadata": {},
   "outputs": [
    {
     "name": "stderr",
     "output_type": "stream",
     "text": [
      "C:\\Users\\lexik\\.conda\\envs\\quant\\lib\\site-packages\\ipykernel_launcher.py:1: SettingWithCopyWarning: \n",
      "A value is trying to be set on a copy of a slice from a DataFrame.\n",
      "Try using .loc[row_indexer,col_indexer] = value instead\n",
      "\n",
      "See the caveats in the documentation: https://pandas.pydata.org/pandas-docs/stable/user_guide/indexing.html#returning-a-view-versus-a-copy\n",
      "  \"\"\"Entry point for launching an IPython kernel.\n"
     ]
    }
   ],
   "source": []
  },
  {
   "cell_type": "code",
   "execution_count": 260,
   "metadata": {},
   "outputs": [
    {
     "name": "stderr",
     "output_type": "stream",
     "text": [
      "C:\\Users\\lexik\\.conda\\envs\\quant\\lib\\site-packages\\ipykernel_launcher.py:1: SettingWithCopyWarning: \n",
      "A value is trying to be set on a copy of a slice from a DataFrame.\n",
      "Try using .loc[row_indexer,col_indexer] = value instead\n",
      "\n",
      "See the caveats in the documentation: https://pandas.pydata.org/pandas-docs/stable/user_guide/indexing.html#returning-a-view-versus-a-copy\n",
      "  \"\"\"Entry point for launching an IPython kernel.\n"
     ]
    }
   ],
   "source": []
  },
  {
   "cell_type": "code",
   "execution_count": 273,
   "metadata": {},
   "outputs": [
    {
     "data": {
      "text/plain": [
       "<matplotlib.axes._subplots.AxesSubplot at 0x2a307a5ac08>"
      ]
     },
     "execution_count": 273,
     "metadata": {},
     "output_type": "execute_result"
    },
    {
     "data": {
      "image/png": "[encoded data removed]",
      "text/plain": [
       "<Figure size 432x288 with 1 Axes>"
      ]
     },
     "metadata": {
      "needs_background": "light"
     },
     "output_type": "display_data"
    }
   ],
   "source": []
  },
  {
   "cell_type": "code",
   "execution_count": 270,
   "metadata": {},
   "outputs": [
    {
     "data": {
      "text/plain": [
       "<matplotlib.axes._subplots.AxesSubplot at 0x2a306910b88>"
      ]
     },
     "execution_count": 270,
     "metadata": {},
     "output_type": "execute_result"
    },
    {
     "data": {
      "image/png": "[encoded data removed]",
      "text/plain": [
       "<Figure size 432x288 with 1 Axes>"
      ]
     },
     "metadata": {
      "needs_background": "light"
     },
     "output_type": "display_data"
    }
   ],
   "source": [
    "a[['cum_val', 'cum_returns', 'cum_shift_returns']].plot()"
   ]
  },
  {
   "cell_type": "code",
   "execution_count": 293,
   "metadata": {},
   "outputs": [
    {
     "data": {
      "text/plain": [
       "<matplotlib.axes._subplots.AxesSubplot at 0x2a307d85948>"
      ]
     },
     "execution_count": 293,
     "metadata": {},
     "output_type": "execute_result"
    },
    {
     "data": {
      "image/png": "[encoded data removed]",
      "text/plain": [
       "<Figure size 432x288 with 1 Axes>"
      ]
     },
     "metadata": {
      "needs_background": "light"
     },
     "output_type": "display_data"
    }
   ],
   "source": [
    "((eur_df.returns * (-1)).cumsum()).plot()"
   ]
  },
  {
   "cell_type": "code",
   "execution_count": 294,
   "metadata": {},
   "outputs": [
    {
     "data": {
      "text/plain": [
       "<matplotlib.axes._subplots.AxesSubplot at 0x2a307e13988>"
      ]
     },
     "execution_count": 294,
     "metadata": {},
     "output_type": "execute_result"
    },
    {
     "data": {
      "image/png": "[encoded data removed]",
      "text/plain": [
       "<Figure size 432x288 with 1 Axes>"
      ]
     },
     "metadata": {
      "needs_background": "light"
     },
     "output_type": "display_data"
    }
   ],
   "source": [
    "((eur_df.returns ).cumsum()).plot()"
   ]
  },
  {
   "cell_type": "code",
   "execution_count": 296,
   "metadata": {},
   "outputs": [],
   "source": [
    "### crossover strategy"
   ]
  },
  {
   "cell_type": "code",
   "execution_count": 353,
   "metadata": {},
   "outputs": [
    {
     "name": "stderr",
     "output_type": "stream",
     "text": [
      "C:\\Users\\lexik\\.conda\\envs\\quant\\lib\\site-packages\\ipykernel_launcher.py:4: SettingWithCopyWarning: \n",
      "A value is trying to be set on a copy of a slice from a DataFrame.\n",
      "Try using .loc[row_indexer,col_indexer] = value instead\n",
      "\n",
      "See the caveats in the documentation: https://pandas.pydata.org/pandas-docs/stable/user_guide/indexing.html#returning-a-view-versus-a-copy\n",
      "  after removing the cwd from sys.path.\n",
      "C:\\Users\\lexik\\.conda\\envs\\quant\\lib\\site-packages\\ipykernel_launcher.py:5: SettingWithCopyWarning: \n",
      "A value is trying to be set on a copy of a slice from a DataFrame.\n",
      "Try using .loc[row_indexer,col_indexer] = value instead\n",
      "\n",
      "See the caveats in the documentation: https://pandas.pydata.org/pandas-docs/stable/user_guide/indexing.html#returning-a-view-versus-a-copy\n",
      "  \"\"\"\n",
      "C:\\Users\\lexik\\.conda\\envs\\quant\\lib\\site-packages\\ipykernel_launcher.py:6: SettingWithCopyWarning: \n",
      "A value is trying to be set on a copy of a slice from a DataFrame.\n",
      "Try using .loc[row_indexer,col_indexer] = value instead\n",
      "\n",
      "See the caveats in the documentation: https://pandas.pydata.org/pandas-docs/stable/user_guide/indexing.html#returning-a-view-versus-a-copy\n",
      "  \n",
      "C:\\Users\\lexik\\.conda\\envs\\quant\\lib\\site-packages\\ipykernel_launcher.py:7: SettingWithCopyWarning: \n",
      "A value is trying to be set on a copy of a slice from a DataFrame.\n",
      "Try using .loc[row_indexer,col_indexer] = value instead\n",
      "\n",
      "See the caveats in the documentation: https://pandas.pydata.org/pandas-docs/stable/user_guide/indexing.html#returning-a-view-versus-a-copy\n",
      "  import sys\n",
      "C:\\Users\\lexik\\.conda\\envs\\quant\\lib\\site-packages\\ipykernel_launcher.py:8: SettingWithCopyWarning: \n",
      "A value is trying to be set on a copy of a slice from a DataFrame.\n",
      "Try using .loc[row_indexer,col_indexer] = value instead\n",
      "\n",
      "See the caveats in the documentation: https://pandas.pydata.org/pandas-docs/stable/user_guide/indexing.html#returning-a-view-versus-a-copy\n",
      "  \n",
      "C:\\Users\\lexik\\.conda\\envs\\quant\\lib\\site-packages\\ipykernel_launcher.py:9: SettingWithCopyWarning: \n",
      "A value is trying to be set on a copy of a slice from a DataFrame.\n",
      "Try using .loc[row_indexer,col_indexer] = value instead\n",
      "\n",
      "See the caveats in the documentation: https://pandas.pydata.org/pandas-docs/stable/user_guide/indexing.html#returning-a-view-versus-a-copy\n",
      "  if __name__ == '__main__':\n",
      "C:\\Users\\lexik\\.conda\\envs\\quant\\lib\\site-packages\\ipykernel_launcher.py:10: SettingWithCopyWarning: \n",
      "A value is trying to be set on a copy of a slice from a DataFrame.\n",
      "Try using .loc[row_indexer,col_indexer] = value instead\n",
      "\n",
      "See the caveats in the documentation: https://pandas.pydata.org/pandas-docs/stable/user_guide/indexing.html#returning-a-view-versus-a-copy\n",
      "  # Remove the CWD from sys.path while we load stuff.\n",
      "C:\\Users\\lexik\\.conda\\envs\\quant\\lib\\site-packages\\ipykernel_launcher.py:11: SettingWithCopyWarning: \n",
      "A value is trying to be set on a copy of a slice from a DataFrame.\n",
      "Try using .loc[row_indexer,col_indexer] = value instead\n",
      "\n",
      "See the caveats in the documentation: https://pandas.pydata.org/pandas-docs/stable/user_guide/indexing.html#returning-a-view-versus-a-copy\n",
      "  # This is added back by InteractiveShellApp.init_path()\n"
     ]
    }
   ],
   "source": [
    "res = ma_crossover(eur_df, 5, 20)"
   ]
  },
  {
   "cell_type": "code",
   "execution_count": 354,
   "metadata": {},
   "outputs": [
    {
     "data": {
      "text/plain": [
       "<matplotlib.axes._subplots.AxesSubplot at 0x2a309560b88>"
      ]
     },
     "execution_count": 354,
     "metadata": {},
     "output_type": "execute_result"
    },
    {
     "data": {
      "image/png": "[encoded data removed]",
      "text/plain": [
       "<Figure size 432x288 with 1 Axes>"
      ]
     },
     "metadata": {
      "needs_background": "light"
     },
     "output_type": "display_data"
    }
   ],
   "source": [
    "res[pnls.plot()"
   ]
  },
  {
   "cell_type": "code",
   "execution_count": 355,
   "metadata": {},
   "outputs": [
    {
     "data": {
      "text/plain": [
       "array([[<matplotlib.axes._subplots.AxesSubplot object at 0x000002A309532088>]],\n",
       "      dtype=object)"
      ]
     },
     "execution_count": 355,
     "metadata": {},
     "output_type": "execute_result"
    },
    {
     "data": {
      "image/png": "[encoded data removed]",
      "text/plain": [
       "<Figure size 432x288 with 1 Axes>"
      ]
     },
     "metadata": {
      "needs_background": "light"
     },
     "output_type": "display_data"
    }
   ],
   "source": [
    "res[res.sig_up==1][['shift_returns']].hist(bins=50)"
   ]
  },
  {
   "cell_type": "code",
   "execution_count": 357,
   "metadata": {},
   "outputs": [
    {
     "data": {
      "text/html": [
       "<div>\n",
       "<style scoped>\n",
       "    .dataframe tbody tr th:only-of-type {\n",
       "        vertical-align: middle;\n",
       "    }\n",
       "\n",
       "    .dataframe tbody tr th {\n",
       "        vertical-align: top;\n",
       "    }\n",
       "\n",
       "    .dataframe thead th {\n",
       "        text-align: right;\n",
       "    }\n",
       "</style>\n",
       "<table border=\"1\" class=\"dataframe\">\n",
       "  <thead>\n",
       "    <tr style=\"text-align: right;\">\n",
       "      <th></th>\n",
       "      <th>returns</th>\n",
       "      <th>shift_returns</th>\n",
       "      <th>pnls</th>\n",
       "      <th>val</th>\n",
       "    </tr>\n",
       "  </thead>\n",
       "  <tbody>\n",
       "    <tr>\n",
       "      <th>returns</th>\n",
       "      <td>1.000000</td>\n",
       "      <td>0.024966</td>\n",
       "      <td>0.003113</td>\n",
       "      <td>1.000000</td>\n",
       "    </tr>\n",
       "    <tr>\n",
       "      <th>shift_returns</th>\n",
       "      <td>0.024966</td>\n",
       "      <td>1.000000</td>\n",
       "      <td>-0.024263</td>\n",
       "      <td>0.024966</td>\n",
       "    </tr>\n",
       "    <tr>\n",
       "      <th>pnls</th>\n",
       "      <td>0.003113</td>\n",
       "      <td>-0.024263</td>\n",
       "      <td>1.000000</td>\n",
       "      <td>0.003113</td>\n",
       "    </tr>\n",
       "    <tr>\n",
       "      <th>val</th>\n",
       "      <td>1.000000</td>\n",
       "      <td>0.024966</td>\n",
       "      <td>0.003113</td>\n",
       "      <td>1.000000</td>\n",
       "    </tr>\n",
       "  </tbody>\n",
       "</table>\n",
       "</div>"
      ],
      "text/plain": [
       "                returns  shift_returns      pnls       val\n",
       "returns        1.000000       0.024966  0.003113  1.000000\n",
       "shift_returns  0.024966       1.000000 -0.024263  0.024966\n",
       "pnls           0.003113      -0.024263  1.000000  0.003113\n",
       "val            1.000000       0.024966  0.003113  1.000000"
      ]
     },
     "execution_count": 357,
     "metadata": {},
     "output_type": "execute_result"
    }
   ],
   "source": [
    "res[res.sig_up==1][['returns', 'shift_returns', 'pnls', 'val']].corr()"
   ]
  },
  {
   "cell_type": "code",
   "execution_count": 358,
   "metadata": {},
   "outputs": [
    {
     "data": {
      "text/html": [
       "<div>\n",
       "<style scoped>\n",
       "    .dataframe tbody tr th:only-of-type {\n",
       "        vertical-align: middle;\n",
       "    }\n",
       "\n",
       "    .dataframe tbody tr th {\n",
       "        vertical-align: top;\n",
       "    }\n",
       "\n",
       "    .dataframe thead th {\n",
       "        text-align: right;\n",
       "    }\n",
       "</style>\n",
       "<table border=\"1\" class=\"dataframe\">\n",
       "  <thead>\n",
       "    <tr style=\"text-align: right;\">\n",
       "      <th></th>\n",
       "      <th>Close</th>\n",
       "      <th>returns</th>\n",
       "      <th>shift_returns</th>\n",
       "      <th>sma</th>\n",
       "      <th>smb</th>\n",
       "      <th>signal</th>\n",
       "      <th>sig_up</th>\n",
       "      <th>sig_dwn</th>\n",
       "      <th>val</th>\n",
       "      <th>pnls</th>\n",
       "    </tr>\n",
       "    <tr>\n",
       "      <th>Date</th>\n",
       "      <th></th>\n",
       "      <th></th>\n",
       "      <th></th>\n",
       "      <th></th>\n",
       "      <th></th>\n",
       "      <th></th>\n",
       "      <th></th>\n",
       "      <th></th>\n",
       "      <th></th>\n",
       "      <th></th>\n",
       "    </tr>\n",
       "  </thead>\n",
       "  <tbody>\n",
       "    <tr>\n",
       "      <th>2010-03-02</th>\n",
       "      <td>1.36185</td>\n",
       "      <td>0.000000</td>\n",
       "      <td>0.005933</td>\n",
       "      <td>0.000000</td>\n",
       "      <td>0.000000</td>\n",
       "      <td>0.0</td>\n",
       "      <td>0.0</td>\n",
       "      <td>0.0</td>\n",
       "      <td>0.000000</td>\n",
       "      <td>0.000000</td>\n",
       "    </tr>\n",
       "    <tr>\n",
       "      <th>2010-03-03</th>\n",
       "      <td>1.36993</td>\n",
       "      <td>0.005933</td>\n",
       "      <td>-0.008665</td>\n",
       "      <td>0.000000</td>\n",
       "      <td>0.000000</td>\n",
       "      <td>0.0</td>\n",
       "      <td>0.0</td>\n",
       "      <td>0.0</td>\n",
       "      <td>0.000000</td>\n",
       "      <td>0.000000</td>\n",
       "    </tr>\n",
       "    <tr>\n",
       "      <th>2010-03-04</th>\n",
       "      <td>1.35806</td>\n",
       "      <td>-0.008665</td>\n",
       "      <td>0.002857</td>\n",
       "      <td>0.000000</td>\n",
       "      <td>0.000000</td>\n",
       "      <td>0.0</td>\n",
       "      <td>0.0</td>\n",
       "      <td>0.0</td>\n",
       "      <td>-0.000000</td>\n",
       "      <td>0.000000</td>\n",
       "    </tr>\n",
       "    <tr>\n",
       "      <th>2010-03-05</th>\n",
       "      <td>1.36194</td>\n",
       "      <td>0.002857</td>\n",
       "      <td>0.001212</td>\n",
       "      <td>0.000000</td>\n",
       "      <td>0.000000</td>\n",
       "      <td>0.0</td>\n",
       "      <td>0.0</td>\n",
       "      <td>0.0</td>\n",
       "      <td>0.000000</td>\n",
       "      <td>0.000000</td>\n",
       "    </tr>\n",
       "    <tr>\n",
       "      <th>2010-03-07</th>\n",
       "      <td>1.36359</td>\n",
       "      <td>0.001212</td>\n",
       "      <td>-0.001313</td>\n",
       "      <td>1.363074</td>\n",
       "      <td>0.000000</td>\n",
       "      <td>1.0</td>\n",
       "      <td>1.0</td>\n",
       "      <td>0.0</td>\n",
       "      <td>0.001212</td>\n",
       "      <td>0.001212</td>\n",
       "    </tr>\n",
       "    <tr>\n",
       "      <th>...</th>\n",
       "      <td>...</td>\n",
       "      <td>...</td>\n",
       "      <td>...</td>\n",
       "      <td>...</td>\n",
       "      <td>...</td>\n",
       "      <td>...</td>\n",
       "      <td>...</td>\n",
       "      <td>...</td>\n",
       "      <td>...</td>\n",
       "      <td>...</td>\n",
       "    </tr>\n",
       "    <tr>\n",
       "      <th>2020-03-22</th>\n",
       "      <td>1.06888</td>\n",
       "      <td>-0.000421</td>\n",
       "      <td>0.006979</td>\n",
       "      <td>1.079900</td>\n",
       "      <td>1.110041</td>\n",
       "      <td>0.0</td>\n",
       "      <td>-0.0</td>\n",
       "      <td>-1.0</td>\n",
       "      <td>0.000421</td>\n",
       "      <td>0.802585</td>\n",
       "    </tr>\n",
       "    <tr>\n",
       "      <th>2020-03-23</th>\n",
       "      <td>1.07634</td>\n",
       "      <td>0.006979</td>\n",
       "      <td>0.003187</td>\n",
       "      <td>1.074852</td>\n",
       "      <td>1.108719</td>\n",
       "      <td>0.0</td>\n",
       "      <td>-0.0</td>\n",
       "      <td>-1.0</td>\n",
       "      <td>-0.006979</td>\n",
       "      <td>0.795606</td>\n",
       "    </tr>\n",
       "    <tr>\n",
       "      <th>2020-03-24</th>\n",
       "      <td>1.07977</td>\n",
       "      <td>0.003187</td>\n",
       "      <td>0.008372</td>\n",
       "      <td>1.071950</td>\n",
       "      <td>1.107451</td>\n",
       "      <td>0.0</td>\n",
       "      <td>-0.0</td>\n",
       "      <td>-1.0</td>\n",
       "      <td>-0.003187</td>\n",
       "      <td>0.792419</td>\n",
       "    </tr>\n",
       "    <tr>\n",
       "      <th>2020-03-25</th>\n",
       "      <td>1.08881</td>\n",
       "      <td>0.008372</td>\n",
       "      <td>0.014585</td>\n",
       "      <td>1.076626</td>\n",
       "      <td>1.106172</td>\n",
       "      <td>0.0</td>\n",
       "      <td>-0.0</td>\n",
       "      <td>-1.0</td>\n",
       "      <td>-0.008372</td>\n",
       "      <td>0.784047</td>\n",
       "    </tr>\n",
       "    <tr>\n",
       "      <th>2020-03-26</th>\n",
       "      <td>1.10469</td>\n",
       "      <td>0.014585</td>\n",
       "      <td>0.000000</td>\n",
       "      <td>1.083698</td>\n",
       "      <td>1.105526</td>\n",
       "      <td>0.0</td>\n",
       "      <td>-0.0</td>\n",
       "      <td>-1.0</td>\n",
       "      <td>-0.014585</td>\n",
       "      <td>0.769463</td>\n",
       "    </tr>\n",
       "  </tbody>\n",
       "</table>\n",
       "<p>3094 rows × 10 columns</p>\n",
       "</div>"
      ],
      "text/plain": [
       "              Close   returns  shift_returns       sma       smb  signal  \\\n",
       "Date                                                                       \n",
       "2010-03-02  1.36185  0.000000       0.005933  0.000000  0.000000     0.0   \n",
       "2010-03-03  1.36993  0.005933      -0.008665  0.000000  0.000000     0.0   \n",
       "2010-03-04  1.35806 -0.008665       0.002857  0.000000  0.000000     0.0   \n",
       "2010-03-05  1.36194  0.002857       0.001212  0.000000  0.000000     0.0   \n",
       "2010-03-07  1.36359  0.001212      -0.001313  1.363074  0.000000     1.0   \n",
       "...             ...       ...            ...       ...       ...     ...   \n",
       "2020-03-22  1.06888 -0.000421       0.006979  1.079900  1.110041     0.0   \n",
       "2020-03-23  1.07634  0.006979       0.003187  1.074852  1.108719     0.0   \n",
       "2020-03-24  1.07977  0.003187       0.008372  1.071950  1.107451     0.0   \n",
       "2020-03-25  1.08881  0.008372       0.014585  1.076626  1.106172     0.0   \n",
       "2020-03-26  1.10469  0.014585       0.000000  1.083698  1.105526     0.0   \n",
       "\n",
       "            sig_up  sig_dwn       val      pnls  \n",
       "Date                                             \n",
       "2010-03-02     0.0      0.0  0.000000  0.000000  \n",
       "2010-03-03     0.0      0.0  0.000000  0.000000  \n",
       "2010-03-04     0.0      0.0 -0.000000  0.000000  \n",
       "2010-03-05     0.0      0.0  0.000000  0.000000  \n",
       "2010-03-07     1.0      0.0  0.001212  0.001212  \n",
       "...            ...      ...       ...       ...  \n",
       "2020-03-22    -0.0     -1.0  0.000421  0.802585  \n",
       "2020-03-23    -0.0     -1.0 -0.006979  0.795606  \n",
       "2020-03-24    -0.0     -1.0 -0.003187  0.792419  \n",
       "2020-03-25    -0.0     -1.0 -0.008372  0.784047  \n",
       "2020-03-26    -0.0     -1.0 -0.014585  0.769463  \n",
       "\n",
       "[3094 rows x 10 columns]"
      ]
     },
     "execution_count": 358,
     "metadata": {},
     "output_type": "execute_result"
    }
   ],
   "source": [
    "res"
   ]
  },
  {
   "cell_type": "code",
   "execution_count": 359,
   "metadata": {},
   "outputs": [
    {
     "data": {
      "text/plain": [
       "<matplotlib.axes._subplots.AxesSubplot at 0x2a3095379c8>"
      ]
     },
     "execution_count": 359,
     "metadata": {},
     "output_type": "execute_result"
    },
    {
     "data": {
      "image/png": "[encoded data removed]",
      "text/plain": [
       "<Figure size 432x288 with 1 Axes>"
      ]
     },
     "metadata": {
      "needs_background": "light"
     },
     "output_type": "display_data"
    }
   ],
   "source": [
    "a = res\n",
    "a['cum_shift_returns'] = a['shift_returns'].cumsum()\n",
    "a['cum_returns'] = a['returns'].cumsum()\n",
    "a['cum_val'] = a.val.cumsum()\n",
    "a[['cum_val', 'cum_returns', 'cum_shift_returns']].plot.scatter(x='cum_shift_returns', y='cum_val')"
   ]
  },
  {
   "cell_type": "code",
   "execution_count": 362,
   "metadata": {},
   "outputs": [
    {
     "data": {
      "text/plain": [
       "<matplotlib.axes._subplots.AxesSubplot at 0x2a309852488>"
      ]
     },
     "execution_count": 362,
     "metadata": {},
     "output_type": "execute_result"
    },
    {
     "data": {
      "image/png": "[encoded data removed]",
      "text/plain": [
       "<Figure size 432x288 with 1 Axes>"
      ]
     },
     "metadata": {
      "needs_background": "light"
     },
     "output_type": "display_data"
    }
   ],
   "source": [
    "a[['cum_val', 'cum_returns', 'cum_shift_returns', 'pnls']].plot()"
   ]
  },
  {
   "cell_type": "code",
   "execution_count": 366,
   "metadata": {},
   "outputs": [
    {
     "data": {
      "text/html": [
       "<div>\n",
       "<style scoped>\n",
       "    .dataframe tbody tr th:only-of-type {\n",
       "        vertical-align: middle;\n",
       "    }\n",
       "\n",
       "    .dataframe tbody tr th {\n",
       "        vertical-align: top;\n",
       "    }\n",
       "\n",
       "    .dataframe thead th {\n",
       "        text-align: right;\n",
       "    }\n",
       "</style>\n",
       "<table border=\"1\" class=\"dataframe\">\n",
       "  <thead>\n",
       "    <tr style=\"text-align: right;\">\n",
       "      <th></th>\n",
       "      <th>Close</th>\n",
       "      <th>returns</th>\n",
       "      <th>shift_returns</th>\n",
       "      <th>sma</th>\n",
       "      <th>smb</th>\n",
       "      <th>signal</th>\n",
       "      <th>sig_up</th>\n",
       "      <th>sig_dwn</th>\n",
       "      <th>val</th>\n",
       "      <th>pnls</th>\n",
       "      <th>cum_shift_returns</th>\n",
       "      <th>cum_returns</th>\n",
       "      <th>cum_val</th>\n",
       "    </tr>\n",
       "    <tr>\n",
       "      <th>Date</th>\n",
       "      <th></th>\n",
       "      <th></th>\n",
       "      <th></th>\n",
       "      <th></th>\n",
       "      <th></th>\n",
       "      <th></th>\n",
       "      <th></th>\n",
       "      <th></th>\n",
       "      <th></th>\n",
       "      <th></th>\n",
       "      <th></th>\n",
       "      <th></th>\n",
       "      <th></th>\n",
       "    </tr>\n",
       "  </thead>\n",
       "  <tbody>\n",
       "    <tr>\n",
       "      <th>2010-03-02</th>\n",
       "      <td>1.36185</td>\n",
       "      <td>0.000000</td>\n",
       "      <td>0.005933</td>\n",
       "      <td>0.000000</td>\n",
       "      <td>0.0</td>\n",
       "      <td>0.0</td>\n",
       "      <td>0.0</td>\n",
       "      <td>0.0</td>\n",
       "      <td>0.000000</td>\n",
       "      <td>0.000000</td>\n",
       "      <td>0.005933</td>\n",
       "      <td>0.000000</td>\n",
       "      <td>0.000000</td>\n",
       "    </tr>\n",
       "    <tr>\n",
       "      <th>2010-03-03</th>\n",
       "      <td>1.36993</td>\n",
       "      <td>0.005933</td>\n",
       "      <td>-0.008665</td>\n",
       "      <td>0.000000</td>\n",
       "      <td>0.0</td>\n",
       "      <td>0.0</td>\n",
       "      <td>0.0</td>\n",
       "      <td>0.0</td>\n",
       "      <td>0.000000</td>\n",
       "      <td>0.000000</td>\n",
       "      <td>-0.002732</td>\n",
       "      <td>0.005933</td>\n",
       "      <td>0.000000</td>\n",
       "    </tr>\n",
       "    <tr>\n",
       "      <th>2010-03-04</th>\n",
       "      <td>1.35806</td>\n",
       "      <td>-0.008665</td>\n",
       "      <td>0.002857</td>\n",
       "      <td>0.000000</td>\n",
       "      <td>0.0</td>\n",
       "      <td>0.0</td>\n",
       "      <td>0.0</td>\n",
       "      <td>0.0</td>\n",
       "      <td>-0.000000</td>\n",
       "      <td>0.000000</td>\n",
       "      <td>0.000125</td>\n",
       "      <td>-0.002732</td>\n",
       "      <td>0.000000</td>\n",
       "    </tr>\n",
       "    <tr>\n",
       "      <th>2010-03-05</th>\n",
       "      <td>1.36194</td>\n",
       "      <td>0.002857</td>\n",
       "      <td>0.001212</td>\n",
       "      <td>0.000000</td>\n",
       "      <td>0.0</td>\n",
       "      <td>0.0</td>\n",
       "      <td>0.0</td>\n",
       "      <td>0.0</td>\n",
       "      <td>0.000000</td>\n",
       "      <td>0.000000</td>\n",
       "      <td>0.001337</td>\n",
       "      <td>0.000125</td>\n",
       "      <td>0.000000</td>\n",
       "    </tr>\n",
       "    <tr>\n",
       "      <th>2010-03-07</th>\n",
       "      <td>1.36359</td>\n",
       "      <td>0.001212</td>\n",
       "      <td>-0.001313</td>\n",
       "      <td>1.363074</td>\n",
       "      <td>0.0</td>\n",
       "      <td>1.0</td>\n",
       "      <td>1.0</td>\n",
       "      <td>0.0</td>\n",
       "      <td>0.001212</td>\n",
       "      <td>0.001212</td>\n",
       "      <td>0.000024</td>\n",
       "      <td>0.001337</td>\n",
       "      <td>0.001212</td>\n",
       "    </tr>\n",
       "  </tbody>\n",
       "</table>\n",
       "</div>"
      ],
      "text/plain": [
       "              Close   returns  shift_returns       sma  smb  signal  sig_up  \\\n",
       "Date                                                                          \n",
       "2010-03-02  1.36185  0.000000       0.005933  0.000000  0.0     0.0     0.0   \n",
       "2010-03-03  1.36993  0.005933      -0.008665  0.000000  0.0     0.0     0.0   \n",
       "2010-03-04  1.35806 -0.008665       0.002857  0.000000  0.0     0.0     0.0   \n",
       "2010-03-05  1.36194  0.002857       0.001212  0.000000  0.0     0.0     0.0   \n",
       "2010-03-07  1.36359  0.001212      -0.001313  1.363074  0.0     1.0     1.0   \n",
       "\n",
       "            sig_dwn       val      pnls  cum_shift_returns  cum_returns  \\\n",
       "Date                                                                      \n",
       "2010-03-02      0.0  0.000000  0.000000           0.005933     0.000000   \n",
       "2010-03-03      0.0  0.000000  0.000000          -0.002732     0.005933   \n",
       "2010-03-04      0.0 -0.000000  0.000000           0.000125    -0.002732   \n",
       "2010-03-05      0.0  0.000000  0.000000           0.001337     0.000125   \n",
       "2010-03-07      0.0  0.001212  0.001212           0.000024     0.001337   \n",
       "\n",
       "             cum_val  \n",
       "Date                  \n",
       "2010-03-02  0.000000  \n",
       "2010-03-03  0.000000  \n",
       "2010-03-04  0.000000  \n",
       "2010-03-05  0.000000  \n",
       "2010-03-07  0.001212  "
      ]
     },
     "execution_count": 366,
     "metadata": {},
     "output_type": "execute_result"
    }
   ],
   "source": [
    "res.head()"
   ]
  },
  {
   "cell_type": "code",
   "execution_count": 377,
   "metadata": {},
   "outputs": [
    {
     "data": {
      "text/html": [
       "<div>\n",
       "<style scoped>\n",
       "    .dataframe tbody tr th:only-of-type {\n",
       "        vertical-align: middle;\n",
       "    }\n",
       "\n",
       "    .dataframe tbody tr th {\n",
       "        vertical-align: top;\n",
       "    }\n",
       "\n",
       "    .dataframe thead th {\n",
       "        text-align: right;\n",
       "    }\n",
       "</style>\n",
       "<table border=\"1\" class=\"dataframe\">\n",
       "  <thead>\n",
       "    <tr style=\"text-align: right;\">\n",
       "      <th></th>\n",
       "      <th>Close</th>\n",
       "      <th>returns</th>\n",
       "      <th>shift_returns</th>\n",
       "      <th>sma</th>\n",
       "      <th>smb</th>\n",
       "      <th>signal</th>\n",
       "      <th>sig_up</th>\n",
       "      <th>sig_dwn</th>\n",
       "      <th>val</th>\n",
       "      <th>pnls</th>\n",
       "      <th>cum_shift_returns</th>\n",
       "      <th>cum_returns</th>\n",
       "      <th>cum_val</th>\n",
       "    </tr>\n",
       "  </thead>\n",
       "  <tbody>\n",
       "    <tr>\n",
       "      <th>Close</th>\n",
       "      <td>1.000000</td>\n",
       "      <td>0.028466</td>\n",
       "      <td>-0.028777</td>\n",
       "      <td>0.998058</td>\n",
       "      <td>0.731953</td>\n",
       "      <td>0.001467</td>\n",
       "      <td>0.112000</td>\n",
       "      <td>0.112000</td>\n",
       "      <td>-0.011253</td>\n",
       "      <td>-0.798696</td>\n",
       "      <td>0.993299</td>\n",
       "      <td>0.995100</td>\n",
       "      <td>-0.798696</td>\n",
       "    </tr>\n",
       "    <tr>\n",
       "      <th>returns</th>\n",
       "      <td>0.028466</td>\n",
       "      <td>1.000000</td>\n",
       "      <td>-0.015494</td>\n",
       "      <td>-0.016833</td>\n",
       "      <td>-0.012364</td>\n",
       "      <td>0.109317</td>\n",
       "      <td>0.047535</td>\n",
       "      <td>0.047535</td>\n",
       "      <td>-0.106708</td>\n",
       "      <td>0.006625</td>\n",
       "      <td>0.030413</td>\n",
       "      <td>0.031388</td>\n",
       "      <td>0.006625</td>\n",
       "    </tr>\n",
       "    <tr>\n",
       "      <th>shift_returns</th>\n",
       "      <td>-0.028777</td>\n",
       "      <td>-0.015494</td>\n",
       "      <td>1.000000</td>\n",
       "      <td>-0.027854</td>\n",
       "      <td>-0.007496</td>\n",
       "      <td>0.018594</td>\n",
       "      <td>-0.008038</td>\n",
       "      <td>-0.008038</td>\n",
       "      <td>0.037668</td>\n",
       "      <td>0.009180</td>\n",
       "      <td>0.031304</td>\n",
       "      <td>-0.031635</td>\n",
       "      <td>0.009180</td>\n",
       "    </tr>\n",
       "    <tr>\n",
       "      <th>sma</th>\n",
       "      <td>0.998058</td>\n",
       "      <td>-0.016833</td>\n",
       "      <td>-0.027854</td>\n",
       "      <td>1.000000</td>\n",
       "      <td>0.734262</td>\n",
       "      <td>-0.011462</td>\n",
       "      <td>0.100000</td>\n",
       "      <td>0.100000</td>\n",
       "      <td>-0.007553</td>\n",
       "      <td>-0.800558</td>\n",
       "      <td>0.991099</td>\n",
       "      <td>0.992842</td>\n",
       "      <td>-0.800558</td>\n",
       "    </tr>\n",
       "    <tr>\n",
       "      <th>smb</th>\n",
       "      <td>0.731953</td>\n",
       "      <td>-0.012364</td>\n",
       "      <td>-0.007496</td>\n",
       "      <td>0.734262</td>\n",
       "      <td>1.000000</td>\n",
       "      <td>-0.018062</td>\n",
       "      <td>-0.034446</td>\n",
       "      <td>-0.034446</td>\n",
       "      <td>0.004023</td>\n",
       "      <td>-0.549364</td>\n",
       "      <td>0.735306</td>\n",
       "      <td>0.735770</td>\n",
       "      <td>-0.549364</td>\n",
       "    </tr>\n",
       "    <tr>\n",
       "      <th>signal</th>\n",
       "      <td>0.001467</td>\n",
       "      <td>0.109317</td>\n",
       "      <td>0.018594</td>\n",
       "      <td>-0.011462</td>\n",
       "      <td>-0.018062</td>\n",
       "      <td>1.000000</td>\n",
       "      <td>0.254444</td>\n",
       "      <td>0.254444</td>\n",
       "      <td>-0.006892</td>\n",
       "      <td>-0.000541</td>\n",
       "      <td>0.002753</td>\n",
       "      <td>0.001583</td>\n",
       "      <td>-0.000541</td>\n",
       "    </tr>\n",
       "    <tr>\n",
       "      <th>sig_up</th>\n",
       "      <td>0.112000</td>\n",
       "      <td>0.047535</td>\n",
       "      <td>-0.008038</td>\n",
       "      <td>0.100000</td>\n",
       "      <td>-0.034446</td>\n",
       "      <td>0.254444</td>\n",
       "      <td>1.000000</td>\n",
       "      <td>1.000000</td>\n",
       "      <td>-0.008472</td>\n",
       "      <td>-0.026401</td>\n",
       "      <td>0.115830</td>\n",
       "      <td>0.116335</td>\n",
       "      <td>-0.026401</td>\n",
       "    </tr>\n",
       "    <tr>\n",
       "      <th>sig_dwn</th>\n",
       "      <td>0.112000</td>\n",
       "      <td>0.047535</td>\n",
       "      <td>-0.008038</td>\n",
       "      <td>0.100000</td>\n",
       "      <td>-0.034446</td>\n",
       "      <td>0.254444</td>\n",
       "      <td>1.000000</td>\n",
       "      <td>1.000000</td>\n",
       "      <td>-0.008472</td>\n",
       "      <td>-0.026401</td>\n",
       "      <td>0.115830</td>\n",
       "      <td>0.116335</td>\n",
       "      <td>-0.026401</td>\n",
       "    </tr>\n",
       "    <tr>\n",
       "      <th>val</th>\n",
       "      <td>-0.011253</td>\n",
       "      <td>-0.106708</td>\n",
       "      <td>0.037668</td>\n",
       "      <td>-0.007553</td>\n",
       "      <td>0.004023</td>\n",
       "      <td>-0.006892</td>\n",
       "      <td>-0.008472</td>\n",
       "      <td>-0.008472</td>\n",
       "      <td>1.000000</td>\n",
       "      <td>-0.004753</td>\n",
       "      <td>-0.012812</td>\n",
       "      <td>-0.015182</td>\n",
       "      <td>-0.004753</td>\n",
       "    </tr>\n",
       "    <tr>\n",
       "      <th>pnls</th>\n",
       "      <td>-0.798696</td>\n",
       "      <td>0.006625</td>\n",
       "      <td>0.009180</td>\n",
       "      <td>-0.800558</td>\n",
       "      <td>-0.549364</td>\n",
       "      <td>-0.000541</td>\n",
       "      <td>-0.026401</td>\n",
       "      <td>-0.026401</td>\n",
       "      <td>-0.004753</td>\n",
       "      <td>1.000000</td>\n",
       "      <td>-0.741332</td>\n",
       "      <td>-0.741902</td>\n",
       "      <td>1.000000</td>\n",
       "    </tr>\n",
       "    <tr>\n",
       "      <th>cum_shift_returns</th>\n",
       "      <td>0.993299</td>\n",
       "      <td>0.030413</td>\n",
       "      <td>0.031304</td>\n",
       "      <td>0.991099</td>\n",
       "      <td>0.735306</td>\n",
       "      <td>0.002753</td>\n",
       "      <td>0.115830</td>\n",
       "      <td>0.115830</td>\n",
       "      <td>-0.012812</td>\n",
       "      <td>-0.741332</td>\n",
       "      <td>1.000000</td>\n",
       "      <td>0.998019</td>\n",
       "      <td>-0.741332</td>\n",
       "    </tr>\n",
       "    <tr>\n",
       "      <th>cum_returns</th>\n",
       "      <td>0.995100</td>\n",
       "      <td>0.031388</td>\n",
       "      <td>-0.031635</td>\n",
       "      <td>0.992842</td>\n",
       "      <td>0.735770</td>\n",
       "      <td>0.001583</td>\n",
       "      <td>0.116335</td>\n",
       "      <td>0.116335</td>\n",
       "      <td>-0.015182</td>\n",
       "      <td>-0.741902</td>\n",
       "      <td>0.998019</td>\n",
       "      <td>1.000000</td>\n",
       "      <td>-0.741902</td>\n",
       "    </tr>\n",
       "    <tr>\n",
       "      <th>cum_val</th>\n",
       "      <td>-0.798696</td>\n",
       "      <td>0.006625</td>\n",
       "      <td>0.009180</td>\n",
       "      <td>-0.800558</td>\n",
       "      <td>-0.549364</td>\n",
       "      <td>-0.000541</td>\n",
       "      <td>-0.026401</td>\n",
       "      <td>-0.026401</td>\n",
       "      <td>-0.004753</td>\n",
       "      <td>1.000000</td>\n",
       "      <td>-0.741332</td>\n",
       "      <td>-0.741902</td>\n",
       "      <td>1.000000</td>\n",
       "    </tr>\n",
       "  </tbody>\n",
       "</table>\n",
       "</div>"
      ],
      "text/plain": [
       "                      Close   returns  shift_returns       sma       smb  \\\n",
       "Close              1.000000  0.028466      -0.028777  0.998058  0.731953   \n",
       "returns            0.028466  1.000000      -0.015494 -0.016833 -0.012364   \n",
       "shift_returns     -0.028777 -0.015494       1.000000 -0.027854 -0.007496   \n",
       "sma                0.998058 -0.016833      -0.027854  1.000000  0.734262   \n",
       "smb                0.731953 -0.012364      -0.007496  0.734262  1.000000   \n",
       "signal             0.001467  0.109317       0.018594 -0.011462 -0.018062   \n",
       "sig_up             0.112000  0.047535      -0.008038  0.100000 -0.034446   \n",
       "sig_dwn            0.112000  0.047535      -0.008038  0.100000 -0.034446   \n",
       "val               -0.011253 -0.106708       0.037668 -0.007553  0.004023   \n",
       "pnls              -0.798696  0.006625       0.009180 -0.800558 -0.549364   \n",
       "cum_shift_returns  0.993299  0.030413       0.031304  0.991099  0.735306   \n",
       "cum_returns        0.995100  0.031388      -0.031635  0.992842  0.735770   \n",
       "cum_val           -0.798696  0.006625       0.009180 -0.800558 -0.549364   \n",
       "\n",
       "                     signal    sig_up   sig_dwn       val      pnls  \\\n",
       "Close              0.001467  0.112000  0.112000 -0.011253 -0.798696   \n",
       "returns            0.109317  0.047535  0.047535 -0.106708  0.006625   \n",
       "shift_returns      0.018594 -0.008038 -0.008038  0.037668  0.009180   \n",
       "sma               -0.011462  0.100000  0.100000 -0.007553 -0.800558   \n",
       "smb               -0.018062 -0.034446 -0.034446  0.004023 -0.549364   \n",
       "signal             1.000000  0.254444  0.254444 -0.006892 -0.000541   \n",
       "sig_up             0.254444  1.000000  1.000000 -0.008472 -0.026401   \n",
       "sig_dwn            0.254444  1.000000  1.000000 -0.008472 -0.026401   \n",
       "val               -0.006892 -0.008472 -0.008472  1.000000 -0.004753   \n",
       "pnls              -0.000541 -0.026401 -0.026401 -0.004753  1.000000   \n",
       "cum_shift_returns  0.002753  0.115830  0.115830 -0.012812 -0.741332   \n",
       "cum_returns        0.001583  0.116335  0.116335 -0.015182 -0.741902   \n",
       "cum_val           -0.000541 -0.026401 -0.026401 -0.004753  1.000000   \n",
       "\n",
       "                   cum_shift_returns  cum_returns   cum_val  \n",
       "Close                       0.993299     0.995100 -0.798696  \n",
       "returns                     0.030413     0.031388  0.006625  \n",
       "shift_returns               0.031304    -0.031635  0.009180  \n",
       "sma                         0.991099     0.992842 -0.800558  \n",
       "smb                         0.735306     0.735770 -0.549364  \n",
       "signal                      0.002753     0.001583 -0.000541  \n",
       "sig_up                      0.115830     0.116335 -0.026401  \n",
       "sig_dwn                     0.115830     0.116335 -0.026401  \n",
       "val                        -0.012812    -0.015182 -0.004753  \n",
       "pnls                       -0.741332    -0.741902  1.000000  \n",
       "cum_shift_returns           1.000000     0.998019 -0.741332  \n",
       "cum_returns                 0.998019     1.000000 -0.741902  \n",
       "cum_val                    -0.741332    -0.741902  1.000000  "
      ]
     },
     "execution_count": 377,
     "metadata": {},
     "output_type": "execute_result"
    }
   ],
   "source": [
    "res[(res.sig_up == 1) | (res.sig_dwn == -1)].corr()"
   ]
  },
  {
   "cell_type": "code",
   "execution_count": 378,
   "metadata": {},
   "outputs": [
    {
     "data": {
      "text/plain": [
       "<matplotlib.axes._subplots.AxesSubplot at 0x2a30ab0f048>"
      ]
     },
     "execution_count": 378,
     "metadata": {},
     "output_type": "execute_result"
    },
    {
     "data": {
      "image/png": "[encoded data removed]",
      "text/plain": [
       "<Figure size 432x288 with 1 Axes>"
      ]
     },
     "metadata": {
      "needs_background": "light"
     },
     "output_type": "display_data"
    }
   ],
   "source": [
    "res[['cum_returns', 'pnls']].plot()\n"
   ]
  },
  {
   "cell_type": "code",
   "execution_count": 394,
   "metadata": {},
   "outputs": [
    {
     "data": {
      "text/plain": [
       "returns   -2.912026\n",
       "dtype: float64"
      ]
     },
     "execution_count": 394,
     "metadata": {},
     "output_type": "execute_result"
    }
   ],
   "source": [
    "res[(res.sig_dwn == -1) | ((res.sig_dwn == 1))  ][['returns']].mean() * 100 *100"
   ]
  },
  {
   "cell_type": "code",
   "execution_count": 398,
   "metadata": {},
   "outputs": [
    {
     "data": {
      "text/plain": [
       "2.9120259681123244"
      ]
     },
     "execution_count": 398,
     "metadata": {},
     "output_type": "execute_result"
    }
   ],
   "source": [
    "res[(res.sig_dwn == -1) | ((res.sig_dwn == 1))  ].val.mean() * 100 * 100"
   ]
  },
  {
   "cell_type": "code",
   "execution_count": 409,
   "metadata": {},
   "outputs": [
    {
     "data": {
      "text/plain": [
       "-3.30624249353354"
      ]
     },
     "execution_count": 409,
     "metadata": {},
     "output_type": "execute_result"
    }
   ],
   "source": [
    "res[((res.sig_dwn == -1) | ((res.sig_dwn == 1))  ) ].pnls.min() * 100 "
   ]
  },
  {
   "cell_type": "code",
   "execution_count": 410,
   "metadata": {},
   "outputs": [
    {
     "name": "stderr",
     "output_type": "stream",
     "text": [
      "C:\\Users\\lexik\\.conda\\envs\\quant\\lib\\site-packages\\pandas_datareader\\compat\\__init__.py:7: FutureWarning: pandas.util.testing is deprecated. Use the functions in the public API at pandas.testing instead.\n",
      "  from pandas.util.testing import assert_frame_equal\n"
     ]
    }
   ],
   "source": [
    "import pybacktest"
   ]
  },
  {
   "cell_type": "code",
   "execution_count": 416,
   "metadata": {},
   "outputs": [
    {
     "data": {
      "text/html": [
       "<div>\n",
       "<style scoped>\n",
       "    .dataframe tbody tr th:only-of-type {\n",
       "        vertical-align: middle;\n",
       "    }\n",
       "\n",
       "    .dataframe tbody tr th {\n",
       "        vertical-align: top;\n",
       "    }\n",
       "\n",
       "    .dataframe thead th {\n",
       "        text-align: right;\n",
       "    }\n",
       "</style>\n",
       "<table border=\"1\" class=\"dataframe\">\n",
       "  <thead>\n",
       "    <tr style=\"text-align: right;\">\n",
       "      <th></th>\n",
       "      <th>Close</th>\n",
       "      <th>Vol</th>\n",
       "      <th>Change</th>\n",
       "      <th>returns</th>\n",
       "      <th>returns2</th>\n",
       "      <th>entry</th>\n",
       "      <th>direction</th>\n",
       "      <th>shift_returns</th>\n",
       "      <th>shift_Change</th>\n",
       "      <th>val</th>\n",
       "    </tr>\n",
       "    <tr>\n",
       "      <th>Date</th>\n",
       "      <th></th>\n",
       "      <th></th>\n",
       "      <th></th>\n",
       "      <th></th>\n",
       "      <th></th>\n",
       "      <th></th>\n",
       "      <th></th>\n",
       "      <th></th>\n",
       "      <th></th>\n",
       "      <th></th>\n",
       "    </tr>\n",
       "  </thead>\n",
       "  <tbody>\n",
       "    <tr>\n",
       "      <th>2010-03-02</th>\n",
       "      <td>1.36185</td>\n",
       "      <td>44046</td>\n",
       "      <td>0.004307</td>\n",
       "      <td>0.000000</td>\n",
       "      <td>0.000000</td>\n",
       "      <td>-0.0</td>\n",
       "      <td>0.0</td>\n",
       "      <td>0.005933</td>\n",
       "      <td>0.005933</td>\n",
       "      <td>0.000000</td>\n",
       "    </tr>\n",
       "    <tr>\n",
       "      <th>2010-03-03</th>\n",
       "      <td>1.36993</td>\n",
       "      <td>58804</td>\n",
       "      <td>0.005933</td>\n",
       "      <td>0.005933</td>\n",
       "      <td>0.000000</td>\n",
       "      <td>-0.0</td>\n",
       "      <td>-1.0</td>\n",
       "      <td>-0.008665</td>\n",
       "      <td>-0.008665</td>\n",
       "      <td>0.000000</td>\n",
       "    </tr>\n",
       "    <tr>\n",
       "      <th>2010-03-04</th>\n",
       "      <td>1.35806</td>\n",
       "      <td>54033</td>\n",
       "      <td>-0.008665</td>\n",
       "      <td>-0.008665</td>\n",
       "      <td>0.005933</td>\n",
       "      <td>1.0</td>\n",
       "      <td>1.0</td>\n",
       "      <td>0.002857</td>\n",
       "      <td>0.002857</td>\n",
       "      <td>-0.000000</td>\n",
       "    </tr>\n",
       "    <tr>\n",
       "      <th>2010-03-05</th>\n",
       "      <td>1.36194</td>\n",
       "      <td>37976</td>\n",
       "      <td>0.002857</td>\n",
       "      <td>0.002857</td>\n",
       "      <td>-0.008665</td>\n",
       "      <td>1.0</td>\n",
       "      <td>-1.0</td>\n",
       "      <td>0.001212</td>\n",
       "      <td>0.001212</td>\n",
       "      <td>0.000000</td>\n",
       "    </tr>\n",
       "    <tr>\n",
       "      <th>2010-03-07</th>\n",
       "      <td>1.36359</td>\n",
       "      <td>1891</td>\n",
       "      <td>0.001212</td>\n",
       "      <td>0.001212</td>\n",
       "      <td>0.002857</td>\n",
       "      <td>-1.0</td>\n",
       "      <td>-1.0</td>\n",
       "      <td>-0.001313</td>\n",
       "      <td>-0.001313</td>\n",
       "      <td>0.001212</td>\n",
       "    </tr>\n",
       "  </tbody>\n",
       "</table>\n",
       "</div>"
      ],
      "text/plain": [
       "              Close    Vol    Change   returns  returns2  entry  direction  \\\n",
       "Date                                                                         \n",
       "2010-03-02  1.36185  44046  0.004307  0.000000  0.000000   -0.0        0.0   \n",
       "2010-03-03  1.36993  58804  0.005933  0.005933  0.000000   -0.0       -1.0   \n",
       "2010-03-04  1.35806  54033 -0.008665 -0.008665  0.005933    1.0        1.0   \n",
       "2010-03-05  1.36194  37976  0.002857  0.002857 -0.008665    1.0       -1.0   \n",
       "2010-03-07  1.36359   1891  0.001212  0.001212  0.002857   -1.0       -1.0   \n",
       "\n",
       "            shift_returns  shift_Change       val  \n",
       "Date                                               \n",
       "2010-03-02       0.005933      0.005933  0.000000  \n",
       "2010-03-03      -0.008665     -0.008665  0.000000  \n",
       "2010-03-04       0.002857      0.002857 -0.000000  \n",
       "2010-03-05       0.001212      0.001212  0.000000  \n",
       "2010-03-07      -0.001313     -0.001313  0.001212  "
      ]
     },
     "execution_count": 416,
     "metadata": {},
     "output_type": "execute_result"
    }
   ],
   "source": [
    "eur_df.head()"
   ]
  },
  {
   "cell_type": "code",
   "execution_count": null,
   "metadata": {},
   "outputs": [],
   "source": []
  },
  {
   "cell_type": "code",
   "execution_count": 423,
   "metadata": {},
   "outputs": [],
   "source": [
    "ohlc = eur_df.rename(columns={'Close':'C', 'Open':'O', 'High':'H', 'Low':'L'})"
   ]
  },
  {
   "cell_type": "code",
   "execution_count": 427,
   "metadata": {},
   "outputs": [],
   "source": [
    "ms = eur_df.Close.rolling(10).mean()\n",
    "ml = eur_df.Close.rolling(20).mean()\n",
    "buy = cover = (ms > ml) & (ms.shift() < ml.shift())\n",
    "sell = short = (ms < ml) & (ms.shift() > ml.shift())"
   ]
  },
  {
   "cell_type": "code",
   "execution_count": 428,
   "metadata": {},
   "outputs": [],
   "source": [
    "bt = pybacktest.Backtest(locals(), 'ma_cross')"
   ]
  },
  {
   "cell_type": "code",
   "execution_count": 429,
   "metadata": {},
   "outputs": [
    {
     "name": "stdout",
     "output_type": "stream",
     "text": [
      "--------------------------------------------------------------\n",
      "|  Backtest(ma_cross, 2020-28-03 19:01 Korea Standard Time)  |\n",
      "--------------------------------------------------------------\n",
      "\n",
      "backtest:\n",
      "  days: 3617\n",
      "  from: '2010-04-25 00:00:00'\n",
      "  to: '2020-03-20 00:00:00'\n",
      "  trades: 175\n",
      "performance:\n",
      "  PF: 0.7046\n",
      "  RF: -0.7354\n",
      "  averages:\n",
      "    gain: 0.0193\n",
      "    loss: -0.0143\n",
      "    trade: -0.0028\n",
      "  payoff: 1.3504\n",
      "  profit: -0.4851\n",
      "  winrate: 0.3429\n",
      "risk/return profile:\n",
      "  MPI: -0.0099\n",
      "  UPI: -0.0068\n",
      "  WCDD (monte-carlo 0.99 quantile): 0.823\n",
      "  maxdd: 0.6597\n",
      "  sharpe: -0.4284\n",
      "  sortino: -0.1842\n",
      "\n",
      "--------------------------------------------------------------\n"
     ]
    }
   ],
   "source": [
    "bt.summary()"
   ]
  },
  {
   "cell_type": "code",
   "execution_count": 439,
   "metadata": {},
   "outputs": [
    {
     "data": {
      "text/html": [
       "<div>\n",
       "<style scoped>\n",
       "    .dataframe tbody tr th:only-of-type {\n",
       "        vertical-align: middle;\n",
       "    }\n",
       "\n",
       "    .dataframe tbody tr th {\n",
       "        vertical-align: top;\n",
       "    }\n",
       "\n",
       "    .dataframe thead th {\n",
       "        text-align: right;\n",
       "    }\n",
       "</style>\n",
       "<table border=\"1\" class=\"dataframe\">\n",
       "  <thead>\n",
       "    <tr style=\"text-align: right;\">\n",
       "      <th></th>\n",
       "      <th>Close</th>\n",
       "      <th>returns</th>\n",
       "      <th>shift_returns</th>\n",
       "      <th>sma</th>\n",
       "      <th>smb</th>\n",
       "      <th>signal</th>\n",
       "      <th>sig_up</th>\n",
       "      <th>sig_dwn</th>\n",
       "      <th>val</th>\n",
       "      <th>pnls</th>\n",
       "      <th>cum_shift_returns</th>\n",
       "      <th>cum_returns</th>\n",
       "      <th>cum_val</th>\n",
       "    </tr>\n",
       "    <tr>\n",
       "      <th>Date</th>\n",
       "      <th></th>\n",
       "      <th></th>\n",
       "      <th></th>\n",
       "      <th></th>\n",
       "      <th></th>\n",
       "      <th></th>\n",
       "      <th></th>\n",
       "      <th></th>\n",
       "      <th></th>\n",
       "      <th></th>\n",
       "      <th></th>\n",
       "      <th></th>\n",
       "      <th></th>\n",
       "    </tr>\n",
       "  </thead>\n",
       "  <tbody>\n",
       "    <tr>\n",
       "      <th>2010-03-24</th>\n",
       "      <td>1.33280</td>\n",
       "      <td>-0.010358</td>\n",
       "      <td>-0.001748</td>\n",
       "      <td>1.348166</td>\n",
       "      <td>1.362152</td>\n",
       "      <td>-2.0</td>\n",
       "      <td>-0.0</td>\n",
       "      <td>-1.0</td>\n",
       "      <td>0.010358</td>\n",
       "      <td>-0.000685</td>\n",
       "      <td>-0.023025</td>\n",
       "      <td>-0.021277</td>\n",
       "      <td>-0.000685</td>\n",
       "    </tr>\n",
       "    <tr>\n",
       "      <th>2010-03-25</th>\n",
       "      <td>1.33047</td>\n",
       "      <td>-0.001748</td>\n",
       "      <td>0.008193</td>\n",
       "      <td>1.343558</td>\n",
       "      <td>1.360583</td>\n",
       "      <td>0.0</td>\n",
       "      <td>-0.0</td>\n",
       "      <td>-1.0</td>\n",
       "      <td>0.001748</td>\n",
       "      <td>0.001063</td>\n",
       "      <td>-0.014832</td>\n",
       "      <td>-0.023025</td>\n",
       "      <td>0.001063</td>\n",
       "    </tr>\n",
       "    <tr>\n",
       "      <th>2010-03-26</th>\n",
       "      <td>1.34137</td>\n",
       "      <td>0.008193</td>\n",
       "      <td>0.002237</td>\n",
       "      <td>1.341602</td>\n",
       "      <td>1.359155</td>\n",
       "      <td>0.0</td>\n",
       "      <td>-0.0</td>\n",
       "      <td>-1.0</td>\n",
       "      <td>-0.008193</td>\n",
       "      <td>-0.007130</td>\n",
       "      <td>-0.012596</td>\n",
       "      <td>-0.014832</td>\n",
       "      <td>-0.007130</td>\n",
       "    </tr>\n",
       "    <tr>\n",
       "      <th>2010-03-28</th>\n",
       "      <td>1.34437</td>\n",
       "      <td>0.002237</td>\n",
       "      <td>0.003355</td>\n",
       "      <td>1.339152</td>\n",
       "      <td>1.358470</td>\n",
       "      <td>0.0</td>\n",
       "      <td>-0.0</td>\n",
       "      <td>-1.0</td>\n",
       "      <td>-0.002237</td>\n",
       "      <td>-0.009366</td>\n",
       "      <td>-0.009241</td>\n",
       "      <td>-0.012596</td>\n",
       "      <td>-0.009366</td>\n",
       "    </tr>\n",
       "    <tr>\n",
       "      <th>2010-03-29</th>\n",
       "      <td>1.34888</td>\n",
       "      <td>0.003355</td>\n",
       "      <td>-0.004137</td>\n",
       "      <td>1.339578</td>\n",
       "      <td>1.357817</td>\n",
       "      <td>0.0</td>\n",
       "      <td>-0.0</td>\n",
       "      <td>-1.0</td>\n",
       "      <td>-0.003355</td>\n",
       "      <td>-0.012721</td>\n",
       "      <td>-0.013378</td>\n",
       "      <td>-0.009241</td>\n",
       "      <td>-0.012721</td>\n",
       "    </tr>\n",
       "    <tr>\n",
       "      <th>...</th>\n",
       "      <td>...</td>\n",
       "      <td>...</td>\n",
       "      <td>...</td>\n",
       "      <td>...</td>\n",
       "      <td>...</td>\n",
       "      <td>...</td>\n",
       "      <td>...</td>\n",
       "      <td>...</td>\n",
       "      <td>...</td>\n",
       "      <td>...</td>\n",
       "      <td>...</td>\n",
       "      <td>...</td>\n",
       "      <td>...</td>\n",
       "    </tr>\n",
       "    <tr>\n",
       "      <th>2020-03-22</th>\n",
       "      <td>1.06888</td>\n",
       "      <td>-0.000421</td>\n",
       "      <td>0.006979</td>\n",
       "      <td>1.079900</td>\n",
       "      <td>1.110041</td>\n",
       "      <td>0.0</td>\n",
       "      <td>-0.0</td>\n",
       "      <td>-1.0</td>\n",
       "      <td>0.000421</td>\n",
       "      <td>0.802585</td>\n",
       "      <td>-0.193646</td>\n",
       "      <td>-0.200625</td>\n",
       "      <td>0.802585</td>\n",
       "    </tr>\n",
       "    <tr>\n",
       "      <th>2020-03-23</th>\n",
       "      <td>1.07634</td>\n",
       "      <td>0.006979</td>\n",
       "      <td>0.003187</td>\n",
       "      <td>1.074852</td>\n",
       "      <td>1.108719</td>\n",
       "      <td>0.0</td>\n",
       "      <td>-0.0</td>\n",
       "      <td>-1.0</td>\n",
       "      <td>-0.006979</td>\n",
       "      <td>0.795606</td>\n",
       "      <td>-0.190459</td>\n",
       "      <td>-0.193646</td>\n",
       "      <td>0.795606</td>\n",
       "    </tr>\n",
       "    <tr>\n",
       "      <th>2020-03-24</th>\n",
       "      <td>1.07977</td>\n",
       "      <td>0.003187</td>\n",
       "      <td>0.008372</td>\n",
       "      <td>1.071950</td>\n",
       "      <td>1.107451</td>\n",
       "      <td>0.0</td>\n",
       "      <td>-0.0</td>\n",
       "      <td>-1.0</td>\n",
       "      <td>-0.003187</td>\n",
       "      <td>0.792419</td>\n",
       "      <td>-0.182087</td>\n",
       "      <td>-0.190459</td>\n",
       "      <td>0.792419</td>\n",
       "    </tr>\n",
       "    <tr>\n",
       "      <th>2020-03-25</th>\n",
       "      <td>1.08881</td>\n",
       "      <td>0.008372</td>\n",
       "      <td>0.014585</td>\n",
       "      <td>1.076626</td>\n",
       "      <td>1.106172</td>\n",
       "      <td>0.0</td>\n",
       "      <td>-0.0</td>\n",
       "      <td>-1.0</td>\n",
       "      <td>-0.008372</td>\n",
       "      <td>0.784047</td>\n",
       "      <td>-0.167502</td>\n",
       "      <td>-0.182087</td>\n",
       "      <td>0.784047</td>\n",
       "    </tr>\n",
       "    <tr>\n",
       "      <th>2020-03-26</th>\n",
       "      <td>1.10469</td>\n",
       "      <td>0.014585</td>\n",
       "      <td>0.000000</td>\n",
       "      <td>1.083698</td>\n",
       "      <td>1.105526</td>\n",
       "      <td>0.0</td>\n",
       "      <td>-0.0</td>\n",
       "      <td>-1.0</td>\n",
       "      <td>-0.014585</td>\n",
       "      <td>0.769463</td>\n",
       "      <td>-0.167502</td>\n",
       "      <td>-0.167502</td>\n",
       "      <td>0.769463</td>\n",
       "    </tr>\n",
       "  </tbody>\n",
       "</table>\n",
       "<p>1609 rows × 13 columns</p>\n",
       "</div>"
      ],
      "text/plain": [
       "              Close   returns  shift_returns       sma       smb  signal  \\\n",
       "Date                                                                       \n",
       "2010-03-24  1.33280 -0.010358      -0.001748  1.348166  1.362152    -2.0   \n",
       "2010-03-25  1.33047 -0.001748       0.008193  1.343558  1.360583     0.0   \n",
       "2010-03-26  1.34137  0.008193       0.002237  1.341602  1.359155     0.0   \n",
       "2010-03-28  1.34437  0.002237       0.003355  1.339152  1.358470     0.0   \n",
       "2010-03-29  1.34888  0.003355      -0.004137  1.339578  1.357817     0.0   \n",
       "...             ...       ...            ...       ...       ...     ...   \n",
       "2020-03-22  1.06888 -0.000421       0.006979  1.079900  1.110041     0.0   \n",
       "2020-03-23  1.07634  0.006979       0.003187  1.074852  1.108719     0.0   \n",
       "2020-03-24  1.07977  0.003187       0.008372  1.071950  1.107451     0.0   \n",
       "2020-03-25  1.08881  0.008372       0.014585  1.076626  1.106172     0.0   \n",
       "2020-03-26  1.10469  0.014585       0.000000  1.083698  1.105526     0.0   \n",
       "\n",
       "            sig_up  sig_dwn       val      pnls  cum_shift_returns  \\\n",
       "Date                                                                 \n",
       "2010-03-24    -0.0     -1.0  0.010358 -0.000685          -0.023025   \n",
       "2010-03-25    -0.0     -1.0  0.001748  0.001063          -0.014832   \n",
       "2010-03-26    -0.0     -1.0 -0.008193 -0.007130          -0.012596   \n",
       "2010-03-28    -0.0     -1.0 -0.002237 -0.009366          -0.009241   \n",
       "2010-03-29    -0.0     -1.0 -0.003355 -0.012721          -0.013378   \n",
       "...            ...      ...       ...       ...                ...   \n",
       "2020-03-22    -0.0     -1.0  0.000421  0.802585          -0.193646   \n",
       "2020-03-23    -0.0     -1.0 -0.006979  0.795606          -0.190459   \n",
       "2020-03-24    -0.0     -1.0 -0.003187  0.792419          -0.182087   \n",
       "2020-03-25    -0.0     -1.0 -0.008372  0.784047          -0.167502   \n",
       "2020-03-26    -0.0     -1.0 -0.014585  0.769463          -0.167502   \n",
       "\n",
       "            cum_returns   cum_val  \n",
       "Date                               \n",
       "2010-03-24    -0.021277 -0.000685  \n",
       "2010-03-25    -0.023025  0.001063  \n",
       "2010-03-26    -0.014832 -0.007130  \n",
       "2010-03-28    -0.012596 -0.009366  \n",
       "2010-03-29    -0.009241 -0.012721  \n",
       "...                 ...       ...  \n",
       "2020-03-22    -0.200625  0.802585  \n",
       "2020-03-23    -0.193646  0.795606  \n",
       "2020-03-24    -0.190459  0.792419  \n",
       "2020-03-25    -0.182087  0.784047  \n",
       "2020-03-26    -0.167502  0.769463  \n",
       "\n",
       "[1609 rows x 13 columns]"
      ]
     },
     "execution_count": 439,
     "metadata": {},
     "output_type": "execute_result"
    }
   ],
   "source": [
    "res[res.sig_dwn==-1.0]"
   ]
  },
  {
   "cell_type": "code",
   "execution_count": 462,
   "metadata": {},
   "outputs": [
    {
     "data": {
      "text/plain": [
       "<matplotlib.axes._subplots.AxesSubplot at 0x2a30c19ad08>"
      ]
     },
     "execution_count": 462,
     "metadata": {},
     "output_type": "execute_result"
    },
    {
     "data": {
      "image/png": "[encoded data removed]",
      "text/plain": [
       "<Figure size 1080x576 with 1 Axes>"
      ]
     },
     "metadata": {
      "needs_background": "light"
     },
     "output_type": "display_data"
    }
   ],
   "source": [
    "res[res.signal==-2]['val'].hist(bins=50)"
   ]
  },
  {
   "cell_type": "code",
   "execution_count": 460,
   "metadata": {},
   "outputs": [
    {
     "data": {
      "text/plain": [
       "<matplotlib.axes._subplots.AxesSubplot at 0x2a30bce88c8>"
      ]
     },
     "execution_count": 460,
     "metadata": {},
     "output_type": "execute_result"
    },
    {
     "data": {
      "image/png": "[encoded data removed]",
      "text/plain": [
       "<Figure size 1080x576 with 1 Axes>"
      ]
     },
     "metadata": {
      "needs_background": "light"
     },
     "output_type": "display_data"
    }
   ],
   "source": [
    "res[res.signal==2][['val']].cumsum().plot()"
   ]
  },
  {
   "cell_type": "code",
   "execution_count": 474,
   "metadata": {},
   "outputs": [
    {
     "data": {
      "text/plain": [
       "(66, 13)"
      ]
     },
     "execution_count": 474,
     "metadata": {},
     "output_type": "execute_result"
    }
   ],
   "source": [
    "res[(res.signal==-2) & (res.val > 0) ].shape"
   ]
  },
  {
   "cell_type": "code",
   "execution_count": 468,
   "metadata": {},
   "outputs": [
    {
     "data": {
      "text/plain": [
       "0.63"
      ]
     },
     "execution_count": 468,
     "metadata": {},
     "output_type": "execute_result"
    }
   ],
   "source": [
    "63 / 100"
   ]
  },
  {
   "cell_type": "code",
   "execution_count": 430,
   "metadata": {},
   "outputs": [
    {
     "ename": "AttributeError",
     "evalue": "'Series' object has no attribute 'ix'",
     "output_type": "error",
     "traceback": [
      "\u001b[1;31m---------------------------------------------------------------------------\u001b[0m",
      "\u001b[1;31mAttributeError\u001b[0m                            Traceback (most recent call last)",
      "\u001b[1;32m<ipython-input-430-cfef4a32c00a>\u001b[0m in \u001b[0;36m<module>\u001b[1;34m\u001b[0m\n\u001b[0;32m      4\u001b[0m \u001b[0mmatplotlib\u001b[0m\u001b[1;33m.\u001b[0m\u001b[0mrcParams\u001b[0m\u001b[1;33m[\u001b[0m\u001b[1;34m'figure.figsize'\u001b[0m\u001b[1;33m]\u001b[0m \u001b[1;33m=\u001b[0m \u001b[1;33m(\u001b[0m\u001b[1;36m15.0\u001b[0m\u001b[1;33m,\u001b[0m \u001b[1;36m8.0\u001b[0m\u001b[1;33m)\u001b[0m\u001b[1;33m\u001b[0m\u001b[1;33m\u001b[0m\u001b[0m\n\u001b[0;32m      5\u001b[0m \u001b[1;33m\u001b[0m\u001b[0m\n\u001b[1;32m----> 6\u001b[1;33m \u001b[0mbt\u001b[0m\u001b[1;33m.\u001b[0m\u001b[0mplot_equity\u001b[0m\u001b[1;33m(\u001b[0m\u001b[1;33m)\u001b[0m\u001b[1;33m\u001b[0m\u001b[1;33m\u001b[0m\u001b[0m\n\u001b[0m",
      "\u001b[1;32m~\\.conda\\envs\\quant\\lib\\site-packages\\pybacktest\\backtest.py\u001b[0m in \u001b[0;36mplot_equity\u001b[1;34m(self, subset, ax)\u001b[0m\n\u001b[0;32m    186\u001b[0m         \u001b[0meq\u001b[0m \u001b[1;33m=\u001b[0m \u001b[0mself\u001b[0m\u001b[1;33m.\u001b[0m\u001b[0mequity\u001b[0m\u001b[1;33m[\u001b[0m\u001b[0msubset\u001b[0m\u001b[1;33m]\u001b[0m\u001b[1;33m.\u001b[0m\u001b[0mcumsum\u001b[0m\u001b[1;33m(\u001b[0m\u001b[1;33m)\u001b[0m\u001b[1;33m\u001b[0m\u001b[1;33m\u001b[0m\u001b[0m\n\u001b[0;32m    187\u001b[0m \u001b[1;33m\u001b[0m\u001b[0m\n\u001b[1;32m--> 188\u001b[1;33m         \u001b[0meq\u001b[0m \u001b[1;33m=\u001b[0m \u001b[0mself\u001b[0m\u001b[1;33m.\u001b[0m\u001b[0mequity\u001b[0m\u001b[1;33m.\u001b[0m\u001b[0mix\u001b[0m\u001b[1;33m[\u001b[0m\u001b[0msubset\u001b[0m\u001b[1;33m]\u001b[0m\u001b[1;33m.\u001b[0m\u001b[0mcumsum\u001b[0m\u001b[1;33m(\u001b[0m\u001b[1;33m)\u001b[0m\u001b[1;33m\u001b[0m\u001b[1;33m\u001b[0m\u001b[0m\n\u001b[0m\u001b[0;32m    189\u001b[0m         \u001b[0mix\u001b[0m \u001b[1;33m=\u001b[0m \u001b[0meq\u001b[0m\u001b[1;33m.\u001b[0m\u001b[0mindex\u001b[0m\u001b[1;33m\u001b[0m\u001b[1;33m\u001b[0m\u001b[0m\n\u001b[0;32m    190\u001b[0m         \u001b[0meq\u001b[0m\u001b[1;33m.\u001b[0m\u001b[0mplot\u001b[0m\u001b[1;33m(\u001b[0m\u001b[0mcolor\u001b[0m\u001b[1;33m=\u001b[0m\u001b[1;34m'red'\u001b[0m\u001b[1;33m,\u001b[0m \u001b[0mstyle\u001b[0m\u001b[1;33m=\u001b[0m\u001b[1;34m'-'\u001b[0m\u001b[1;33m,\u001b[0m\u001b[0max\u001b[0m\u001b[1;33m=\u001b[0m\u001b[0max\u001b[0m\u001b[1;33m)\u001b[0m\u001b[1;33m\u001b[0m\u001b[1;33m\u001b[0m\u001b[0m\n",
      "\u001b[1;32m~\\.conda\\envs\\quant\\lib\\site-packages\\pandas\\core\\generic.py\u001b[0m in \u001b[0;36m__getattr__\u001b[1;34m(self, name)\u001b[0m\n\u001b[0;32m   5271\u001b[0m             \u001b[1;32mif\u001b[0m \u001b[0mself\u001b[0m\u001b[1;33m.\u001b[0m\u001b[0m_info_axis\u001b[0m\u001b[1;33m.\u001b[0m\u001b[0m_can_hold_identifiers_and_holds_name\u001b[0m\u001b[1;33m(\u001b[0m\u001b[0mname\u001b[0m\u001b[1;33m)\u001b[0m\u001b[1;33m:\u001b[0m\u001b[1;33m\u001b[0m\u001b[1;33m\u001b[0m\u001b[0m\n\u001b[0;32m   5272\u001b[0m                 \u001b[1;32mreturn\u001b[0m \u001b[0mself\u001b[0m\u001b[1;33m[\u001b[0m\u001b[0mname\u001b[0m\u001b[1;33m]\u001b[0m\u001b[1;33m\u001b[0m\u001b[1;33m\u001b[0m\u001b[0m\n\u001b[1;32m-> 5273\u001b[1;33m             \u001b[1;32mreturn\u001b[0m \u001b[0mobject\u001b[0m\u001b[1;33m.\u001b[0m\u001b[0m__getattribute__\u001b[0m\u001b[1;33m(\u001b[0m\u001b[0mself\u001b[0m\u001b[1;33m,\u001b[0m \u001b[0mname\u001b[0m\u001b[1;33m)\u001b[0m\u001b[1;33m\u001b[0m\u001b[1;33m\u001b[0m\u001b[0m\n\u001b[0m\u001b[0;32m   5274\u001b[0m \u001b[1;33m\u001b[0m\u001b[0m\n\u001b[0;32m   5275\u001b[0m     \u001b[1;32mdef\u001b[0m \u001b[0m__setattr__\u001b[0m\u001b[1;33m(\u001b[0m\u001b[0mself\u001b[0m\u001b[1;33m,\u001b[0m \u001b[0mname\u001b[0m\u001b[1;33m:\u001b[0m \u001b[0mstr\u001b[0m\u001b[1;33m,\u001b[0m \u001b[0mvalue\u001b[0m\u001b[1;33m)\u001b[0m \u001b[1;33m->\u001b[0m \u001b[1;32mNone\u001b[0m\u001b[1;33m:\u001b[0m\u001b[1;33m\u001b[0m\u001b[1;33m\u001b[0m\u001b[0m\n",
      "\u001b[1;31mAttributeError\u001b[0m: 'Series' object has no attribute 'ix'"
     ]
    },
    {
     "data": {
      "image/png": "[encoded data removed]",
      "text/plain": [
       "<Figure size 1080x576 with 1 Axes>"
      ]
     },
     "metadata": {
      "needs_background": "light"
     },
     "output_type": "display_data"
    }
   ],
   "source": [
    "%matplotlib inline\n",
    "import matplotlib\n",
    "import matplotlib.pyplot as plt\n",
    "matplotlib.rcParams['figure.figsize'] = (15.0, 8.0)\n",
    "\n",
    "bt.plot_equity()"
   ]
  },
  {
   "cell_type": "code",
   "execution_count": 475,
   "metadata": {},
   "outputs": [
    {
     "name": "stdout",
     "output_type": "stream",
     "text": [
      "--------------------------------------------------------------\n",
      "|  Backtest(ma_cross, 2020-28-03 19:01 Korea Standard Time)  |\n",
      "--------------------------------------------------------------\n",
      "\n",
      "backtest:\n",
      "  days: 3617\n",
      "  from: '2010-04-25 00:00:00'\n",
      "  to: '2020-03-20 00:00:00'\n",
      "  trades: 175\n",
      "performance:\n",
      "  PF: 0.7046\n",
      "  RF: -0.7354\n",
      "  averages:\n",
      "    gain: 0.0193\n",
      "    loss: -0.0143\n",
      "    trade: -0.0028\n",
      "  payoff: 1.3504\n",
      "  profit: -0.4851\n",
      "  winrate: 0.3429\n",
      "risk/return profile:\n",
      "  MPI: -0.0099\n",
      "  UPI: -0.0068\n",
      "  WCDD (monte-carlo 0.99 quantile): 0.823\n",
      "  maxdd: 0.6597\n",
      "  sharpe: -0.4284\n",
      "  sortino: -0.1842\n",
      "\n",
      "--------------------------------------------------------------\n"
     ]
    }
   ],
   "source": [
    "bt.summary()"
   ]
  },
  {
   "cell_type": "code",
   "execution_count": 476,
   "metadata": {},
   "outputs": [],
   "source": [
    "### long term returns"
   ]
  },
  {
   "cell_type": "code",
   "execution_count": 731,
   "metadata": {},
   "outputs": [],
   "source": [
    "res = momentum_strategy(eur_df, 1, 1)"
   ]
  },
  {
   "cell_type": "code",
   "execution_count": 732,
   "metadata": {},
   "outputs": [
    {
     "data": {
      "text/plain": [
       "<matplotlib.axes._subplots.AxesSubplot at 0x2a321e06288>"
      ]
     },
     "execution_count": 732,
     "metadata": {},
     "output_type": "execute_result"
    },
    {
     "data": {
      "image/png": "[encoded data removed]",
      "text/plain": [
       "<Figure size 1080x576 with 1 Axes>"
      ]
     },
     "metadata": {
      "needs_background": "light"
     },
     "output_type": "display_data"
    }
   ],
   "source": [
    "res[res.entry==1].reset_index().val.cumsum().plot()"
   ]
  },
  {
   "cell_type": "code",
   "execution_count": 734,
   "metadata": {},
   "outputs": [],
   "source": [
    "import rwi"
   ]
  },
  {
   "cell_type": "code",
   "execution_count": 779,
   "metadata": {},
   "outputs": [
    {
     "data": {
      "text/plain": [
       "array([0.47988071])"
      ]
     },
     "execution_count": 779,
     "metadata": {},
     "output_type": "execute_result"
    }
   ],
   "source": [
    "rwi.hurstF(eur_df[['Close']])"
   ]
  },
  {
   "cell_type": "code",
   "execution_count": 798,
   "metadata": {},
   "outputs": [
    {
     "data": {
      "text/plain": [
       "<matplotlib.axes._subplots.AxesSubplot at 0x2a32d944e48>"
      ]
     },
     "execution_count": 798,
     "metadata": {},
     "output_type": "execute_result"
    },
    {
     "data": {
      "image/png": "[encoded data removed]",
      "text/plain": [
       "<Figure size 1080x576 with 1 Axes>"
      ]
     },
     "metadata": {
      "needs_background": "light"
     },
     "output_type": "display_data"
    }
   ],
   "source": [
    "eur_df[['returns']].rolling(500).apply(rwi.marketMeannes, raw=False).plot()"
   ]
  },
  {
   "cell_type": "code",
   "execution_count": 766,
   "metadata": {},
   "outputs": [
    {
     "data": {
      "text/plain": [
       "<matplotlib.axes._subplots.AxesSubplot at 0x2a32819a3c8>"
      ]
     },
     "execution_count": 766,
     "metadata": {},
     "output_type": "execute_result"
    },
    {
     "data": {
      "image/png": "[encoded data removed]",
      "text/plain": [
       "<Figure size 1080x576 with 1 Axes>"
      ]
     },
     "metadata": {
      "needs_background": "light"
     },
     "output_type": "display_data"
    }
   ],
   "source": [
    "eur_df[['Close']].rolling(420).apply(rwi.momersionPeriod, args=[200]).fillna(50).plot()"
   ]
  },
  {
   "cell_type": "code",
   "execution_count": 531,
   "metadata": {},
   "outputs": [
    {
     "data": {
      "text/html": [
       "<div>\n",
       "<style scoped>\n",
       "    .dataframe tbody tr th:only-of-type {\n",
       "        vertical-align: middle;\n",
       "    }\n",
       "\n",
       "    .dataframe tbody tr th {\n",
       "        vertical-align: top;\n",
       "    }\n",
       "\n",
       "    .dataframe thead th {\n",
       "        text-align: right;\n",
       "    }\n",
       "</style>\n",
       "<table border=\"1\" class=\"dataframe\">\n",
       "  <thead>\n",
       "    <tr style=\"text-align: right;\">\n",
       "      <th></th>\n",
       "      <th>returns</th>\n",
       "      <th>shift_returns</th>\n",
       "      <th>shift_Change</th>\n",
       "      <th>Change</th>\n",
       "      <th>val</th>\n",
       "    </tr>\n",
       "  </thead>\n",
       "  <tbody>\n",
       "    <tr>\n",
       "      <th>returns</th>\n",
       "      <td>1.000000</td>\n",
       "      <td>0.888057</td>\n",
       "      <td>-0.038651</td>\n",
       "      <td>0.307888</td>\n",
       "      <td>0.001387</td>\n",
       "    </tr>\n",
       "    <tr>\n",
       "      <th>shift_returns</th>\n",
       "      <td>0.888057</td>\n",
       "      <td>1.000000</td>\n",
       "      <td>0.298745</td>\n",
       "      <td>0.305295</td>\n",
       "      <td>0.066355</td>\n",
       "    </tr>\n",
       "    <tr>\n",
       "      <th>shift_Change</th>\n",
       "      <td>-0.038651</td>\n",
       "      <td>0.298745</td>\n",
       "      <td>1.000000</td>\n",
       "      <td>-0.016800</td>\n",
       "      <td>0.154720</td>\n",
       "    </tr>\n",
       "    <tr>\n",
       "      <th>Change</th>\n",
       "      <td>0.307888</td>\n",
       "      <td>0.305295</td>\n",
       "      <td>-0.016800</td>\n",
       "      <td>1.000000</td>\n",
       "      <td>-0.034891</td>\n",
       "    </tr>\n",
       "    <tr>\n",
       "      <th>val</th>\n",
       "      <td>0.001387</td>\n",
       "      <td>0.066355</td>\n",
       "      <td>0.154720</td>\n",
       "      <td>-0.034891</td>\n",
       "      <td>1.000000</td>\n",
       "    </tr>\n",
       "  </tbody>\n",
       "</table>\n",
       "</div>"
      ],
      "text/plain": [
       "                returns  shift_returns  shift_Change    Change       val\n",
       "returns        1.000000       0.888057     -0.038651  0.307888  0.001387\n",
       "shift_returns  0.888057       1.000000      0.298745  0.305295  0.066355\n",
       "shift_Change  -0.038651       0.298745      1.000000 -0.016800  0.154720\n",
       "Change         0.307888       0.305295     -0.016800  1.000000 -0.034891\n",
       "val            0.001387       0.066355      0.154720 -0.034891  1.000000"
      ]
     },
     "execution_count": 531,
     "metadata": {},
     "output_type": "execute_result"
    }
   ],
   "source": [
    "res[res.entry==1][['returns', 'shift_returns', 'shift_Change', 'Change', 'val']].corr()"
   ]
  },
  {
   "cell_type": "code",
   "execution_count": 532,
   "metadata": {},
   "outputs": [
    {
     "data": {
      "text/plain": [
       "array([[<matplotlib.axes._subplots.AxesSubplot object at 0x000002A30FA43FC8>]],\n",
       "      dtype=object)"
      ]
     },
     "execution_count": 532,
     "metadata": {},
     "output_type": "execute_result"
    },
    {
     "data": {
      "image/png": "[encoded data removed]",
      "text/plain": [
       "<Figure size 1080x576 with 1 Axes>"
      ]
     },
     "metadata": {
      "needs_background": "light"
     },
     "output_type": "display_data"
    }
   ],
   "source": [
    "res[res.entry==1][['val']].hist(bins=50)"
   ]
  },
  {
   "cell_type": "code",
   "execution_count": 539,
   "metadata": {},
   "outputs": [
    {
     "data": {
      "text/plain": [
       "val    0.000155\n",
       "dtype: float64"
      ]
     },
     "execution_count": 539,
     "metadata": {},
     "output_type": "execute_result"
    }
   ],
   "source": [
    "res[res.entry==1][['val']].mean()"
   ]
  },
  {
   "cell_type": "code",
   "execution_count": 800,
   "metadata": {},
   "outputs": [
    {
     "data": {
      "text/plain": [
       "'\\nI have different several backtesters which are ready\\nNext, I want to improve the curve using by optimization with filters application\\n\\n1) clusters regimes\\n2) Momersion regime detection indicators\\n \\n\\n'"
      ]
     },
     "execution_count": 800,
     "metadata": {},
     "output_type": "execute_result"
    }
   ],
   "source": [
    "\"\"\"\n",
    "I have different several backtesters which are ready\n",
    "Next, I want to improve the curve using by optimization with filters application\n",
    "\n",
    "1) clusters regimes\n",
    "2) Momersion regime detection indicators\n",
    " \n",
    "\n",
    "\"\"\""
   ]
  },
  {
   "cell_type": "code",
   "execution_count": 799,
   "metadata": {},
   "outputs": [],
   "source": [
    "### to find what drives cumulative curve is another tasks. Needed optiization and different processing, demeaning, MAs to filter noise, pct_change...\n"
   ]
  }
 ],
 "metadata": {
  "kernelspec": {
   "display_name": "Python 3",
   "language": "python",
   "name": "python3"
  },
  "language_info": {
   "codemirror_mode": {
    "name": "ipython",
    "version": 3
   },
   "file_extension": ".py",
   "mimetype": "text/x-python",
   "name": "python",
   "nbconvert_exporter": "python",
   "pygments_lexer": "ipython3",
   "version": "3.7.6"
  }
 },
 "nbformat": 4,
 "nbformat_minor": 4
}
