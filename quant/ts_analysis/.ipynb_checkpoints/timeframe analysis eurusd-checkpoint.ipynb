{
 "cells": [
  {
   "cell_type": "code",
   "execution_count": 1,
   "metadata": {},
   "outputs": [
    {
     "name": "stdout",
     "output_type": "stream",
     "text": [
      "3\n"
     ]
    }
   ],
   "source": [
    "print(1+2)"
   ]
  },
  {
   "cell_type": "code",
   "execution_count": 12,
   "metadata": {},
   "outputs": [],
   "source": [
    "import numpy as np"
   ]
  },
  {
   "cell_type": "code",
   "execution_count": 13,
   "metadata": {},
   "outputs": [],
   "source": [
    "import pandas as pd"
   ]
  },
  {
   "cell_type": "code",
   "execution_count": 14,
   "metadata": {},
   "outputs": [],
   "source": [
    "%matplotlib inline\n",
    "\n",
    "\n",
    "import numpy as np\n",
    "\n",
    "import pandas as pd\n",
    "import numpy as np\n",
    "import  seaborn as sns"
   ]
  },
  {
   "cell_type": "code",
   "execution_count": 15,
   "metadata": {},
   "outputs": [],
   "source": [
    "import rwi as rwi"
   ]
  },
  {
   "cell_type": "code",
   "execution_count": 16,
   "metadata": {},
   "outputs": [],
   "source": [
    "import math"
   ]
  },
  {
   "cell_type": "code",
   "execution_count": 30,
   "metadata": {},
   "outputs": [],
   "source": [
    "def load_df(name):\n",
    "    eurusd_df = pd.read_csv(name)\n",
    "    eurusd_df = eurusd_df.rename(columns={'<TICKER>':'Ticker', '<DTYYYYMMDD>':'Date', '<TIME>':'Time', '<OPEN>':'Open', '<HIGH>':'High', '<LOW>':'Low', '<CLOSE>':'Close', '<VOL>':'Vol'})\n",
    "    eurusd_df[['Date']] = pd.to_datetime(eurusd_df['Date'].astype('str'), yearfirst=True)\n",
    "    eurusd_df =eurusd_df.sort_values(by=['Date', 'Time'])\n",
    "    eur_df = eurusd_df[['Date', 'Time', 'Close']].rename(columns={'Close':'price'})\n",
    "    eur_df['returns'] = eur_df['price'].pct_change()\n",
    "    eur_df.dropna(inplace=True)\n",
    "    eur_df = eur_df[eur_df.Date>'2020-01-01']\n",
    "    return eur_df"
   ]
  },
  {
   "cell_type": "code",
   "execution_count": 53,
   "metadata": {},
   "outputs": [],
   "source": [
    "name='data/eurusd-1m.csv'\n",
    "eur_df = load_df(name)"
   ]
  },
  {
   "cell_type": "code",
   "execution_count": 54,
   "metadata": {},
   "outputs": [
    {
     "ename": "ZeroDivisionError",
     "evalue": "division by zero",
     "output_type": "error",
     "traceback": [
      "\u001b[1;31m---------------------------------------------------------------------------\u001b[0m",
      "\u001b[1;31mZeroDivisionError\u001b[0m                         Traceback (most recent call last)",
      "\u001b[1;32m<ipython-input-54-d74daad88fad>\u001b[0m in \u001b[0;36m<module>\u001b[1;34m\u001b[0m\n\u001b[1;32m----> 1\u001b[1;33m \u001b[0mres1\u001b[0m\u001b[1;33m=\u001b[0m\u001b[0mrwi\u001b[0m\u001b[1;33m.\u001b[0m\u001b[0mgenerateRWI2\u001b[0m\u001b[1;33m(\u001b[0m\u001b[0meur_df\u001b[0m\u001b[1;33m.\u001b[0m\u001b[0mreset_index\u001b[0m\u001b[1;33m(\u001b[0m\u001b[1;33m)\u001b[0m\u001b[1;33m)\u001b[0m\u001b[1;33m\u001b[0m\u001b[1;33m\u001b[0m\u001b[0m\n\u001b[0m",
      "\u001b[1;32m~\\Documents\\workspace\\quant\\ts_analysis\\rwi.py\u001b[0m in \u001b[0;36mgenerateRWI2\u001b[1;34m(df)\u001b[0m\n\u001b[0;32m    260\u001b[0m \u001b[1;32mdef\u001b[0m \u001b[0mgenerateRWI2\u001b[0m\u001b[1;33m(\u001b[0m\u001b[0mdf\u001b[0m\u001b[1;33m)\u001b[0m\u001b[1;33m:\u001b[0m\u001b[1;33m\u001b[0m\u001b[1;33m\u001b[0m\u001b[0m\n\u001b[0;32m    261\u001b[0m     \u001b[0mMomVal\u001b[0m \u001b[1;33m=\u001b[0m \u001b[0mMomersion\u001b[0m\u001b[1;33m(\u001b[0m\u001b[0mdf\u001b[0m\u001b[1;33m[\u001b[0m\u001b[1;34m'returns'\u001b[0m\u001b[1;33m]\u001b[0m\u001b[1;33m)\u001b[0m\u001b[1;33m\u001b[0m\u001b[1;33m\u001b[0m\u001b[0m\n\u001b[1;32m--> 262\u001b[1;33m     \u001b[0mMomDouble\u001b[0m \u001b[1;33m=\u001b[0m \u001b[0mMomersionDouble\u001b[0m\u001b[1;33m(\u001b[0m\u001b[0mdf\u001b[0m\u001b[1;33m[\u001b[0m\u001b[1;34m'returns'\u001b[0m\u001b[1;33m]\u001b[0m\u001b[1;33m)\u001b[0m\u001b[1;33m\u001b[0m\u001b[1;33m\u001b[0m\u001b[0m\n\u001b[0m\u001b[0;32m    263\u001b[0m     \u001b[1;32mtry\u001b[0m\u001b[1;33m:\u001b[0m\u001b[1;33m\u001b[0m\u001b[1;33m\u001b[0m\u001b[0m\n\u001b[0;32m    264\u001b[0m \u001b[1;33m\u001b[0m\u001b[0m\n",
      "\u001b[1;32m~\\Documents\\workspace\\quant\\ts_analysis\\rwi.py\u001b[0m in \u001b[0;36mMomersionDouble\u001b[1;34m(df)\u001b[0m\n\u001b[0;32m    175\u001b[0m     \u001b[0mmm\u001b[0m \u001b[1;33m=\u001b[0m \u001b[0mlen\u001b[0m\u001b[1;33m(\u001b[0m\u001b[0mnp\u001b[0m\u001b[1;33m.\u001b[0m\u001b[0mwhere\u001b[0m\u001b[1;33m(\u001b[0m \u001b[1;33m(\u001b[0m\u001b[0mPattern\u001b[0m \u001b[1;33m==\u001b[0m \u001b[1;33m-\u001b[0m\u001b[1;36m1\u001b[0m \u001b[1;33m)\u001b[0m \u001b[1;33m&\u001b[0m \u001b[1;33m(\u001b[0m\u001b[0mPattern2\u001b[0m \u001b[1;33m==\u001b[0m \u001b[1;33m-\u001b[0m\u001b[1;36m1\u001b[0m \u001b[1;33m)\u001b[0m \u001b[1;33m)\u001b[0m\u001b[1;33m[\u001b[0m\u001b[1;36m0\u001b[0m\u001b[1;33m]\u001b[0m\u001b[1;33m)\u001b[0m\u001b[1;33m\u001b[0m\u001b[1;33m\u001b[0m\u001b[0m\n\u001b[0;32m    176\u001b[0m \u001b[1;33m\u001b[0m\u001b[0m\n\u001b[1;32m--> 177\u001b[1;33m     \u001b[0mtotal\u001b[0m \u001b[1;33m=\u001b[0m \u001b[1;36m50\u001b[0m\u001b[1;33m+\u001b[0m\u001b[1;36m100\u001b[0m\u001b[1;33m*\u001b[0m\u001b[1;33m(\u001b[0m\u001b[0mpp\u001b[0m\u001b[1;33m+\u001b[0m\u001b[0mpm\u001b[0m\u001b[1;33m-\u001b[0m\u001b[0mmp\u001b[0m\u001b[1;33m-\u001b[0m\u001b[0mmm\u001b[0m\u001b[1;33m)\u001b[0m\u001b[1;33m/\u001b[0m\u001b[1;33m(\u001b[0m\u001b[0mpp\u001b[0m \u001b[1;33m+\u001b[0m \u001b[0mpm\u001b[0m \u001b[1;33m+\u001b[0m \u001b[0mmp\u001b[0m\u001b[1;33m+\u001b[0m \u001b[0mmm\u001b[0m\u001b[1;33m)\u001b[0m\u001b[1;33m\u001b[0m\u001b[1;33m\u001b[0m\u001b[0m\n\u001b[0m\u001b[0;32m    178\u001b[0m     \u001b[1;31m#threshUp = total>=np.sqrt(len(df))\u001b[0m\u001b[1;33m\u001b[0m\u001b[1;33m\u001b[0m\u001b[1;33m\u001b[0m\u001b[0m\n\u001b[0;32m    179\u001b[0m \u001b[1;33m\u001b[0m\u001b[0m\n",
      "\u001b[1;31mZeroDivisionError\u001b[0m: division by zero"
     ]
    }
   ],
   "source": [
    "res1=rwi.generateRWI2(eur_df.reset_index())"
   ]
  },
  {
   "cell_type": "code",
   "execution_count": 55,
   "metadata": {},
   "outputs": [
    {
     "data": {
      "text/plain": [
       "[0.6,\n",
       " 16.666666666666664,\n",
       " 0,\n",
       " 0,\n",
       " [0],\n",
       " [0],\n",
       " 0.8,\n",
       " 0.8,\n",
       " 1.584962500721156,\n",
       " 16.666666666666668,\n",
       " 0.00602677994203755,\n",
       " -0.0036242717718394193,\n",
       " -0.0036242717718394193,\n",
       " -0.6824692742785937,\n",
       " 0.42718735169605215,\n",
       " -0.49804130230834803,\n",
       " 1.0,\n",
       " nan,\n",
       " nan,\n",
       " nan,\n",
       " nan]"
      ]
     },
     "execution_count": 55,
     "metadata": {},
     "output_type": "execute_result"
    }
   ],
   "source": [
    "res1"
   ]
  },
  {
   "cell_type": "code",
   "execution_count": 36,
   "metadata": {},
   "outputs": [],
   "source": [
    "res5=rwi.generateRWI2(eur_df.reset_index())"
   ]
  },
  {
   "cell_type": "code",
   "execution_count": 37,
   "metadata": {},
   "outputs": [
    {
     "data": {
      "text/plain": [
       "[0.4888200431034483,\n",
       " 47.97787104158718,\n",
       " 0.4725113484677488,\n",
       " 0.49437420809060945,\n",
       " 0.5397407065150895,\n",
       " 0.5621595175336609,\n",
       " 0.7241255390512698,\n",
       " 0.4705318639195017,\n",
       " 2.999380176182722,\n",
       " 50.165268243071445,\n",
       " 0.0001548341915945359,\n",
       " -3.2333935800567345e-06,\n",
       " -3.2333935800567345e-06,\n",
       " -0.04853362859835844,\n",
       " -0.020480666934445745,\n",
       " 0.010345260199711038,\n",
       " -0.003967239092503519,\n",
       " -0.00971620930979541,\n",
       " 0.0073445142295855146,\n",
       " 0.016908383290438464,\n",
       " -0.0023271593330459186]"
      ]
     },
     "execution_count": 37,
     "metadata": {},
     "output_type": "execute_result"
    }
   ],
   "source": [
    "res5"
   ]
  },
  {
   "cell_type": "code",
   "execution_count": 39,
   "metadata": {},
   "outputs": [],
   "source": [
    "res15=rwi.generateRWI2(eur_df.reset_index())"
   ]
  },
  {
   "cell_type": "code",
   "execution_count": 40,
   "metadata": {},
   "outputs": [
    {
     "data": {
      "text/plain": [
       "[0.49660633484162897,\n",
       " 49.115696389093586,\n",
       " 0.4953763641763363,\n",
       " 0.47338936802533926,\n",
       " 0.5445811602736467,\n",
       " 0.5990595811157141,\n",
       " 0.7362558390226375,\n",
       " 0.4951491196550485,\n",
       " 2.9962076703131935,\n",
       " 48.803827751196174,\n",
       " 0.0002576529285160854,\n",
       " -9.699427098919914e-06,\n",
       " -9.699427098919914e-06,\n",
       " -0.020340327263693926,\n",
       " -0.025114304679769175,\n",
       " -0.024407416918444006,\n",
       " 0.00888533677208805,\n",
       " -0.02639654207373654,\n",
       " 0.013242082386076095,\n",
       " 0.0006257381854510756,\n",
       " -0.007129364360539734]"
      ]
     },
     "execution_count": 40,
     "metadata": {},
     "output_type": "execute_result"
    }
   ],
   "source": [
    "res15"
   ]
  },
  {
   "cell_type": "code",
   "execution_count": 42,
   "metadata": {},
   "outputs": [],
   "source": [
    "res60=rwi.generateRWI2(eur_df.reset_index())"
   ]
  },
  {
   "cell_type": "code",
   "execution_count": 43,
   "metadata": {},
   "outputs": [
    {
     "data": {
      "text/plain": [
       "[0.4699853587115666,\n",
       " 44.03202328966521,\n",
       " 0.4786691895427944,\n",
       " 0.48981110150978324,\n",
       " 0.552838855335264,\n",
       " 0.595939981933989,\n",
       " 0.7568345323741007,\n",
       " 0.4920863309352518,\n",
       " 2.9942181416196707,\n",
       " 49.710144927536234,\n",
       " 0.0004965053874853977,\n",
       " -3.880675305762307e-05,\n",
       " -3.880675305762307e-05,\n",
       " -0.08653494119625241,\n",
       " 0.09212435582808674,\n",
       " 0.06596055735533995,\n",
       " -0.048814675894669105,\n",
       " -0.06538605529873809,\n",
       " 0.017599212147472624,\n",
       " -0.005309732008671207,\n",
       " 0.008909826343730505]"
      ]
     },
     "execution_count": 43,
     "metadata": {},
     "output_type": "execute_result"
    }
   ],
   "source": [
    "res60"
   ]
  },
  {
   "cell_type": "code",
   "execution_count": 45,
   "metadata": {},
   "outputs": [],
   "source": [
    "res240=rwi.generateRWI2(eur_df.reset_index())"
   ]
  },
  {
   "cell_type": "code",
   "execution_count": 46,
   "metadata": {},
   "outputs": [
    {
     "data": {
      "text/plain": [
       "[0.4519774011299435,\n",
       " 39.77272727272727,\n",
       " 0.4961531962008955,\n",
       " 0.06157691708645627,\n",
       " 0.6154726024754184,\n",
       " 0.6400882807384294,\n",
       " 0.8156424581005587,\n",
       " 0.4972067039106145,\n",
       " 2.938060732268669,\n",
       " 46.927374301675975,\n",
       " 0.0010309962646464195,\n",
       " -0.0001499917806405139,\n",
       " -0.0001499917806405139,\n",
       " -0.08142479164629718,\n",
       " -0.0671114239735052,\n",
       " 0.07718414643733774,\n",
       " -0.027603236870566067,\n",
       " -0.05998737251015523,\n",
       " -0.004989069509290645,\n",
       " -0.01932008616286798,\n",
       " -0.12889914748640827]"
      ]
     },
     "execution_count": 46,
     "metadata": {},
     "output_type": "execute_result"
    }
   ],
   "source": [
    "res240"
   ]
  },
  {
   "cell_type": "code",
   "execution_count": 48,
   "metadata": {},
   "outputs": [
    {
     "name": "stderr",
     "output_type": "stream",
     "text": [
      "C:\\Users\\lexik\\Documents\\workspace\\quant\\ts_analysis\\rwi.py:239: RuntimeWarning: divide by zero encountered in log10\n",
      "  m = np.polyfit(np.log10(tau),np.log10(variancetau),1)\n"
     ]
    }
   ],
   "source": [
    "res1d=rwi.generateRWI2(eur_df.reset_index())"
   ]
  },
  {
   "cell_type": "code",
   "execution_count": 49,
   "metadata": {},
   "outputs": [
    {
     "data": {
      "text/plain": [
       "[0.38235294117647056,\n",
       " 25.0,\n",
       " -0.09076255789905185,\n",
       " 0,\n",
       " [0],\n",
       " [0],\n",
       " 0.7058823529411765,\n",
       " 0.5,\n",
       " 2.750306847436231,\n",
       " 40.0,\n",
       " 0.0023087365265376143,\n",
       " -0.0007712743458924682,\n",
       " -0.0007712743458924682,\n",
       " 0.10085392069256387,\n",
       " -0.12736486976784778,\n",
       " -0.11769038032900443,\n",
       " -0.1004634391025632,\n",
       " -0.020752021039243326,\n",
       " -0.08795994175484399,\n",
       " -0.4342075798520512,\n",
       " nan]"
      ]
     },
     "execution_count": 49,
     "metadata": {},
     "output_type": "execute_result"
    }
   ],
   "source": [
    "res1d"
   ]
  },
  {
   "cell_type": "code",
   "execution_count": 9,
   "metadata": {},
   "outputs": [],
   "source": [
    "res1w=rwi.generateRWI2(eur_df.reset_index())"
   ]
  },
  {
   "cell_type": "code",
   "execution_count": 11,
   "metadata": {},
   "outputs": [
    {
     "data": {
      "text/plain": [
       "(54, 4)"
      ]
     },
     "execution_count": 11,
     "metadata": {},
     "output_type": "execute_result"
    }
   ],
   "source": [
    "eur_df.shape"
   ]
  },
  {
   "cell_type": "code",
   "execution_count": 10,
   "metadata": {},
   "outputs": [
    {
     "data": {
      "text/plain": [
       "[0.33962264150943394,\n",
       " 16.666666666666664,\n",
       " 0.15056471514338893,\n",
       " 0,\n",
       " [0],\n",
       " [0],\n",
       " 0.7358490566037735,\n",
       " 0.5849056603773585,\n",
       " 2.802808966020365,\n",
       " 46.2962962962963,\n",
       " 0.007668810254702043,\n",
       " -0.0007857821486770833,\n",
       " -0.0007857821486770833,\n",
       " -0.4323850154325044,\n",
       " 0.051672638290772864,\n",
       " 0.017854719529287893,\n",
       " 0.06282440535819375,\n",
       " -0.05368757770907155,\n",
       " 0.27937259432470357,\n",
       " -0.060198559879607316,\n",
       " nan]"
      ]
     },
     "execution_count": 10,
     "metadata": {},
     "output_type": "execute_result"
    }
   ],
   "source": [
    "res1w"
   ]
  },
  {
   "cell_type": "code",
   "execution_count": 8,
   "metadata": {},
   "outputs": [
    {
     "name": "stderr",
     "output_type": "stream",
     "text": [
      "C:\\Users\\lexik\\Documents\\workspace\\quant\\ts_analysis\\rwi.py:209: RuntimeWarning: divide by zero encountered in log\n",
      "  m = np.polyfit(np.log(lags), np.log(tau), 1)\n",
      "C:\\Users\\lexik\\Documents\\workspace\\quant\\ts_analysis\\rwi.py:239: RuntimeWarning: divide by zero encountered in log10\n",
      "  m = np.polyfit(np.log10(tau),np.log10(variancetau),1)\n"
     ]
    }
   ],
   "source": [
    "res1m=rwi.generateRWI2(eur_df.reset_index())"
   ]
  },
  {
   "cell_type": "code",
   "execution_count": 9,
   "metadata": {},
   "outputs": [
    {
     "data": {
      "text/plain": [
       "[0.45454545454545453,\n",
       " 16.666666666666664,\n",
       " 0,\n",
       " 0,\n",
       " [0],\n",
       " [0],\n",
       " 0.8181818181818182,\n",
       " 0.6363636363636364,\n",
       " 2.197159723424149,\n",
       " 25.0,\n",
       " 0.01614232754926034,\n",
       " -0.0038174132065541913,\n",
       " -0.0038174132065541913,\n",
       " -0.3979427906996019,\n",
       " -0.1513393120709983,\n",
       " 0.15893784774211492,\n",
       " -0.37961744249483037,\n",
       " 0.4867154120849588,\n",
       " 1.0,\n",
       " nan,\n",
       " nan]"
      ]
     },
     "execution_count": 9,
     "metadata": {},
     "output_type": "execute_result"
    }
   ],
   "source": [
    "res1m"
   ]
  },
  {
   "cell_type": "code",
   "execution_count": 70,
   "metadata": {},
   "outputs": [
    {
     "data": {
      "text/plain": [
       "0.49803432625319816"
      ]
     },
     "execution_count": 70,
     "metadata": {},
     "output_type": "execute_result"
    }
   ],
   "source": [
    "rwi.hurstF4(eur_df[['price']].replace([np.inf, -np.inf], 0).fillna(0))"
   ]
  },
  {
   "cell_type": "code",
   "execution_count": 27,
   "metadata": {},
   "outputs": [
    {
     "data": {
      "text/plain": [
       "0.47185972985458824"
      ]
     },
     "execution_count": 27,
     "metadata": {},
     "output_type": "execute_result"
    }
   ],
   "source": [
    "rwi.marketMeannes(eur_df['price'].values)"
   ]
  },
  {
   "cell_type": "code",
   "execution_count": 56,
   "metadata": {},
   "outputs": [
    {
     "data": {
      "text/plain": [
       "'\\nConclusion:\\nlonger tf, above 4h more stronger patterns\\nshort term reverting and long term trending\\n\\nselecting small samples are better\\n\\n'"
      ]
     },
     "execution_count": 56,
     "metadata": {},
     "output_type": "execute_result"
    }
   ],
   "source": [
    "\"\"\"\n",
    "Conclusion:\n",
    "longer tf, above 4h more stronger patterns\n",
    "short term reverting and long term trending\n",
    "\n",
    "selecting small samples are better\n",
    "\n",
    "\"\"\""
   ]
  },
  {
   "cell_type": "code",
   "execution_count": null,
   "metadata": {},
   "outputs": [],
   "source": []
  }
 ],
 "metadata": {
  "kernelspec": {
   "display_name": "Python 3",
   "language": "python",
   "name": "python3"
  },
  "language_info": {
   "codemirror_mode": {
    "name": "ipython",
    "version": 3
   },
   "file_extension": ".py",
   "mimetype": "text/x-python",
   "name": "python",
   "nbconvert_exporter": "python",
   "pygments_lexer": "ipython3",
   "version": "3.7.6"
  }
 },
 "nbformat": 4,
 "nbformat_minor": 2
}
