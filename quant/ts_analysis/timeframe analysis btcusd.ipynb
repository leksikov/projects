{
 "cells": [
  {
   "cell_type": "code",
   "execution_count": 1,
   "metadata": {},
   "outputs": [
    {
     "name": "stdout",
     "output_type": "stream",
     "text": [
      "3\n"
     ]
    }
   ],
   "source": [
    "print(1+2)"
   ]
  },
  {
   "cell_type": "code",
   "execution_count": 1,
   "metadata": {},
   "outputs": [],
   "source": [
    "import numpy as np"
   ]
  },
  {
   "cell_type": "code",
   "execution_count": 2,
   "metadata": {},
   "outputs": [],
   "source": [
    "import pandas as pd"
   ]
  },
  {
   "cell_type": "code",
   "execution_count": 3,
   "metadata": {},
   "outputs": [],
   "source": [
    "%matplotlib inline\n",
    "\n",
    "\n",
    "import numpy as np\n",
    "\n",
    "import pandas as pd\n",
    "import numpy as np\n",
    "import  seaborn as sns"
   ]
  },
  {
   "cell_type": "code",
   "execution_count": 4,
   "metadata": {},
   "outputs": [],
   "source": [
    "import rwi as rwi"
   ]
  },
  {
   "cell_type": "code",
   "execution_count": 5,
   "metadata": {},
   "outputs": [],
   "source": [
    "import math"
   ]
  },
  {
   "cell_type": "code",
   "execution_count": 63,
   "metadata": {},
   "outputs": [],
   "source": [
    "def load_df(name):\n",
    "    eurusd_df = pd.read_csv(name)\n",
    "    eurusd_df = eurusd_df.rename(columns={'<TICKER>':'Ticker', '<DTYYYYMMDD>':'Date', '<TIME>':'Time', '<OPEN>':'Open', '<HIGH>':'High', '<LOW>':'Low', '<CLOSE>':'Close', '<VOL>':'Vol'})\n",
    "    eurusd_df[['Date']] = pd.to_datetime(eurusd_df['Date'].astype('str'), yearfirst=True)\n",
    "    eurusd_df =eurusd_df.sort_values(by=['Date', 'Time'])\n",
    "    eur_df = eurusd_df[['Date', 'Time', 'Close']].rename(columns={'Close':'price'})\n",
    "    eur_df['returns'] = eur_df['price'].pct_change()\n",
    "    eur_df.dropna(inplace=True)\n",
    "    eur_df = eur_df[eur_df.Date>'2020-01-01']\n",
    "    return eur_df"
   ]
  },
  {
   "cell_type": "code",
   "execution_count": 86,
   "metadata": {},
   "outputs": [],
   "source": [
    "name='data/btc_1w.csv'\n",
    "eur_df = load_df(name)"
   ]
  },
  {
   "cell_type": "code",
   "execution_count": 65,
   "metadata": {},
   "outputs": [],
   "source": [
    "res1=rwi.generateRWI2(eur_df.reset_index())"
   ]
  },
  {
   "cell_type": "code",
   "execution_count": 66,
   "metadata": {},
   "outputs": [
    {
     "data": {
      "text/plain": [
       "[0.5350635879859295,\n",
       " 57.08853462229219,\n",
       " 0.4931768147169174,\n",
       " 0.4781459254879196,\n",
       " 0.5265527734704541,\n",
       " 0.5609700543480882,\n",
       " 0.7286890961387605,\n",
       " 0.4960995380458468,\n",
       " 2.989067287820842,\n",
       " 48.71630010642072,\n",
       " 0.0007582501478076333,\n",
       " 8.363981433514338e-06,\n",
       " 8.363981433514338e-06,\n",
       " 0.06299499747392509,\n",
       " 0.019248684088186693,\n",
       " -0.00610604843664081,\n",
       " 0.004803507732756397,\n",
       " -0.01292939255724043,\n",
       " -0.001942369712385576,\n",
       " 0.002270606836016502,\n",
       " 0.0024029821397104955]"
      ]
     },
     "execution_count": 66,
     "metadata": {},
     "output_type": "execute_result"
    }
   ],
   "source": [
    "res1"
   ]
  },
  {
   "cell_type": "code",
   "execution_count": 68,
   "metadata": {},
   "outputs": [],
   "source": [
    "res5=rwi.generateRWI2(eur_df.reset_index())"
   ]
  },
  {
   "cell_type": "code",
   "execution_count": 69,
   "metadata": {},
   "outputs": [
    {
     "data": {
      "text/plain": [
       "[0.4946638794146771,\n",
       " 48.94875164257556,\n",
       " 0.4726238468325989,\n",
       " 0.485787741971834,\n",
       " 0.5465228045517733,\n",
       " 0.5950274559528262,\n",
       " 0.7536768711188583,\n",
       " 0.4995097505174856,\n",
       " 2.9972696752133414,\n",
       " 50.377668308702795,\n",
       " 0.0018059139606388173,\n",
       " 4.200627751493226e-05,\n",
       " 4.200627751493226e-05,\n",
       " -0.02726014678781015,\n",
       " -0.027024264544133272,\n",
       " 0.00975985186457897,\n",
       " 0.004721939528441324,\n",
       " -0.012205229925740772,\n",
       " -0.0046895725548500265,\n",
       " -0.0019126228580913496,\n",
       " -0.022995966269837277]"
      ]
     },
     "execution_count": 69,
     "metadata": {},
     "output_type": "execute_result"
    }
   ],
   "source": [
    "res5"
   ]
  },
  {
   "cell_type": "code",
   "execution_count": 71,
   "metadata": {},
   "outputs": [],
   "source": [
    "res15=rwi.generateRWI2(eur_df.reset_index())"
   ]
  },
  {
   "cell_type": "code",
   "execution_count": 72,
   "metadata": {},
   "outputs": [
    {
     "data": {
      "text/plain": [
       "[0.46495557749259625,\n",
       " 42.878240892681326,\n",
       " 0.4797881859556957,\n",
       " 0.4934341323298624,\n",
       " 0.557985595150099,\n",
       " 0.6231347703944594,\n",
       " 0.7571101667211507,\n",
       " 0.4995096436744034,\n",
       " 2.9850261025550804,\n",
       " 52.032786885245905,\n",
       " 0.003058214216866063,\n",
       " 0.00012580241510996328,\n",
       " 0.00012580241510996328,\n",
       " -0.03313432360210235,\n",
       " -0.005917365960012569,\n",
       " -0.015342153748647384,\n",
       " 0.01107780012254764,\n",
       " -0.0028519701671690712,\n",
       " 0.03209696270245374,\n",
       " -0.0031228121898111616,\n",
       " 0.014522688138402403]"
      ]
     },
     "execution_count": 72,
     "metadata": {},
     "output_type": "execute_result"
    }
   ],
   "source": [
    "res15"
   ]
  },
  {
   "cell_type": "code",
   "execution_count": 74,
   "metadata": {},
   "outputs": [],
   "source": [
    "res60=rwi.generateRWI2(eur_df.reset_index())"
   ]
  },
  {
   "cell_type": "code",
   "execution_count": 76,
   "metadata": {},
   "outputs": [
    {
     "data": {
      "text/plain": [
       "[0.4581151832460733,\n",
       " 41.86351706036746,\n",
       " 0.4966988410133143,\n",
       " 0.44733962433813707,\n",
       " 0.5631287397585713,\n",
       " 0.6738772154722779,\n",
       " 0.756544502617801,\n",
       " 0.5039267015706806,\n",
       " 2.987596044361935,\n",
       " 51.50326797385621,\n",
       " 0.006004254453404074,\n",
       " 0.0005025338951303318,\n",
       " 0.0005025338951303318,\n",
       " -0.018898210575073276,\n",
       " -0.01754152235441394,\n",
       " -0.011984199356757538,\n",
       " 0.06849984317216998,\n",
       " -0.028020378710168367,\n",
       " -0.004262774592557177,\n",
       " 0.05462816763049869,\n",
       " 0.05120260726182998]"
      ]
     },
     "execution_count": 76,
     "metadata": {},
     "output_type": "execute_result"
    }
   ],
   "source": [
    "res60"
   ]
  },
  {
   "cell_type": "code",
   "execution_count": 81,
   "metadata": {},
   "outputs": [],
   "source": [
    "res240=rwi.generateRWI2(eur_df.reset_index())"
   ]
  },
  {
   "cell_type": "code",
   "execution_count": 82,
   "metadata": {},
   "outputs": [
    {
     "data": {
      "text/plain": [
       "[0.47715736040609136,\n",
       " 44.35897435897436,\n",
       " 0.45396044161690674,\n",
       " 0.1691293253429467,\n",
       " 0.530718920250046,\n",
       " 0.7310312350598338,\n",
       " 0.7614213197969543,\n",
       " 0.5228426395939086,\n",
       " 2.980721444865125,\n",
       " 53.03030303030303,\n",
       " 0.011751857662359769,\n",
       " 0.0019418018422724835,\n",
       " 0.0019418018422724835,\n",
       " -0.00902550796366855,\n",
       " 0.005032004238284438,\n",
       " -0.07342801097250488,\n",
       " -0.019879771220972377,\n",
       " 0.1639836678807003,\n",
       " 0.1266247383286932,\n",
       " -0.0061224527994281405,\n",
       " -0.015988370481738564]"
      ]
     },
     "execution_count": 82,
     "metadata": {},
     "output_type": "execute_result"
    }
   ],
   "source": [
    "res240"
   ]
  },
  {
   "cell_type": "code",
   "execution_count": 84,
   "metadata": {},
   "outputs": [
    {
     "name": "stderr",
     "output_type": "stream",
     "text": [
      "C:\\Users\\lexik\\Documents\\workspace\\quant\\ts_analysis\\rwi.py:239: RuntimeWarning: divide by zero encountered in log10\n",
      "  m = np.polyfit(np.log10(tau),np.log10(variancetau),1)\n"
     ]
    }
   ],
   "source": [
    "res1d=rwi.generateRWI2(eur_df.reset_index())"
   ]
  },
  {
   "cell_type": "code",
   "execution_count": 85,
   "metadata": {},
   "outputs": [
    {
     "data": {
      "text/plain": [
       "[0.3783783783783784,\n",
       " 30.0,\n",
       " 0.04979257679245243,\n",
       " 0,\n",
       " [0],\n",
       " [0],\n",
       " 0.7567567567567568,\n",
       " 0.5675675675675675,\n",
       " 2.799055091901795,\n",
       " 55.26315789473684,\n",
       " 0.02940360522824374,\n",
       " 0.010213959637832833,\n",
       " 0.010213959637832833,\n",
       " -0.20715528056353832,\n",
       " -0.0345543894004661,\n",
       " 0.14761339481945548,\n",
       " -0.46765597597488096,\n",
       " -0.072639650478534,\n",
       " -0.0696593658732263,\n",
       " -0.09830323871959352,\n",
       " nan]"
      ]
     },
     "execution_count": 85,
     "metadata": {},
     "output_type": "execute_result"
    }
   ],
   "source": [
    "res1d"
   ]
  },
  {
   "cell_type": "code",
   "execution_count": 87,
   "metadata": {},
   "outputs": [
    {
     "name": "stderr",
     "output_type": "stream",
     "text": [
      "C:\\Users\\lexik\\Documents\\workspace\\quant\\ts_analysis\\rwi.py:209: RuntimeWarning: divide by zero encountered in log\n",
      "  m = np.polyfit(np.log(lags), np.log(tau), 1)\n",
      "C:\\Users\\lexik\\.conda\\envs\\quant\\lib\\site-packages\\numpy\\lib\\function_base.py:2526: RuntimeWarning: Degrees of freedom <= 0 for slice\n",
      "  c = cov(x, y, rowvar)\n",
      "C:\\Users\\lexik\\.conda\\envs\\quant\\lib\\site-packages\\numpy\\lib\\function_base.py:2455: RuntimeWarning: divide by zero encountered in true_divide\n",
      "  c *= np.true_divide(1, fact)\n"
     ]
    }
   ],
   "source": [
    "res1w=rwi.generateRWI2(eur_df.reset_index())"
   ]
  },
  {
   "cell_type": "code",
   "execution_count": 88,
   "metadata": {},
   "outputs": [
    {
     "data": {
      "text/plain": [
       "(6, 4)"
      ]
     },
     "execution_count": 88,
     "metadata": {},
     "output_type": "execute_result"
    }
   ],
   "source": [
    "eur_df.shape"
   ]
  },
  {
   "cell_type": "code",
   "execution_count": 89,
   "metadata": {},
   "outputs": [
    {
     "data": {
      "text/plain": [
       "[0.6,\n",
       " 16.666666666666664,\n",
       " 0,\n",
       " 0,\n",
       " [0],\n",
       " [0],\n",
       " 0.4,\n",
       " 0.4,\n",
       " 1.584962500721156,\n",
       " 83.33333333333333,\n",
       " 0.04736330488504669,\n",
       " 0.060319860673715954,\n",
       " 0.060319860673715954,\n",
       " -0.22146133211469532,\n",
       " -0.8469014332993337,\n",
       " 0.88486456617586,\n",
       " 1.0,\n",
       " nan,\n",
       " nan,\n",
       " nan,\n",
       " nan]"
      ]
     },
     "execution_count": 89,
     "metadata": {},
     "output_type": "execute_result"
    }
   ],
   "source": [
    "res1w"
   ]
  },
  {
   "cell_type": "code",
   "execution_count": 61,
   "metadata": {},
   "outputs": [
    {
     "name": "stderr",
     "output_type": "stream",
     "text": [
      "C:\\Users\\lexik\\Documents\\workspace\\quant\\ts_analysis\\rwi.py:209: RuntimeWarning: divide by zero encountered in log\n",
      "  m = np.polyfit(np.log(lags), np.log(tau), 1)\n"
     ]
    }
   ],
   "source": [
    "res1m=rwi.generateRWI2(eur_df.reset_index())"
   ]
  },
  {
   "cell_type": "code",
   "execution_count": 62,
   "metadata": {},
   "outputs": [
    {
     "data": {
      "text/plain": [
       "[0.6666666666666666,\n",
       " 70.0,\n",
       " 0,\n",
       " 0,\n",
       " [0],\n",
       " [0],\n",
       " 0.6666666666666666,\n",
       " 0.75,\n",
       " 2.4464393446710155,\n",
       " 61.53846153846154,\n",
       " 0.21913884224518412,\n",
       " 0.10893140264964171,\n",
       " 0.10893140264964171,\n",
       " 0.3886024501897481,\n",
       " -0.06953535796900043,\n",
       " -0.1279631527044108,\n",
       " -0.3360900583546433,\n",
       " -0.22113727698641156,\n",
       " -0.1300400353298076,\n",
       " nan,\n",
       " nan]"
      ]
     },
     "execution_count": 62,
     "metadata": {},
     "output_type": "execute_result"
    }
   ],
   "source": [
    "res1m"
   ]
  },
  {
   "cell_type": "code",
   "execution_count": 70,
   "metadata": {},
   "outputs": [
    {
     "data": {
      "text/plain": [
       "0.49803432625319816"
      ]
     },
     "execution_count": 70,
     "metadata": {},
     "output_type": "execute_result"
    }
   ],
   "source": [
    "rwi.hurstF4(eur_df[['price']].replace([np.inf, -np.inf], 0).fillna(0))"
   ]
  },
  {
   "cell_type": "code",
   "execution_count": 27,
   "metadata": {},
   "outputs": [
    {
     "data": {
      "text/plain": [
       "0.47185972985458824"
      ]
     },
     "execution_count": 27,
     "metadata": {},
     "output_type": "execute_result"
    }
   ],
   "source": [
    "rwi.marketMeannes(eur_df['price'].values)"
   ]
  },
  {
   "cell_type": "code",
   "execution_count": 56,
   "metadata": {},
   "outputs": [
    {
     "data": {
      "text/plain": [
       "'\\nConclusion:\\nlonger tf, above 4h more stronger patterns\\nshort term reverting and long term trending\\n\\nselecting small samples are better\\n\\n'"
      ]
     },
     "execution_count": 56,
     "metadata": {},
     "output_type": "execute_result"
    }
   ],
   "source": [
    "\"\"\"\n",
    "Conclusion:\n",
    "longer tf, above 4h more stronger patterns\n",
    "short term reverting and long term trending\n",
    "\n",
    "selecting small samples are better\n",
    "\n",
    "\"\"\""
   ]
  },
  {
   "cell_type": "code",
   "execution_count": null,
   "metadata": {},
   "outputs": [],
   "source": []
  }
 ],
 "metadata": {
  "kernelspec": {
   "display_name": "Python 3",
   "language": "python",
   "name": "python3"
  },
  "language_info": {
   "codemirror_mode": {
    "name": "ipython",
    "version": 3
   },
   "file_extension": ".py",
   "mimetype": "text/x-python",
   "name": "python",
   "nbconvert_exporter": "python",
   "pygments_lexer": "ipython3",
   "version": "3.7.6"
  }
 },
 "nbformat": 4,
 "nbformat_minor": 2
}
