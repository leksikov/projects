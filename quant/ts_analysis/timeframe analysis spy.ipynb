{
 "cells": [
  {
   "cell_type": "code",
   "execution_count": 1,
   "metadata": {},
   "outputs": [
    {
     "name": "stdout",
     "output_type": "stream",
     "text": [
      "3\n"
     ]
    }
   ],
   "source": [
    "print(1+2)"
   ]
  },
  {
   "cell_type": "code",
   "execution_count": 2,
   "metadata": {},
   "outputs": [],
   "source": [
    "import numpy as np"
   ]
  },
  {
   "cell_type": "code",
   "execution_count": 3,
   "metadata": {},
   "outputs": [],
   "source": [
    "import pandas as pd"
   ]
  },
  {
   "cell_type": "code",
   "execution_count": 4,
   "metadata": {},
   "outputs": [],
   "source": [
    "%matplotlib inline\n",
    "\n",
    "\n",
    "import numpy as np\n",
    "\n",
    "import pandas as pd\n",
    "import numpy as np\n",
    "import  seaborn as sns"
   ]
  },
  {
   "cell_type": "code",
   "execution_count": 5,
   "metadata": {},
   "outputs": [],
   "source": [
    "import rwi as rwi"
   ]
  },
  {
   "cell_type": "code",
   "execution_count": 6,
   "metadata": {},
   "outputs": [],
   "source": [
    "import math"
   ]
  },
  {
   "cell_type": "code",
   "execution_count": 64,
   "metadata": {},
   "outputs": [],
   "source": [
    "def load_df(name):\n",
    "    eurusd_df = pd.read_csv(name)\n",
    "    eurusd_df = eurusd_df.rename(columns={'<TICKER>':'Ticker', '<DTYYYYMMDD>':'Date', '<TIME>':'Time', '<OPEN>':'Open', '<HIGH>':'High', '<LOW>':'Low', '<CLOSE>':'Close', '<VOL>':'Vol'})\n",
    "    eurusd_df[['Date']] = pd.to_datetime(eurusd_df['Date'].astype('str'), yearfirst=True)\n",
    "    eurusd_df =eurusd_df.sort_values(by=['Date', 'Time'])\n",
    "    eur_df = eurusd_df[['Date', 'Time', 'Close']].rename(columns={'Close':'price'})\n",
    "    eur_df['returns'] = eur_df['price'].pct_change()\n",
    "    eur_df.dropna(inplace=True)\n",
    "    #eur_df = eur_df[eur_df.Date>'2019-01-01']\n",
    "    return eur_df"
   ]
  },
  {
   "cell_type": "code",
   "execution_count": 91,
   "metadata": {},
   "outputs": [],
   "source": [
    "name='data/spy_1m.csv'\n",
    "eur_df = load_df(name)"
   ]
  },
  {
   "cell_type": "code",
   "execution_count": 66,
   "metadata": {},
   "outputs": [],
   "source": [
    "res1=rwi.generateRWI2(eur_df.reset_index())"
   ]
  },
  {
   "cell_type": "code",
   "execution_count": 67,
   "metadata": {},
   "outputs": [
    {
     "data": {
      "text/plain": [
       "[0.46601191509756795,\n",
       " 43.493301659651095,\n",
       " 0.3857706476232024,\n",
       " 0.45066145276018776,\n",
       " 0.490673317371778,\n",
       " 0.4906066593170518,\n",
       " 0.6727091409650383,\n",
       " 0.42228413606325393,\n",
       " 2.9938672221480473,\n",
       " 50.094516479082905,\n",
       " 0.0004613353400919564,\n",
       " 4.673713342281333e-07,\n",
       " 4.673713342281333e-07,\n",
       " -0.31305476535524873,\n",
       " -0.0009641137803947406,\n",
       " -0.0006909200692419111,\n",
       " 0.00034589198246874137,\n",
       " -0.0005998839372546172,\n",
       " -0.0018592397651707219,\n",
       " 0.0008076603473512335,\n",
       " 0.0012738316393818663]"
      ]
     },
     "execution_count": 67,
     "metadata": {},
     "output_type": "execute_result"
    }
   ],
   "source": [
    "res1"
   ]
  },
  {
   "cell_type": "code",
   "execution_count": 69,
   "metadata": {},
   "outputs": [],
   "source": [
    "res5=rwi.generateRWI2(eur_df.reset_index())"
   ]
  },
  {
   "cell_type": "code",
   "execution_count": 70,
   "metadata": {},
   "outputs": [
    {
     "data": {
      "text/plain": [
       "[0.47972272477791555,\n",
       " 46.0378790935131,\n",
       " 0.3902401437888488,\n",
       " 0.4516112676794274,\n",
       " 0.49985186392716163,\n",
       " 0.5134954981268343,\n",
       " 0.699772071912297,\n",
       " 0.4455304418652006,\n",
       " 2.9972361432336294,\n",
       " 50.54720164307196,\n",
       " 0.0009716132413512054,\n",
       " 2.086455638212436e-06,\n",
       " 2.086455638212436e-06,\n",
       " -0.3149315151459095,\n",
       " -0.0023238979199665774,\n",
       " -7.52144035306569e-05,\n",
       " 0.0036092592028340964,\n",
       " 9.812636599811071e-05,\n",
       " -1.562923770055729e-05,\n",
       " 0.0024572290175204447,\n",
       " -0.000730934803976853]"
      ]
     },
     "execution_count": 70,
     "metadata": {},
     "output_type": "execute_result"
    }
   ],
   "source": [
    "res5"
   ]
  },
  {
   "cell_type": "code",
   "execution_count": 72,
   "metadata": {},
   "outputs": [],
   "source": [
    "res15=rwi.generateRWI2(eur_df.reset_index())"
   ]
  },
  {
   "cell_type": "code",
   "execution_count": 74,
   "metadata": {},
   "outputs": [
    {
     "data": {
      "text/plain": [
       "[0.48281317416942326,\n",
       " 46.661232743855884,\n",
       " 0.39404209767457093,\n",
       " 0.4489956523408912,\n",
       " 0.49107587775814304,\n",
       " 0.5034559071396881,\n",
       " 0.7186987503476585,\n",
       " 0.46034775436611075,\n",
       " 2.9971097804095654,\n",
       " 51.03327314934228,\n",
       " 0.0016531047885367336,\n",
       " 6.079424097200306e-06,\n",
       " 6.079424097200306e-06,\n",
       " -0.3181561290165718,\n",
       " 0.0032769750834232706,\n",
       " 0.0030354436558158427,\n",
       " -0.0027090584851165458,\n",
       " -0.0010012144300778996,\n",
       " -0.0010256421216179566,\n",
       " -0.0007410694752725153,\n",
       " 0.005246377731000935]"
      ]
     },
     "execution_count": 74,
     "metadata": {},
     "output_type": "execute_result"
    }
   ],
   "source": [
    "res15"
   ]
  },
  {
   "cell_type": "code",
   "execution_count": 76,
   "metadata": {},
   "outputs": [],
   "source": [
    "res60=rwi.generateRWI2(eur_df.reset_index())"
   ]
  },
  {
   "cell_type": "code",
   "execution_count": 77,
   "metadata": {},
   "outputs": [
    {
     "data": {
      "text/plain": [
       "[0.48834385624089366,\n",
       " 47.67459916922241,\n",
       " 0.38364258098780135,\n",
       " 0.4337217299965349,\n",
       " 0.5009353059245854,\n",
       " 0.5275324107040381,\n",
       " 0.7320869953820944,\n",
       " 0.4716967078802324,\n",
       " 2.994771020124648,\n",
       " 51.99130502290195,\n",
       " 0.003229512916906281,\n",
       " 2.3544547305022294e-05,\n",
       " 2.3544547305022294e-05,\n",
       " -0.31037861419845086,\n",
       " 0.006786202072729836,\n",
       " -0.0045766587252407485,\n",
       " -0.003811396946643555,\n",
       " 0.0014129064903822053,\n",
       " -0.004267711219824302,\n",
       " 0.004149616717363887,\n",
       " -0.0032964300660795437]"
      ]
     },
     "execution_count": 77,
     "metadata": {},
     "output_type": "execute_result"
    }
   ],
   "source": [
    "res60"
   ]
  },
  {
   "cell_type": "code",
   "execution_count": 81,
   "metadata": {},
   "outputs": [],
   "source": [
    "res240=rwi.generateRWI2(eur_df.reset_index())"
   ]
  },
  {
   "cell_type": "code",
   "execution_count": 82,
   "metadata": {},
   "outputs": [
    {
     "data": {
      "text/plain": [
       "[0.48854408352668216,\n",
       " 47.38589797936979,\n",
       " 0.37249500572695965,\n",
       " 0.41236171220240825,\n",
       " 0.477317883601462,\n",
       " 0.4736929387482391,\n",
       " 0.7557146791517488,\n",
       " 0.47948223629854037,\n",
       " 2.986138696549719,\n",
       " 53.70056497175141,\n",
       " 0.006231093800247374,\n",
       " 8.724020021525468e-05,\n",
       " 8.724020021525468e-05,\n",
       " -0.31871787277889424,\n",
       " -0.002490512240153221,\n",
       " -0.007179099277457493,\n",
       " 0.010484668531219158,\n",
       " 0.006162489716016707,\n",
       " -0.002245537309182393,\n",
       " 0.029011271636350065,\n",
       " 0.013403834993694855]"
      ]
     },
     "execution_count": 82,
     "metadata": {},
     "output_type": "execute_result"
    }
   ],
   "source": [
    "res240"
   ]
  },
  {
   "cell_type": "code",
   "execution_count": 84,
   "metadata": {},
   "outputs": [],
   "source": [
    "res1d=rwi.generateRWI2(eur_df.reset_index())"
   ]
  },
  {
   "cell_type": "code",
   "execution_count": 85,
   "metadata": {},
   "outputs": [
    {
     "data": {
      "text/plain": [
       "(1449, 4)"
      ]
     },
     "execution_count": 85,
     "metadata": {},
     "output_type": "execute_result"
    }
   ],
   "source": [
    "eur_df.shape"
   ]
  },
  {
   "cell_type": "code",
   "execution_count": 86,
   "metadata": {},
   "outputs": [
    {
     "data": {
      "text/plain": [
       "[0.4935251798561151,\n",
       " 48.376852505292874,\n",
       " 0.44263277445994453,\n",
       " 0.39387615425814726,\n",
       " 0.5288823959938094,\n",
       " 0.573176315786813,\n",
       " 0.7493093922651933,\n",
       " 0.47375690607734805,\n",
       " 2.9838872538344106,\n",
       " 54.225352112676056,\n",
       " 0.008195982649561671,\n",
       " 0.00037638260479149556,\n",
       " 0.00037638260479149556,\n",
       " -0.022249766479407445,\n",
       " -0.03327844704545475,\n",
       " 0.005350023077994579,\n",
       " -0.010724319690428152,\n",
       " -0.01314629319921862,\n",
       " -0.09222309333852413,\n",
       " 0.007701269407765569,\n",
       " -0.0031457770313126085]"
      ]
     },
     "execution_count": 86,
     "metadata": {},
     "output_type": "execute_result"
    }
   ],
   "source": [
    "res1d"
   ]
  },
  {
   "cell_type": "code",
   "execution_count": 92,
   "metadata": {},
   "outputs": [],
   "source": [
    "res1w=rwi.generateRWI2(eur_df.reset_index())"
   ]
  },
  {
   "cell_type": "code",
   "execution_count": 93,
   "metadata": {},
   "outputs": [
    {
     "data": {
      "text/plain": [
       "(60, 4)"
      ]
     },
     "execution_count": 93,
     "metadata": {},
     "output_type": "execute_result"
    }
   ],
   "source": [
    "eur_df.shape"
   ]
  },
  {
   "cell_type": "code",
   "execution_count": 94,
   "metadata": {},
   "outputs": [
    {
     "data": {
      "text/plain": [
       "[0.559322033898305,\n",
       " 62.280701754385966,\n",
       " 0.20518410227046577,\n",
       " 0,\n",
       " [0],\n",
       " [0],\n",
       " 0.7627118644067796,\n",
       " 0.3898305084745763,\n",
       " 2.7302742252562773,\n",
       " 68.33333333333333,\n",
       " 0.037109052809145976,\n",
       " 0.00892875660379669,\n",
       " 0.00892875660379669,\n",
       " -0.27910163120990883,\n",
       " 0.005617286533717893,\n",
       " -0.229520932827497,\n",
       " -0.056105641088235084,\n",
       " 0.2628926454094538,\n",
       " 0.02736349780466414,\n",
       " -0.06942286876311445,\n",
       " nan]"
      ]
     },
     "execution_count": 94,
     "metadata": {},
     "output_type": "execute_result"
    }
   ],
   "source": [
    "res1w"
   ]
  },
  {
   "cell_type": "code",
   "execution_count": 95,
   "metadata": {},
   "outputs": [],
   "source": [
    "res1m=rwi.generateRWI2(eur_df.reset_index())"
   ]
  },
  {
   "cell_type": "code",
   "execution_count": 97,
   "metadata": {},
   "outputs": [
    {
     "data": {
      "text/plain": [
       "(60, 4)"
      ]
     },
     "execution_count": 97,
     "metadata": {},
     "output_type": "execute_result"
    }
   ],
   "source": [
    "eur_df.shape"
   ]
  },
  {
   "cell_type": "code",
   "execution_count": 96,
   "metadata": {},
   "outputs": [
    {
     "data": {
      "text/plain": [
       "[0.559322033898305,\n",
       " 62.280701754385966,\n",
       " 0.20518410227046577,\n",
       " 0,\n",
       " [0],\n",
       " [0],\n",
       " 0.7627118644067796,\n",
       " 0.3898305084745763,\n",
       " 2.7302742252562773,\n",
       " 68.33333333333333,\n",
       " 0.037109052809145976,\n",
       " 0.00892875660379669,\n",
       " 0.00892875660379669,\n",
       " -0.27910163120990883,\n",
       " 0.005617286533717893,\n",
       " -0.229520932827497,\n",
       " -0.056105641088235084,\n",
       " 0.2628926454094538,\n",
       " 0.02736349780466414,\n",
       " -0.06942286876311445,\n",
       " nan]"
      ]
     },
     "execution_count": 96,
     "metadata": {},
     "output_type": "execute_result"
    }
   ],
   "source": [
    "res1m"
   ]
  },
  {
   "cell_type": "code",
   "execution_count": 70,
   "metadata": {},
   "outputs": [
    {
     "data": {
      "text/plain": [
       "0.49803432625319816"
      ]
     },
     "execution_count": 70,
     "metadata": {},
     "output_type": "execute_result"
    }
   ],
   "source": [
    "rwi.hurstF4(eur_df[['price']].replace([np.inf, -np.inf], 0).fillna(0))"
   ]
  },
  {
   "cell_type": "code",
   "execution_count": 27,
   "metadata": {},
   "outputs": [
    {
     "data": {
      "text/plain": [
       "0.47185972985458824"
      ]
     },
     "execution_count": 27,
     "metadata": {},
     "output_type": "execute_result"
    }
   ],
   "source": [
    "rwi.marketMeannes(eur_df['price'].values)"
   ]
  },
  {
   "cell_type": "code",
   "execution_count": 56,
   "metadata": {},
   "outputs": [
    {
     "data": {
      "text/plain": [
       "'\\nConclusion:\\nlonger tf, above 4h more stronger patterns\\nshort term reverting and long term trending\\n\\nselecting small samples are better\\n\\n'"
      ]
     },
     "execution_count": 56,
     "metadata": {},
     "output_type": "execute_result"
    }
   ],
   "source": [
    "\"\"\"\n",
    "Conclusion:\n",
    "longer tf, above 4h more stronger patterns\n",
    "short term reverting and long term trending\n",
    "\n",
    "selecting small samples are better\n",
    "\n",
    "\"\"\""
   ]
  },
  {
   "cell_type": "code",
   "execution_count": null,
   "metadata": {},
   "outputs": [],
   "source": []
  }
 ],
 "metadata": {
  "kernelspec": {
   "display_name": "Python 3",
   "language": "python",
   "name": "python3"
  },
  "language_info": {
   "codemirror_mode": {
    "name": "ipython",
    "version": 3
   },
   "file_extension": ".py",
   "mimetype": "text/x-python",
   "name": "python",
   "nbconvert_exporter": "python",
   "pygments_lexer": "ipython3",
   "version": "3.7.4"
  }
 },
 "nbformat": 4,
 "nbformat_minor": 2
}
