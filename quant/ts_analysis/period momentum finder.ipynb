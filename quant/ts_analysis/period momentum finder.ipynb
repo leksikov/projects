{
 "cells": [
  {
   "cell_type": "code",
   "execution_count": 6,
   "metadata": {},
   "outputs": [],
   "source": [
    "import numpy as np\n",
    "import pandas as pd\n",
    "%matplotlib inline\n",
    "\n",
    "\n",
    "import numpy as np\n",
    "\n",
    "import pandas as pd\n",
    "import numpy as np\n",
    "import  seaborn as sns\n",
    "import rwi as rwi\n",
    "import math\n",
    "\n"
   ]
  },
  {
   "cell_type": "code",
   "execution_count": 53,
   "metadata": {},
   "outputs": [],
   "source": [
    "def load_df(name, periods):\n",
    "    eurusd_df = pd.read_csv(name)\n",
    "    eurusd_df = eurusd_df.rename(columns={'<TICKER>':'Ticker', '<DTYYYYMMDD>':'Date', '<TIME>':'Time', '<OPEN>':'Open', '<HIGH>':'High', '<LOW>':'Low', '<CLOSE>':'Close', '<VOL>':'Vol'})\n",
    "    eurusd_df[['Date']] = pd.to_datetime(eurusd_df['Date'].astype('str'), yearfirst=True)\n",
    "    eurusd_df =eurusd_df.sort_values(by=['Date', 'Time'])\n",
    "    eur_df = eurusd_df[['Date', 'Time', 'Close']].rename(columns={'Close':'price'})\n",
    "    eur_df['returns'] = eur_df['price'].pct_change(periods)\n",
    "    eur_df.dropna(inplace=True)\n",
    "    eur_df.sort_values(by=['Date', 'Time'])\n",
    "    #eur_df = eur_df[eur_df.Date>'2019-01-01']\n",
    "    return eur_df"
   ]
  },
  {
   "cell_type": "code",
   "execution_count": 54,
   "metadata": {},
   "outputs": [],
   "source": [
    "instruments = ['eurusd', 'btc', 'spy']\n",
    "tfs = [ '240min', '1d', '1w', '1m'] #'1min', '5min', '15min', '60min',"
   ]
  },
  {
   "cell_type": "code",
   "execution_count": 55,
   "metadata": {},
   "outputs": [],
   "source": [
    "\n",
    "col_names = ['MomVal', 'MomDouble', 'h1', 'h2', 'h3', 'h4', 'MMIR', 'MMIP', 'ShannonVal', 'prop', 'var_std', 'var_mean', 'var_median', 'correl_1', 'correl_2', 'correl_3', 'correl_4', 'correl_5', 'correl_10', 'correl_20', 'correl_100']"
   ]
  },
  {
   "cell_type": "code",
   "execution_count": 56,
   "metadata": {},
   "outputs": [],
   "source": [
    "periods = [1, 2, 3, 4, 5, 6, 7 ,8, 9, 10,11,12,13,14,15,16,17,18,19,20,30,40, 50,100,200]"
   ]
  },
  {
   "cell_type": "code",
   "execution_count": 57,
   "metadata": {},
   "outputs": [],
   "source": [
    "def correl(df, corr_period):\n",
    "    correl_1 = pd.Series.autocorr(df, corr_period)\n",
    "    return correl_1"
   ]
  },
  {
   "cell_type": "code",
   "execution_count": 58,
   "metadata": {},
   "outputs": [
    {
     "name": "stderr",
     "output_type": "stream",
     "text": [
      "C:\\Users\\lexik\\.conda\\envs\\quant\\lib\\site-packages\\numpy\\lib\\function_base.py:2526: RuntimeWarning: Degrees of freedom <= 0 for slice\n",
      "  c = cov(x, y, rowvar)\n",
      "C:\\Users\\lexik\\.conda\\envs\\quant\\lib\\site-packages\\numpy\\lib\\function_base.py:2455: RuntimeWarning: divide by zero encountered in true_divide\n",
      "  c *= np.true_divide(1, fact)\n"
     ]
    }
   ],
   "source": [
    "results = []\n",
    "for inst in instruments:\n",
    "    for tf in tfs:\n",
    "        name = 'data/'+inst +'_'+tf+'.csv'\n",
    "        \n",
    "        for period in periods:\n",
    "            \n",
    "            \n",
    "            for corr_period in periods:\n",
    "                \n",
    "                eur_df = load_df(name, period)\n",
    "                val = correl(eur_df.returns, corr_period)\n",
    "                results.append([inst, tf, period, corr_period, val])\n",
    "                "
   ]
  },
  {
   "cell_type": "code",
   "execution_count": 59,
   "metadata": {},
   "outputs": [],
   "source": [
    "result_df = pd.DataFrame.from_records(results, columns=['inst', 'tf', 'ret_period', 'corr_period', 'corr_value'])"
   ]
  },
  {
   "cell_type": "code",
   "execution_count": 60,
   "metadata": {},
   "outputs": [],
   "source": [
    "result_df.dropna(inplace=True)"
   ]
  },
  {
   "cell_type": "code",
   "execution_count": 61,
   "metadata": {},
   "outputs": [
    {
     "data": {
      "text/html": [
       "<div>\n",
       "<style scoped>\n",
       "    .dataframe tbody tr th:only-of-type {\n",
       "        vertical-align: middle;\n",
       "    }\n",
       "\n",
       "    .dataframe tbody tr th {\n",
       "        vertical-align: top;\n",
       "    }\n",
       "\n",
       "    .dataframe thead th {\n",
       "        text-align: right;\n",
       "    }\n",
       "</style>\n",
       "<table border=\"1\" class=\"dataframe\">\n",
       "  <thead>\n",
       "    <tr style=\"text-align: right;\">\n",
       "      <th></th>\n",
       "      <th>inst</th>\n",
       "      <th>tf</th>\n",
       "      <th>ret_period</th>\n",
       "      <th>corr_period</th>\n",
       "      <th>corr_value</th>\n",
       "    </tr>\n",
       "  </thead>\n",
       "  <tbody>\n",
       "    <tr>\n",
       "      <th>4741</th>\n",
       "      <td>btc</td>\n",
       "      <td>1m</td>\n",
       "      <td>15</td>\n",
       "      <td>17</td>\n",
       "      <td>-1.0</td>\n",
       "    </tr>\n",
       "    <tr>\n",
       "      <th>7346</th>\n",
       "      <td>spy</td>\n",
       "      <td>1m</td>\n",
       "      <td>19</td>\n",
       "      <td>40</td>\n",
       "      <td>-1.0</td>\n",
       "    </tr>\n",
       "    <tr>\n",
       "      <th>4717</th>\n",
       "      <td>btc</td>\n",
       "      <td>1m</td>\n",
       "      <td>14</td>\n",
       "      <td>18</td>\n",
       "      <td>-1.0</td>\n",
       "    </tr>\n",
       "    <tr>\n",
       "      <th>4669</th>\n",
       "      <td>btc</td>\n",
       "      <td>1m</td>\n",
       "      <td>12</td>\n",
       "      <td>20</td>\n",
       "      <td>-1.0</td>\n",
       "    </tr>\n",
       "    <tr>\n",
       "      <th>4813</th>\n",
       "      <td>btc</td>\n",
       "      <td>1m</td>\n",
       "      <td>18</td>\n",
       "      <td>14</td>\n",
       "      <td>-1.0</td>\n",
       "    </tr>\n",
       "    <tr>\n",
       "      <th>...</th>\n",
       "      <td>...</td>\n",
       "      <td>...</td>\n",
       "      <td>...</td>\n",
       "      <td>...</td>\n",
       "      <td>...</td>\n",
       "    </tr>\n",
       "    <tr>\n",
       "      <th>4693</th>\n",
       "      <td>btc</td>\n",
       "      <td>1m</td>\n",
       "      <td>13</td>\n",
       "      <td>19</td>\n",
       "      <td>1.0</td>\n",
       "    </tr>\n",
       "    <tr>\n",
       "      <th>4420</th>\n",
       "      <td>btc</td>\n",
       "      <td>1m</td>\n",
       "      <td>2</td>\n",
       "      <td>30</td>\n",
       "      <td>1.0</td>\n",
       "    </tr>\n",
       "    <tr>\n",
       "      <th>7097</th>\n",
       "      <td>spy</td>\n",
       "      <td>1m</td>\n",
       "      <td>9</td>\n",
       "      <td>50</td>\n",
       "      <td>1.0</td>\n",
       "    </tr>\n",
       "    <tr>\n",
       "      <th>4876</th>\n",
       "      <td>btc</td>\n",
       "      <td>1m</td>\n",
       "      <td>30</td>\n",
       "      <td>2</td>\n",
       "      <td>1.0</td>\n",
       "    </tr>\n",
       "    <tr>\n",
       "      <th>7433</th>\n",
       "      <td>spy</td>\n",
       "      <td>1m</td>\n",
       "      <td>50</td>\n",
       "      <td>9</td>\n",
       "      <td>1.0</td>\n",
       "    </tr>\n",
       "  </tbody>\n",
       "</table>\n",
       "<p>7009 rows × 5 columns</p>\n",
       "</div>"
      ],
      "text/plain": [
       "     inst  tf  ret_period  corr_period  corr_value\n",
       "4741  btc  1m          15           17        -1.0\n",
       "7346  spy  1m          19           40        -1.0\n",
       "4717  btc  1m          14           18        -1.0\n",
       "4669  btc  1m          12           20        -1.0\n",
       "4813  btc  1m          18           14        -1.0\n",
       "...   ...  ..         ...          ...         ...\n",
       "4693  btc  1m          13           19         1.0\n",
       "4420  btc  1m           2           30         1.0\n",
       "7097  spy  1m           9           50         1.0\n",
       "4876  btc  1m          30            2         1.0\n",
       "7433  spy  1m          50            9         1.0\n",
       "\n",
       "[7009 rows x 5 columns]"
      ]
     },
     "execution_count": 61,
     "metadata": {},
     "output_type": "execute_result"
    }
   ],
   "source": [
    "result_df.sort_values(by=['corr_value'])"
   ]
  },
  {
   "cell_type": "code",
   "execution_count": 62,
   "metadata": {},
   "outputs": [
    {
     "data": {
      "text/plain": [
       "<matplotlib.axes._subplots.AxesSubplot at 0x1ea39dc7f08>"
      ]
     },
     "execution_count": 62,
     "metadata": {},
     "output_type": "execute_result"
    },
    {
     "data": {
      "image/png": "[encoded data removed]",
      "text/plain": [
       "<Figure size 432x288 with 1 Axes>"
      ]
     },
     "metadata": {
      "needs_background": "light"
     },
     "output_type": "display_data"
    }
   ],
   "source": [
    "result_df.corr_value.hist(bins=50)"
   ]
  },
  {
   "cell_type": "code",
   "execution_count": 65,
   "metadata": {},
   "outputs": [
    {
     "data": {
      "text/html": [
       "<div>\n",
       "<style scoped>\n",
       "    .dataframe tbody tr th:only-of-type {\n",
       "        vertical-align: middle;\n",
       "    }\n",
       "\n",
       "    .dataframe tbody tr th {\n",
       "        vertical-align: top;\n",
       "    }\n",
       "\n",
       "    .dataframe thead th {\n",
       "        text-align: right;\n",
       "    }\n",
       "</style>\n",
       "<table border=\"1\" class=\"dataframe\">\n",
       "  <thead>\n",
       "    <tr style=\"text-align: right;\">\n",
       "      <th></th>\n",
       "      <th>inst</th>\n",
       "      <th>tf</th>\n",
       "      <th>ret_period</th>\n",
       "      <th>corr_period</th>\n",
       "      <th>corr_value</th>\n",
       "    </tr>\n",
       "  </thead>\n",
       "  <tbody>\n",
       "    <tr>\n",
       "      <th>25</th>\n",
       "      <td>eurusd</td>\n",
       "      <td>240min</td>\n",
       "      <td>2</td>\n",
       "      <td>1</td>\n",
       "      <td>0.498493</td>\n",
       "    </tr>\n",
       "    <tr>\n",
       "      <th>50</th>\n",
       "      <td>eurusd</td>\n",
       "      <td>240min</td>\n",
       "      <td>3</td>\n",
       "      <td>1</td>\n",
       "      <td>0.661523</td>\n",
       "    </tr>\n",
       "    <tr>\n",
       "      <th>75</th>\n",
       "      <td>eurusd</td>\n",
       "      <td>240min</td>\n",
       "      <td>4</td>\n",
       "      <td>1</td>\n",
       "      <td>0.749651</td>\n",
       "    </tr>\n",
       "    <tr>\n",
       "      <th>76</th>\n",
       "      <td>eurusd</td>\n",
       "      <td>240min</td>\n",
       "      <td>4</td>\n",
       "      <td>2</td>\n",
       "      <td>0.499374</td>\n",
       "    </tr>\n",
       "    <tr>\n",
       "      <th>100</th>\n",
       "      <td>eurusd</td>\n",
       "      <td>240min</td>\n",
       "      <td>5</td>\n",
       "      <td>1</td>\n",
       "      <td>0.799737</td>\n",
       "    </tr>\n",
       "    <tr>\n",
       "      <th>...</th>\n",
       "      <td>...</td>\n",
       "      <td>...</td>\n",
       "      <td>...</td>\n",
       "      <td>...</td>\n",
       "      <td>...</td>\n",
       "    </tr>\n",
       "    <tr>\n",
       "      <th>7418</th>\n",
       "      <td>spy</td>\n",
       "      <td>1m</td>\n",
       "      <td>40</td>\n",
       "      <td>19</td>\n",
       "      <td>1.000000</td>\n",
       "    </tr>\n",
       "    <tr>\n",
       "      <th>7425</th>\n",
       "      <td>spy</td>\n",
       "      <td>1m</td>\n",
       "      <td>50</td>\n",
       "      <td>1</td>\n",
       "      <td>0.697959</td>\n",
       "    </tr>\n",
       "    <tr>\n",
       "      <th>7426</th>\n",
       "      <td>spy</td>\n",
       "      <td>1m</td>\n",
       "      <td>50</td>\n",
       "      <td>2</td>\n",
       "      <td>0.615332</td>\n",
       "    </tr>\n",
       "    <tr>\n",
       "      <th>7427</th>\n",
       "      <td>spy</td>\n",
       "      <td>1m</td>\n",
       "      <td>50</td>\n",
       "      <td>3</td>\n",
       "      <td>0.426701</td>\n",
       "    </tr>\n",
       "    <tr>\n",
       "      <th>7433</th>\n",
       "      <td>spy</td>\n",
       "      <td>1m</td>\n",
       "      <td>50</td>\n",
       "      <td>9</td>\n",
       "      <td>1.000000</td>\n",
       "    </tr>\n",
       "  </tbody>\n",
       "</table>\n",
       "<p>2119 rows × 5 columns</p>\n",
       "</div>"
      ],
      "text/plain": [
       "        inst      tf  ret_period  corr_period  corr_value\n",
       "25    eurusd  240min           2            1    0.498493\n",
       "50    eurusd  240min           3            1    0.661523\n",
       "75    eurusd  240min           4            1    0.749651\n",
       "76    eurusd  240min           4            2    0.499374\n",
       "100   eurusd  240min           5            1    0.799737\n",
       "...      ...     ...         ...          ...         ...\n",
       "7418     spy      1m          40           19    1.000000\n",
       "7425     spy      1m          50            1    0.697959\n",
       "7426     spy      1m          50            2    0.615332\n",
       "7427     spy      1m          50            3    0.426701\n",
       "7433     spy      1m          50            9    1.000000\n",
       "\n",
       "[2119 rows x 5 columns]"
      ]
     },
     "execution_count": 65,
     "metadata": {},
     "output_type": "execute_result"
    }
   ],
   "source": [
    "result_df[result_df.corr_value >0.40]"
   ]
  },
  {
   "cell_type": "code",
   "execution_count": 66,
   "metadata": {},
   "outputs": [
    {
     "data": {
      "text/plain": [
       "'\\nprice prediction on best correlations\\nbacktesting basic strategies:\\nstrategies: \\nfollowing momentum, if prev_mom is up then buy.\\nmean reversal\\n\\ntest with candle. If prev candle is up then buy\\n\\nMA crossovers\\n\\nImplement ML on momentum and trend data, to predict next momentum\\n\\nAdvanced strategies:\\nuse stop loss from volatility. Optimization\\n\\n------------\\nfiltering based on volat, volume indicators. + feature extraction + rwi\\nbacktesting strategies with filtering\\n\\n-----\\nClustering market regimes. RWI, vol\\nTraining/test on different market regimes\\nbacktesting with custer regime filtering\\n\\n\\n\\n\\n'"
      ]
     },
     "execution_count": 66,
     "metadata": {},
     "output_type": "execute_result"
    }
   ],
   "source": [
    "\"\"\"\n",
    "price prediction on best correlations\n",
    "backtesting basic strategies:\n",
    "strategies: \n",
    "following momentum, if prev_mom is up then buy.\n",
    "mean reversal\n",
    "\n",
    "test with candle. If prev candle is up then buy\n",
    "\n",
    "MA crossovers\n",
    "\n",
    "Implement ML on momentum and trend data, to predict next momentum\n",
    "\n",
    "Advanced strategies:\n",
    "use stop loss from volatility. Optimization\n",
    "\n",
    "------------\n",
    "filtering based on volat, volume indicators. + feature extraction + rwi\n",
    "backtesting strategies with filtering\n",
    "\n",
    "-----\n",
    "Clustering market regimes. RWI, vol\n",
    "Training/test on different market regimes\n",
    "backtesting with custer regime filtering\n",
    "\n",
    "\n",
    "\n",
    "\n",
    "\"\"\""
   ]
  },
  {
   "cell_type": "code",
   "execution_count": null,
   "metadata": {},
   "outputs": [],
   "source": []
  }
 ],
 "metadata": {
  "kernelspec": {
   "display_name": "Python 3",
   "language": "python",
   "name": "python3"
  },
  "language_info": {
   "codemirror_mode": {
    "name": "ipython",
    "version": 3
   },
   "file_extension": ".py",
   "mimetype": "text/x-python",
   "name": "python",
   "nbconvert_exporter": "python",
   "pygments_lexer": "ipython3",
   "version": "3.7.4"
  }
 },
 "nbformat": 4,
 "nbformat_minor": 4
}
