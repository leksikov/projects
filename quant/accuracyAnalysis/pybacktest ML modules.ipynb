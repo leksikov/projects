{
 "cells": [
  {
   "cell_type": "code",
   "execution_count": 1,
   "metadata": {},
   "outputs": [],
   "source": [
    "import numpy as np\n",
    "import pandas as pd\n",
    "\n",
    "import numpy as np\n",
    "from pandas.tseries.offsets import BDay\n",
    "import math\n",
    "import random\n",
    "\n",
    "import matplotlib.pyplot as plt\n",
    "\n",
    "import seaborn as sns; sns.set()\n",
    "%matplotlib inline\n",
    "\n",
    "from pyfinance import TSeries\n",
    "\n",
    "from hurst import compute_Hc, random_walk\n",
    "\n",
    "from sklearn.ensemble import RandomForestClassifier\n",
    "from sklearn.model_selection import train_test_split\n",
    "from sklearn.metrics import mean_squared_error, r2_score\n",
    "from sklearn.metrics import accuracy_score\n",
    "from sklearn.preprocessing import MinMaxScaler, StandardScaler\n",
    "from hurst import compute_Hc, random_walk\n",
    "from sklearn.linear_model import LinearRegression\n",
    "from sklearn.linear_model import Ridge, Lasso\n",
    "\n",
    "from sklearn.ensemble import ExtraTreesClassifier\n",
    "from sklearn.feature_selection import SelectFromModel\n"
   ]
  },
  {
   "cell_type": "code",
   "execution_count": 2,
   "metadata": {},
   "outputs": [],
   "source": [
    "from __future__ import print_function\n",
    "\n",
    "import pybacktest  # obviously, you should install pybacktest before importing it\n",
    "import pandas as pd"
   ]
  },
  {
   "cell_type": "code",
   "execution_count": 3,
   "metadata": {},
   "outputs": [],
   "source": [
    "import pickle"
   ]
  },
  {
   "cell_type": "code",
   "execution_count": 4,
   "metadata": {},
   "outputs": [],
   "source": [
    "filename = 'model_no0_basic.sav'\n",
    "model_basic = pickle.load(open(filename, 'rb'))\n",
    "X_basic = pd.read_pickle('model_0_Xtest.pkl')\n",
    "y_basic = pd.read_pickle('model_0_ytest.pkl')\n",
    "y_pred = model_basic.predict(X_basic)\n",
    "X_basic['signal'] = y_pred"
   ]
  },
  {
   "cell_type": "code",
   "execution_count": 5,
   "metadata": {},
   "outputs": [],
   "source": [
    "main = pd.read_csv('btc hourly dataset/Bitfinex_BTCUSD_1h-3.csv')\n",
    "main['Date'] = pd.to_datetime(main['Date'],  format='%Y-%m-%d %I-%p')\n",
    "main = main.sort_values(by='Date').set_index('Date')\n"
   ]
  },
  {
   "cell_type": "code",
   "execution_count": 6,
   "metadata": {},
   "outputs": [],
   "source": [
    "ohlc = main.rename(columns={'Open':'O', 'High':'H', 'Low':'L', 'Close':'C'}).drop(columns=['Symbol', 'Volume BTC', 'Volume USD']).replace([np.inf, -np.inf], 0).fillna(0)\n",
    "\n",
    "ohlc = ohlc.loc[X_basic.index]"
   ]
  },
  {
   "cell_type": "code",
   "execution_count": 7,
   "metadata": {},
   "outputs": [],
   "source": [
    "\n",
    "main['range'] = 100*(main['High'] - main['Low'])/main['Low']\n",
    "main['adj_close'] = main['Close'] / (main['High']*0.5 + main['Low']*0.5)\n",
    "main['adj_close'] = main['adj_close'].replace([np.inf, -np.inf, 0], 0)\n",
    "main = main.rename(columns={'Close':'price'})\n",
    "\n",
    "\n",
    "main = main.drop(columns=['Symbol','Volume BTC']).rename(columns={'Volume USD':'volume'})\n",
    "main['volume_sma_5' ] = main['volume'].rolling(5).mean()\n",
    "main['volume_sma_20' ] = main['volume'].rolling(20).mean()\n",
    "main['volume_sma_50' ] = main['volume'].rolling(50).mean()\n",
    "main['volume_sma_500' ] = main['volume'].rolling(500).mean()\n",
    "\n",
    "main['volume_roc' ] = main['volume'].pct_change().fillna(0)\n",
    "main['volume_roc_5' ] = main['volume'].pct_change(5).fillna(0)\n",
    "main['volume_roc_20' ] = main['volume'].pct_change(20).fillna(0)\n",
    "main['volume_roc_50' ] = main['volume'].pct_change(50).fillna(0)\n",
    "main['volume_roc_500' ] = main['volume'].pct_change(500).fillna(0)\n",
    "\n",
    "\n",
    "main['returns'] = main.price.pct_change().fillna(0)\n",
    "\n",
    "main=main.drop(columns=['Open', 'High', 'Low'])\n"
   ]
  },
  {
   "cell_type": "code",
   "execution_count": 15,
   "metadata": {},
   "outputs": [],
   "source": [
    "X_basic['actual'] = y_basic"
   ]
  },
  {
   "cell_type": "code",
   "execution_count": 16,
   "metadata": {},
   "outputs": [],
   "source": [
    "X_basic['profit'] = X_basic.actual * X_basic.signal"
   ]
  },
  {
   "cell_type": "code",
   "execution_count": null,
   "metadata": {},
   "outputs": [],
   "source": []
  },
  {
   "cell_type": "code",
   "execution_count": 35,
   "metadata": {},
   "outputs": [
    {
     "data": {
      "text/plain": [
       "<matplotlib.axes._subplots.AxesSubplot at 0x2b37548e7b8>"
      ]
     },
     "execution_count": 35,
     "metadata": {},
     "output_type": "execute_result"
    },
    {
     "data": {
      "image/png": "[encoded data removed]",
      "text/plain": [
       "<Figure size 1080x576 with 1 Axes>"
      ]
     },
     "metadata": {
      "needs_background": "light"
     },
     "output_type": "display_data"
    }
   ],
   "source": [
    "X_basic[X_basic.returns > 0.0001].profit.hist(bins=50)"
   ]
  },
  {
   "cell_type": "code",
   "execution_count": 52,
   "metadata": {},
   "outputs": [],
   "source": [
    "short_ma = 50\n",
    "long_ma = 200\n",
    "\n",
    "#ms = X_basic.price.rolling(short_ma).mean()\n",
    "#ml = X_basic.price.rolling(long_ma).mean()\n",
    "\n"
   ]
  },
  {
   "cell_type": "code",
   "execution_count": 20,
   "metadata": {},
   "outputs": [],
   "source": [
    "sell=short= (X_basic.returns > (X_basic.returns.mean() )) & (X_basic.volume_sma_5 > (X_basic.volume_sma_5.mean() + X_basic.volume_sma_5.std() * 2  )) #&  #\n",
    "buy = cover =  (X_basic.returns < (X_basic.returns.mean() )) & (X_basic.volume_sma_5 > (X_basic.volume_sma_5.mean()  + X_basic.volume_sma_5.std() * 2 ))  #& "
   ]
  },
  {
   "cell_type": "code",
   "execution_count": 21,
   "metadata": {},
   "outputs": [],
   "source": [
    "buy = buy.replace([np.inf, -np.inf], 0).fillna(0)\n",
    "sell = sell.replace([np.inf, -np.inf], 0).fillna(0)\n"
   ]
  },
  {
   "cell_type": "code",
   "execution_count": 22,
   "metadata": {},
   "outputs": [
    {
     "data": {
      "text/plain": [
       "(54,)"
      ]
     },
     "execution_count": 22,
     "metadata": {},
     "output_type": "execute_result"
    }
   ],
   "source": [
    "buy[buy==True].shape"
   ]
  },
  {
   "cell_type": "code",
   "execution_count": 23,
   "metadata": {},
   "outputs": [
    {
     "data": {
      "text/plain": [
       "(52,)"
      ]
     },
     "execution_count": 23,
     "metadata": {},
     "output_type": "execute_result"
    }
   ],
   "source": [
    "sell[sell==True].shape"
   ]
  },
  {
   "cell_type": "code",
   "execution_count": 24,
   "metadata": {},
   "outputs": [],
   "source": [
    "# Open buy if ML said buy and volume condition met\n",
    "# Sell/close postion if ML says close and condition met"
   ]
  },
  {
   "cell_type": "code",
   "execution_count": null,
   "metadata": {},
   "outputs": [],
   "source": []
  },
  {
   "cell_type": "code",
   "execution_count": 25,
   "metadata": {},
   "outputs": [
    {
     "ename": "NameError",
     "evalue": "name 'ms' is not defined",
     "output_type": "error",
     "traceback": [
      "\u001b[1;31m---------------------------------------------------------------------------\u001b[0m",
      "\u001b[1;31mNameError\u001b[0m                                 Traceback (most recent call last)",
      "\u001b[1;32m<ipython-input-25-4a0217540f19>\u001b[0m in \u001b[0;36m<module>\u001b[1;34m()\u001b[0m\n\u001b[0;32m      1\u001b[0m \u001b[1;33m\u001b[0m\u001b[0m\n\u001b[1;32m----> 2\u001b[1;33m \u001b[0mprint\u001b[0m\u001b[1;33m(\u001b[0m\u001b[1;34m'>  Short MA\\n%s\\n'\u001b[0m \u001b[1;33m%\u001b[0m \u001b[0mms\u001b[0m\u001b[1;33m.\u001b[0m\u001b[0mtail\u001b[0m\u001b[1;33m(\u001b[0m\u001b[1;33m)\u001b[0m\u001b[1;33m)\u001b[0m\u001b[1;33m\u001b[0m\u001b[0m\n\u001b[0m\u001b[0;32m      3\u001b[0m \u001b[0mprint\u001b[0m\u001b[1;33m(\u001b[0m\u001b[1;34m'>  Long MA\\n%s\\n'\u001b[0m \u001b[1;33m%\u001b[0m \u001b[0mml\u001b[0m\u001b[1;33m.\u001b[0m\u001b[0mtail\u001b[0m\u001b[1;33m(\u001b[0m\u001b[1;33m)\u001b[0m\u001b[1;33m)\u001b[0m\u001b[1;33m\u001b[0m\u001b[0m\n\u001b[0;32m      4\u001b[0m \u001b[0mprint\u001b[0m\u001b[1;33m(\u001b[0m\u001b[1;34m'>  Buy/Cover signals\\n%s\\n'\u001b[0m \u001b[1;33m%\u001b[0m \u001b[0mbuy\u001b[0m\u001b[1;33m.\u001b[0m\u001b[0mtail\u001b[0m\u001b[1;33m(\u001b[0m\u001b[1;33m)\u001b[0m\u001b[1;33m)\u001b[0m\u001b[1;33m\u001b[0m\u001b[0m\n\u001b[0;32m      5\u001b[0m \u001b[0mprint\u001b[0m\u001b[1;33m(\u001b[0m\u001b[1;34m'>  Short/Sell signals\\n%s\\n'\u001b[0m \u001b[1;33m%\u001b[0m \u001b[0msell\u001b[0m\u001b[1;33m.\u001b[0m\u001b[0mtail\u001b[0m\u001b[1;33m(\u001b[0m\u001b[1;33m)\u001b[0m\u001b[1;33m)\u001b[0m\u001b[1;33m\u001b[0m\u001b[0m\n",
      "\u001b[1;31mNameError\u001b[0m: name 'ms' is not defined"
     ]
    }
   ],
   "source": [
    "\n",
    "print('>  Short MA\\n%s\\n' % ms.tail())\n",
    "print('>  Long MA\\n%s\\n' % ml.tail())\n",
    "print('>  Buy/Cover signals\\n%s\\n' % buy.tail())\n",
    "print('>  Short/Sell signals\\n%s\\n' % sell.tail())"
   ]
  },
  {
   "cell_type": "code",
   "execution_count": 26,
   "metadata": {},
   "outputs": [],
   "source": [
    "bt = pybacktest.Backtest(locals(), 'ma_cross')\n"
   ]
  },
  {
   "cell_type": "code",
   "execution_count": 27,
   "metadata": {},
   "outputs": [
    {
     "data": {
      "text/html": [
       "<div>\n",
       "<style scoped>\n",
       "    .dataframe tbody tr th:only-of-type {\n",
       "        vertical-align: middle;\n",
       "    }\n",
       "\n",
       "    .dataframe tbody tr th {\n",
       "        vertical-align: top;\n",
       "    }\n",
       "\n",
       "    .dataframe thead th {\n",
       "        text-align: right;\n",
       "    }\n",
       "</style>\n",
       "<table border=\"1\" class=\"dataframe\">\n",
       "  <thead>\n",
       "    <tr style=\"text-align: right;\">\n",
       "      <th></th>\n",
       "      <th>pos</th>\n",
       "      <th>price</th>\n",
       "      <th>vol</th>\n",
       "    </tr>\n",
       "    <tr>\n",
       "      <th>Date</th>\n",
       "      <th></th>\n",
       "      <th></th>\n",
       "      <th></th>\n",
       "    </tr>\n",
       "  </thead>\n",
       "  <tbody>\n",
       "    <tr>\n",
       "      <th>2019-08-07 02:00:00</th>\n",
       "      <td>-1.0</td>\n",
       "      <td>11516.00</td>\n",
       "      <td>-1.0</td>\n",
       "    </tr>\n",
       "    <tr>\n",
       "      <th>2019-08-07 16:00:00</th>\n",
       "      <td>1.0</td>\n",
       "      <td>11685.00</td>\n",
       "      <td>2.0</td>\n",
       "    </tr>\n",
       "    <tr>\n",
       "      <th>2019-08-07 18:00:00</th>\n",
       "      <td>-1.0</td>\n",
       "      <td>11780.00</td>\n",
       "      <td>-2.0</td>\n",
       "    </tr>\n",
       "    <tr>\n",
       "      <th>2019-08-07 19:00:00</th>\n",
       "      <td>1.0</td>\n",
       "      <td>11734.00</td>\n",
       "      <td>2.0</td>\n",
       "    </tr>\n",
       "    <tr>\n",
       "      <th>2019-08-07 20:00:00</th>\n",
       "      <td>-1.0</td>\n",
       "      <td>11800.00</td>\n",
       "      <td>-2.0</td>\n",
       "    </tr>\n",
       "    <tr>\n",
       "      <th>2019-08-08 09:00:00</th>\n",
       "      <td>1.0</td>\n",
       "      <td>11947.00</td>\n",
       "      <td>2.0</td>\n",
       "    </tr>\n",
       "    <tr>\n",
       "      <th>2019-08-10 13:00:00</th>\n",
       "      <td>-1.0</td>\n",
       "      <td>11426.00</td>\n",
       "      <td>-2.0</td>\n",
       "    </tr>\n",
       "    <tr>\n",
       "      <th>2019-08-10 15:00:00</th>\n",
       "      <td>1.0</td>\n",
       "      <td>11410.00</td>\n",
       "      <td>2.0</td>\n",
       "    </tr>\n",
       "    <tr>\n",
       "      <th>2019-08-10 16:00:00</th>\n",
       "      <td>-1.0</td>\n",
       "      <td>11416.00</td>\n",
       "      <td>-2.0</td>\n",
       "    </tr>\n",
       "    <tr>\n",
       "      <th>2019-08-13 15:00:00</th>\n",
       "      <td>1.0</td>\n",
       "      <td>10995.00</td>\n",
       "      <td>2.0</td>\n",
       "    </tr>\n",
       "    <tr>\n",
       "      <th>2019-08-13 18:00:00</th>\n",
       "      <td>-1.0</td>\n",
       "      <td>10918.00</td>\n",
       "      <td>-2.0</td>\n",
       "    </tr>\n",
       "    <tr>\n",
       "      <th>2019-08-14 18:00:00</th>\n",
       "      <td>1.0</td>\n",
       "      <td>10249.01</td>\n",
       "      <td>2.0</td>\n",
       "    </tr>\n",
       "    <tr>\n",
       "      <th>2019-08-14 21:00:00</th>\n",
       "      <td>-1.0</td>\n",
       "      <td>10206.97</td>\n",
       "      <td>-2.0</td>\n",
       "    </tr>\n",
       "    <tr>\n",
       "      <th>2019-08-15 05:00:00</th>\n",
       "      <td>1.0</td>\n",
       "      <td>9780.10</td>\n",
       "      <td>2.0</td>\n",
       "    </tr>\n",
       "    <tr>\n",
       "      <th>2019-08-15 08:00:00</th>\n",
       "      <td>-1.0</td>\n",
       "      <td>9890.90</td>\n",
       "      <td>-2.0</td>\n",
       "    </tr>\n",
       "    <tr>\n",
       "      <th>2019-08-15 09:00:00</th>\n",
       "      <td>1.0</td>\n",
       "      <td>9867.10</td>\n",
       "      <td>2.0</td>\n",
       "    </tr>\n",
       "    <tr>\n",
       "      <th>2019-08-15 10:00:00</th>\n",
       "      <td>-1.0</td>\n",
       "      <td>10001.00</td>\n",
       "      <td>-2.0</td>\n",
       "    </tr>\n",
       "    <tr>\n",
       "      <th>2019-08-21 07:00:00</th>\n",
       "      <td>1.0</td>\n",
       "      <td>10180.03</td>\n",
       "      <td>2.0</td>\n",
       "    </tr>\n",
       "    <tr>\n",
       "      <th>2019-08-26 01:00:00</th>\n",
       "      <td>-1.0</td>\n",
       "      <td>10505.00</td>\n",
       "      <td>-2.0</td>\n",
       "    </tr>\n",
       "    <tr>\n",
       "      <th>2019-08-26 02:00:00</th>\n",
       "      <td>1.0</td>\n",
       "      <td>10446.00</td>\n",
       "      <td>2.0</td>\n",
       "    </tr>\n",
       "    <tr>\n",
       "      <th>2019-08-26 05:00:00</th>\n",
       "      <td>-1.0</td>\n",
       "      <td>10335.97</td>\n",
       "      <td>-2.0</td>\n",
       "    </tr>\n",
       "    <tr>\n",
       "      <th>2019-08-28 19:00:00</th>\n",
       "      <td>1.0</td>\n",
       "      <td>9717.20</td>\n",
       "      <td>2.0</td>\n",
       "    </tr>\n",
       "    <tr>\n",
       "      <th>2019-08-28 22:00:00</th>\n",
       "      <td>-1.0</td>\n",
       "      <td>9744.90</td>\n",
       "      <td>-2.0</td>\n",
       "    </tr>\n",
       "    <tr>\n",
       "      <th>2019-09-02 22:00:00</th>\n",
       "      <td>1.0</td>\n",
       "      <td>10406.00</td>\n",
       "      <td>2.0</td>\n",
       "    </tr>\n",
       "    <tr>\n",
       "      <th>2019-09-03 14:00:00</th>\n",
       "      <td>-1.0</td>\n",
       "      <td>10692.04</td>\n",
       "      <td>-2.0</td>\n",
       "    </tr>\n",
       "    <tr>\n",
       "      <th>2019-09-03 15:00:00</th>\n",
       "      <td>1.0</td>\n",
       "      <td>10642.00</td>\n",
       "      <td>2.0</td>\n",
       "    </tr>\n",
       "    <tr>\n",
       "      <th>2019-09-03 16:00:00</th>\n",
       "      <td>-1.0</td>\n",
       "      <td>10700.00</td>\n",
       "      <td>-2.0</td>\n",
       "    </tr>\n",
       "    <tr>\n",
       "      <th>2019-09-03 17:00:00</th>\n",
       "      <td>1.0</td>\n",
       "      <td>10666.00</td>\n",
       "      <td>2.0</td>\n",
       "    </tr>\n",
       "    <tr>\n",
       "      <th>2019-09-06 22:00:00</th>\n",
       "      <td>-1.0</td>\n",
       "      <td>10429.00</td>\n",
       "      <td>-2.0</td>\n",
       "    </tr>\n",
       "    <tr>\n",
       "      <th>2019-09-19 07:00:00</th>\n",
       "      <td>1.0</td>\n",
       "      <td>9900.10</td>\n",
       "      <td>2.0</td>\n",
       "    </tr>\n",
       "    <tr>\n",
       "      <th>2019-09-24 21:00:00</th>\n",
       "      <td>-1.0</td>\n",
       "      <td>8618.00</td>\n",
       "      <td>-2.0</td>\n",
       "    </tr>\n",
       "    <tr>\n",
       "      <th>2019-09-25 00:00:00</th>\n",
       "      <td>1.0</td>\n",
       "      <td>8538.70</td>\n",
       "      <td>2.0</td>\n",
       "    </tr>\n",
       "    <tr>\n",
       "      <th>2019-09-25 01:00:00</th>\n",
       "      <td>-1.0</td>\n",
       "      <td>8717.70</td>\n",
       "      <td>-2.0</td>\n",
       "    </tr>\n",
       "    <tr>\n",
       "      <th>2019-09-26 16:00:00</th>\n",
       "      <td>1.0</td>\n",
       "      <td>7958.20</td>\n",
       "      <td>2.0</td>\n",
       "    </tr>\n",
       "    <tr>\n",
       "      <th>2019-09-26 17:00:00</th>\n",
       "      <td>-1.0</td>\n",
       "      <td>7990.00</td>\n",
       "      <td>-2.0</td>\n",
       "    </tr>\n",
       "    <tr>\n",
       "      <th>2019-09-26 18:00:00</th>\n",
       "      <td>1.0</td>\n",
       "      <td>7972.20</td>\n",
       "      <td>2.0</td>\n",
       "    </tr>\n",
       "    <tr>\n",
       "      <th>2019-09-26 19:00:00</th>\n",
       "      <td>-1.0</td>\n",
       "      <td>8156.30</td>\n",
       "      <td>-2.0</td>\n",
       "    </tr>\n",
       "    <tr>\n",
       "      <th>2019-09-26 21:00:00</th>\n",
       "      <td>1.0</td>\n",
       "      <td>8126.10</td>\n",
       "      <td>2.0</td>\n",
       "    </tr>\n",
       "    <tr>\n",
       "      <th>2019-10-09 17:00:00</th>\n",
       "      <td>-1.0</td>\n",
       "      <td>8605.10</td>\n",
       "      <td>-2.0</td>\n",
       "    </tr>\n",
       "    <tr>\n",
       "      <th>2019-10-09 19:00:00</th>\n",
       "      <td>1.0</td>\n",
       "      <td>8630.00</td>\n",
       "      <td>2.0</td>\n",
       "    </tr>\n",
       "    <tr>\n",
       "      <th>2019-10-23 15:00:00</th>\n",
       "      <td>-1.0</td>\n",
       "      <td>7495.80</td>\n",
       "      <td>-2.0</td>\n",
       "    </tr>\n",
       "    <tr>\n",
       "      <th>2019-10-23 16:00:00</th>\n",
       "      <td>1.0</td>\n",
       "      <td>7450.20</td>\n",
       "      <td>2.0</td>\n",
       "    </tr>\n",
       "    <tr>\n",
       "      <th>2019-10-23 17:00:00</th>\n",
       "      <td>-1.0</td>\n",
       "      <td>7492.50</td>\n",
       "      <td>-2.0</td>\n",
       "    </tr>\n",
       "    <tr>\n",
       "      <th>2019-10-25 21:00:00</th>\n",
       "      <td>1.0</td>\n",
       "      <td>8589.00</td>\n",
       "      <td>2.0</td>\n",
       "    </tr>\n",
       "    <tr>\n",
       "      <th>2019-10-25 22:00:00</th>\n",
       "      <td>-1.0</td>\n",
       "      <td>8618.00</td>\n",
       "      <td>-2.0</td>\n",
       "    </tr>\n",
       "    <tr>\n",
       "      <th>2019-10-26 03:00:00</th>\n",
       "      <td>1.0</td>\n",
       "      <td>9689.90</td>\n",
       "      <td>2.0</td>\n",
       "    </tr>\n",
       "    <tr>\n",
       "      <th>2019-10-26 05:00:00</th>\n",
       "      <td>-1.0</td>\n",
       "      <td>9667.41</td>\n",
       "      <td>-2.0</td>\n",
       "    </tr>\n",
       "    <tr>\n",
       "      <th>2019-10-26 06:00:00</th>\n",
       "      <td>1.0</td>\n",
       "      <td>9632.90</td>\n",
       "      <td>2.0</td>\n",
       "    </tr>\n",
       "    <tr>\n",
       "      <th>2019-10-26 11:00:00</th>\n",
       "      <td>-1.0</td>\n",
       "      <td>9275.00</td>\n",
       "      <td>-2.0</td>\n",
       "    </tr>\n",
       "    <tr>\n",
       "      <th>2019-10-26 12:00:00</th>\n",
       "      <td>1.0</td>\n",
       "      <td>9265.40</td>\n",
       "      <td>2.0</td>\n",
       "    </tr>\n",
       "    <tr>\n",
       "      <th>2019-10-26 13:00:00</th>\n",
       "      <td>-1.0</td>\n",
       "      <td>9309.51</td>\n",
       "      <td>-2.0</td>\n",
       "    </tr>\n",
       "    <tr>\n",
       "      <th>2019-10-26 14:00:00</th>\n",
       "      <td>1.0</td>\n",
       "      <td>9153.00</td>\n",
       "      <td>2.0</td>\n",
       "    </tr>\n",
       "    <tr>\n",
       "      <th>2019-11-22 12:00:00</th>\n",
       "      <td>-1.0</td>\n",
       "      <td>7144.30</td>\n",
       "      <td>-2.0</td>\n",
       "    </tr>\n",
       "    <tr>\n",
       "      <th>2019-11-22 14:00:00</th>\n",
       "      <td>1.0</td>\n",
       "      <td>7084.00</td>\n",
       "      <td>2.0</td>\n",
       "    </tr>\n",
       "    <tr>\n",
       "      <th>2019-11-22 16:00:00</th>\n",
       "      <td>-1.0</td>\n",
       "      <td>7155.90</td>\n",
       "      <td>-2.0</td>\n",
       "    </tr>\n",
       "    <tr>\n",
       "      <th>2019-11-25 02:00:00</th>\n",
       "      <td>1.0</td>\n",
       "      <td>6813.20</td>\n",
       "      <td>2.0</td>\n",
       "    </tr>\n",
       "    <tr>\n",
       "      <th>2019-11-25 03:00:00</th>\n",
       "      <td>-1.0</td>\n",
       "      <td>6833.70</td>\n",
       "      <td>-2.0</td>\n",
       "    </tr>\n",
       "    <tr>\n",
       "      <th>2019-11-25 04:00:00</th>\n",
       "      <td>1.0</td>\n",
       "      <td>6761.03</td>\n",
       "      <td>2.0</td>\n",
       "    </tr>\n",
       "  </tbody>\n",
       "</table>\n",
       "</div>"
      ],
      "text/plain": [
       "                     pos     price  vol\n",
       "Date                                   \n",
       "2019-08-07 02:00:00 -1.0  11516.00 -1.0\n",
       "2019-08-07 16:00:00  1.0  11685.00  2.0\n",
       "2019-08-07 18:00:00 -1.0  11780.00 -2.0\n",
       "2019-08-07 19:00:00  1.0  11734.00  2.0\n",
       "2019-08-07 20:00:00 -1.0  11800.00 -2.0\n",
       "2019-08-08 09:00:00  1.0  11947.00  2.0\n",
       "2019-08-10 13:00:00 -1.0  11426.00 -2.0\n",
       "2019-08-10 15:00:00  1.0  11410.00  2.0\n",
       "2019-08-10 16:00:00 -1.0  11416.00 -2.0\n",
       "2019-08-13 15:00:00  1.0  10995.00  2.0\n",
       "2019-08-13 18:00:00 -1.0  10918.00 -2.0\n",
       "2019-08-14 18:00:00  1.0  10249.01  2.0\n",
       "2019-08-14 21:00:00 -1.0  10206.97 -2.0\n",
       "2019-08-15 05:00:00  1.0   9780.10  2.0\n",
       "2019-08-15 08:00:00 -1.0   9890.90 -2.0\n",
       "2019-08-15 09:00:00  1.0   9867.10  2.0\n",
       "2019-08-15 10:00:00 -1.0  10001.00 -2.0\n",
       "2019-08-21 07:00:00  1.0  10180.03  2.0\n",
       "2019-08-26 01:00:00 -1.0  10505.00 -2.0\n",
       "2019-08-26 02:00:00  1.0  10446.00  2.0\n",
       "2019-08-26 05:00:00 -1.0  10335.97 -2.0\n",
       "2019-08-28 19:00:00  1.0   9717.20  2.0\n",
       "2019-08-28 22:00:00 -1.0   9744.90 -2.0\n",
       "2019-09-02 22:00:00  1.0  10406.00  2.0\n",
       "2019-09-03 14:00:00 -1.0  10692.04 -2.0\n",
       "2019-09-03 15:00:00  1.0  10642.00  2.0\n",
       "2019-09-03 16:00:00 -1.0  10700.00 -2.0\n",
       "2019-09-03 17:00:00  1.0  10666.00  2.0\n",
       "2019-09-06 22:00:00 -1.0  10429.00 -2.0\n",
       "2019-09-19 07:00:00  1.0   9900.10  2.0\n",
       "2019-09-24 21:00:00 -1.0   8618.00 -2.0\n",
       "2019-09-25 00:00:00  1.0   8538.70  2.0\n",
       "2019-09-25 01:00:00 -1.0   8717.70 -2.0\n",
       "2019-09-26 16:00:00  1.0   7958.20  2.0\n",
       "2019-09-26 17:00:00 -1.0   7990.00 -2.0\n",
       "2019-09-26 18:00:00  1.0   7972.20  2.0\n",
       "2019-09-26 19:00:00 -1.0   8156.30 -2.0\n",
       "2019-09-26 21:00:00  1.0   8126.10  2.0\n",
       "2019-10-09 17:00:00 -1.0   8605.10 -2.0\n",
       "2019-10-09 19:00:00  1.0   8630.00  2.0\n",
       "2019-10-23 15:00:00 -1.0   7495.80 -2.0\n",
       "2019-10-23 16:00:00  1.0   7450.20  2.0\n",
       "2019-10-23 17:00:00 -1.0   7492.50 -2.0\n",
       "2019-10-25 21:00:00  1.0   8589.00  2.0\n",
       "2019-10-25 22:00:00 -1.0   8618.00 -2.0\n",
       "2019-10-26 03:00:00  1.0   9689.90  2.0\n",
       "2019-10-26 05:00:00 -1.0   9667.41 -2.0\n",
       "2019-10-26 06:00:00  1.0   9632.90  2.0\n",
       "2019-10-26 11:00:00 -1.0   9275.00 -2.0\n",
       "2019-10-26 12:00:00  1.0   9265.40  2.0\n",
       "2019-10-26 13:00:00 -1.0   9309.51 -2.0\n",
       "2019-10-26 14:00:00  1.0   9153.00  2.0\n",
       "2019-11-22 12:00:00 -1.0   7144.30 -2.0\n",
       "2019-11-22 14:00:00  1.0   7084.00  2.0\n",
       "2019-11-22 16:00:00 -1.0   7155.90 -2.0\n",
       "2019-11-25 02:00:00  1.0   6813.20  2.0\n",
       "2019-11-25 03:00:00 -1.0   6833.70 -2.0\n",
       "2019-11-25 04:00:00  1.0   6761.03  2.0"
      ]
     },
     "execution_count": 27,
     "metadata": {},
     "output_type": "execute_result"
    }
   ],
   "source": [
    "bt.trades"
   ]
  },
  {
   "cell_type": "code",
   "execution_count": 28,
   "metadata": {},
   "outputs": [
    {
     "name": "stdout",
     "output_type": "stream",
     "text": [
      "['dataobj', 'default_price', 'eqplot', 'equity', 'name', 'ohlc', 'plot_equity', 'plot_trades', 'positions', 'prices', 'report', 'run_time', 'signals', 'sigplot', 'stats', 'summary', 'trade_price', 'trades', 'trdplot']\n",
      "\n",
      ">  bt.signals\n",
      "                       Buy  Cover   Sell  Short\n",
      "Date                                           \n",
      "2019-12-15 14:00:00  False  False  False  False\n",
      "2019-12-15 15:00:00  False  False  False  False\n",
      "2019-12-15 16:00:00  False  False  False  False\n",
      "2019-12-15 17:00:00  False  False  False  False\n",
      "2019-12-15 18:00:00  False  False  False  False\n",
      "\n",
      ">  bt.trades\n",
      "                     pos    price  vol\n",
      "Date                                  \n",
      "2019-11-22 14:00:00  1.0  7084.00  2.0\n",
      "2019-11-22 16:00:00 -1.0  7155.90 -2.0\n",
      "2019-11-25 02:00:00  1.0  6813.20  2.0\n",
      "2019-11-25 03:00:00 -1.0  6833.70 -2.0\n",
      "2019-11-25 04:00:00  1.0  6761.03  2.0\n",
      "\n",
      ">  bt.positions\n",
      "Date\n",
      "2019-11-22 13:00:00    1.0\n",
      "2019-11-22 15:00:00   -1.0\n",
      "2019-11-25 01:00:00    1.0\n",
      "2019-11-25 02:00:00   -1.0\n",
      "2019-11-25 03:00:00    1.0\n",
      "dtype: float64\n",
      "\n",
      ">  bt.equity\n",
      "Date\n",
      "2019-11-22 14:00:00     60.30\n",
      "2019-11-22 16:00:00     71.90\n",
      "2019-11-25 02:00:00    342.70\n",
      "2019-11-25 03:00:00     20.50\n",
      "2019-11-25 04:00:00     72.67\n",
      "dtype: float64\n",
      "\n",
      ">  bt.trade_price\n",
      "Date\n",
      "2019-12-15 14:00:00    7106.50\n",
      "2019-12-15 15:00:00    7138.90\n",
      "2019-12-15 16:00:00    7136.92\n",
      "2019-12-15 17:00:00    7109.00\n",
      "2019-12-15 18:00:00    7129.50\n",
      "Name: O, dtype: float64\n"
     ]
    }
   ],
   "source": [
    "print(list(filter(lambda x: not x.startswith('_'), dir(bt))))\n",
    "print('\\n>  bt.signals\\n%s' % bt.signals.tail())\n",
    "print('\\n>  bt.trades\\n%s' % bt.trades.tail())\n",
    "print('\\n>  bt.positions\\n%s' % bt.positions.tail())\n",
    "print('\\n>  bt.equity\\n%s' % bt.equity.tail())\n",
    "print('\\n>  bt.trade_price\\n%s' % bt.trade_price.tail())"
   ]
  },
  {
   "cell_type": "code",
   "execution_count": 29,
   "metadata": {},
   "outputs": [
    {
     "name": "stdout",
     "output_type": "stream",
     "text": [
      "--------------------------------------------------------------\n",
      "|  Backtest(ma_cross, 2019-29-12 19:41 Korea Standard Time)  |\n",
      "--------------------------------------------------------------\n",
      "\n",
      "backtest:\n",
      "  days: 109\n",
      "  from: '2019-08-07 16:00:00'\n",
      "  to: '2019-11-25 04:00:00'\n",
      "  trades: 57\n",
      "performance:\n",
      "  PF: 0.732\n",
      "  RF: -0.4575\n",
      "  averages:\n",
      "    gain: 167.3045\n",
      "    loss: -537.7582\n",
      "    trade: -42.9774\n",
      "  payoff: 0.3111\n",
      "  profit: -2449.71\n",
      "  winrate: 0.7018\n",
      "risk/return profile:\n",
      "  MPI: -0.2902\n",
      "  UPI: -0.0204\n",
      "  WCDD (monte-carlo 0.99 quantile): 6235.0394\n",
      "  maxdd: 5354.96\n",
      "  sharpe: -1.0167\n",
      "  sortino: -0.6146\n",
      "\n",
      "--------------------------------------------------------------\n"
     ]
    }
   ],
   "source": [
    "bt.summary()"
   ]
  },
  {
   "cell_type": "code",
   "execution_count": 30,
   "metadata": {},
   "outputs": [
    {
     "data": {
      "text/plain": [
       "(<Figure size 1080x576 with 1 Axes>,\n",
       " <matplotlib.axes._subplots.AxesSubplot at 0x2b35c7dfc18>)"
      ]
     },
     "execution_count": 30,
     "metadata": {},
     "output_type": "execute_result"
    },
    {
     "data": {
      "image/png": "[encoded data removed]",
      "text/plain": [
       "<Figure size 1080x576 with 1 Axes>"
      ]
     },
     "metadata": {
      "needs_background": "light"
     },
     "output_type": "display_data"
    }
   ],
   "source": [
    "%matplotlib inline\n",
    "import matplotlib\n",
    "import matplotlib.pyplot as plt\n",
    "matplotlib.rcParams['figure.figsize'] = (15.0, 8.0)\n",
    "\n",
    "bt.plot_equity()"
   ]
  },
  {
   "cell_type": "code",
   "execution_count": 31,
   "metadata": {},
   "outputs": [
    {
     "ename": "NameError",
     "evalue": "name 'short_ma' is not defined",
     "output_type": "error",
     "traceback": [
      "\u001b[1;31m---------------------------------------------------------------------------\u001b[0m",
      "\u001b[1;31mNameError\u001b[0m                                 Traceback (most recent call last)",
      "\u001b[1;32m<ipython-input-31-611eeab0fa60>\u001b[0m in \u001b[0;36m<module>\u001b[1;34m()\u001b[0m\n\u001b[0;32m      1\u001b[0m \u001b[0mbt\u001b[0m\u001b[1;33m.\u001b[0m\u001b[0mplot_trades\u001b[0m\u001b[1;33m(\u001b[0m\u001b[1;33m)\u001b[0m\u001b[1;33m\u001b[0m\u001b[0m\n\u001b[1;32m----> 2\u001b[1;33m \u001b[0mohlc\u001b[0m\u001b[1;33m.\u001b[0m\u001b[0mC\u001b[0m\u001b[1;33m.\u001b[0m\u001b[0mrolling\u001b[0m\u001b[1;33m(\u001b[0m\u001b[0mshort_ma\u001b[0m\u001b[1;33m)\u001b[0m\u001b[1;33m.\u001b[0m\u001b[0mmean\u001b[0m\u001b[1;33m(\u001b[0m\u001b[1;33m)\u001b[0m\u001b[1;33m.\u001b[0m\u001b[0mplot\u001b[0m\u001b[1;33m(\u001b[0m\u001b[0mc\u001b[0m\u001b[1;33m=\u001b[0m\u001b[1;34m'green'\u001b[0m\u001b[1;33m)\u001b[0m\u001b[1;33m\u001b[0m\u001b[0m\n\u001b[0m\u001b[0;32m      3\u001b[0m \u001b[0mohlc\u001b[0m\u001b[1;33m.\u001b[0m\u001b[0mC\u001b[0m\u001b[1;33m.\u001b[0m\u001b[0mrolling\u001b[0m\u001b[1;33m(\u001b[0m\u001b[0mlong_ma\u001b[0m\u001b[1;33m)\u001b[0m\u001b[1;33m.\u001b[0m\u001b[0mmean\u001b[0m\u001b[1;33m(\u001b[0m\u001b[1;33m)\u001b[0m\u001b[1;33m.\u001b[0m\u001b[0mplot\u001b[0m\u001b[1;33m(\u001b[0m\u001b[0mc\u001b[0m\u001b[1;33m=\u001b[0m\u001b[1;34m'blue'\u001b[0m\u001b[1;33m)\u001b[0m\u001b[1;33m\u001b[0m\u001b[0m\n\u001b[0;32m      4\u001b[0m \u001b[0mplt\u001b[0m\u001b[1;33m.\u001b[0m\u001b[0mlegend\u001b[0m\u001b[1;33m(\u001b[0m\u001b[0mloc\u001b[0m\u001b[1;33m=\u001b[0m\u001b[1;34m'upper left'\u001b[0m\u001b[1;33m)\u001b[0m\u001b[1;33m\u001b[0m\u001b[0m\n\u001b[0;32m      5\u001b[0m \u001b[1;32mpass\u001b[0m\u001b[1;33m\u001b[0m\u001b[0m\n",
      "\u001b[1;31mNameError\u001b[0m: name 'short_ma' is not defined"
     ]
    },
    {
     "data": {
      "image/png": "[encoded data removed]",
      "text/plain": [
       "<Figure size 1080x576 with 1 Axes>"
      ]
     },
     "metadata": {
      "needs_background": "light"
     },
     "output_type": "display_data"
    }
   ],
   "source": [
    "bt.plot_trades()\n",
    "ohlc.C.rolling(short_ma).mean().plot(c='green')\n",
    "ohlc.C.rolling(long_ma).mean().plot(c='blue')\n",
    "plt.legend(loc='upper left')\n",
    "pass"
   ]
  },
  {
   "cell_type": "code",
   "execution_count": null,
   "metadata": {},
   "outputs": [],
   "source": []
  }
 ],
 "metadata": {
  "kernelspec": {
   "display_name": "Python 3",
   "language": "python",
   "name": "python3"
  },
  "language_info": {
   "codemirror_mode": {
    "name": "ipython",
    "version": 3
   },
   "file_extension": ".py",
   "mimetype": "text/x-python",
   "name": "python",
   "nbconvert_exporter": "python",
   "pygments_lexer": "ipython3",
   "version": "3.7.6"
  }
 },
 "nbformat": 4,
 "nbformat_minor": 2
}
