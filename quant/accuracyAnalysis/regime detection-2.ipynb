{
 "cells": [
  {
   "cell_type": "code",
   "execution_count": 36,
   "metadata": {},
   "outputs": [],
   "source": [
    "import numpy as np\n",
    "import pandas as pd\n",
    "\n",
    "import numpy as np\n",
    "from pandas.tseries.offsets import BDay\n",
    "import math\n",
    "import random\n",
    "\n",
    "import matplotlib.pyplot as plt\n",
    "%matplotlib inline\n",
    "import seaborn as sns; sns.set()"
   ]
  },
  {
   "cell_type": "code",
   "execution_count": 2,
   "metadata": {},
   "outputs": [],
   "source": [
    "from pyfinance import TSeries\n",
    "import ffn"
   ]
  },
  {
   "cell_type": "code",
   "execution_count": 3,
   "metadata": {},
   "outputs": [],
   "source": [
    "from hurst import compute_Hc, random_walk"
   ]
  },
  {
   "cell_type": "code",
   "execution_count": 4,
   "metadata": {},
   "outputs": [],
   "source": [
    "from sklearn.ensemble import RandomForestClassifier\n",
    "from sklearn.model_selection import train_test_split\n",
    "from sklearn.metrics import mean_squared_error, r2_score\n",
    "from sklearn.metrics import accuracy_score\n",
    "from sklearn.preprocessing import MinMaxScaler, StandardScaler\n",
    "from hurst import compute_Hc, random_walk"
   ]
  },
  {
   "cell_type": "code",
   "execution_count": 5,
   "metadata": {},
   "outputs": [],
   "source": [
    "def ShannonFast(df):\n",
    "    df=df[df!=0.0]\n",
    "    shift_returns = df.shift(1)\n",
    "    shift_returns2 = df.shift(2)\n",
    "    shift_returns3 = df.shift(3)\n",
    "    \n",
    "    #df['test']  = np.sign(df['returns']).astype('str').dropna() + np.sign(df['shift_returns2']).astype('str').dropna() +  np.sign(df['shift_returns3']).dropna().astype('str')\n",
    "    \n",
    "    df =df.dropna(axis=0)\n",
    "    \n",
    "    Pattern  = np.sign(df.dropna()).astype('str') + np.sign(shift_returns2.dropna()).astype('str') +  np.sign(shift_returns3.dropna()).astype('str')\n",
    "    \n",
    "    Pattern=Pattern.dropna().str.replace('.0','')\n",
    "    patternList = Pattern.dropna().str.replace('.0','').unique().tolist()\n",
    "    total = 0.0\n",
    "    ShannonPatterns = {}\n",
    "    \n",
    "    for e in patternList:\n",
    "        ShannonPatterns[e] = 0\n",
    "\n",
    "    for pattern in ShannonPatterns.keys():        \n",
    "        value = (len(np.where(Pattern==pattern)[0]))\n",
    "        ShannonPatterns[pattern] +=  value\n",
    "        total += value\n",
    "        \n",
    "    \n",
    "    ProbSum = 0.0\n",
    "    for pattern in ShannonPatterns.keys():\n",
    "        p = ShannonPatterns[pattern] / total        \n",
    "        value = p * np.log2(p)        \n",
    "        if math.isnan(value):\n",
    "            continue\n",
    "        ProbSum = ProbSum + value\n",
    "    Shannon_val = -ProbSum\n",
    "    return Shannon_val\n",
    "\n",
    "def Shannon(df, patternSize):\n",
    "    \n",
    "    chunks = []\n",
    "    for i in range(0, len(df)):\n",
    "        chunks.append(df[i:i+patternSize])\n",
    "    \n",
    "    chunks = chunks[:-patternSize-1]\n",
    "    \n",
    "    \n",
    "    chunks = [np.array2string(x) for x in chunks.copy()]\n",
    "    \n",
    "    \n",
    "    \n",
    "    \n",
    "    chunks_set = list(set(chunks))\n",
    "    \n",
    "    \n",
    "    visited = {}\n",
    "    total = 0\n",
    "    for el in chunks_set:\n",
    "        if (el not in visited):\n",
    "            f = chunks.count(el)\n",
    "            visited[el] = f\n",
    "            total = total + f\n",
    "    ProbSum = 0.0\n",
    "    for el in visited:\n",
    "        p = visited[el]/total\n",
    "        value = p * np.log2(p)\n",
    "        #visited[el] = value\n",
    "        ProbSum = ProbSum + value\n",
    "    Shannon_val = -ProbSum\n",
    "    del visited, chunks\n",
    "    \n",
    "    \n",
    "    \n",
    "    return Shannon_val\n",
    "\n",
    "def marketMeannes(df_):\n",
    "    \n",
    "    m = np.median(df_) \n",
    "    nh = 0\n",
    "    nl = 0\n",
    "    \n",
    "    for i in range(1, len(df_)-1):\n",
    "        Pt = df_[i]\n",
    "        Py = df_[i-1]\n",
    "        \n",
    "        if (Py > m) & (Py > Pt):\n",
    "            nl += 1\n",
    "        elif (Py < m) & (Py < Pt):\n",
    "            nh += 1\n",
    "        else:\n",
    "            None\n",
    "    return (nl+nh)/(len(df_)-1)\n",
    "        \n",
    "    \n",
    "    \n",
    "def Momersion(df):\n",
    "    #print(np.where(df == 1)[0])\n",
    "    #df = df['returns'].copy() * df['returns'].shift(1)\n",
    "    df = df.copy() * df.shift(1)\n",
    "    \n",
    "    df = df.dropna()\n",
    "    df = np.sign(df)\n",
    "    pos = len(np.where(df == 1)[0])\n",
    "    neg = len(np.where(df == -1)[0])\n",
    "    #zero = len(np.where(df == 0.0)[0])\n",
    "    if (pos + neg) == 0.0:\n",
    "        return -1.0\n",
    "    #print(pos, neg)\n",
    "    mom = (pos / (pos+neg )) #*100.0\n",
    "    return mom\n",
    "# https://pypi.org/project/hurst/\n",
    "def hurst(ts):\n",
    "    lags = range(2, 20)\n",
    "    tau = [np.sqrt(np.std(np.subtract(ts[lag:], ts[:-lag]))) for lag in lags]\n",
    "    # plot on log-log scale\n",
    "    #plt.plot(np.log(lags), np.log(tau)); plt.show()\n",
    "    # calculate Hurst as slope of log-log plot\n",
    "    #print(lags, tau)\n",
    "    m = np.polyfit(np.log(lags), np.log(tau), 1)\n",
    "\n",
    " \n",
    "    hurst = m[0]*2.0\n",
    "    #print ('hurst = ',hurst)\n",
    "    #plt.clf(), plt.close()\n",
    "    return hurst\n",
    "\n",
    "def MomersionDouble(df):\n",
    "\n",
    "    df = df[df!=0.0]\n",
    "    shift_returns = df.shift(1).fillna(0)\n",
    "    shift_returns2 = df.shift(2).fillna(0)\n",
    "    shift_returns3 = df.shift(3).fillna(0)\n",
    "    Pattern = np.sign(shift_returns * shift_returns2)\n",
    "    Pattern2= np.sign(shift_returns2 * shift_returns3)\n",
    "    df = df.dropna()\n",
    "\n",
    "    pp = len(np.where( (Pattern == 1 ) & (Pattern2 == 1 ) )[0])\n",
    "    pm = len(np.where( (Pattern == 1 ) & (Pattern2 == -1 ) )[0])\n",
    "    mp = len(np.where( (Pattern == -1 ) & (Pattern2 == 1 ) )[0])\n",
    "    mm = len(np.where( (Pattern == -1 ) & (Pattern2 == -1 ) )[0])\n",
    "\n",
    "    total = (pp+pm-mp-mm)/(df.count()-1.0)\n",
    "    #threshUp = total>=np.sqrt(len(df))\n",
    "\n",
    "    return total #(total, len(df), np.sqrt(len(df)))\n",
    "\n",
    "def proportion(df):\n",
    "    pp = len(np.where( (df >0.0  ) )[0])\n",
    "    mm = len(np.where( (df < 0.0 ) )[0])\n",
    "    \n",
    "    if mm == 0.0 or mm is None:\n",
    "        mm = 1\n",
    "    return pp/mm\n",
    "    \n",
    "def proportionPos(df):\n",
    "    pp = len(np.where( (df >0.0  ) )[0])\n",
    "    mm = len(np.where( (df < 0.0 ) )[0])\n",
    "    \n",
    "    if mm == 0.0 or mm is None:\n",
    "        mm = 1\n",
    "    return 100.0 * pp/(pp+mm) \n",
    "\n",
    "def autoCorrel(df, lag):\n",
    "    return pd.Series.autocorr(df, lag)\n",
    "\n",
    "\n",
    "def hurstF(ts):\n",
    "    lags = range(2, 20)\n",
    "    tau = [np.sqrt(np.std(np.subtract(ts[lag:], ts[:-lag]))) for lag in lags]\n",
    "    # plot on log-log scale\n",
    "    #plt.plot(np.log(lags), np.log(tau)); plt.show()\n",
    "    # calculate Hurst as slope of log-log plot\n",
    "    #print(lags, tau)\n",
    "    m = np.polyfit(np.log(lags), np.log(tau), 1)\n",
    "\n",
    " \n",
    "    hurst = m[0]*2.0\n",
    "    #print ('hurst = ',hurst)\n",
    "    #plt.clf(), plt.close()\n",
    "    return hurst\n",
    "\n",
    "\n",
    "def hurstF2(p):\n",
    "    lags = range(2,100)\n",
    "\n",
    "\n",
    "    variancetau = []; tau = []\n",
    "\n",
    "    for lag in lags: \n",
    "\n",
    "        #  Write the different lags into a vector to compute a set of tau or lags\n",
    "        tau.append(lag)\n",
    "\n",
    "        # Compute the log returns on all days, then compute the variance on the difference in log returns\n",
    "        # call this pp or the price difference\n",
    "        pp = np.subtract(p[lag:], p[:-lag])\n",
    "        variancetau.append(np.var(pp))\n",
    "\n",
    "    # we now have a set of tau or lags and a corresponding set of variances.\n",
    "    #print tau\n",
    "    #print variancetau\n",
    "\n",
    "    # plot the log of those variance against the log of tau and get the slope\n",
    "    m = np.polyfit(np.log10(tau),np.log10(variancetau),1)\n",
    "\n",
    "    hurst = m[0] / 2\n",
    "\n",
    "    return hurst\n",
    "\n",
    "def hurstF3(series):\n",
    "   \n",
    "\n",
    "    #H, c, data = compute_Hc(series.replace([np.inf, -np.inf], np.na).dropna(), kind='price', simplified=True)\n",
    "    H, c, data = compute_Hc(series.replace([np.inf, -np.inf], np.nan).dropna(), kind='random_walk', simplified=False)\n",
    "    return H\n",
    "\n",
    "def hurstF4(series):\n",
    "   \n",
    "    \n",
    "    H, c, data = compute_Hc(series, kind='random_walk', simplified=True)\n",
    "    return H\n",
    "\n"
   ]
  },
  {
   "cell_type": "code",
   "execution_count": 6,
   "metadata": {},
   "outputs": [],
   "source": [
    "def generateRWI2(df):\n",
    "    MomVal = Momersion(df[['returns']]) \n",
    "    MomDouble = MomersionDouble(df['returns'])\n",
    " \n",
    "    h1 =  hurstF(df['price'])\n",
    "    h2 =  hurstF2(df['price'])\n",
    "    h3 =  hurstF3(df['price'])\n",
    "\n",
    "    h4 = hurstF4(df['price'])\n",
    "   \n",
    "  \n",
    "    #df = df.copy().join(autoCorr_features(df[['returns']].copy()), rsuffix='_suka_')\n",
    "    \n",
    "    MMIR = marketMeannes(df['returns'])\n",
    "    \n",
    "    MMIP = marketMeannes(df['price'])\n",
    "    ShannonVal = ShannonFast(df['returns'])\n",
    "    prop = proportionPos(df['returns'])\n",
    "    correl_1 = autoCorrel(df.returns, 1)\n",
    "    correl_2 = autoCorrel(df.returns, 2)\n",
    "    correl_3 = autoCorrel(df.returns, 3)\n",
    "    correl_4 = autoCorrel(df.returns, 4)\n",
    "    correl_5 = autoCorrel(df.returns, 5)\n",
    "    correl_10 = autoCorrel(df.returns, 10)\n",
    "    correl_20 = autoCorrel(df.returns, 20)\n",
    "    correl_100 = autoCorrel(df.returns, 100)\n",
    "    correl_list = [correl_1, correl_2, correl_3, correl_4, correl_5, correl_10, correl_20, correl_100]\n",
    "    \n",
    "    var_std = df['returns'].std()\n",
    "    var_mean = df['returns'].mean()\n",
    "    var_median = df['returns'].mean()\n",
    "    \n",
    "    \n",
    "    return [MomVal, MomDouble, h1, h2, h3, h4, MMIR, MMIP, ShannonVal, prop, var_std, var_mean, var_median] + correl_list"
   ]
  },
  {
   "cell_type": "code",
   "execution_count": 7,
   "metadata": {},
   "outputs": [],
   "source": [
    "def generate_features(df):\n",
    "    df.columns = ['price']\n",
    "    \n",
    "    df['returns'] = np.log(df['price']/df['price'].shift(1))\n",
    "    \n",
    "    df['ROC_2'] =  np.log(df['price'].copy()).pct_change(2)\n",
    "    \n",
    "    df['ROC_3'] = np.log(df['price'].copy()).pct_change(3)\n",
    "    df['ROC_5'] = np.log(df['price'].copy()).pct_change(5)\n",
    "    df['ROC_20'] = np.log(df['price'].copy()).pct_change(20)\n",
    "    df['ROC_50'] = np.log(df['price'].copy()).pct_change(50)\n",
    "    df['ROC_100'] = np.log(df['price'].copy()).pct_change(100)\n",
    "    #df['ROC_200'] = np.log(df['price'].copy()).pct_change(200)\n",
    "    #df['ROC_300'] = np.log(df['price'].copy()).pct_change(300)\n",
    "    #df['ROC_500'] = np.log(df['price'].copy()).pct_change(500)\n",
    "    \n",
    "    \n",
    "    df['abs_returns'] = np.abs( np.log(np.abs(df['price'].copy())).pct_change())\n",
    "    \n",
    "\n",
    "    df = df.replace([np.inf, -np.inf], np.nan).fillna(0)\n",
    "    return df"
   ]
  },
  {
   "cell_type": "code",
   "execution_count": 8,
   "metadata": {},
   "outputs": [],
   "source": [
    "### generate and stitch dataset"
   ]
  },
  {
   "cell_type": "code",
   "execution_count": 9,
   "metadata": {},
   "outputs": [],
   "source": [
    "def transform_series(tmp):\n",
    "    #tmp = [e[0] if (type(e)==np.ndarray) else e for e in tmp.copy()]\n",
    "    df = pd.DataFrame(np.asarray(tmp)+100)\n",
    "    scaler = MinMaxScaler(feature_range=(0.0, 1.0))\n",
    "    df_ = scaler.fit_transform(df)\n",
    "    df_ = pd.DataFrame(df_, columns=df.columns,index=df.index)\n",
    "    df = (100+df_*100)\n",
    "    return df"
   ]
  },
  {
   "cell_type": "code",
   "execution_count": 10,
   "metadata": {},
   "outputs": [
    {
     "ename": "NameError",
     "evalue": "name 'random1' is not defined",
     "output_type": "error",
     "traceback": [
      "\u001b[1;31m---------------------------------------------------------------------------\u001b[0m",
      "\u001b[1;31mNameError\u001b[0m                                 Traceback (most recent call last)",
      "\u001b[1;32m<ipython-input-10-f850f185ab8f>\u001b[0m in \u001b[0;36m<module>\u001b[1;34m\u001b[0m\n\u001b[1;32m----> 1\u001b[1;33m \u001b[0mplt\u001b[0m\u001b[1;33m.\u001b[0m\u001b[0mplot\u001b[0m\u001b[1;33m(\u001b[0m\u001b[0mtransform_series\u001b[0m\u001b[1;33m(\u001b[0m\u001b[0mrandom1\u001b[0m\u001b[1;33m)\u001b[0m\u001b[1;33m)\u001b[0m\u001b[1;33m\u001b[0m\u001b[1;33m\u001b[0m\u001b[0m\n\u001b[0m",
      "\u001b[1;31mNameError\u001b[0m: name 'random1' is not defined"
     ]
    }
   ],
   "source": [
    "plt.plot(transform_series(random1)) "
   ]
  },
  {
   "cell_type": "code",
   "execution_count": 93,
   "metadata": {},
   "outputs": [],
   "source": [
    "lk=50\n",
    "random1 = transform_series(random_walk(1000,proba=0.50,  min_lookback=lk, max_lookback=lk))\n",
    "random2 = transform_series(random_walk(1000,proba=0.50,  min_lookback=lk, max_lookback=lk))\n",
    "mr = transform_series(random_walk(1000,proba=0.30,  min_lookback=lk, max_lookback=lk))\n",
    "random3=transform_series(random_walk(1000,proba=0.50,  min_lookback=lk, max_lookback=lk))\n",
    "trend = transform_series(random_walk(1000,proba=0.70,  min_lookback=lk, max_lookback=lk))\n",
    "random4 = transform_series(random_walk(1000,proba=0.50,  min_lookback=lk, max_lookback=lk))"
   ]
  },
  {
   "cell_type": "code",
   "execution_count": 242,
   "metadata": {},
   "outputs": [],
   "source": [
    "series_list = [random1.to_log_returns().dropna(), random2.to_log_returns().dropna(), mr.to_log_returns().dropna(), random3.to_log_returns().dropna(), trend.to_log_returns().dropna(), random4.to_log_returns().dropna()]"
   ]
  },
  {
   "cell_type": "code",
   "execution_count": 14,
   "metadata": {},
   "outputs": [],
   "source": [
    "import pickle"
   ]
  },
  {
   "cell_type": "code",
   "execution_count": 243,
   "metadata": {},
   "outputs": [],
   "source": [
    "main = pd.concat(series_list, axis=0).reset_index(drop=True).cumsum()"
   ]
  },
  {
   "cell_type": "code",
   "execution_count": 244,
   "metadata": {},
   "outputs": [],
   "source": [
    "main = 100*main + 100"
   ]
  },
  {
   "cell_type": "code",
   "execution_count": 15,
   "metadata": {},
   "outputs": [],
   "source": [
    "main =pd.read_pickle('combined series main.pkl')"
   ]
  },
  {
   "cell_type": "code",
   "execution_count": null,
   "metadata": {},
   "outputs": [],
   "source": [
    "# hurst says its random or mean reverting\n",
    "# positive proportion 88%, 7.9 more than negatives\n",
    "# momersion 99\n",
    "# 51.7\n",
    "# Meannes returns: 74%\n",
    "# MMI price 49.8"
   ]
  },
  {
   "cell_type": "code",
   "execution_count": 246,
   "metadata": {},
   "outputs": [],
   "source": [
    "del df"
   ]
  },
  {
   "cell_type": "code",
   "execution_count": 16,
   "metadata": {},
   "outputs": [],
   "source": [
    "returns = main.pct_change().rename(columns={0:'returns'}).dropna()"
   ]
  },
  {
   "cell_type": "code",
   "execution_count": 20,
   "metadata": {},
   "outputs": [
    {
     "name": "stderr",
     "output_type": "stream",
     "text": [
      "C:\\Users\\lexik\\.conda\\envs\\quant\\lib\\site-packages\\pandas\\core\\generic.py:5096: SettingWithCopyWarning: \n",
      "A value is trying to be set on a copy of a slice from a DataFrame.\n",
      "Try using .loc[row_indexer,col_indexer] = value instead\n",
      "\n",
      "See the caveats in the documentation: http://pandas.pydata.org/pandas-docs/stable/indexing.html#indexing-view-versus-copy\n",
      "  self[name] = value\n",
      "C:\\Users\\lexik\\.conda\\envs\\quant\\lib\\site-packages\\ipykernel_launcher.py:21: DataConversionWarning: A column-vector y was passed when a 1d array was expected. Please change the shape of y to (n_samples,), for example using ravel().\n"
     ]
    }
   ],
   "source": [
    "results = []\n",
    "df=main.copy()\n",
    "res = generate_features(df)\n",
    "df = df.replace([np.inf, -np.inf],0).fillna(0)\n",
    "\n",
    "df['shift_returns'] = df['returns'].shift(-1).dropna()\n",
    "df = df[df.shift_returns != 0.0].dropna()\n",
    "y = df.iloc[:, [-1]]\n",
    "y.shift_returns = np.sign(y.shift_returns)\n",
    "X = df.iloc[:, 0:7]\n",
    "\n",
    "rwi_list = generateRWI2(df)\n",
    "X_train, X_test, y_train, y_test = train_test_split(X, y, test_size=0.3)\n",
    "#X_train =X[0:1150]\n",
    "#y_train = y[0:1150]\n",
    "#X_test = X[1200:]\n",
    "#y_test = y[1200:]\n",
    "\n",
    "clf = RandomForestClassifier(n_estimators=100, max_depth=5,\n",
    "                             random_state=0)\n",
    "clf.fit(X_train, y_train)\n",
    "y_pred = clf.predict(X_test)\n",
    "score = accuracy_score(y_test, y_pred)\n",
    "\n",
    "rwi_list.append(score)\n",
    "results.append(rwi_list)\n"
   ]
  },
  {
   "cell_type": "code",
   "execution_count": 21,
   "metadata": {},
   "outputs": [
    {
     "data": {
      "text/plain": [
       "[0.5169420797863462,\n",
       " 0.03388415957269237,\n",
       " 0.48983419625126473,\n",
       " 0.3778312552413034,\n",
       " 0.5036031857503012,\n",
       " 0.5308460090981819,\n",
       " 0.744826435246996,\n",
       " 0.49833110814419224,\n",
       " 2.986103951504071,\n",
       " 53.771695594125504,\n",
       " 0.0114600370324939,\n",
       " 0.00016542435361409624,\n",
       " 0.00016542435361409624,\n",
       " 0.015931384033841544,\n",
       " -0.005442985170125989,\n",
       " 0.0027059113742999618,\n",
       " -0.06619070269837102,\n",
       " 0.010443794577420349,\n",
       " 0.015731964882079976,\n",
       " 0.0008675868499522726,\n",
       " 0.017046202887153854,\n",
       " 0.5556173526140156]"
      ]
     },
     "execution_count": 21,
     "metadata": {},
     "output_type": "execute_result"
    }
   ],
   "source": [
    "results[0]"
   ]
  },
  {
   "cell_type": "code",
   "execution_count": 22,
   "metadata": {},
   "outputs": [],
   "source": [
    "# r, r, Mean-Reversal, random, trend, random"
   ]
  },
  {
   "cell_type": "code",
   "execution_count": 23,
   "metadata": {},
   "outputs": [],
   "source": [
    "cols = ['MomVal', 'MomDouble', 'h1', 'h2', 'h3', 'h4', 'MMIR', 'MMIP', 'ShannonVal', 'prop', 'var_std', 'var_mean', 'var_median',   'correl_1', 'correl_2', 'correl_3', 'correl_4', 'correl_5', 'correl_10', 'correl_20', 'correl_100' ,   'score']"
   ]
  },
  {
   "cell_type": "code",
   "execution_count": 24,
   "metadata": {},
   "outputs": [],
   "source": [
    "accuracy_df = pd.DataFrame(results, columns=cols) #.corr(method='spearman')['score'].sort_values()"
   ]
  },
  {
   "cell_type": "code",
   "execution_count": 25,
   "metadata": {},
   "outputs": [],
   "source": [
    "import warnings\n",
    "warnings.filterwarnings('ignore')"
   ]
  },
  {
   "cell_type": "code",
   "execution_count": 26,
   "metadata": {},
   "outputs": [
    {
     "data": {
      "text/html": [
       "<div>\n",
       "<style scoped>\n",
       "    .dataframe tbody tr th:only-of-type {\n",
       "        vertical-align: middle;\n",
       "    }\n",
       "\n",
       "    .dataframe tbody tr th {\n",
       "        vertical-align: top;\n",
       "    }\n",
       "\n",
       "    .dataframe thead th {\n",
       "        text-align: right;\n",
       "    }\n",
       "</style>\n",
       "<table border=\"1\" class=\"dataframe\">\n",
       "  <thead>\n",
       "    <tr style=\"text-align: right;\">\n",
       "      <th></th>\n",
       "      <th>0</th>\n",
       "    </tr>\n",
       "  </thead>\n",
       "  <tbody>\n",
       "    <tr>\n",
       "      <th>MomVal</th>\n",
       "      <td>0.516942</td>\n",
       "    </tr>\n",
       "    <tr>\n",
       "      <th>MomDouble</th>\n",
       "      <td>0.033884</td>\n",
       "    </tr>\n",
       "    <tr>\n",
       "      <th>h1</th>\n",
       "      <td>0.489834</td>\n",
       "    </tr>\n",
       "    <tr>\n",
       "      <th>h2</th>\n",
       "      <td>0.377831</td>\n",
       "    </tr>\n",
       "    <tr>\n",
       "      <th>h3</th>\n",
       "      <td>0.503603</td>\n",
       "    </tr>\n",
       "    <tr>\n",
       "      <th>h4</th>\n",
       "      <td>0.530846</td>\n",
       "    </tr>\n",
       "    <tr>\n",
       "      <th>MMIR</th>\n",
       "      <td>0.744826</td>\n",
       "    </tr>\n",
       "    <tr>\n",
       "      <th>MMIP</th>\n",
       "      <td>0.498331</td>\n",
       "    </tr>\n",
       "    <tr>\n",
       "      <th>ShannonVal</th>\n",
       "      <td>2.986104</td>\n",
       "    </tr>\n",
       "    <tr>\n",
       "      <th>prop</th>\n",
       "      <td>53.771696</td>\n",
       "    </tr>\n",
       "    <tr>\n",
       "      <th>var_std</th>\n",
       "      <td>0.011460</td>\n",
       "    </tr>\n",
       "    <tr>\n",
       "      <th>var_mean</th>\n",
       "      <td>0.000165</td>\n",
       "    </tr>\n",
       "    <tr>\n",
       "      <th>var_median</th>\n",
       "      <td>0.000165</td>\n",
       "    </tr>\n",
       "    <tr>\n",
       "      <th>correl_1</th>\n",
       "      <td>0.015931</td>\n",
       "    </tr>\n",
       "    <tr>\n",
       "      <th>correl_2</th>\n",
       "      <td>-0.005443</td>\n",
       "    </tr>\n",
       "    <tr>\n",
       "      <th>correl_3</th>\n",
       "      <td>0.002706</td>\n",
       "    </tr>\n",
       "    <tr>\n",
       "      <th>correl_4</th>\n",
       "      <td>-0.066191</td>\n",
       "    </tr>\n",
       "    <tr>\n",
       "      <th>correl_5</th>\n",
       "      <td>0.010444</td>\n",
       "    </tr>\n",
       "    <tr>\n",
       "      <th>correl_10</th>\n",
       "      <td>0.015732</td>\n",
       "    </tr>\n",
       "    <tr>\n",
       "      <th>correl_20</th>\n",
       "      <td>0.000868</td>\n",
       "    </tr>\n",
       "    <tr>\n",
       "      <th>correl_100</th>\n",
       "      <td>0.017046</td>\n",
       "    </tr>\n",
       "    <tr>\n",
       "      <th>score</th>\n",
       "      <td>0.555617</td>\n",
       "    </tr>\n",
       "  </tbody>\n",
       "</table>\n",
       "</div>"
      ],
      "text/plain": [
       "                    0\n",
       "MomVal       0.516942\n",
       "MomDouble    0.033884\n",
       "h1           0.489834\n",
       "h2           0.377831\n",
       "h3           0.503603\n",
       "h4           0.530846\n",
       "MMIR         0.744826\n",
       "MMIP         0.498331\n",
       "ShannonVal   2.986104\n",
       "prop        53.771696\n",
       "var_std      0.011460\n",
       "var_mean     0.000165\n",
       "var_median   0.000165\n",
       "correl_1     0.015931\n",
       "correl_2    -0.005443\n",
       "correl_3     0.002706\n",
       "correl_4    -0.066191\n",
       "correl_5     0.010444\n",
       "correl_10    0.015732\n",
       "correl_20    0.000868\n",
       "correl_100   0.017046\n",
       "score        0.555617"
      ]
     },
     "execution_count": 26,
     "metadata": {},
     "output_type": "execute_result"
    }
   ],
   "source": [
    "accuracy_df.T"
   ]
  },
  {
   "cell_type": "code",
   "execution_count": 27,
   "metadata": {},
   "outputs": [],
   "source": [
    "# accuracy closer to prop, MomVal, h4\n"
   ]
  },
  {
   "cell_type": "code",
   "execution_count": 28,
   "metadata": {},
   "outputs": [],
   "source": [
    "import pickle"
   ]
  },
  {
   "cell_type": "code",
   "execution_count": 29,
   "metadata": {},
   "outputs": [],
   "source": [
    "accuracy_model = pickle.load(open('accuracy_prediction.sav', 'rb'))"
   ]
  },
  {
   "cell_type": "code",
   "execution_count": 30,
   "metadata": {},
   "outputs": [
    {
     "data": {
      "text/plain": [
       "array([0.49383852])"
      ]
     },
     "execution_count": 30,
     "metadata": {},
     "output_type": "execute_result"
    }
   ],
   "source": [
    "accuracy_model.predict(accuracy_df.drop(columns=['prop', 'var_std', 'var_mean', 'var_median']))"
   ]
  },
  {
   "cell_type": "code",
   "execution_count": 31,
   "metadata": {},
   "outputs": [],
   "source": [
    "#### Rolling husrt"
   ]
  },
  {
   "cell_type": "code",
   "execution_count": 37,
   "metadata": {},
   "outputs": [],
   "source": [
    "main = main.rename(columns={0:'price'})"
   ]
  },
  {
   "cell_type": "code",
   "execution_count": 38,
   "metadata": {},
   "outputs": [],
   "source": [
    "main['MA'] = main.price.rolling(300).mean()"
   ]
  },
  {
   "cell_type": "code",
   "execution_count": 39,
   "metadata": {},
   "outputs": [],
   "source": [
    "main['returns'] = main.price.to_log_returns().fillna(0)"
   ]
  },
  {
   "cell_type": "code",
   "execution_count": 40,
   "metadata": {},
   "outputs": [
    {
     "data": {
      "text/plain": [
       "<matplotlib.lines.Line2D at 0x1df0a922c08>"
      ]
     },
     "execution_count": 40,
     "metadata": {},
     "output_type": "execute_result"
    },
    {
     "data": {
      "image/png": "[encoded data removed]",
      "text/plain": [
       "<Figure size 432x288 with 1 Axes>"
      ]
     },
     "metadata": {},
     "output_type": "display_data"
    }
   ],
   "source": [
    "main[['price']].rolling(100).apply(hurstF).plot()\n",
    "plt.axvline(1000, color='r')\n",
    "plt.axvline(2000, color='r')\n",
    "plt.axvline(3000, color='r')\n",
    "plt.axvline(4000, color='r')\n",
    "plt.axvline(5000, color='r')"
   ]
  },
  {
   "cell_type": "code",
   "execution_count": 41,
   "metadata": {},
   "outputs": [],
   "source": [
    "# hurst F2 no use"
   ]
  },
  {
   "cell_type": "code",
   "execution_count": 42,
   "metadata": {},
   "outputs": [],
   "source": [
    "# F3 catch  trend and mean-reversal, on 100\n",
    "# F4 catch on 100\n",
    "# F4 catch on 200\n",
    "# F4 is best on 300, 500\n",
    "# F2 worked on 500 data points\n",
    "# F3 on 900 mean reversal not bad"
   ]
  },
  {
   "cell_type": "code",
   "execution_count": 43,
   "metadata": {},
   "outputs": [
    {
     "data": {
      "text/plain": [
       "<matplotlib.axes._subplots.AxesSubplot at 0x1df0a93de48>"
      ]
     },
     "execution_count": 43,
     "metadata": {},
     "output_type": "execute_result"
    },
    {
     "data": {
      "image/png": "[encoded data removed]",
      "text/plain": [
       "<Figure size 432x288 with 1 Axes>"
      ]
     },
     "metadata": {},
     "output_type": "display_data"
    }
   ],
   "source": [
    "main.plot()\n"
   ]
  },
  {
   "cell_type": "code",
   "execution_count": 44,
   "metadata": {},
   "outputs": [],
   "source": [
    "# momersion not bad on low tf\n",
    "# can catch trends \n",
    "# bad for mean-reversals\n",
    "\n",
    "## MMIR returns also good on long tf\n",
    "# Shannon val not good at mean-reverting detection, or it doesn't work well\n"
   ]
  },
  {
   "cell_type": "code",
   "execution_count": 46,
   "metadata": {},
   "outputs": [
    {
     "data": {
      "text/plain": [
       "<matplotlib.lines.Line2D at 0x1df0baadf88>"
      ]
     },
     "execution_count": 46,
     "metadata": {},
     "output_type": "execute_result"
    },
    {
     "data": {
      "image/png": "[encoded data removed]",
      "text/plain": [
       "<Figure size 432x288 with 1 Axes>"
      ]
     },
     "metadata": {},
     "output_type": "display_data"
    }
   ],
   "source": [
    "main['random_check'] = main[['returns']].rolling(100).apply(Shannon, args=[3], raw=True)\n",
    "main['random_check_rolling'] = main['random_check'].rolling(100).mean()\n",
    "main[['random_check', 'random_check_rolling']].plot()\n",
    "plt.axvline(1000, color='r')\n",
    "plt.axvline(2000, color='r')\n",
    "plt.axvline(3000, color='r')\n",
    "plt.axvline(4000, color='r')\n",
    "plt.axvline(5000, color='r')"
   ]
  },
  {
   "cell_type": "code",
   "execution_count": 296,
   "metadata": {},
   "outputs": [
    {
     "data": {
      "text/plain": [
       "31.622776601683793"
      ]
     },
     "execution_count": 296,
     "metadata": {},
     "output_type": "execute_result"
    }
   ],
   "source": [
    "np.sqrt(1000)"
   ]
  },
  {
   "cell_type": "code",
   "execution_count": 206,
   "metadata": {},
   "outputs": [
    {
     "data": {
      "text/plain": [
       "array([<matplotlib.axes._subplots.AxesSubplot object at 0x000002CD59B92088>,\n",
       "       <matplotlib.axes._subplots.AxesSubplot object at 0x000002CD59C74248>],\n",
       "      dtype=object)"
      ]
     },
     "execution_count": 206,
     "metadata": {},
     "output_type": "execute_result"
    },
    {
     "data": {
      "image/png": "[encoded data removed]",
      "text/plain": [
       "<Figure size 1080x864 with 2 Axes>"
      ]
     },
     "metadata": {
      "needs_background": "light"
     },
     "output_type": "display_data"
    }
   ],
   "source": [
    "main.plot(subplots=(2,1), figsize=(15,12))"
   ]
  },
  {
   "cell_type": "code",
   "execution_count": null,
   "metadata": {},
   "outputs": [],
   "source": []
  }
 ],
 "metadata": {
  "kernelspec": {
   "display_name": "Python 3",
   "language": "python",
   "name": "python3"
  },
  "language_info": {
   "codemirror_mode": {
    "name": "ipython",
    "version": 3
   },
   "file_extension": ".py",
   "mimetype": "text/x-python",
   "name": "python",
   "nbconvert_exporter": "python",
   "pygments_lexer": "ipython3",
   "version": "3.7.6"
  }
 },
 "nbformat": 4,
 "nbformat_minor": 2
}
