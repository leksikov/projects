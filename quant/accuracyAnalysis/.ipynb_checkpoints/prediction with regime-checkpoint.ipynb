{
 "cells": [
  {
   "cell_type": "code",
   "execution_count": 25,
   "metadata": {},
   "outputs": [],
   "source": [
    "import numpy as np\n",
    "import pandas as pd\n",
    "\n",
    "import numpy as np\n",
    "from pandas.tseries.offsets import BDay\n",
    "import math\n",
    "import random\n",
    "\n",
    "import matplotlib.pyplot as plt\n",
    "\n",
    "import seaborn as sns; sns.set()\n",
    "%matplotlib inline"
   ]
  },
  {
   "cell_type": "code",
   "execution_count": 2,
   "metadata": {},
   "outputs": [],
   "source": [
    "from pyfinance import TSeries\n",
    "import ffn"
   ]
  },
  {
   "cell_type": "code",
   "execution_count": 3,
   "metadata": {},
   "outputs": [],
   "source": [
    "from hurst import compute_Hc, random_walk"
   ]
  },
  {
   "cell_type": "code",
   "execution_count": 4,
   "metadata": {},
   "outputs": [],
   "source": [
    "from sklearn.ensemble import RandomForestClassifier\n",
    "from sklearn.model_selection import train_test_split\n",
    "from sklearn.metrics import mean_squared_error, r2_score\n",
    "from sklearn.metrics import accuracy_score\n",
    "from sklearn.preprocessing import MinMaxScaler, StandardScaler\n",
    "from hurst import compute_Hc, random_walk"
   ]
  },
  {
   "cell_type": "code",
   "execution_count": 5,
   "metadata": {},
   "outputs": [],
   "source": [
    "def ShannonFast(df):\n",
    "    # wrong pattern match\n",
    "    df=df[df!=0.0]\n",
    "    shift_returns = df.shift(1)\n",
    "    shift_returns2 = df.shift(2)\n",
    "    shift_returns3 = df.shift(3)\n",
    "    \n",
    "    #df['test']  = np.sign(df['returns']).astype('str').dropna() + np.sign(df['shift_returns2']).astype('str').dropna() +  np.sign(df['shift_returns3']).dropna().astype('str')\n",
    "    \n",
    "    df =df.dropna(axis=0)\n",
    "    \n",
    "    Pattern  = np.sign(df.shift(1).dropna()).astype('str') + np.sign(shift_returns2.dropna()).astype('str') +  np.sign(shift_returns3.dropna()).astype('str')\n",
    "    \n",
    "    Pattern=Pattern.dropna().str.replace('.0','')\n",
    "    patternList = Pattern.dropna().str.replace('.0','').unique().tolist()\n",
    "    total = 0.0\n",
    "    ShannonPatterns = {}\n",
    "    \n",
    "    for e in patternList:\n",
    "        ShannonPatterns[e] = 0\n",
    "\n",
    "    for pattern in ShannonPatterns.keys():        \n",
    "        value = (len(np.where(Pattern==pattern)[0]))\n",
    "        ShannonPatterns[pattern] +=  value\n",
    "        total += value\n",
    "        \n",
    "    \n",
    "    ProbSum = 0.0\n",
    "    for pattern in ShannonPatterns.keys():\n",
    "        p = ShannonPatterns[pattern] / total        \n",
    "        value = p * np.log2(p)        \n",
    "        if math.isnan(value):\n",
    "            continue\n",
    "        ProbSum = ProbSum + value\n",
    "    Shannon_val = -ProbSum\n",
    "    return Shannon_val\n",
    "\n",
    "def Shannon(df, patternSize):\n",
    "    \n",
    "    chunks = []\n",
    "    for i in range(0, len(df)):\n",
    "        chunks.append(df[i:i+patternSize])\n",
    "    \n",
    "    chunks = chunks[:-patternSize-1]\n",
    "    \n",
    "    \n",
    "    chunks = [np.array2string(x) for x in chunks.copy()]\n",
    "    \n",
    "    \n",
    "    \n",
    "    \n",
    "    chunks_set = list(set(chunks))\n",
    "    \n",
    "    \n",
    "    visited = {}\n",
    "    total = 0\n",
    "    for el in chunks_set:\n",
    "        if (el not in visited):\n",
    "            f = chunks.count(el)\n",
    "            visited[el] = f\n",
    "            total = total + f\n",
    "    ProbSum = 0.0\n",
    "    for el in visited:\n",
    "        p = visited[el]/total\n",
    "        value = p * np.log2(p)\n",
    "        #visited[el] = value\n",
    "        ProbSum = ProbSum + value\n",
    "    Shannon_val = -ProbSum\n",
    "    del visited, chunks\n",
    "    \n",
    "    \n",
    "    \n",
    "    return Shannon_val\n",
    "\n",
    "def marketMeannes(df_):\n",
    "    \n",
    "    m = np.median(df_) \n",
    "    nh = 0\n",
    "    nl = 0\n",
    "    \n",
    "    for i in range(1, len(df_)-1):\n",
    "        Pt = df_[i]\n",
    "        Py = df_[i-1]\n",
    "        \n",
    "        if (Py > m) & (Py > Pt):\n",
    "            nl += 1\n",
    "        elif (Py < m) & (Py < Pt):\n",
    "            nh += 1\n",
    "        else:\n",
    "            None\n",
    "    return (nl+nh)/(len(df_)-1)\n",
    "        \n",
    "    \n",
    "    \n",
    "def Momersion(df):\n",
    "    #print(np.where(df == 1)[0])\n",
    "    #df = df['returns'].copy() * df['returns'].shift(1)\n",
    "    df = df.copy() * df.shift(1)\n",
    "    \n",
    "    df = df.dropna()\n",
    "    df = np.sign(df)\n",
    "    pos = len(np.where(df == 1)[0])\n",
    "    neg = len(np.where(df == -1)[0])\n",
    "    #zero = len(np.where(df == 0.0)[0])\n",
    "    if (pos + neg) == 0.0:\n",
    "        return -1.0\n",
    "    #print(pos, neg)\n",
    "    mom = (pos / (pos+neg )) #*100.0\n",
    "    return mom\n",
    "# https://pypi.org/project/hurst/\n",
    "def hurst(ts):\n",
    "    lags = range(2, 20)\n",
    "    tau = [np.sqrt(np.std(np.subtract(ts[lag:], ts[:-lag]))) for lag in lags]\n",
    "    # plot on log-log scale\n",
    "    #plt.plot(np.log(lags), np.log(tau)); plt.show()\n",
    "    # calculate Hurst as slope of log-log plot\n",
    "    #print(lags, tau)\n",
    "    m = np.polyfit(np.log(lags), np.log(tau), 1)\n",
    "\n",
    " \n",
    "    hurst = m[0]*2.0\n",
    "    #print ('hurst = ',hurst)\n",
    "    #plt.clf(), plt.close()\n",
    "    return hurst\n",
    "\n",
    "def MomersionDouble(df):\n",
    "\n",
    "    df = df[df!=0.0]\n",
    "    shift_returns = df.shift(1).fillna(0)\n",
    "    shift_returns2 = df.shift(2).fillna(0)\n",
    "    shift_returns3 = df.shift(3).fillna(0)\n",
    "    Pattern = np.sign(shift_returns * shift_returns2)\n",
    "    Pattern2= np.sign(shift_returns2 * shift_returns3)\n",
    "    df = df.dropna()\n",
    "\n",
    "    pp = len(np.where( (Pattern == 1 ) & (Pattern2 == 1 ) )[0])\n",
    "    pm = len(np.where( (Pattern == 1 ) & (Pattern2 == -1 ) )[0])\n",
    "    mp = len(np.where( (Pattern == -1 ) & (Pattern2 == 1 ) )[0])\n",
    "    mm = len(np.where( (Pattern == -1 ) & (Pattern2 == -1 ) )[0])\n",
    "\n",
    "    total = (pp+pm-mp-mm)/(df.count()-1.0)\n",
    "    #threshUp = total>=np.sqrt(len(df))\n",
    "\n",
    "    return total #(total, len(df), np.sqrt(len(df)))\n",
    "\n",
    "def proportion(df):\n",
    "    pp = len(np.where( (df >0.0  ) )[0])\n",
    "    mm = len(np.where( (df < 0.0 ) )[0])\n",
    "    \n",
    "    if mm == 0.0 or mm is None:\n",
    "        mm = 1\n",
    "    return pp/mm\n",
    "    \n",
    "def proportionPos(df):\n",
    "    pp = len(np.where( (df >0.0  ) )[0])\n",
    "    mm = len(np.where( (df < 0.0 ) )[0])\n",
    "    \n",
    "    if mm == 0.0 or mm is None:\n",
    "        mm = 1\n",
    "    return 100.0 * pp/(pp+mm) \n",
    "\n",
    "def autoCorrel(df, lag):\n",
    "    return pd.Series.autocorr(df, lag)\n",
    "\n",
    "\n",
    "def hurstF(ts):\n",
    "    lags = range(2, 20)\n",
    "    tau = [np.sqrt(np.std(np.subtract(ts[lag:], ts[:-lag]))) for lag in lags]\n",
    "    # plot on log-log scale\n",
    "    #plt.plot(np.log(lags), np.log(tau)); plt.show()\n",
    "    # calculate Hurst as slope of log-log plot\n",
    "    #print(lags, tau)\n",
    "    m = np.polyfit(np.log(lags), np.log(tau), 1)\n",
    "\n",
    " \n",
    "    hurst = m[0]*2.0\n",
    "    #print ('hurst = ',hurst)\n",
    "    #plt.clf(), plt.close()\n",
    "    return hurst\n",
    "\n",
    "\n",
    "def hurstF2(p):\n",
    "    lags = range(2,100)\n",
    "\n",
    "\n",
    "    variancetau = []; tau = []\n",
    "\n",
    "    for lag in lags: \n",
    "\n",
    "        #  Write the different lags into a vector to compute a set of tau or lags\n",
    "        tau.append(lag)\n",
    "\n",
    "        # Compute the log returns on all days, then compute the variance on the difference in log returns\n",
    "        # call this pp or the price difference\n",
    "        pp = np.subtract(p[lag:], p[:-lag])\n",
    "        variancetau.append(np.var(pp))\n",
    "\n",
    "    # we now have a set of tau or lags and a corresponding set of variances.\n",
    "    #print tau\n",
    "    #print variancetau\n",
    "\n",
    "    # plot the log of those variance against the log of tau and get the slope\n",
    "    m = np.polyfit(np.log10(tau),np.log10(variancetau),1)\n",
    "\n",
    "    hurst = m[0] / 2\n",
    "\n",
    "    return hurst\n",
    "\n",
    "def hurstF3(series):\n",
    "   \n",
    "\n",
    "    #H, c, data = compute_Hc(series.replace([np.inf, -np.inf], np.na).dropna(), kind='price', simplified=True)\n",
    "    H, c, data = compute_Hc(series.replace([np.inf, -np.inf], np.nan).dropna(), kind='random_walk', simplified=False)\n",
    "    return H\n",
    "\n",
    "def hurstF4(series):\n",
    "   \n",
    "    \n",
    "    H, c, data = compute_Hc(series, kind='random_walk', simplified=True)\n",
    "    return H\n",
    "\n"
   ]
  },
  {
   "cell_type": "code",
   "execution_count": 6,
   "metadata": {},
   "outputs": [],
   "source": [
    "def generateRWI2(df):\n",
    "    MomVal = Momersion(df['returns']) \n",
    "    MomDouble = MomersionDouble(df['returns'])\n",
    " \n",
    "    h1 =  hurstF(df['price'])\n",
    "    h2 =  hurstF2(df['price'])\n",
    "    h3 =  hurstF3(df['price'])\n",
    "\n",
    "    h4 = hurstF4(df['price'])\n",
    "   \n",
    "  \n",
    "    #df = df.copy().join(autoCorr_features(df[['returns']].copy()), rsuffix='_suka_')\n",
    "    \n",
    "    MMIR = marketMeannes(df['returns'])\n",
    "    \n",
    "    MMIP = marketMeannes(df['price'])\n",
    "    ShannonVal = ShannonFast(df['returns'])\n",
    "    prop = proportionPos(df['returns'])\n",
    "    correl_1 = autoCorrel(df.returns, 1)\n",
    "    correl_2 = autoCorrel(df.returns, 2)\n",
    "    correl_3 = autoCorrel(df.returns, 3)\n",
    "    correl_4 = autoCorrel(df.returns, 4)\n",
    "    correl_5 = autoCorrel(df.returns, 5)\n",
    "    correl_10 = autoCorrel(df.returns, 10)\n",
    "    correl_20 = autoCorrel(df.returns, 20)\n",
    "    correl_100 = autoCorrel(df.returns, 100)\n",
    "    correl_list = [correl_1, correl_2, correl_3, correl_4, correl_5, correl_10, correl_20, correl_100]\n",
    "    \n",
    "    var_std = df['returns'].std()\n",
    "    var_mean = df['returns'].mean()\n",
    "    var_median = df['returns'].mean()\n",
    "    \n",
    "    \n",
    "    return [MomVal, MomDouble, h1, h2, h3, h4, MMIR, MMIP, ShannonVal, prop, var_std, var_mean, var_median] + correl_list"
   ]
  },
  {
   "cell_type": "code",
   "execution_count": 7,
   "metadata": {},
   "outputs": [],
   "source": [
    "### generate and stitch dataset"
   ]
  },
  {
   "cell_type": "code",
   "execution_count": 8,
   "metadata": {},
   "outputs": [],
   "source": [
    "def generate_features(df):\n",
    "    \n",
    "    \n",
    "    df['returns'] = np.log(df['price']).pct_change(1)\n",
    "    \n",
    "    df['ROC_2'] =  np.log(df['price'].copy()).pct_change(2)\n",
    "    \n",
    "    df['ROC_3'] = np.log(df['price'].copy()).pct_change(3)\n",
    "    df['ROC_5'] = np.log(df['price'].copy()).pct_change(5)\n",
    "    df['ROC_20'] = np.log(df['price'].copy()).pct_change(20)\n",
    "    df['ROC_50'] = np.log(df['price'].copy()).pct_change(50)\n",
    "    df['ROC_100'] = np.log(df['price'].copy()).pct_change(100)\n",
    "    #df['ROC_200'] = np.log(df['price'].copy()).pct_change(200)\n",
    "    #df['ROC_300'] = np.log(df['price'].copy()).pct_change(300)\n",
    "    #df['ROC_500'] = np.log(df['price'].copy()).pct_change(500)\n",
    "    \n",
    "    \n",
    "    df['abs_returns'] = np.abs( np.log(np.abs(df['price'].copy())).pct_change())\n",
    "    \n",
    "\n",
    "    df = df.replace([np.inf, -np.inf], np.nan)\n",
    "    \n",
    "    \n",
    "    \n",
    "    return df"
   ]
  },
  {
   "cell_type": "code",
   "execution_count": 9,
   "metadata": {},
   "outputs": [],
   "source": [
    "def transform_series(tmp):\n",
    "    #tmp = [e[0] if (type(e)==np.ndarray) else e for e in tmp.copy()]\n",
    "    df = pd.DataFrame(np.asarray(tmp)+100)\n",
    "    scaler = MinMaxScaler(feature_range=(0.0, 1.0))\n",
    "    df_ = scaler.fit_transform(df)\n",
    "    df_ = pd.DataFrame(df_, columns=df.columns,index=df.index)\n",
    "    df = (100+df_*100)\n",
    "    return df"
   ]
  },
  {
   "cell_type": "code",
   "execution_count": 10,
   "metadata": {},
   "outputs": [],
   "source": [
    "lk=50\n",
    "random1 = transform_series(random_walk(1000,proba=0.50,  min_lookback=lk, max_lookback=lk))\n",
    "random2 = transform_series(random_walk(1000,proba=0.50,  min_lookback=lk, max_lookback=lk))\n",
    "mr = transform_series(random_walk(1000,proba=0.30,  min_lookback=lk, max_lookback=lk))\n",
    "random3=transform_series(random_walk(1000,proba=0.50,  min_lookback=lk, max_lookback=lk))\n",
    "mr2 = transform_series(random_walk(1000,proba=0.30,  min_lookback=lk, max_lookback=lk))\n",
    "random4 = transform_series(random_walk(1000,proba=0.50,  min_lookback=lk, max_lookback=lk))\n",
    "trend = transform_series(random_walk(1000,proba=0.70,  min_lookback=lk, max_lookback=lk))\n",
    "random5 = transform_series(random_walk(1000,proba=0.50,  min_lookback=lk, max_lookback=lk))\n",
    "trend2 =  transform_series(random_walk(1000,proba=0.70,  min_lookback=lk, max_lookback=lk))\n",
    "random6 = transform_series(random_walk(1000,proba=0.50,  min_lookback=lk, max_lookback=lk))\n",
    "mr3 =  transform_series(random_walk(1000,proba=0.30,  min_lookback=lk, max_lookback=lk))\n",
    "trend3 =  transform_series(random_walk(1000,proba=0.70,  min_lookback=lk, max_lookback=lk))\n"
   ]
  },
  {
   "cell_type": "code",
   "execution_count": 11,
   "metadata": {},
   "outputs": [],
   "source": [
    "series_list = [random1.to_log_returns().dropna(), random2.to_log_returns().dropna(), mr.to_log_returns().dropna(), random3.to_log_returns().dropna(),  mr2.to_log_returns().dropna(), random4.to_log_returns().dropna(), trend.to_log_returns().dropna(), random5.to_log_returns().dropna(), trend2.to_log_returns().dropna(), random6.to_log_returns().dropna(), mr3.to_log_returns().dropna(), trend3.to_log_returns().dropna() ]"
   ]
  },
  {
   "cell_type": "code",
   "execution_count": null,
   "metadata": {},
   "outputs": [],
   "source": []
  },
  {
   "cell_type": "code",
   "execution_count": 12,
   "metadata": {},
   "outputs": [],
   "source": [
    "main = pd.concat(series_list, axis=0).reset_index(drop=True).cumsum()"
   ]
  },
  {
   "cell_type": "code",
   "execution_count": 13,
   "metadata": {},
   "outputs": [],
   "source": [
    "main = 100*main + 100"
   ]
  },
  {
   "cell_type": "code",
   "execution_count": 14,
   "metadata": {},
   "outputs": [
    {
     "data": {
      "text/plain": [
       "<matplotlib.lines.Line2D at 0x2590a217d48>"
      ]
     },
     "execution_count": 14,
     "metadata": {},
     "output_type": "execute_result"
    }
   ],
   "source": [
    "main.plot()\n",
    "plt.axvline(1000, color='r')\n",
    "plt.axvline(2000, color='r')\n",
    "plt.axvline(3000, color='r')\n",
    "plt.axvline(4000, color='r')\n",
    "plt.axvline(5000, color='r')\n",
    "plt.axvline(6000, color='r')\n",
    "plt.axvline(7000, color='r')\n",
    "plt.axvline(8000, color='r')\n",
    "plt.axvline(9000, color='r')\n",
    "plt.axvline(10000, color='r')\n",
    "plt.axvline(11000, color='r')"
   ]
  },
  {
   "cell_type": "code",
   "execution_count": 15,
   "metadata": {},
   "outputs": [],
   "source": [
    "#main.to_pickle('combined series main2.pkl')"
   ]
  },
  {
   "cell_type": "code",
   "execution_count": 16,
   "metadata": {},
   "outputs": [],
   "source": [
    "main=pd.read_pickle('combined series main2.pkl')"
   ]
  },
  {
   "cell_type": "code",
   "execution_count": 17,
   "metadata": {},
   "outputs": [],
   "source": [
    "returns = main.pct_change().rename(columns={0:'returns'}).dropna()"
   ]
  },
  {
   "cell_type": "code",
   "execution_count": 66,
   "metadata": {},
   "outputs": [],
   "source": [
    "def ShannonReallyFast(shannon_df):\n",
    "    #print(shannon_df, 'suka')\n",
    "    patterns = {'000', '001', '010', '100', '101', '110', '011', '111'}\n",
    "    shannon_df = pd.DataFrame(shannon_df.copy(), columns=['returns'])\n",
    "    shannon_df['pattern1'] = np.sign(shannon_df[['returns']])\n",
    "    shannon_df['pattern2'] = np.sign(shannon_df[['returns']].shift(1))\n",
    "    shannon_df['pattern3'] = np.sign(shannon_df[['returns']].shift(2))\n",
    "    shannon_df.dropna(inplace=True)\n",
    "    shannon_df = shannon_df[(shannon_df.pattern1 != 0.0) & (shannon_df.pattern2 != 0.0) & (shannon_df.pattern3 != 0.0)]\n",
    "    shannon_df['merged'] = shannon_df.pattern1.astype('str') + shannon_df.pattern2.astype('str') + shannon_df.pattern3.astype('str')\n",
    "    shannon_df['merged'] = shannon_df['merged'].str.replace('.0', '')\n",
    "    shannon_df['merged'] = shannon_df['merged'].str.replace('-1', '0')\n",
    "    prob_df = shannon_df.groupby('merged').count()['returns']\n",
    "    pattern_df = pd.DataFrame(patterns).set_index(0).sort_values(by=0)\n",
    "    #prob_df = prob_df.drop(index='111')\n",
    "    pattern_df = pattern_df.join(prob_df).fillna(0)\n",
    "    \n",
    "    ProbSum = 0.0\n",
    "    for pattern in patterns:\n",
    "        \n",
    "        p = pattern_df.loc[pattern] / pattern_df.returns.sum()      \n",
    "        value = p * np.log2(p)        \n",
    "        if math.isnan(value):\n",
    "            continue\n",
    "        ProbSum = ProbSum + value\n",
    "    Shannon_val = -ProbSum\n",
    "    \n",
    "    return Shannon_val\n",
    "    "
   ]
  },
  {
   "cell_type": "code",
   "execution_count": 78,
   "metadata": {},
   "outputs": [
    {
     "name": "stderr",
     "output_type": "stream",
     "text": [
      "C:\\Users\\lexik\\.conda\\envs\\quant\\lib\\site-packages\\ipykernel_launcher.py:6: RuntimeWarning: invalid value encountered in sign\n",
      "  \n",
      "C:\\Users\\lexik\\.conda\\envs\\quant\\lib\\site-packages\\ipykernel_launcher.py:7: RuntimeWarning: invalid value encountered in sign\n",
      "  import sys\n",
      "C:\\Users\\lexik\\.conda\\envs\\quant\\lib\\site-packages\\ipykernel_launcher.py:22: RuntimeWarning: divide by zero encountered in log2\n"
     ]
    },
    {
     "data": {
      "text/plain": [
       "returns    1.584963\n",
       "dtype: float64"
      ]
     },
     "execution_count": 78,
     "metadata": {},
     "output_type": "execute_result"
    }
   ],
   "source": [
    "ShannonReallyFast(main[main.returns!= 0.0].loc[4000:4004][['returns']])"
   ]
  },
  {
   "cell_type": "code",
   "execution_count": 79,
   "metadata": {},
   "outputs": [
    {
     "data": {
      "text/plain": [
       "1.0"
      ]
     },
     "execution_count": 79,
     "metadata": {},
     "output_type": "execute_result"
    }
   ],
   "source": [
    "ShannonFast(main[main.returns!= 0.0].loc[4000:4004]['returns'])"
   ]
  },
  {
   "cell_type": "code",
   "execution_count": 35,
   "metadata": {},
   "outputs": [],
   "source": [
    "import time"
   ]
  },
  {
   "cell_type": "code",
   "execution_count": 22,
   "metadata": {},
   "outputs": [],
   "source": [
    "main = main.rename(columns={0:'price'})\n",
    "main['returns'] = main.price.to_log_returns().fillna(0)\n",
    "#main['shannon_val'] = main[main.returns!=0.0][['returns']].rolling(50).apply(ShannonReallyFast, raw=False)"
   ]
  },
  {
   "cell_type": "code",
   "execution_count": 80,
   "metadata": {},
   "outputs": [
    {
     "name": "stdout",
     "output_type": "stream",
     "text": [
      "165.62690687179565\n"
     ]
    }
   ],
   "source": [
    "start = time.time()\n",
    "main['shannon_val'] = main[main.returns!=0.0][['returns']].rolling(500).apply(ShannonReallyFast, raw=False)\n",
    "print(time.time() - start)"
   ]
  },
  {
   "cell_type": "code",
   "execution_count": 37,
   "metadata": {},
   "outputs": [
    {
     "name": "stdout",
     "output_type": "stream",
     "text": [
      "107.84683132171631\n"
     ]
    }
   ],
   "source": [
    "start = time.time()\n",
    "main[main.returns!=0.0][['returns']].rolling(500).apply(ShannonFast, raw=False)\n",
    "print(time.time() - start)"
   ]
  },
  {
   "cell_type": "code",
   "execution_count": 38,
   "metadata": {},
   "outputs": [
    {
     "name": "stdout",
     "output_type": "stream",
     "text": [
      "108.5441324710846\n"
     ]
    }
   ],
   "source": [
    "start = time.time()\n",
    "main['shannon_val2'] = main[main.returns!=0.0][['returns']].rolling(500).apply(ShannonFast, raw=False)\n",
    "print(time.time() - start)"
   ]
  },
  {
   "cell_type": "code",
   "execution_count": 90,
   "metadata": {},
   "outputs": [],
   "source": [
    "main['rsme'] = np.sqrt(((main['shannon_val'].fillna(0)- main[ 'shannon_val2'].fillna(0))**2)/main[['shannon_val']].fillna(0).shape[0])"
   ]
  },
  {
   "cell_type": "code",
   "execution_count": 82,
   "metadata": {},
   "outputs": [],
   "source": [
    "main['MAE'] = (main['shannon_val'].fillna(0)- main[ 'shannon_val2'].fillna(0))"
   ]
  },
  {
   "cell_type": "code",
   "execution_count": 83,
   "metadata": {},
   "outputs": [
    {
     "data": {
      "text/plain": [
       "<matplotlib.axes._subplots.AxesSubplot at 0x2590c017bc8>"
      ]
     },
     "execution_count": 83,
     "metadata": {},
     "output_type": "execute_result"
    },
    {
     "data": {
      "image/png": "[encoded data removed]",
      "text/plain": [
       "<Figure size 432x288 with 1 Axes>"
      ]
     },
     "metadata": {
      "needs_background": "light"
     },
     "output_type": "display_data"
    }
   ],
   "source": [
    "main['MAE'].hist(bins=50)"
   ]
  },
  {
   "cell_type": "code",
   "execution_count": 84,
   "metadata": {},
   "outputs": [
    {
     "data": {
      "text/plain": [
       "<matplotlib.axes._subplots.AxesSubplot at 0x2590c087e88>"
      ]
     },
     "execution_count": 84,
     "metadata": {},
     "output_type": "execute_result"
    },
    {
     "data": {
      "image/png": "[encoded data removed]",
      "text/plain": [
       "<Figure size 432x288 with 1 Axes>"
      ]
     },
     "metadata": {
      "needs_background": "light"
     },
     "output_type": "display_data"
    }
   ],
   "source": [
    "main.loc[4000: 6000]['price'].plot()"
   ]
  },
  {
   "cell_type": "code",
   "execution_count": 96,
   "metadata": {},
   "outputs": [
    {
     "data": {
      "text/plain": [
       "array([[<matplotlib.axes._subplots.AxesSubplot object at 0x000002590D6A0488>]],\n",
       "      dtype=object)"
      ]
     },
     "execution_count": 96,
     "metadata": {},
     "output_type": "execute_result"
    },
    {
     "data": {
      "image/png": "[encoded data removed]",
      "text/plain": [
       "<Figure size 1080x864 with 1 Axes>"
      ]
     },
     "metadata": {
      "needs_background": "light"
     },
     "output_type": "display_data"
    }
   ],
   "source": [
    "main[['shannon_val']].hist(bins=50, figsize=(15,12))"
   ]
  },
  {
   "cell_type": "code",
   "execution_count": 94,
   "metadata": {},
   "outputs": [
    {
     "data": {
      "text/plain": [
       "<matplotlib.lines.Line2D at 0x2590c005488>"
      ]
     },
     "execution_count": 94,
     "metadata": {},
     "output_type": "execute_result"
    },
    {
     "data": {
      "image/png": "[encoded data removed]",
      "text/plain": [
       "<Figure size 1080x864 with 1 Axes>"
      ]
     },
     "metadata": {
      "needs_background": "light"
     },
     "output_type": "display_data"
    }
   ],
   "source": [
    "main[['shannon_val', 'shannon_val2']].plot(figsize=(15,12))\n",
    "plt.axvline(1000, color='r')\n",
    "plt.axvline(2000, color='r')\n",
    "plt.axvline(3000, color='r')\n",
    "plt.axvline(4000, color='r')\n",
    "plt.axvline(5000, color='r')\n",
    "plt.axvline(6000, color='r')\n",
    "plt.axvline(7000, color='r')\n",
    "plt.axvline(8000, color='r')\n",
    "plt.axvline(9000, color='r')\n",
    "plt.axvline(10000, color='r')\n",
    "plt.axvline(11000, color='r')"
   ]
  },
  {
   "cell_type": "code",
   "execution_count": 101,
   "metadata": {},
   "outputs": [
    {
     "data": {
      "text/plain": [
       "4.813816709550429e-06"
      ]
     },
     "execution_count": 101,
     "metadata": {},
     "output_type": "execute_result"
    }
   ],
   "source": [
    "main['rsme'].mean()"
   ]
  },
  {
   "cell_type": "code",
   "execution_count": 102,
   "metadata": {},
   "outputs": [
    {
     "data": {
      "text/plain": [
       "1.950212064914747"
      ]
     },
     "execution_count": 102,
     "metadata": {},
     "output_type": "execute_result"
    }
   ],
   "source": [
    "ShannonFast(main[main.returns != 0.0].loc[4000:4009]['returns'])"
   ]
  },
  {
   "cell_type": "code",
   "execution_count": 103,
   "metadata": {},
   "outputs": [
    {
     "name": "stderr",
     "output_type": "stream",
     "text": [
      "C:\\Users\\lexik\\.conda\\envs\\quant\\lib\\site-packages\\ipykernel_launcher.py:6: RuntimeWarning: invalid value encountered in sign\n",
      "  \n",
      "C:\\Users\\lexik\\.conda\\envs\\quant\\lib\\site-packages\\ipykernel_launcher.py:7: RuntimeWarning: invalid value encountered in sign\n",
      "  import sys\n",
      "C:\\Users\\lexik\\.conda\\envs\\quant\\lib\\site-packages\\ipykernel_launcher.py:22: RuntimeWarning: divide by zero encountered in log2\n"
     ]
    },
    {
     "data": {
      "text/plain": [
       "returns    2.25\n",
       "dtype: float64"
      ]
     },
     "execution_count": 103,
     "metadata": {},
     "output_type": "execute_result"
    }
   ],
   "source": [
    "ShannonReallyFast(main[main.returns != 0.0].loc[4000:4009]['returns'])"
   ]
  },
  {
   "cell_type": "code",
   "execution_count": 105,
   "metadata": {},
   "outputs": [
    {
     "data": {
      "text/plain": [
       "<matplotlib.axes._subplots.AxesSubplot at 0x2590e164ac8>"
      ]
     },
     "execution_count": 105,
     "metadata": {},
     "output_type": "execute_result"
    },
    {
     "data": {
      "image/png": "[encoded data removed]",
      "text/plain": [
       "<Figure size 432x288 with 1 Axes>"
      ]
     },
     "metadata": {
      "needs_background": "light"
     },
     "output_type": "display_data"
    }
   ],
   "source": [
    "\n",
    "main['shannon_val'].plot()\n"
   ]
  },
  {
   "cell_type": "code",
   "execution_count": 2361,
   "metadata": {},
   "outputs": [],
   "source": [
    "#main[['price']].rolling(500).apply(hurstF4)"
   ]
  },
  {
   "cell_type": "code",
   "execution_count": 108,
   "metadata": {},
   "outputs": [],
   "source": [
    "#ax = sns.barplot(x=main['shannon_val'].index, y=shannon_df.returns, data=shannon_df)"
   ]
  },
  {
   "cell_type": "code",
   "execution_count": 109,
   "metadata": {},
   "outputs": [
    {
     "data": {
      "text/plain": [
       "<matplotlib.axes._subplots.AxesSubplot at 0x2590e41df88>"
      ]
     },
     "execution_count": 109,
     "metadata": {},
     "output_type": "execute_result"
    },
    {
     "data": {
      "image/png": "[encoded data removed]",
      "text/plain": [
       "<Figure size 432x288 with 1 Axes>"
      ]
     },
     "metadata": {
      "needs_background": "light"
     },
     "output_type": "display_data"
    }
   ],
   "source": [
    "main.returns.rolling(50).std().plot()"
   ]
  },
  {
   "cell_type": "code",
   "execution_count": 110,
   "metadata": {},
   "outputs": [
    {
     "name": "stderr",
     "output_type": "stream",
     "text": [
      "C:\\Users\\lexik\\.conda\\envs\\quant\\lib\\site-packages\\ipykernel_launcher.py:3: FutureWarning: Currently, 'apply' passes the values as ndarrays to the applied function. In the future, this will change to passing it as Series objects. You need to specify 'raw=True' to keep the current behaviour, and you can pass 'raw=False' to silence this warning\n",
      "  This is separate from the ipykernel package so we can avoid doing imports until\n"
     ]
    },
    {
     "data": {
      "text/plain": [
       "<matplotlib.lines.Line2D at 0x2590e49adc8>"
      ]
     },
     "execution_count": 110,
     "metadata": {},
     "output_type": "execute_result"
    },
    {
     "data": {
      "image/png": "[encoded data removed]",
      "text/plain": [
       "<Figure size 432x288 with 1 Axes>"
      ]
     },
     "metadata": {
      "needs_background": "light"
     },
     "output_type": "display_data"
    }
   ],
   "source": [
    "main = main.rename(columns={0:'price'})\n",
    "main['returns'] = main.price.to_log_returns().fillna(0)\n",
    "main['hurst'] = main[['price']].rolling(500).apply(hurstF4) #.plot()\n",
    "plt.axvline(1000, color='r')\n",
    "plt.axvline(2000, color='r')\n",
    "plt.axvline(3000, color='r')\n",
    "plt.axvline(4000, color='r')\n",
    "plt.axvline(5000, color='r')"
   ]
  },
  {
   "cell_type": "code",
   "execution_count": 822,
   "metadata": {},
   "outputs": [
    {
     "data": {
      "text/plain": [
       "<matplotlib.lines.Line2D at 0x27ec20aec08>"
      ]
     },
     "execution_count": 822,
     "metadata": {},
     "output_type": "execute_result"
    },
    {
     "data": {
      "image/png": "[encoded data removed]",
      "text/plain": [
       "<Figure size 432x288 with 1 Axes>"
      ]
     },
     "metadata": {
      "needs_background": "light"
     },
     "output_type": "display_data"
    }
   ],
   "source": [
    "from hmmlearn import hmm\n",
    "X1 = main['hurst'].fillna(0.00) #.append(main['hurst']).reset_index(drop=True)\n",
    "X2 = main['returns']\n",
    "X = X1.append(X2)\n",
    "hmm_model = hmm.GaussianHMM(n_components=3).fit(X.values.reshape(-1,1), [ X.size]) #.values.reshape(-1,1)\n",
    "y_pred = hmm_model.predict(X.values.reshape(-1,1))\n",
    "plt.plot(pd.DataFrame(y_pred).rolling(30).mean()) #\n",
    "plt.axvline(1000, color='r')\n",
    "plt.axvline(2000, color='r')\n",
    "plt.axvline(3000, color='r')\n",
    "plt.axvline(4000, color='r')\n",
    "plt.axvline(5000, color='r')\n",
    "plt.axvline(6000, color='r')\n",
    "plt.axvline(7000, color='r')\n",
    "plt.axvline(8000, color='r')\n",
    "plt.axvline(9000, color='r')\n",
    "plt.axvline(10000, color='r')\n",
    "plt.axvline(11000, color='r')"
   ]
  },
  {
   "cell_type": "code",
   "execution_count": 824,
   "metadata": {},
   "outputs": [],
   "source": [
    "results = []\n",
    "df=main.copy()\n",
    "df = df.replace([np.inf, -np.inf],0).fillna(0)\n",
    "\n",
    "res = generate_features(df)\n",
    "df = res.copy()\n",
    "df['shift_returns'] = df['returns'].shift(-1).dropna()\n",
    "df = df[df.shift_returns != 0.0].dropna()\n",
    "y = df.iloc[:, [-1]]\n",
    "y.shift_returns = np.sign(y.shift_returns)\n",
    "X = df.iloc[:, 0:7]\n",
    "\n",
    "rwi_list = generateRWI2(df)\n",
    "X_train, X_test, y_train, y_test = train_test_split(X, y, test_size=0.3)\n",
    "#X_train =X[0:1150]\n",
    "#y_train = y[0:1150]\n",
    "#X_test = X[1200:]\n",
    "#y_test = y[1200:]\n",
    "\n",
    "clf = RandomForestClassifier(n_estimators=100, max_depth=5,\n",
    "                             random_state=0)\n",
    "clf.fit(X_train, y_train)\n",
    "y_pred = clf.predict(X_test)\n",
    "score = accuracy_score(y_test, y_pred)\n",
    "\n",
    "rwi_list.append(score)\n",
    "results.append(rwi_list)\n"
   ]
  },
  {
   "cell_type": "code",
   "execution_count": 17,
   "metadata": {},
   "outputs": [],
   "source": [
    "# r, r, Mean-Reversal, random, trend, random"
   ]
  },
  {
   "cell_type": "code",
   "execution_count": 825,
   "metadata": {},
   "outputs": [],
   "source": [
    "cols = ['MomVal', 'MomDouble', 'h1', 'h2', 'h3', 'h4', 'MMIR', 'MMIP', 'ShannonVal', 'prop', 'var_std', 'var_mean', 'var_median',   'correl_1', 'correl_2', 'correl_3', 'correl_4', 'correl_5', 'correl_10', 'correl_20', 'correl_100' ,   'score']"
   ]
  },
  {
   "cell_type": "code",
   "execution_count": 826,
   "metadata": {},
   "outputs": [],
   "source": [
    "accuracy_df = pd.DataFrame(results, columns=cols) #.corr(method='spearman')['score'].sort_values()"
   ]
  },
  {
   "cell_type": "code",
   "execution_count": 827,
   "metadata": {},
   "outputs": [],
   "source": [
    "import warnings\n",
    "warnings.filterwarnings('ignore')"
   ]
  },
  {
   "cell_type": "code",
   "execution_count": 828,
   "metadata": {},
   "outputs": [
    {
     "data": {
      "text/html": [
       "<div>\n",
       "<style scoped>\n",
       "    .dataframe tbody tr th:only-of-type {\n",
       "        vertical-align: middle;\n",
       "    }\n",
       "\n",
       "    .dataframe tbody tr th {\n",
       "        vertical-align: top;\n",
       "    }\n",
       "\n",
       "    .dataframe thead th {\n",
       "        text-align: right;\n",
       "    }\n",
       "</style>\n",
       "<table border=\"1\" class=\"dataframe\">\n",
       "  <thead>\n",
       "    <tr style=\"text-align: right;\">\n",
       "      <th></th>\n",
       "      <th>0</th>\n",
       "    </tr>\n",
       "  </thead>\n",
       "  <tbody>\n",
       "    <tr>\n",
       "      <th>MomVal</th>\n",
       "      <td>0.521652</td>\n",
       "    </tr>\n",
       "    <tr>\n",
       "      <th>MomDouble</th>\n",
       "      <td>0.043304</td>\n",
       "    </tr>\n",
       "    <tr>\n",
       "      <th>h1</th>\n",
       "      <td>0.446287</td>\n",
       "    </tr>\n",
       "    <tr>\n",
       "      <th>h2</th>\n",
       "      <td>0.324796</td>\n",
       "    </tr>\n",
       "    <tr>\n",
       "      <th>h3</th>\n",
       "      <td>0.472724</td>\n",
       "    </tr>\n",
       "    <tr>\n",
       "      <th>h4</th>\n",
       "      <td>0.445820</td>\n",
       "    </tr>\n",
       "    <tr>\n",
       "      <th>MMIR</th>\n",
       "      <td>0.736276</td>\n",
       "    </tr>\n",
       "    <tr>\n",
       "      <th>MMIP</th>\n",
       "      <td>0.513015</td>\n",
       "    </tr>\n",
       "    <tr>\n",
       "      <th>ShannonVal</th>\n",
       "      <td>2.994390</td>\n",
       "    </tr>\n",
       "    <tr>\n",
       "      <th>prop</th>\n",
       "      <td>50.542299</td>\n",
       "    </tr>\n",
       "    <tr>\n",
       "      <th>var_std</th>\n",
       "      <td>0.002823</td>\n",
       "    </tr>\n",
       "    <tr>\n",
       "      <th>var_mean</th>\n",
       "      <td>0.000020</td>\n",
       "    </tr>\n",
       "    <tr>\n",
       "      <th>var_median</th>\n",
       "      <td>0.000020</td>\n",
       "    </tr>\n",
       "    <tr>\n",
       "      <th>correl_1</th>\n",
       "      <td>-0.000592</td>\n",
       "    </tr>\n",
       "    <tr>\n",
       "      <th>correl_2</th>\n",
       "      <td>-0.024839</td>\n",
       "    </tr>\n",
       "    <tr>\n",
       "      <th>correl_3</th>\n",
       "      <td>0.000874</td>\n",
       "    </tr>\n",
       "    <tr>\n",
       "      <th>correl_4</th>\n",
       "      <td>-0.006973</td>\n",
       "    </tr>\n",
       "    <tr>\n",
       "      <th>correl_5</th>\n",
       "      <td>-0.019499</td>\n",
       "    </tr>\n",
       "    <tr>\n",
       "      <th>correl_10</th>\n",
       "      <td>-0.044204</td>\n",
       "    </tr>\n",
       "    <tr>\n",
       "      <th>correl_20</th>\n",
       "      <td>-0.039453</td>\n",
       "    </tr>\n",
       "    <tr>\n",
       "      <th>correl_100</th>\n",
       "      <td>0.020435</td>\n",
       "    </tr>\n",
       "    <tr>\n",
       "      <th>score</th>\n",
       "      <td>0.556575</td>\n",
       "    </tr>\n",
       "  </tbody>\n",
       "</table>\n",
       "</div>"
      ],
      "text/plain": [
       "                    0\n",
       "MomVal       0.521652\n",
       "MomDouble    0.043304\n",
       "h1           0.446287\n",
       "h2           0.324796\n",
       "h3           0.472724\n",
       "h4           0.445820\n",
       "MMIR         0.736276\n",
       "MMIP         0.513015\n",
       "ShannonVal   2.994390\n",
       "prop        50.542299\n",
       "var_std      0.002823\n",
       "var_mean     0.000020\n",
       "var_median   0.000020\n",
       "correl_1    -0.000592\n",
       "correl_2    -0.024839\n",
       "correl_3     0.000874\n",
       "correl_4    -0.006973\n",
       "correl_5    -0.019499\n",
       "correl_10   -0.044204\n",
       "correl_20   -0.039453\n",
       "correl_100   0.020435\n",
       "score        0.556575"
      ]
     },
     "execution_count": 828,
     "metadata": {},
     "output_type": "execute_result"
    }
   ],
   "source": [
    "accuracy_df.T"
   ]
  },
  {
   "cell_type": "code",
   "execution_count": 22,
   "metadata": {},
   "outputs": [],
   "source": [
    "# accuracy closer to prop, MomVal, h4\n"
   ]
  },
  {
   "cell_type": "code",
   "execution_count": 23,
   "metadata": {},
   "outputs": [],
   "source": [
    "#### Rolling husrt"
   ]
  },
  {
   "cell_type": "code",
   "execution_count": 28,
   "metadata": {},
   "outputs": [],
   "source": [
    "### apply machine learning for accuracy detection"
   ]
  },
  {
   "cell_type": "code",
   "execution_count": 830,
   "metadata": {},
   "outputs": [],
   "source": [
    "main = main.rename(columns={0:'price'})\n",
    "main['returns'] = main.price.to_log_returns()"
   ]
  },
  {
   "cell_type": "code",
   "execution_count": 832,
   "metadata": {},
   "outputs": [],
   "source": [
    "del df"
   ]
  },
  {
   "cell_type": "code",
   "execution_count": 1009,
   "metadata": {},
   "outputs": [],
   "source": [
    "# windowing\n",
    "scores_list = []\n",
    "for size in [50 , 100, 200,  500, 800, 1100]: # \n",
    "    \n",
    "    total_length = main.shape[0]\n",
    "\n",
    "    parts =  int(total_length/size)\n",
    "\n",
    "    i = 0\n",
    "    i2 = size\n",
    "    results = []\n",
    "    df2 = main.copy()\n",
    "    for x in range(0,parts+1):\n",
    "\n",
    "        \n",
    "        res = generate_features(main[['price', 'returns']]).fillna(0)\n",
    "        \n",
    "        df = res.iloc[i:i2].copy()    \n",
    "        \n",
    "\n",
    "        df['shift_returns'] = df['returns'].shift(-1).dropna()\n",
    "        df = df[df.shift_returns != 0.0].dropna()\n",
    "        \n",
    "        y = df.iloc[:, -1].copy()\n",
    "        y = np.sign(y)\n",
    "        X = df.iloc[:, :-1].copy()\n",
    "\n",
    "        ###\n",
    "        #print(size, i, i2)\n",
    "        \n",
    "        X_train, X_test, y_train, y_test = train_test_split(X, y, test_size=0.20)\n",
    "        X = X.reset_index(drop=True)\n",
    "        #print('division:',0, size*0.8)\n",
    "        #X_train =X[0:int(size*0.80)]\n",
    "        #y_train = y[0:int(size*0.80)]\n",
    "\n",
    "        #X_test = X[int(size*0.80)+5:size]\n",
    "        #y_test = y[int(size*0.80)+5:size]\n",
    "\n",
    "        clf = RandomForestClassifier(n_estimators=200, max_depth=10,\n",
    "                                     random_state=0)\n",
    "        clf.fit(X_train, y_train)\n",
    "        if (len(X_test)==0):\n",
    "            break\n",
    "        y_pred = clf.predict(X_test)\n",
    "        \n",
    "        score = accuracy_score(y_test, y_pred)\n",
    "        ###\n",
    "        main.loc[i:i2, 'score_'+str(size)] = score * 100\n",
    "     \n",
    "        i = i+size\n",
    "        i2 = i2+ size\n",
    "        scores_list.append((size, score*100))\n",
    "        \n",
    "\n",
    "    "
   ]
  },
  {
   "cell_type": "code",
   "execution_count": 1012,
   "metadata": {},
   "outputs": [],
   "source": [
    "# 'size 200 is best'\n",
    "# max was at 50, 100\n",
    "# largest median, 2000\n"
   ]
  },
  {
   "cell_type": "code",
   "execution_count": 1013,
   "metadata": {},
   "outputs": [
    {
     "data": {
      "text/plain": [
       "array([<matplotlib.axes._subplots.AxesSubplot object at 0x0000027EBBDEC708>,\n",
       "       <matplotlib.axes._subplots.AxesSubplot object at 0x0000027EBBD66908>,\n",
       "       <matplotlib.axes._subplots.AxesSubplot object at 0x0000027EBBFDDD48>],\n",
       "      dtype=object)"
      ]
     },
     "execution_count": 1013,
     "metadata": {},
     "output_type": "execute_result"
    },
    {
     "data": {
      "image/png": "[encoded data removed]",
      "text/plain": [
       "<Figure size 1080x864 with 3 Axes>"
      ]
     },
     "metadata": {
      "needs_background": "light"
     },
     "output_type": "display_data"
    }
   ],
   "source": [
    "main[['returns','score_50', 'score_500']].rolling(30).mean().plot(figsize=(15,12) , subplots=(2,1) ) # "
   ]
  },
  {
   "cell_type": "code",
   "execution_count": 1056,
   "metadata": {},
   "outputs": [
    {
     "data": {
      "text/plain": [
       "<matplotlib.axes._subplots.AxesSubplot at 0x27ec2149488>"
      ]
     },
     "execution_count": 1056,
     "metadata": {},
     "output_type": "execute_result"
    },
    {
     "data": {
      "image/png": "[encoded data removed]",
      "text/plain": [
       "<Figure size 432x288 with 1 Axes>"
      ]
     },
     "metadata": {
      "needs_background": "light"
     },
     "output_type": "display_data"
    }
   ],
   "source": [
    "main.score_50.drop_duplicates().hist()"
   ]
  },
  {
   "cell_type": "code",
   "execution_count": 1014,
   "metadata": {},
   "outputs": [],
   "source": [
    "# best accuracy ROC(300)"
   ]
  },
  {
   "cell_type": "code",
   "execution_count": 1015,
   "metadata": {},
   "outputs": [],
   "source": [
    "accuracy_cols = ['score_50', 'score_100', 'score_200', 'score_500', 'score_800', 'score_1100']"
   ]
  },
  {
   "cell_type": "code",
   "execution_count": 1016,
   "metadata": {},
   "outputs": [],
   "source": [
    "# ma 100 diff\n",
    "# ma 100, roc 5\n",
    "# 800, 50 roc\n",
    "# 100, 50"
   ]
  },
  {
   "cell_type": "code",
   "execution_count": null,
   "metadata": {},
   "outputs": [],
   "source": []
  },
  {
   "cell_type": "code",
   "execution_count": 1017,
   "metadata": {},
   "outputs": [],
   "source": [
    "rand_list = list(rand_list)"
   ]
  },
  {
   "cell_type": "code",
   "execution_count": 1018,
   "metadata": {},
   "outputs": [],
   "source": [
    "import time"
   ]
  },
  {
   "cell_type": "code",
   "execution_count": 1063,
   "metadata": {},
   "outputs": [],
   "source": [
    "from sklearn.preprocessing import StandardScaler"
   ]
  },
  {
   "cell_type": "code",
   "execution_count": 1064,
   "metadata": {},
   "outputs": [],
   "source": [
    "scaler = StandardScaler()"
   ]
  },
  {
   "cell_type": "code",
   "execution_count": null,
   "metadata": {},
   "outputs": [],
   "source": []
  },
  {
   "cell_type": "code",
   "execution_count": 1310,
   "metadata": {},
   "outputs": [],
   "source": [
    "# combining with accuracy 100 period momentum best result\n",
    "res = generate_features(main).fillna(0)\n",
    "#res = main\n",
    "res = pd.DataFrame(scaler.fit_transform(main), index=main.index, columns=main.columns )\n",
    "\n",
    "size = res.shape[0]\n",
    "res.loc[:, ['score_50', 'score_100', 'score_200', 'score_500', 'score_800', 'score_1100']]=res[['score_50', 'score_100', 'score_200', 'score_500', 'score_800', 'score_1100']].pct_change(1).fillna(0)\n",
    "#tmp = res[['score_50', 'score_100', 'score_200', 'score_500', 'score_800', 'score_1100']].pct_change(1).fillna(0)\n",
    "\n",
    "#diff = res[accuracy_cols] - res[accuracy_cols].rolling(8).mean().fillna(method='bfill')\n",
    "#roc = res[accuracy_cols].rolling(8).mean().fillna(method='bfill').pct_change(5).fillna(0)\n",
    "\n",
    "#res = res.join(tmp.add_prefix('_roc1'))\n",
    "#res = res.join(diff.add_prefix('_diff'))\n",
    "#res = res.join(roc.add_prefix('_roc'))\n",
    "\n",
    "df = res.copy()    \n",
    "df = df.replace([np.inf, -np.inf],0).fillna(0)\n",
    "\n",
    "df['shift_returns'] = df['returns'].shift(-1).dropna()\n",
    "df = df[df.shift_returns != 0.0].dropna()\n",
    "\n",
    "y = df.iloc[:, -1].copy()\n",
    "y = np.sign(y)\n",
    "X = df.iloc[:, :-1].copy()\n",
    "X = X.fillna(0)\n",
    "\n",
    "random_state=0\n",
    "X_train, X_test, y_train, y_test = train_test_split(X, y, test_size=0.2, random_state=0)\n",
    "X = X.reset_index(drop=True)\n",
    "#print('division:',0, size*0.8)\n",
    "X_train =X.loc[0:int(size*0.80)]\n",
    "y_train = y.loc[0:int(size*0.80)]\n",
    "\n",
    "X_test = X.loc[int(size*0.80)+5:size]\n",
    "y_test = y.loc[int(size*0.80)+5:size]\n",
    "\n",
    "clf = RandomForestClassifier(n_estimators=200, max_depth=20,\n",
    "                             random_state=0)\n",
    "clf.fit(X_train, y_train)\n",
    "\n",
    "y_pred = clf.predict(X_test)\n",
    "\n",
    "score = accuracy_score(y_test, y_pred)"
   ]
  },
  {
   "cell_type": "code",
   "execution_count": 1311,
   "metadata": {},
   "outputs": [
    {
     "data": {
      "text/plain": [
       "0.4690635451505017"
      ]
     },
     "execution_count": 1311,
     "metadata": {},
     "output_type": "execute_result"
    }
   ],
   "source": [
    "score"
   ]
  },
  {
   "cell_type": "code",
   "execution_count": 1075,
   "metadata": {},
   "outputs": [
    {
     "data": {
      "text/plain": [
       "<matplotlib.axes._subplots.AxesSubplot at 0x27ec66778c8>"
      ]
     },
     "execution_count": 1075,
     "metadata": {},
     "output_type": "execute_result"
    },
    {
     "data": {
      "image/png": "[encoded data removed]",
      "text/plain": [
       "<Figure size 432x288 with 1 Axes>"
      ]
     },
     "metadata": {
      "needs_background": "light"
     },
     "output_type": "display_data"
    }
   ],
   "source": [
    "main.loc[int(size*0.80)+5:size]['returns'].plot()"
   ]
  },
  {
   "cell_type": "code",
   "execution_count": 1081,
   "metadata": {},
   "outputs": [
    {
     "data": {
      "text/plain": [
       "<matplotlib.axes._subplots.AxesSubplot at 0x27ec7fb36c8>"
      ]
     },
     "execution_count": 1081,
     "metadata": {},
     "output_type": "execute_result"
    },
    {
     "data": {
      "image/png": "[encoded data removed]",
      "text/plain": [
       "<Figure size 432x288 with 1 Axes>"
      ]
     },
     "metadata": {
      "needs_background": "light"
     },
     "output_type": "display_data"
    }
   ],
   "source": [
    "main['score_500'].hist()"
   ]
  },
  {
   "cell_type": "code",
   "execution_count": 1106,
   "metadata": {},
   "outputs": [
    {
     "data": {
      "text/plain": [
       "<matplotlib.axes._subplots.AxesSubplot at 0x27ec7b77088>"
      ]
     },
     "execution_count": 1106,
     "metadata": {},
     "output_type": "execute_result"
    },
    {
     "data": {
      "image/png": "[encoded data removed]",
      "text/plain": [
       "<Figure size 432x288 with 1 Axes>"
      ]
     },
     "metadata": {
      "needs_background": "light"
     },
     "output_type": "display_data"
    }
   ],
   "source": [
    "main['group'] = (main.index/5).astype('int')\n",
    "main.groupby('group').mean()['price'].plot()"
   ]
  },
  {
   "cell_type": "code",
   "execution_count": 1364,
   "metadata": {},
   "outputs": [],
   "source": [
    "weekly_main = main[['price', 'group', 'score_50', 'score_100', 'score_200', 'score_500', 'score_800', 'score_1100']].groupby('group').last().reset_index(drop=True).copy()"
   ]
  },
  {
   "cell_type": "code",
   "execution_count": 1365,
   "metadata": {},
   "outputs": [],
   "source": [
    "weekly_main['returns'] = weekly_main.price.pct_change()"
   ]
  },
  {
   "cell_type": "code",
   "execution_count": 1393,
   "metadata": {},
   "outputs": [],
   "source": [
    "# combining with accuracy 100 period momentum best result\n",
    "# higher timeframe is best case\n",
    "res = generate_features(weekly_main).fillna(0)\n",
    "#res = main\n",
    "#res = pd.DataFrame(scaler.fit_transform(weekly_main), index=weekly_main.index, columns=weekly_main.columns )\n",
    "res['original_returns'] = weekly_main['ROC_5']\n",
    "res = res[res.original_returns.fillna(0) !=0.0]\n",
    "size = res.shape[0]\n",
    "#res.loc[:, ['score_50', 'score_100', 'score_200', 'score_500', 'score_800', 'score_1100']]=res[['score_50', 'score_100', 'score_200', 'score_500', 'score_800', 'score_1100']].pct_change(300).fillna(0)\n",
    "\n",
    "tmp = res[['score_50', 'score_100', 'score_200', 'score_500', 'score_800', 'score_1100']].pct_change(1).fillna(0)\n",
    "\n",
    "diff = res[accuracy_cols] - res[accuracy_cols].rolling(8).mean().fillna(method='bfill')\n",
    "roc = res[accuracy_cols].rolling(8).mean().fillna(method='bfill').pct_change(5).fillna(0)\n",
    "\n",
    "res = res.join(tmp.add_prefix('_roc1'))\n",
    "res = res.join(diff.add_prefix('_diff'))\n",
    "res = res.join(roc.add_prefix('_roc'))\n",
    "\n",
    "df = res.copy()    \n",
    "df = df.replace([np.inf, -np.inf],0).fillna(0)\n",
    "\n",
    "df['shift_returns'] = df['original_returns'].shift(-1).dropna()\n",
    "df.drop(columns='original_returns', inplace=True)\n",
    "df = df[df.shift_returns != 0.0].fillna(0)\n",
    "df =df.reset_index(drop=True)\n",
    "y = df.iloc[:, -1].copy()\n",
    "\n",
    "y = np.sign(y)\n",
    "X = df.iloc[:, :-1].copy()\n",
    "X = X.fillna(0)\n",
    "\n",
    "random_state=0\n",
    "X_train, X_test, y_train, y_test = train_test_split(X, y, test_size=0.2, random_state=0)\n",
    "X = X.reset_index(drop=True)\n",
    "\n",
    "#print('division:',0, size*0.8)\n",
    "X_train =X.loc[0:int(size*0.80)]\n",
    "y_train = y.loc[0:int(size*0.80)]\n",
    "\n",
    "X_test = X.loc[int(size*0.80)+5:size]\n",
    "y_test = y.loc[int(size*0.80)+5:size]\n",
    "\n",
    "clf = RandomForestClassifier(n_estimators=200, max_depth=20,\n",
    "                             random_state=0)\n",
    "\n",
    "clf.fit(X_train, y_train)\n",
    "\n",
    "y_pred = clf.predict(X_test)\n",
    "\n",
    "score = accuracy_score(y_test, y_pred)"
   ]
  },
  {
   "cell_type": "code",
   "execution_count": 1394,
   "metadata": {},
   "outputs": [
    {
     "data": {
      "text/plain": [
       "0.8270042194092827"
      ]
     },
     "execution_count": 1394,
     "metadata": {},
     "output_type": "execute_result"
    }
   ],
   "source": [
    "score"
   ]
  },
  {
   "cell_type": "code",
   "execution_count": 1322,
   "metadata": {},
   "outputs": [],
   "source": [
    "### summary overall\n",
    "## combination with accuracy and random dtection indicators does not improve accuracy of model, or improve a little\n",
    "# resampling into higher timeframe is best case\n",
    "# standard scaling is best improver\n",
    "\n",
    "# next things to test\n",
    "# data with short period of accuracy estimation ml models\n",
    "# apply ml with large data size\n"
   ]
  },
  {
   "cell_type": "code",
   "execution_count": 1464,
   "metadata": {},
   "outputs": [],
   "source": [
    "dataset = weekly_main[['price', 'returns', 'score_50', 'score_100', 'score_200']]"
   ]
  },
  {
   "cell_type": "code",
   "execution_count": 2063,
   "metadata": {},
   "outputs": [],
   "source": [
    "main = dataset.copy()"
   ]
  },
  {
   "cell_type": "code",
   "execution_count": 2064,
   "metadata": {},
   "outputs": [],
   "source": [
    "# combining with accuracy 100 period momentum best result\n",
    "res = generate_features(main).fillna(0)\n",
    "res = main\n",
    "#res = pd.DataFrame(scaler.fit_transform(main), index=main.index, columns=main.columns )\n",
    "\n",
    "size = res.shape[0]\n",
    "#res.loc[:, ['score_50', 'score_100', 'score_200', 'score_500', 'score_800', 'score_1100']]=res[['score_50', 'score_100', 'score_200', 'score_500', 'score_800', 'score_1100']].pct_change(1).fillna(0)\n",
    "#tmp = res[['score_50', 'score_100', 'score_200', 'score_500', 'score_800', 'score_1100']].pct_change(1).fillna(0)\n",
    "\n",
    "#diff = res[accuracy_cols] - res[accuracy_cols].rolling(8).mean().fillna(method='bfill')\n",
    "#roc = res[accuracy_cols].rolling(8).mean().fillna(method='bfill').pct_change(5).fillna(0)\n",
    "\n",
    "#res = res.join(tmp.add_prefix('_roc1'))\n",
    "#res = res.join(diff.add_prefix('_diff'))\n",
    "#res = res.join(roc.add_prefix('_roc'))\n",
    "\n",
    "df = res.copy()    \n",
    "df = df.replace([np.inf, -np.inf],0).fillna(0)\n",
    "\n",
    "df['shift_returns'] = df['returns'].shift(-1).dropna()\n",
    "df = df[df.shift_returns != 0.0].dropna()\n",
    "\n",
    "y = df.iloc[:, -1].copy()\n",
    "y = np.sign(y)\n",
    "X = df.iloc[:, :-1].copy()\n",
    "X = X.fillna(0)\n",
    "\n",
    "random_state=0\n",
    "X_train, X_test, y_train, y_test = train_test_split(X, y, test_size=0.2, random_state=0)\n",
    "X = X.reset_index(drop=True)\n",
    "#print('division:',0, size*0.8)\n",
    "X_train =X.loc[0:int(size*0.80)]\n",
    "y_train = y.loc[0:int(size*0.80)]\n",
    "\n",
    "X_test = X.loc[int(size*0.80)+5:size]\n",
    "y_test = y.loc[int(size*0.80)+5:size]\n",
    "\n",
    "clf = RandomForestClassifier(n_estimators=200, max_depth=20,\n",
    "                             random_state=0)\n",
    "clf.fit(X_train, y_train)\n",
    "\n",
    "y_pred = clf.predict(X_test)\n",
    "\n",
    "score = accuracy_score(y_test, y_pred)"
   ]
  },
  {
   "cell_type": "code",
   "execution_count": 2065,
   "metadata": {},
   "outputs": [
    {
     "data": {
      "text/plain": [
       "0.5654008438818565"
      ]
     },
     "execution_count": 2065,
     "metadata": {},
     "output_type": "execute_result"
    }
   ],
   "source": [
    "score"
   ]
  },
  {
   "cell_type": "code",
   "execution_count": 2066,
   "metadata": {},
   "outputs": [
    {
     "data": {
      "text/html": [
       "<div>\n",
       "<style scoped>\n",
       "    .dataframe tbody tr th:only-of-type {\n",
       "        vertical-align: middle;\n",
       "    }\n",
       "\n",
       "    .dataframe tbody tr th {\n",
       "        vertical-align: top;\n",
       "    }\n",
       "\n",
       "    .dataframe thead th {\n",
       "        text-align: right;\n",
       "    }\n",
       "</style>\n",
       "<table border=\"1\" class=\"dataframe\">\n",
       "  <thead>\n",
       "    <tr style=\"text-align: right;\">\n",
       "      <th></th>\n",
       "      <th>1</th>\n",
       "    </tr>\n",
       "    <tr>\n",
       "      <th>0</th>\n",
       "      <th></th>\n",
       "    </tr>\n",
       "  </thead>\n",
       "  <tbody>\n",
       "    <tr>\n",
       "      <th>50</th>\n",
       "      <td>56.020833</td>\n",
       "    </tr>\n",
       "    <tr>\n",
       "      <th>800</th>\n",
       "      <td>57.216772</td>\n",
       "    </tr>\n",
       "    <tr>\n",
       "      <th>100</th>\n",
       "      <td>57.650602</td>\n",
       "    </tr>\n",
       "    <tr>\n",
       "      <th>200</th>\n",
       "      <td>58.275219</td>\n",
       "    </tr>\n",
       "    <tr>\n",
       "      <th>500</th>\n",
       "      <td>58.471366</td>\n",
       "    </tr>\n",
       "    <tr>\n",
       "      <th>1100</th>\n",
       "      <td>60.052448</td>\n",
       "    </tr>\n",
       "  </tbody>\n",
       "</table>\n",
       "</div>"
      ],
      "text/plain": [
       "              1\n",
       "0              \n",
       "50    56.020833\n",
       "800   57.216772\n",
       "100   57.650602\n",
       "200   58.275219\n",
       "500   58.471366\n",
       "1100  60.052448"
      ]
     },
     "execution_count": 2066,
     "metadata": {},
     "output_type": "execute_result"
    }
   ],
   "source": [
    "pd.DataFrame(scores_list).groupby(0).mean().sort_values(by=1)"
   ]
  },
  {
   "cell_type": "code",
   "execution_count": 2067,
   "metadata": {},
   "outputs": [
    {
     "data": {
      "text/html": [
       "<div>\n",
       "<style scoped>\n",
       "    .dataframe tbody tr th:only-of-type {\n",
       "        vertical-align: middle;\n",
       "    }\n",
       "\n",
       "    .dataframe tbody tr th {\n",
       "        vertical-align: top;\n",
       "    }\n",
       "\n",
       "    .dataframe thead th {\n",
       "        text-align: right;\n",
       "    }\n",
       "</style>\n",
       "<table border=\"1\" class=\"dataframe\">\n",
       "  <thead>\n",
       "    <tr style=\"text-align: right;\">\n",
       "      <th></th>\n",
       "      <th>1</th>\n",
       "    </tr>\n",
       "    <tr>\n",
       "      <th>0</th>\n",
       "      <th></th>\n",
       "    </tr>\n",
       "  </thead>\n",
       "  <tbody>\n",
       "    <tr>\n",
       "      <th>50</th>\n",
       "      <td>56.020833</td>\n",
       "    </tr>\n",
       "    <tr>\n",
       "      <th>800</th>\n",
       "      <td>57.216772</td>\n",
       "    </tr>\n",
       "    <tr>\n",
       "      <th>100</th>\n",
       "      <td>57.650602</td>\n",
       "    </tr>\n",
       "    <tr>\n",
       "      <th>200</th>\n",
       "      <td>58.275219</td>\n",
       "    </tr>\n",
       "    <tr>\n",
       "      <th>500</th>\n",
       "      <td>58.471366</td>\n",
       "    </tr>\n",
       "    <tr>\n",
       "      <th>1100</th>\n",
       "      <td>60.052448</td>\n",
       "    </tr>\n",
       "  </tbody>\n",
       "</table>\n",
       "</div>"
      ],
      "text/plain": [
       "              1\n",
       "0              \n",
       "50    56.020833\n",
       "800   57.216772\n",
       "100   57.650602\n",
       "200   58.275219\n",
       "500   58.471366\n",
       "1100  60.052448"
      ]
     },
     "execution_count": 2067,
     "metadata": {},
     "output_type": "execute_result"
    }
   ],
   "source": [
    "# with accuracy scores\n",
    "pd.DataFrame(scores_list).groupby(0).mean().sort_values(by=1)"
   ]
  },
  {
   "cell_type": "code",
   "execution_count": 2068,
   "metadata": {},
   "outputs": [
    {
     "data": {
      "text/plain": [
       "0.5344878519646425"
      ]
     },
     "execution_count": 2068,
     "metadata": {},
     "output_type": "execute_result"
    }
   ],
   "source": [
    "b =pd.DataFrame(list(zip(y_test, y_pred)))\n",
    "trading_df = X_test[['score_50', 'score_100', 'score_200']].reset_index(drop=True).join(b)\n",
    "trading_df = trading_df.rename(columns={0:'actual', 1:'predicted'})\n",
    "trading_df['profit'] = trading_df.actual * trading_df.predicted\n",
    "trading_df.profit.cumsum().pct_change(3).replace([np.inf, -np.inf],0).fillna(0).mean()*252 / (trading_df.profit.cumsum().pct_change(3).replace([np.inf, -np.inf],0).fillna(0).std() * np.sqrt(252))"
   ]
  },
  {
   "cell_type": "code",
   "execution_count": 2069,
   "metadata": {},
   "outputs": [
    {
     "data": {
      "text/plain": [
       "(474, 6)"
      ]
     },
     "execution_count": 2069,
     "metadata": {},
     "output_type": "execute_result"
    }
   ],
   "source": [
    "trading_df.shape"
   ]
  },
  {
   "cell_type": "code",
   "execution_count": 2070,
   "metadata": {},
   "outputs": [],
   "source": [
    "df = trading_df.sample(400, random_state=0).reset_index(drop=True)"
   ]
  },
  {
   "cell_type": "code",
   "execution_count": 2071,
   "metadata": {},
   "outputs": [
    {
     "data": {
      "text/plain": [
       "<matplotlib.axes._subplots.AxesSubplot at 0x27ecdf30808>"
      ]
     },
     "execution_count": 2071,
     "metadata": {},
     "output_type": "execute_result"
    },
    {
     "data": {
      "image/png": "[encoded data removed]",
      "text/plain": [
       "<Figure size 432x288 with 1 Axes>"
      ]
     },
     "metadata": {
      "needs_background": "light"
     },
     "output_type": "display_data"
    }
   ],
   "source": [
    "trading_df['profit'].cumsum().plot()"
   ]
  },
  {
   "cell_type": "code",
   "execution_count": 2072,
   "metadata": {},
   "outputs": [
    {
     "data": {
      "text/plain": [
       "395    40.0\n",
       "396    41.0\n",
       "397    40.0\n",
       "398    39.0\n",
       "399    38.0\n",
       "Name: profit, dtype: float64"
      ]
     },
     "execution_count": 2072,
     "metadata": {},
     "output_type": "execute_result"
    }
   ],
   "source": [
    "df['profit'].reset_index(drop=True).cumsum().tail()"
   ]
  },
  {
   "cell_type": "code",
   "execution_count": 2073,
   "metadata": {},
   "outputs": [],
   "source": [
    "df['cum_sum'] = df['profit'].reset_index(drop=True).cumsum()"
   ]
  },
  {
   "cell_type": "code",
   "execution_count": 2074,
   "metadata": {},
   "outputs": [],
   "source": [
    "df['cum_sum_roc'] = df['cum_sum'].pct_change().replace([np.inf, -np.inf],0).fillna(0)"
   ]
  },
  {
   "cell_type": "code",
   "execution_count": 2075,
   "metadata": {},
   "outputs": [],
   "source": [
    "df['cum_sum_roc5'] = df['cum_sum'].pct_change(20).replace([np.inf, -np.inf],0).fillna(0)"
   ]
  },
  {
   "cell_type": "code",
   "execution_count": 2076,
   "metadata": {},
   "outputs": [
    {
     "data": {
      "text/plain": [
       "Index(['score_50', 'score_100', 'score_200', 'actual', 'predicted', 'profit',\n",
       "       'cum_sum', 'cum_sum_roc', 'cum_sum_roc5'],\n",
       "      dtype='object')"
      ]
     },
     "execution_count": 2076,
     "metadata": {},
     "output_type": "execute_result"
    }
   ],
   "source": [
    "df.columns"
   ]
  },
  {
   "cell_type": "code",
   "execution_count": 2077,
   "metadata": {},
   "outputs": [],
   "source": [
    "df.drop(columns=['actual', 'predicted','profit'], inplace=True)\n"
   ]
  },
  {
   "cell_type": "code",
   "execution_count": 2078,
   "metadata": {},
   "outputs": [],
   "source": [
    "df['class'] = np.sign(df['cum_sum_roc5'])"
   ]
  },
  {
   "cell_type": "code",
   "execution_count": 2079,
   "metadata": {},
   "outputs": [],
   "source": [
    "df = df[df['class']!=0.0]\n",
    "df['class'] = df['class'].astype('category')"
   ]
  },
  {
   "cell_type": "code",
   "execution_count": 2080,
   "metadata": {},
   "outputs": [],
   "source": [
    "X = df.drop(columns=['cum_sum', 'cum_sum_roc', 'cum_sum_roc5', 'class'])"
   ]
  },
  {
   "cell_type": "code",
   "execution_count": 2081,
   "metadata": {},
   "outputs": [],
   "source": [
    "y=df['class']"
   ]
  },
  {
   "cell_type": "code",
   "execution_count": 2163,
   "metadata": {},
   "outputs": [
    {
     "data": {
      "text/plain": [
       "0.03264246209311664"
      ]
     },
     "execution_count": 2163,
     "metadata": {},
     "output_type": "execute_result"
    }
   ],
   "source": [
    "autoCorrel(df['score_200'], 3)"
   ]
  },
  {
   "cell_type": "code",
   "execution_count": 2150,
   "metadata": {},
   "outputs": [
    {
     "ename": "ValueError",
     "evalue": "Number of labels=53 does not match number of samples=244",
     "output_type": "error",
     "traceback": [
      "\u001b[1;31m---------------------------------------------------------------------------\u001b[0m",
      "\u001b[1;31mValueError\u001b[0m                                Traceback (most recent call last)",
      "\u001b[1;32m<ipython-input-2150-1a245c384086>\u001b[0m in \u001b[0;36m<module>\u001b[1;34m\u001b[0m\n\u001b[0;32m     12\u001b[0m clf = RandomForestClassifier(n_estimators=200, max_depth=20,\n\u001b[0;32m     13\u001b[0m                              random_state=0)\n\u001b[1;32m---> 14\u001b[1;33m \u001b[0mclf\u001b[0m\u001b[1;33m.\u001b[0m\u001b[0mfit\u001b[0m\u001b[1;33m(\u001b[0m\u001b[0mX_train\u001b[0m\u001b[1;33m,\u001b[0m \u001b[0my_test\u001b[0m\u001b[1;33m)\u001b[0m\u001b[1;33m\u001b[0m\u001b[1;33m\u001b[0m\u001b[0m\n\u001b[0m\u001b[0;32m     15\u001b[0m \u001b[1;33m\u001b[0m\u001b[0m\n\u001b[0;32m     16\u001b[0m \u001b[0my_pred\u001b[0m \u001b[1;33m=\u001b[0m \u001b[0mclf\u001b[0m\u001b[1;33m.\u001b[0m\u001b[0mpredict\u001b[0m\u001b[1;33m(\u001b[0m\u001b[0mX_train\u001b[0m\u001b[1;33m)\u001b[0m\u001b[1;33m\u001b[0m\u001b[1;33m\u001b[0m\u001b[0m\n",
      "\u001b[1;32m~\\.conda\\envs\\quant\\lib\\site-packages\\sklearn\\ensemble\\forest.py\u001b[0m in \u001b[0;36mfit\u001b[1;34m(self, X, y, sample_weight)\u001b[0m\n\u001b[0;32m    328\u001b[0m                     \u001b[0mt\u001b[0m\u001b[1;33m,\u001b[0m \u001b[0mself\u001b[0m\u001b[1;33m,\u001b[0m \u001b[0mX\u001b[0m\u001b[1;33m,\u001b[0m \u001b[0my\u001b[0m\u001b[1;33m,\u001b[0m \u001b[0msample_weight\u001b[0m\u001b[1;33m,\u001b[0m \u001b[0mi\u001b[0m\u001b[1;33m,\u001b[0m \u001b[0mlen\u001b[0m\u001b[1;33m(\u001b[0m\u001b[0mtrees\u001b[0m\u001b[1;33m)\u001b[0m\u001b[1;33m,\u001b[0m\u001b[1;33m\u001b[0m\u001b[1;33m\u001b[0m\u001b[0m\n\u001b[0;32m    329\u001b[0m                     verbose=self.verbose, class_weight=self.class_weight)\n\u001b[1;32m--> 330\u001b[1;33m                 for i, t in enumerate(trees))\n\u001b[0m\u001b[0;32m    331\u001b[0m \u001b[1;33m\u001b[0m\u001b[0m\n\u001b[0;32m    332\u001b[0m             \u001b[1;31m# Collect newly grown trees\u001b[0m\u001b[1;33m\u001b[0m\u001b[1;33m\u001b[0m\u001b[1;33m\u001b[0m\u001b[0m\n",
      "\u001b[1;32m~\\.conda\\envs\\quant\\lib\\site-packages\\joblib\\parallel.py\u001b[0m in \u001b[0;36m__call__\u001b[1;34m(self, iterable)\u001b[0m\n\u001b[0;32m    919\u001b[0m             \u001b[1;31m# remaining jobs.\u001b[0m\u001b[1;33m\u001b[0m\u001b[1;33m\u001b[0m\u001b[1;33m\u001b[0m\u001b[0m\n\u001b[0;32m    920\u001b[0m             \u001b[0mself\u001b[0m\u001b[1;33m.\u001b[0m\u001b[0m_iterating\u001b[0m \u001b[1;33m=\u001b[0m \u001b[1;32mFalse\u001b[0m\u001b[1;33m\u001b[0m\u001b[1;33m\u001b[0m\u001b[0m\n\u001b[1;32m--> 921\u001b[1;33m             \u001b[1;32mif\u001b[0m \u001b[0mself\u001b[0m\u001b[1;33m.\u001b[0m\u001b[0mdispatch_one_batch\u001b[0m\u001b[1;33m(\u001b[0m\u001b[0miterator\u001b[0m\u001b[1;33m)\u001b[0m\u001b[1;33m:\u001b[0m\u001b[1;33m\u001b[0m\u001b[1;33m\u001b[0m\u001b[0m\n\u001b[0m\u001b[0;32m    922\u001b[0m                 \u001b[0mself\u001b[0m\u001b[1;33m.\u001b[0m\u001b[0m_iterating\u001b[0m \u001b[1;33m=\u001b[0m \u001b[0mself\u001b[0m\u001b[1;33m.\u001b[0m\u001b[0m_original_iterator\u001b[0m \u001b[1;32mis\u001b[0m \u001b[1;32mnot\u001b[0m \u001b[1;32mNone\u001b[0m\u001b[1;33m\u001b[0m\u001b[1;33m\u001b[0m\u001b[0m\n\u001b[0;32m    923\u001b[0m \u001b[1;33m\u001b[0m\u001b[0m\n",
      "\u001b[1;32m~\\.conda\\envs\\quant\\lib\\site-packages\\joblib\\parallel.py\u001b[0m in \u001b[0;36mdispatch_one_batch\u001b[1;34m(self, iterator)\u001b[0m\n\u001b[0;32m    757\u001b[0m                 \u001b[1;32mreturn\u001b[0m \u001b[1;32mFalse\u001b[0m\u001b[1;33m\u001b[0m\u001b[1;33m\u001b[0m\u001b[0m\n\u001b[0;32m    758\u001b[0m             \u001b[1;32melse\u001b[0m\u001b[1;33m:\u001b[0m\u001b[1;33m\u001b[0m\u001b[1;33m\u001b[0m\u001b[0m\n\u001b[1;32m--> 759\u001b[1;33m                 \u001b[0mself\u001b[0m\u001b[1;33m.\u001b[0m\u001b[0m_dispatch\u001b[0m\u001b[1;33m(\u001b[0m\u001b[0mtasks\u001b[0m\u001b[1;33m)\u001b[0m\u001b[1;33m\u001b[0m\u001b[1;33m\u001b[0m\u001b[0m\n\u001b[0m\u001b[0;32m    760\u001b[0m                 \u001b[1;32mreturn\u001b[0m \u001b[1;32mTrue\u001b[0m\u001b[1;33m\u001b[0m\u001b[1;33m\u001b[0m\u001b[0m\n\u001b[0;32m    761\u001b[0m \u001b[1;33m\u001b[0m\u001b[0m\n",
      "\u001b[1;32m~\\.conda\\envs\\quant\\lib\\site-packages\\joblib\\parallel.py\u001b[0m in \u001b[0;36m_dispatch\u001b[1;34m(self, batch)\u001b[0m\n\u001b[0;32m    714\u001b[0m         \u001b[1;32mwith\u001b[0m \u001b[0mself\u001b[0m\u001b[1;33m.\u001b[0m\u001b[0m_lock\u001b[0m\u001b[1;33m:\u001b[0m\u001b[1;33m\u001b[0m\u001b[1;33m\u001b[0m\u001b[0m\n\u001b[0;32m    715\u001b[0m             \u001b[0mjob_idx\u001b[0m \u001b[1;33m=\u001b[0m \u001b[0mlen\u001b[0m\u001b[1;33m(\u001b[0m\u001b[0mself\u001b[0m\u001b[1;33m.\u001b[0m\u001b[0m_jobs\u001b[0m\u001b[1;33m)\u001b[0m\u001b[1;33m\u001b[0m\u001b[1;33m\u001b[0m\u001b[0m\n\u001b[1;32m--> 716\u001b[1;33m             \u001b[0mjob\u001b[0m \u001b[1;33m=\u001b[0m \u001b[0mself\u001b[0m\u001b[1;33m.\u001b[0m\u001b[0m_backend\u001b[0m\u001b[1;33m.\u001b[0m\u001b[0mapply_async\u001b[0m\u001b[1;33m(\u001b[0m\u001b[0mbatch\u001b[0m\u001b[1;33m,\u001b[0m \u001b[0mcallback\u001b[0m\u001b[1;33m=\u001b[0m\u001b[0mcb\u001b[0m\u001b[1;33m)\u001b[0m\u001b[1;33m\u001b[0m\u001b[1;33m\u001b[0m\u001b[0m\n\u001b[0m\u001b[0;32m    717\u001b[0m             \u001b[1;31m# A job can complete so quickly than its callback is\u001b[0m\u001b[1;33m\u001b[0m\u001b[1;33m\u001b[0m\u001b[1;33m\u001b[0m\u001b[0m\n\u001b[0;32m    718\u001b[0m             \u001b[1;31m# called before we get here, causing self._jobs to\u001b[0m\u001b[1;33m\u001b[0m\u001b[1;33m\u001b[0m\u001b[1;33m\u001b[0m\u001b[0m\n",
      "\u001b[1;32m~\\.conda\\envs\\quant\\lib\\site-packages\\joblib\\_parallel_backends.py\u001b[0m in \u001b[0;36mapply_async\u001b[1;34m(self, func, callback)\u001b[0m\n\u001b[0;32m    180\u001b[0m     \u001b[1;32mdef\u001b[0m \u001b[0mapply_async\u001b[0m\u001b[1;33m(\u001b[0m\u001b[0mself\u001b[0m\u001b[1;33m,\u001b[0m \u001b[0mfunc\u001b[0m\u001b[1;33m,\u001b[0m \u001b[0mcallback\u001b[0m\u001b[1;33m=\u001b[0m\u001b[1;32mNone\u001b[0m\u001b[1;33m)\u001b[0m\u001b[1;33m:\u001b[0m\u001b[1;33m\u001b[0m\u001b[1;33m\u001b[0m\u001b[0m\n\u001b[0;32m    181\u001b[0m         \u001b[1;34m\"\"\"Schedule a func to be run\"\"\"\u001b[0m\u001b[1;33m\u001b[0m\u001b[1;33m\u001b[0m\u001b[0m\n\u001b[1;32m--> 182\u001b[1;33m         \u001b[0mresult\u001b[0m \u001b[1;33m=\u001b[0m \u001b[0mImmediateResult\u001b[0m\u001b[1;33m(\u001b[0m\u001b[0mfunc\u001b[0m\u001b[1;33m)\u001b[0m\u001b[1;33m\u001b[0m\u001b[1;33m\u001b[0m\u001b[0m\n\u001b[0m\u001b[0;32m    183\u001b[0m         \u001b[1;32mif\u001b[0m \u001b[0mcallback\u001b[0m\u001b[1;33m:\u001b[0m\u001b[1;33m\u001b[0m\u001b[1;33m\u001b[0m\u001b[0m\n\u001b[0;32m    184\u001b[0m             \u001b[0mcallback\u001b[0m\u001b[1;33m(\u001b[0m\u001b[0mresult\u001b[0m\u001b[1;33m)\u001b[0m\u001b[1;33m\u001b[0m\u001b[1;33m\u001b[0m\u001b[0m\n",
      "\u001b[1;32m~\\.conda\\envs\\quant\\lib\\site-packages\\joblib\\_parallel_backends.py\u001b[0m in \u001b[0;36m__init__\u001b[1;34m(self, batch)\u001b[0m\n\u001b[0;32m    547\u001b[0m         \u001b[1;31m# Don't delay the application, to avoid keeping the input\u001b[0m\u001b[1;33m\u001b[0m\u001b[1;33m\u001b[0m\u001b[1;33m\u001b[0m\u001b[0m\n\u001b[0;32m    548\u001b[0m         \u001b[1;31m# arguments in memory\u001b[0m\u001b[1;33m\u001b[0m\u001b[1;33m\u001b[0m\u001b[1;33m\u001b[0m\u001b[0m\n\u001b[1;32m--> 549\u001b[1;33m         \u001b[0mself\u001b[0m\u001b[1;33m.\u001b[0m\u001b[0mresults\u001b[0m \u001b[1;33m=\u001b[0m \u001b[0mbatch\u001b[0m\u001b[1;33m(\u001b[0m\u001b[1;33m)\u001b[0m\u001b[1;33m\u001b[0m\u001b[1;33m\u001b[0m\u001b[0m\n\u001b[0m\u001b[0;32m    550\u001b[0m \u001b[1;33m\u001b[0m\u001b[0m\n\u001b[0;32m    551\u001b[0m     \u001b[1;32mdef\u001b[0m \u001b[0mget\u001b[0m\u001b[1;33m(\u001b[0m\u001b[0mself\u001b[0m\u001b[1;33m)\u001b[0m\u001b[1;33m:\u001b[0m\u001b[1;33m\u001b[0m\u001b[1;33m\u001b[0m\u001b[0m\n",
      "\u001b[1;32m~\\.conda\\envs\\quant\\lib\\site-packages\\joblib\\parallel.py\u001b[0m in \u001b[0;36m__call__\u001b[1;34m(self)\u001b[0m\n\u001b[0;32m    223\u001b[0m         \u001b[1;32mwith\u001b[0m \u001b[0mparallel_backend\u001b[0m\u001b[1;33m(\u001b[0m\u001b[0mself\u001b[0m\u001b[1;33m.\u001b[0m\u001b[0m_backend\u001b[0m\u001b[1;33m,\u001b[0m \u001b[0mn_jobs\u001b[0m\u001b[1;33m=\u001b[0m\u001b[0mself\u001b[0m\u001b[1;33m.\u001b[0m\u001b[0m_n_jobs\u001b[0m\u001b[1;33m)\u001b[0m\u001b[1;33m:\u001b[0m\u001b[1;33m\u001b[0m\u001b[1;33m\u001b[0m\u001b[0m\n\u001b[0;32m    224\u001b[0m             return [func(*args, **kwargs)\n\u001b[1;32m--> 225\u001b[1;33m                     for func, args, kwargs in self.items]\n\u001b[0m\u001b[0;32m    226\u001b[0m \u001b[1;33m\u001b[0m\u001b[0m\n\u001b[0;32m    227\u001b[0m     \u001b[1;32mdef\u001b[0m \u001b[0m__len__\u001b[0m\u001b[1;33m(\u001b[0m\u001b[0mself\u001b[0m\u001b[1;33m)\u001b[0m\u001b[1;33m:\u001b[0m\u001b[1;33m\u001b[0m\u001b[1;33m\u001b[0m\u001b[0m\n",
      "\u001b[1;32m~\\.conda\\envs\\quant\\lib\\site-packages\\joblib\\parallel.py\u001b[0m in \u001b[0;36m<listcomp>\u001b[1;34m(.0)\u001b[0m\n\u001b[0;32m    223\u001b[0m         \u001b[1;32mwith\u001b[0m \u001b[0mparallel_backend\u001b[0m\u001b[1;33m(\u001b[0m\u001b[0mself\u001b[0m\u001b[1;33m.\u001b[0m\u001b[0m_backend\u001b[0m\u001b[1;33m,\u001b[0m \u001b[0mn_jobs\u001b[0m\u001b[1;33m=\u001b[0m\u001b[0mself\u001b[0m\u001b[1;33m.\u001b[0m\u001b[0m_n_jobs\u001b[0m\u001b[1;33m)\u001b[0m\u001b[1;33m:\u001b[0m\u001b[1;33m\u001b[0m\u001b[1;33m\u001b[0m\u001b[0m\n\u001b[0;32m    224\u001b[0m             return [func(*args, **kwargs)\n\u001b[1;32m--> 225\u001b[1;33m                     for func, args, kwargs in self.items]\n\u001b[0m\u001b[0;32m    226\u001b[0m \u001b[1;33m\u001b[0m\u001b[0m\n\u001b[0;32m    227\u001b[0m     \u001b[1;32mdef\u001b[0m \u001b[0m__len__\u001b[0m\u001b[1;33m(\u001b[0m\u001b[0mself\u001b[0m\u001b[1;33m)\u001b[0m\u001b[1;33m:\u001b[0m\u001b[1;33m\u001b[0m\u001b[1;33m\u001b[0m\u001b[0m\n",
      "\u001b[1;32m~\\.conda\\envs\\quant\\lib\\site-packages\\sklearn\\ensemble\\forest.py\u001b[0m in \u001b[0;36m_parallel_build_trees\u001b[1;34m(tree, forest, X, y, sample_weight, tree_idx, n_trees, verbose, class_weight)\u001b[0m\n\u001b[0;32m    116\u001b[0m             \u001b[0mcurr_sample_weight\u001b[0m \u001b[1;33m*=\u001b[0m \u001b[0mcompute_sample_weight\u001b[0m\u001b[1;33m(\u001b[0m\u001b[1;34m'balanced'\u001b[0m\u001b[1;33m,\u001b[0m \u001b[0my\u001b[0m\u001b[1;33m,\u001b[0m \u001b[0mindices\u001b[0m\u001b[1;33m)\u001b[0m\u001b[1;33m\u001b[0m\u001b[1;33m\u001b[0m\u001b[0m\n\u001b[0;32m    117\u001b[0m \u001b[1;33m\u001b[0m\u001b[0m\n\u001b[1;32m--> 118\u001b[1;33m         \u001b[0mtree\u001b[0m\u001b[1;33m.\u001b[0m\u001b[0mfit\u001b[0m\u001b[1;33m(\u001b[0m\u001b[0mX\u001b[0m\u001b[1;33m,\u001b[0m \u001b[0my\u001b[0m\u001b[1;33m,\u001b[0m \u001b[0msample_weight\u001b[0m\u001b[1;33m=\u001b[0m\u001b[0mcurr_sample_weight\u001b[0m\u001b[1;33m,\u001b[0m \u001b[0mcheck_input\u001b[0m\u001b[1;33m=\u001b[0m\u001b[1;32mFalse\u001b[0m\u001b[1;33m)\u001b[0m\u001b[1;33m\u001b[0m\u001b[1;33m\u001b[0m\u001b[0m\n\u001b[0m\u001b[0;32m    119\u001b[0m     \u001b[1;32melse\u001b[0m\u001b[1;33m:\u001b[0m\u001b[1;33m\u001b[0m\u001b[1;33m\u001b[0m\u001b[0m\n\u001b[0;32m    120\u001b[0m         \u001b[0mtree\u001b[0m\u001b[1;33m.\u001b[0m\u001b[0mfit\u001b[0m\u001b[1;33m(\u001b[0m\u001b[0mX\u001b[0m\u001b[1;33m,\u001b[0m \u001b[0my\u001b[0m\u001b[1;33m,\u001b[0m \u001b[0msample_weight\u001b[0m\u001b[1;33m=\u001b[0m\u001b[0msample_weight\u001b[0m\u001b[1;33m,\u001b[0m \u001b[0mcheck_input\u001b[0m\u001b[1;33m=\u001b[0m\u001b[1;32mFalse\u001b[0m\u001b[1;33m)\u001b[0m\u001b[1;33m\u001b[0m\u001b[1;33m\u001b[0m\u001b[0m\n",
      "\u001b[1;32m~\\.conda\\envs\\quant\\lib\\site-packages\\sklearn\\tree\\tree.py\u001b[0m in \u001b[0;36mfit\u001b[1;34m(self, X, y, sample_weight, check_input, X_idx_sorted)\u001b[0m\n\u001b[0;32m    814\u001b[0m             \u001b[0msample_weight\u001b[0m\u001b[1;33m=\u001b[0m\u001b[0msample_weight\u001b[0m\u001b[1;33m,\u001b[0m\u001b[1;33m\u001b[0m\u001b[1;33m\u001b[0m\u001b[0m\n\u001b[0;32m    815\u001b[0m             \u001b[0mcheck_input\u001b[0m\u001b[1;33m=\u001b[0m\u001b[0mcheck_input\u001b[0m\u001b[1;33m,\u001b[0m\u001b[1;33m\u001b[0m\u001b[1;33m\u001b[0m\u001b[0m\n\u001b[1;32m--> 816\u001b[1;33m             X_idx_sorted=X_idx_sorted)\n\u001b[0m\u001b[0;32m    817\u001b[0m         \u001b[1;32mreturn\u001b[0m \u001b[0mself\u001b[0m\u001b[1;33m\u001b[0m\u001b[1;33m\u001b[0m\u001b[0m\n\u001b[0;32m    818\u001b[0m \u001b[1;33m\u001b[0m\u001b[0m\n",
      "\u001b[1;32m~\\.conda\\envs\\quant\\lib\\site-packages\\sklearn\\tree\\tree.py\u001b[0m in \u001b[0;36mfit\u001b[1;34m(self, X, y, sample_weight, check_input, X_idx_sorted)\u001b[0m\n\u001b[0;32m    248\u001b[0m         \u001b[1;32mif\u001b[0m \u001b[0mlen\u001b[0m\u001b[1;33m(\u001b[0m\u001b[0my\u001b[0m\u001b[1;33m)\u001b[0m \u001b[1;33m!=\u001b[0m \u001b[0mn_samples\u001b[0m\u001b[1;33m:\u001b[0m\u001b[1;33m\u001b[0m\u001b[1;33m\u001b[0m\u001b[0m\n\u001b[0;32m    249\u001b[0m             raise ValueError(\"Number of labels=%d does not match \"\n\u001b[1;32m--> 250\u001b[1;33m                              \"number of samples=%d\" % (len(y), n_samples))\n\u001b[0m\u001b[0;32m    251\u001b[0m         \u001b[1;32mif\u001b[0m \u001b[1;32mnot\u001b[0m \u001b[1;36m0\u001b[0m \u001b[1;33m<=\u001b[0m \u001b[0mself\u001b[0m\u001b[1;33m.\u001b[0m\u001b[0mmin_weight_fraction_leaf\u001b[0m \u001b[1;33m<=\u001b[0m \u001b[1;36m0.5\u001b[0m\u001b[1;33m:\u001b[0m\u001b[1;33m\u001b[0m\u001b[1;33m\u001b[0m\u001b[0m\n\u001b[0;32m    252\u001b[0m             \u001b[1;32mraise\u001b[0m \u001b[0mValueError\u001b[0m\u001b[1;33m(\u001b[0m\u001b[1;34m\"min_weight_fraction_leaf must in [0, 0.5]\"\u001b[0m\u001b[1;33m)\u001b[0m\u001b[1;33m\u001b[0m\u001b[1;33m\u001b[0m\u001b[0m\n",
      "\u001b[1;31mValueError\u001b[0m: Number of labels=53 does not match number of samples=244"
     ]
    }
   ],
   "source": [
    "X_train, X_test, y_train, y_test = train_test_split(X, y, test_size=0.2, random_state=0)\n",
    "X = X.reset_index(drop=True)\n",
    "#print('division:',0, size*0.8)\n",
    "\n",
    "size = X.shape[0]\n",
    "X_train =X.loc[0:int(size*0.80)]\n",
    "y_train = y.loc[0:int(size*0.80)]\n",
    "\n",
    "X_test = X.loc[int(size*0.80):size]\n",
    "y_test = y.loc[int(size*0.80):size]\n",
    "\n",
    "clf = RandomForestClassifier(n_estimators=200, max_depth=20,\n",
    "                             random_state=0)\n",
    "clf.fit(X_train, y_test)\n",
    "\n",
    "y_pred = clf.predict(X_train)\n",
    "\n",
    "score = accuracy_score(y_test, y_pred)"
   ]
  },
  {
   "cell_type": "code",
   "execution_count": 2144,
   "metadata": {},
   "outputs": [
    {
     "data": {
      "text/plain": [
       "(244, 3)"
      ]
     },
     "execution_count": 2144,
     "metadata": {},
     "output_type": "execute_result"
    }
   ],
   "source": [
    "X_train.shape"
   ]
  },
  {
   "cell_type": "code",
   "execution_count": 2145,
   "metadata": {},
   "outputs": [
    {
     "data": {
      "text/plain": [
       "60.800000000000004"
      ]
     },
     "execution_count": 2145,
     "metadata": {},
     "output_type": "execute_result"
    }
   ],
   "source": [
    "X.shape[0]*0.2"
   ]
  },
  {
   "cell_type": "code",
   "execution_count": 2148,
   "metadata": {},
   "outputs": [
    {
     "data": {
      "text/plain": [
       "(53,)"
      ]
     },
     "execution_count": 2148,
     "metadata": {},
     "output_type": "execute_result"
    }
   ],
   "source": [
    "y_test.shape"
   ]
  },
  {
   "cell_type": "code",
   "execution_count": 2143,
   "metadata": {},
   "outputs": [
    {
     "data": {
      "text/plain": [
       "0.6973684210526315"
      ]
     },
     "execution_count": 2143,
     "metadata": {},
     "output_type": "execute_result"
    }
   ],
   "source": [
    "score"
   ]
  },
  {
   "cell_type": "code",
   "execution_count": 2114,
   "metadata": {},
   "outputs": [],
   "source": [
    "### practical application"
   ]
  },
  {
   "cell_type": "code",
   "execution_count": 2117,
   "metadata": {},
   "outputs": [],
   "source": [
    "trading_df['entry'] = clf.predict(trading_df[['score_50', 'score_100', 'score_200']])"
   ]
  },
  {
   "cell_type": "code",
   "execution_count": 2122,
   "metadata": {},
   "outputs": [
    {
     "data": {
      "text/plain": [
       "<matplotlib.axes._subplots.AxesSubplot at 0x27ecdf9e488>"
      ]
     },
     "execution_count": 2122,
     "metadata": {},
     "output_type": "execute_result"
    },
    {
     "data": {
      "image/png": "[encoded data removed]",
      "text/plain": [
       "<Figure size 432x288 with 1 Axes>"
      ]
     },
     "metadata": {
      "needs_background": "light"
     },
     "output_type": "display_data"
    }
   ],
   "source": [
    "trading_df[trading_df.entry==1]['profit'].cumsum().plot()"
   ]
  },
  {
   "cell_type": "code",
   "execution_count": 2164,
   "metadata": {},
   "outputs": [],
   "source": [
    "# need to think how to split test and train dataset for practical purposes\n",
    "# shift , we know market regive after trade completion\n",
    "# rolling ML"
   ]
  },
  {
   "cell_type": "code",
   "execution_count": 1649,
   "metadata": {},
   "outputs": [],
   "source": [
    "# https://docs.pymc.io/notebooks/GLM-rolling-regression.html\n",
    "# https://pypi.org/project/pyfinance/\n",
    "# https://www.statsmodels.org/dev/examples/notebooks/generated/rolling_ls.html"
   ]
  },
  {
   "cell_type": "code",
   "execution_count": null,
   "metadata": {},
   "outputs": [],
   "source": []
  }
 ],
 "metadata": {
  "kernelspec": {
   "display_name": "Python 3",
   "language": "python",
   "name": "python3"
  },
  "language_info": {
   "codemirror_mode": {
    "name": "ipython",
    "version": 3
   },
   "file_extension": ".py",
   "mimetype": "text/x-python",
   "name": "python",
   "nbconvert_exporter": "python",
   "pygments_lexer": "ipython3",
   "version": "3.7.4"
  }
 },
 "nbformat": 4,
 "nbformat_minor": 2
}
