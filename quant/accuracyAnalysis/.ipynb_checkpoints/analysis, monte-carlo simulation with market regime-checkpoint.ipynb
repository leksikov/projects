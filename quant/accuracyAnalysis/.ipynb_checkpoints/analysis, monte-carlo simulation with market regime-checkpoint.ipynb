{
 "cells": [
  {
   "cell_type": "code",
   "execution_count": 1,
   "metadata": {},
   "outputs": [],
   "source": [
    "import numpy as np\n",
    "import pandas as pd\n",
    "\n",
    "import numpy as np\n",
    "from pandas.tseries.offsets import BDay\n",
    "import math\n",
    "import random\n",
    "\n",
    "import matplotlib.pyplot as plt\n",
    "\n",
    "import seaborn as sns; sns.set()\n",
    "%matplotlib inline"
   ]
  },
  {
   "cell_type": "code",
   "execution_count": 2,
   "metadata": {},
   "outputs": [],
   "source": [
    "from pyfinance import TSeries\n"
   ]
  },
  {
   "cell_type": "code",
   "execution_count": 3,
   "metadata": {},
   "outputs": [],
   "source": [
    "from hurst import compute_Hc, random_walk"
   ]
  },
  {
   "cell_type": "code",
   "execution_count": 4,
   "metadata": {},
   "outputs": [],
   "source": [
    "from sklearn.ensemble import RandomForestClassifier\n",
    "from sklearn.model_selection import train_test_split\n",
    "from sklearn.metrics import mean_squared_error, r2_score\n",
    "from sklearn.metrics import accuracy_score\n",
    "from sklearn.preprocessing import MinMaxScaler, StandardScaler\n",
    "from hurst import compute_Hc, random_walk\n",
    "from sklearn.linear_model import LinearRegression\n",
    "from sklearn.linear_model import Ridge, Lasso"
   ]
  },
  {
   "cell_type": "code",
   "execution_count": 10,
   "metadata": {},
   "outputs": [],
   "source": [
    "# Load datasets"
   ]
  },
  {
   "cell_type": "code",
   "execution_count": 13,
   "metadata": {},
   "outputs": [],
   "source": [
    "X_basic = pd.read_pickle('model_0_Xtest.pkl')\n",
    "y_basic = pd.read_pickle('model_0_ytest.pkl')"
   ]
  },
  {
   "cell_type": "code",
   "execution_count": 16,
   "metadata": {},
   "outputs": [],
   "source": [
    "X_roc5_1 = pd.read_pickle('model_1_Xtest.pkl')\n",
    "y_roc5_1 = pd.read_pickle('model_1_ytest.pkl')"
   ]
  },
  {
   "cell_type": "code",
   "execution_count": 17,
   "metadata": {},
   "outputs": [],
   "source": [
    "X_5h_2 = pd.read_pickle('model_2_Xtest.pkl')\n",
    "y_5h_2 = pd.read_pickle('model_2_ytest.pkl')"
   ]
  },
  {
   "cell_type": "code",
   "execution_count": 19,
   "metadata": {},
   "outputs": [],
   "source": [
    "# load ML modules"
   ]
  },
  {
   "cell_type": "code",
   "execution_count": 21,
   "metadata": {},
   "outputs": [],
   "source": [
    "import pickle"
   ]
  },
  {
   "cell_type": "code",
   "execution_count": 22,
   "metadata": {},
   "outputs": [],
   "source": [
    "filename = 'model_no0_basic.sav'\n",
    "model_basic = pickle.load(open(filename, 'rb'))"
   ]
  },
  {
   "cell_type": "code",
   "execution_count": 23,
   "metadata": {},
   "outputs": [],
   "source": [
    "filename = 'model_no1_roc_5.sav'\n",
    "model_roc5_1 = pickle.load(open(filename, 'rb'))"
   ]
  },
  {
   "cell_type": "code",
   "execution_count": 24,
   "metadata": {},
   "outputs": [],
   "source": [
    "filename = 'model_no2_5hour.sav'\n",
    "model_5h_2 = pickle.load(open(filename, 'rb'))"
   ]
  },
  {
   "cell_type": "code",
   "execution_count": 25,
   "metadata": {},
   "outputs": [],
   "source": [
    "#### Iteration accuracy prediction"
   ]
  },
  {
   "cell_type": "code",
   "execution_count": 29,
   "metadata": {},
   "outputs": [],
   "source": [
    "# basic model"
   ]
  },
  {
   "cell_type": "code",
   "execution_count": 26,
   "metadata": {},
   "outputs": [
    {
     "data": {
      "text/plain": [
       "0.54304"
      ]
     },
     "execution_count": 26,
     "metadata": {},
     "output_type": "execute_result"
    }
   ],
   "source": [
    "model_basic.score(X_basic, y_basic)"
   ]
  },
  {
   "cell_type": "code",
   "execution_count": 27,
   "metadata": {},
   "outputs": [],
   "source": [
    "y_pred = model_basic.predict(X_basic)"
   ]
  },
  {
   "cell_type": "code",
   "execution_count": 28,
   "metadata": {},
   "outputs": [
    {
     "data": {
      "text/plain": [
       "array([-1., -1., -1., ...,  1., -1., -1.])"
      ]
     },
     "execution_count": 28,
     "metadata": {},
     "output_type": "execute_result"
    }
   ],
   "source": [
    "y_pred"
   ]
  },
  {
   "cell_type": "code",
   "execution_count": 266,
   "metadata": {},
   "outputs": [],
   "source": [
    "result_basic = []\n",
    "for i in range(0, 1001):\n",
    "    sampled_X = X_basic.sample(300)\n",
    "    index_x = sampled_X.index\n",
    "    \n",
    "    score = model_basic.score(sampled_X, y_basic.loc[index_x,:])\n",
    "    result_basic.append(score)"
   ]
  },
  {
   "cell_type": "code",
   "execution_count": 267,
   "metadata": {},
   "outputs": [
    {
     "data": {
      "text/plain": [
       "(array([ 1.,  0.,  0.,  2.,  1.,  2.,  4.,  6.,  5.,  9., 15., 14., 16.,\n",
       "        15., 28., 25., 18., 27., 35., 41., 36., 43., 50., 45., 43., 41.,\n",
       "        38., 44., 36., 41., 51., 37., 45., 30., 26., 25., 18., 22., 12.,\n",
       "        10., 13.,  7.,  9.,  3.,  3.,  2.,  3.,  1.,  2.,  1.]),\n",
       " array([0.46      , 0.46326667, 0.46653333, 0.4698    , 0.47306667,\n",
       "        0.47633333, 0.4796    , 0.48286667, 0.48613333, 0.4894    ,\n",
       "        0.49266667, 0.49593333, 0.4992    , 0.50246667, 0.50573333,\n",
       "        0.509     , 0.51226667, 0.51553333, 0.5188    , 0.52206667,\n",
       "        0.52533333, 0.5286    , 0.53186667, 0.53513333, 0.5384    ,\n",
       "        0.54166667, 0.54493333, 0.5482    , 0.55146667, 0.55473333,\n",
       "        0.558     , 0.56126667, 0.56453333, 0.5678    , 0.57106667,\n",
       "        0.57433333, 0.5776    , 0.58086667, 0.58413333, 0.5874    ,\n",
       "        0.59066667, 0.59393333, 0.5972    , 0.60046667, 0.60373333,\n",
       "        0.607     , 0.61026667, 0.61353333, 0.6168    , 0.62006667,\n",
       "        0.62333333]),\n",
       " <a list of 50 Patch objects>)"
      ]
     },
     "execution_count": 267,
     "metadata": {},
     "output_type": "execute_result"
    },
    {
     "data": {
      "image/png": "[encoded data removed]",
      "text/plain": [
       "<Figure size 432x288 with 1 Axes>"
      ]
     },
     "metadata": {
      "needs_background": "light"
     },
     "output_type": "display_data"
    }
   ],
   "source": [
    "plt.hist(result_basic, bins=50)"
   ]
  },
  {
   "cell_type": "code",
   "execution_count": 268,
   "metadata": {},
   "outputs": [
    {
     "data": {
      "text/plain": [
       "0.5433333333333333"
      ]
     },
     "execution_count": 268,
     "metadata": {},
     "output_type": "execute_result"
    }
   ],
   "source": [
    "np.median(result_basic)"
   ]
  },
  {
   "cell_type": "code",
   "execution_count": 269,
   "metadata": {},
   "outputs": [
    {
     "data": {
      "text/plain": [
       "0.028065110020051822"
      ]
     },
     "execution_count": 269,
     "metadata": {},
     "output_type": "execute_result"
    }
   ],
   "source": [
    "np.std(result_basic)"
   ]
  },
  {
   "cell_type": "code",
   "execution_count": 270,
   "metadata": {},
   "outputs": [
    {
     "data": {
      "text/plain": [
       "0.59"
      ]
     },
     "execution_count": 270,
     "metadata": {},
     "output_type": "execute_result"
    }
   ],
   "source": [
    "np.percentile(result_basic, q=95)"
   ]
  },
  {
   "cell_type": "code",
   "execution_count": 42,
   "metadata": {},
   "outputs": [],
   "source": [
    "### Roc5 model 1"
   ]
  },
  {
   "cell_type": "code",
   "execution_count": 261,
   "metadata": {},
   "outputs": [],
   "source": [
    "result_basic = []\n",
    "for i in range(0, 1001):\n",
    "    sampled_X = X_roc5_1.sample(300)\n",
    "    index_x = sampled_X.index\n",
    "    \n",
    "    score = model_roc5_1.score(sampled_X, y_roc5_1.loc[index_x,:])\n",
    "    result_basic.append(score)"
   ]
  },
  {
   "cell_type": "code",
   "execution_count": 262,
   "metadata": {},
   "outputs": [
    {
     "data": {
      "text/plain": [
       "(array([ 1.,  1.,  0.,  2.,  2.,  3.,  2.,  5., 10.,  6., 15., 14., 14.,\n",
       "        19., 28., 24., 35., 38., 45., 51., 52., 44., 55., 54.,  0., 62.,\n",
       "        57., 49., 52., 45., 20., 43., 22., 32., 15., 20., 11., 13.,  9.,\n",
       "         4., 12.,  5.,  5.,  4.,  0.,  0.,  0.,  0.,  0.,  1.]),\n",
       " array([0.67  , 0.6732, 0.6764, 0.6796, 0.6828, 0.686 , 0.6892, 0.6924,\n",
       "        0.6956, 0.6988, 0.702 , 0.7052, 0.7084, 0.7116, 0.7148, 0.718 ,\n",
       "        0.7212, 0.7244, 0.7276, 0.7308, 0.734 , 0.7372, 0.7404, 0.7436,\n",
       "        0.7468, 0.75  , 0.7532, 0.7564, 0.7596, 0.7628, 0.766 , 0.7692,\n",
       "        0.7724, 0.7756, 0.7788, 0.782 , 0.7852, 0.7884, 0.7916, 0.7948,\n",
       "        0.798 , 0.8012, 0.8044, 0.8076, 0.8108, 0.814 , 0.8172, 0.8204,\n",
       "        0.8236, 0.8268, 0.83  ]),\n",
       " <a list of 50 Patch objects>)"
      ]
     },
     "execution_count": 262,
     "metadata": {},
     "output_type": "execute_result"
    },
    {
     "data": {
      "image/png": "[encoded data removed]",
      "text/plain": [
       "<Figure size 432x288 with 1 Axes>"
      ]
     },
     "metadata": {
      "needs_background": "light"
     },
     "output_type": "display_data"
    }
   ],
   "source": [
    "plt.hist(result_basic, bins=50)"
   ]
  },
  {
   "cell_type": "code",
   "execution_count": 263,
   "metadata": {},
   "outputs": [
    {
     "data": {
      "text/plain": [
       "0.746963036963037"
      ]
     },
     "execution_count": 263,
     "metadata": {},
     "output_type": "execute_result"
    }
   ],
   "source": [
    "np.mean(result_basic)"
   ]
  },
  {
   "cell_type": "code",
   "execution_count": 264,
   "metadata": {},
   "outputs": [
    {
     "data": {
      "text/plain": [
       "0.024605013109972828"
      ]
     },
     "execution_count": 264,
     "metadata": {},
     "output_type": "execute_result"
    }
   ],
   "source": [
    "np.std(result_basic)"
   ]
  },
  {
   "cell_type": "code",
   "execution_count": 271,
   "metadata": {},
   "outputs": [
    {
     "data": {
      "text/plain": [
       "0.59"
      ]
     },
     "execution_count": 271,
     "metadata": {},
     "output_type": "execute_result"
    }
   ],
   "source": [
    "np.percentile(result_basic, q=95)"
   ]
  },
  {
   "cell_type": "code",
   "execution_count": 80,
   "metadata": {},
   "outputs": [],
   "source": [
    "### 5h candles model"
   ]
  },
  {
   "cell_type": "code",
   "execution_count": 256,
   "metadata": {},
   "outputs": [],
   "source": [
    "result_basic = []\n",
    "for i in range(0, 1001):\n",
    "    sampled_X = X_5h_2.sample(100)\n",
    "    index_x = sampled_X.index\n",
    "    \n",
    "    score = model_5h_2.score(sampled_X, y_5h_2.loc[index_x,:])\n",
    "    result_basic.append(score)\n",
    "    \n",
    "    \n",
    "    \n"
   ]
  },
  {
   "cell_type": "code",
   "execution_count": 257,
   "metadata": {},
   "outputs": [
    {
     "data": {
      "text/plain": [
       "(array([  1.,   0.,   0.,   0.,   6.,   0.,   5.,   0.,  18.,   0.,  26.,\n",
       "          0.,  35.,   0.,  66.,   0.,  64.,   0.,  83.,   0.,  99.,   0.,\n",
       "        114.,   0.,   0., 111.,   0., 108.,   0.,  86.,   0.,  62.,   0.,\n",
       "         46.,   0.,  28.,   0.,  20.,   0.,  10.,   0.,   4.,   0.,   4.,\n",
       "          0.,   3.,   0.,   1.,   0.,   1.]),\n",
       " array([0.49  , 0.4948, 0.4996, 0.5044, 0.5092, 0.514 , 0.5188, 0.5236,\n",
       "        0.5284, 0.5332, 0.538 , 0.5428, 0.5476, 0.5524, 0.5572, 0.562 ,\n",
       "        0.5668, 0.5716, 0.5764, 0.5812, 0.586 , 0.5908, 0.5956, 0.6004,\n",
       "        0.6052, 0.61  , 0.6148, 0.6196, 0.6244, 0.6292, 0.634 , 0.6388,\n",
       "        0.6436, 0.6484, 0.6532, 0.658 , 0.6628, 0.6676, 0.6724, 0.6772,\n",
       "        0.682 , 0.6868, 0.6916, 0.6964, 0.7012, 0.706 , 0.7108, 0.7156,\n",
       "        0.7204, 0.7252, 0.73  ]),\n",
       " <a list of 50 Patch objects>)"
      ]
     },
     "execution_count": 257,
     "metadata": {},
     "output_type": "execute_result"
    },
    {
     "data": {
      "image/png": "[encoded data removed]",
      "text/plain": [
       "<Figure size 432x288 with 1 Axes>"
      ]
     },
     "metadata": {
      "needs_background": "light"
     },
     "output_type": "display_data"
    }
   ],
   "source": [
    "plt.hist(result_basic, bins=50)"
   ]
  },
  {
   "cell_type": "code",
   "execution_count": 258,
   "metadata": {},
   "outputs": [
    {
     "data": {
      "text/plain": [
       "0.001306582129159552"
      ]
     },
     "execution_count": 258,
     "metadata": {},
     "output_type": "execute_result"
    }
   ],
   "source": [
    "np.var(result_basic)"
   ]
  },
  {
   "cell_type": "code",
   "execution_count": 260,
   "metadata": {},
   "outputs": [
    {
     "data": {
      "text/plain": [
       "0.66"
      ]
     },
     "execution_count": 260,
     "metadata": {},
     "output_type": "execute_result"
    }
   ],
   "source": [
    "np.percentile(result_basic, q=95)"
   ]
  },
  {
   "cell_type": "code",
   "execution_count": 46,
   "metadata": {},
   "outputs": [],
   "source": [
    "### random test\n"
   ]
  },
  {
   "cell_type": "code",
   "execution_count": 129,
   "metadata": {},
   "outputs": [],
   "source": [
    "mu = 0.5\n",
    "sigma =0.025\n",
    "s = np.random.normal(mu, sigma, 1000)"
   ]
  },
  {
   "cell_type": "code",
   "execution_count": 130,
   "metadata": {},
   "outputs": [
    {
     "data": {
      "text/plain": [
       "(array([ 1.,  0.,  0.,  0.,  0.,  0.,  0.,  3.,  1.,  4.,  2.,  4.,  9.,\n",
       "         5., 16., 17., 19., 23., 30., 39., 36., 47., 46., 71., 52., 51.,\n",
       "        54., 59., 50., 51., 55., 43., 43., 35., 24., 30., 19., 14., 13.,\n",
       "        10.,  4.,  7.,  3.,  5.,  1.,  1.,  1.,  1.,  0.,  1.]),\n",
       " array([0.40518585, 0.40879646, 0.41240707, 0.41601768, 0.41962829,\n",
       "        0.4232389 , 0.42684951, 0.43046012, 0.43407073, 0.43768134,\n",
       "        0.44129195, 0.44490256, 0.44851317, 0.45212377, 0.45573438,\n",
       "        0.45934499, 0.4629556 , 0.46656621, 0.47017682, 0.47378743,\n",
       "        0.47739804, 0.48100865, 0.48461926, 0.48822987, 0.49184048,\n",
       "        0.49545109, 0.4990617 , 0.50267231, 0.50628292, 0.50989353,\n",
       "        0.51350414, 0.51711475, 0.52072536, 0.52433597, 0.52794658,\n",
       "        0.53155719, 0.53516779, 0.5387784 , 0.54238901, 0.54599962,\n",
       "        0.54961023, 0.55322084, 0.55683145, 0.56044206, 0.56405267,\n",
       "        0.56766328, 0.57127389, 0.5748845 , 0.57849511, 0.58210572,\n",
       "        0.58571633]),\n",
       " <a list of 50 Patch objects>)"
      ]
     },
     "execution_count": 130,
     "metadata": {},
     "output_type": "execute_result"
    },
    {
     "data": {
      "image/png": "[encoded data removed]",
      "text/plain": [
       "<Figure size 432x288 with 1 Axes>"
      ]
     },
     "metadata": {
      "needs_background": "light"
     },
     "output_type": "display_data"
    }
   ],
   "source": [
    "plt.hist(s,bins=50)"
   ]
  },
  {
   "cell_type": "code",
   "execution_count": 131,
   "metadata": {},
   "outputs": [],
   "source": [
    "### Positive bias based on basic and roc5 model\n"
   ]
  },
  {
   "cell_type": "code",
   "execution_count": 146,
   "metadata": {},
   "outputs": [],
   "source": [
    "# random accuracy variation 48-52%"
   ]
  },
  {
   "cell_type": "code",
   "execution_count": 251,
   "metadata": {},
   "outputs": [],
   "source": [
    "# positive bias bench\n",
    "result_basic = []\n",
    "for i in range(0, 1001):\n",
    "    sampled_X = X_basic.sample(300)\n",
    "    index_x = sampled_X.index\n",
    "    \n",
    "    y_pred = np.ones(300)\n",
    "    y_test = y_basic.loc[index_x,:]\n",
    "    \n",
    "    output = y_pred * y_test.shift_returns.values\n",
    "    \n",
    "    pos = output[output==1]\n",
    "    neg = output[output==-1]\n",
    "    \n",
    "    score = len(neg) / (len(pos)+len(neg))\n",
    "    result_basic.append(score)"
   ]
  },
  {
   "cell_type": "code",
   "execution_count": 252,
   "metadata": {},
   "outputs": [
    {
     "data": {
      "text/plain": [
       "(array([ 2.,  1.,  1.,  0.,  1.,  5.,  2.,  5.,  8.,  8.,  6.,  9., 15.,\n",
       "        17., 18., 16., 24., 38., 50., 28., 42., 44., 29., 53., 48., 43.,\n",
       "        48., 55., 45., 48., 38., 42., 32., 31., 23., 29., 23., 13.,  9.,\n",
       "        11.,  8.,  7.,  5.,  7.,  3.,  2.,  3.,  1.,  2.,  3.]),\n",
       " array([0.42666667, 0.43006667, 0.43346667, 0.43686667, 0.44026667,\n",
       "        0.44366667, 0.44706667, 0.45046667, 0.45386667, 0.45726667,\n",
       "        0.46066667, 0.46406667, 0.46746667, 0.47086667, 0.47426667,\n",
       "        0.47766667, 0.48106667, 0.48446667, 0.48786667, 0.49126667,\n",
       "        0.49466667, 0.49806667, 0.50146667, 0.50486667, 0.50826667,\n",
       "        0.51166667, 0.51506667, 0.51846667, 0.52186667, 0.52526667,\n",
       "        0.52866667, 0.53206667, 0.53546667, 0.53886667, 0.54226667,\n",
       "        0.54566667, 0.54906667, 0.55246667, 0.55586667, 0.55926667,\n",
       "        0.56266667, 0.56606667, 0.56946667, 0.57286667, 0.57626667,\n",
       "        0.57966667, 0.58306667, 0.58646667, 0.58986667, 0.59326667,\n",
       "        0.59666667]),\n",
       " <a list of 50 Patch objects>)"
      ]
     },
     "execution_count": 252,
     "metadata": {},
     "output_type": "execute_result"
    },
    {
     "data": {
      "image/png": "[encoded data removed]",
      "text/plain": [
       "<Figure size 432x288 with 1 Axes>"
      ]
     },
     "metadata": {
      "needs_background": "light"
     },
     "output_type": "display_data"
    }
   ],
   "source": [
    "plt.hist(result_basic,bins=50)"
   ]
  },
  {
   "cell_type": "code",
   "execution_count": 253,
   "metadata": {},
   "outputs": [
    {
     "data": {
      "text/plain": [
       "0.5133333333333333"
      ]
     },
     "execution_count": 253,
     "metadata": {},
     "output_type": "execute_result"
    }
   ],
   "source": [
    "np.median(result_basic)"
   ]
  },
  {
   "cell_type": "code",
   "execution_count": 254,
   "metadata": {},
   "outputs": [
    {
     "data": {
      "text/plain": [
       "0.027455038783042278"
      ]
     },
     "execution_count": 254,
     "metadata": {},
     "output_type": "execute_result"
    }
   ],
   "source": [
    "np.std(result_basic)"
   ]
  },
  {
   "cell_type": "code",
   "execution_count": 255,
   "metadata": {},
   "outputs": [
    {
     "data": {
      "text/plain": [
       "0.56"
      ]
     },
     "execution_count": 255,
     "metadata": {},
     "output_type": "execute_result"
    }
   ],
   "source": [
    "np.percentile(result_basic, q=95)"
   ]
  },
  {
   "cell_type": "code",
   "execution_count": 185,
   "metadata": {},
   "outputs": [],
   "source": [
    "# negative bias bench"
   ]
  },
  {
   "cell_type": "code",
   "execution_count": 239,
   "metadata": {},
   "outputs": [],
   "source": [
    "result_basic = []\n",
    "for i in range(0, 1001):\n",
    "    sampled_X = X_5h_2.sample(100)\n",
    "    index_x = sampled_X.index\n",
    "    \n",
    "    y_pred = np.ones(100)\n",
    "    y_test = y_5h_2.loc[index_x,:]\n",
    "    \n",
    "    output = y_pred * y_test.shift_returns.values\n",
    "    \n",
    "    pos = output[output==1]\n",
    "    neg = output[output==-1]\n",
    "    \n",
    "    score = len(neg) / (len(pos)+len(neg))\n",
    "    result_basic.append(score)"
   ]
  },
  {
   "cell_type": "code",
   "execution_count": 240,
   "metadata": {},
   "outputs": [
    {
     "data": {
      "text/plain": [
       "(array([  1.,   0.,   1.,   0.,   5.,   0.,   8.,   0.,   0.,  22.,   0.,\n",
       "         20.,   0.,  42.,   0.,  57.,   0.,   0.,  72.,   0.,  84.,   0.,\n",
       "         99.,   0.,   0., 118.,   0., 102.,   0., 101.,   0.,  84.,   0.,\n",
       "          0.,  69.,   0.,  51.,   0.,  24.,   0.,  18.,   0.,   0.,  14.,\n",
       "          0.,   5.,   0.,   3.,   0.,   1.]),\n",
       " array([0.42  , 0.4244, 0.4288, 0.4332, 0.4376, 0.442 , 0.4464, 0.4508,\n",
       "        0.4552, 0.4596, 0.464 , 0.4684, 0.4728, 0.4772, 0.4816, 0.486 ,\n",
       "        0.4904, 0.4948, 0.4992, 0.5036, 0.508 , 0.5124, 0.5168, 0.5212,\n",
       "        0.5256, 0.53  , 0.5344, 0.5388, 0.5432, 0.5476, 0.552 , 0.5564,\n",
       "        0.5608, 0.5652, 0.5696, 0.574 , 0.5784, 0.5828, 0.5872, 0.5916,\n",
       "        0.596 , 0.6004, 0.6048, 0.6092, 0.6136, 0.618 , 0.6224, 0.6268,\n",
       "        0.6312, 0.6356, 0.64  ]),\n",
       " <a list of 50 Patch objects>)"
      ]
     },
     "execution_count": 240,
     "metadata": {},
     "output_type": "execute_result"
    },
    {
     "data": {
      "image/png": "[encoded data removed]",
      "text/plain": [
       "<Figure size 432x288 with 1 Axes>"
      ]
     },
     "metadata": {
      "needs_background": "light"
     },
     "output_type": "display_data"
    }
   ],
   "source": [
    "plt.hist(result_basic,bins=50)"
   ]
  },
  {
   "cell_type": "code",
   "execution_count": 241,
   "metadata": {},
   "outputs": [
    {
     "data": {
      "text/plain": [
       "0.5322977022977023"
      ]
     },
     "execution_count": 241,
     "metadata": {},
     "output_type": "execute_result"
    }
   ],
   "source": [
    "np.mean(result_basic)"
   ]
  },
  {
   "cell_type": "code",
   "execution_count": 242,
   "metadata": {},
   "outputs": [
    {
     "data": {
      "text/plain": [
       "0.53"
      ]
     },
     "execution_count": 242,
     "metadata": {},
     "output_type": "execute_result"
    }
   ],
   "source": [
    "np.median(result_basic)"
   ]
  },
  {
   "cell_type": "code",
   "execution_count": 243,
   "metadata": {},
   "outputs": [
    {
     "data": {
      "text/plain": [
       "0.036088957755017546"
      ]
     },
     "execution_count": 243,
     "metadata": {},
     "output_type": "execute_result"
    }
   ],
   "source": [
    "np.std(result_basic)"
   ]
  },
  {
   "cell_type": "code",
   "execution_count": 244,
   "metadata": {},
   "outputs": [
    {
     "data": {
      "text/plain": [
       "0.64"
      ]
     },
     "execution_count": 244,
     "metadata": {},
     "output_type": "execute_result"
    }
   ],
   "source": [
    "np.max(result_basic)"
   ]
  },
  {
   "cell_type": "code",
   "execution_count": 245,
   "metadata": {},
   "outputs": [
    {
     "data": {
      "text/plain": [
       "0.59"
      ]
     },
     "execution_count": 245,
     "metadata": {},
     "output_type": "execute_result"
    }
   ],
   "source": [
    "np.percentile(result_basic, q=95)"
   ]
  },
  {
   "cell_type": "code",
   "execution_count": 272,
   "metadata": {},
   "outputs": [],
   "source": [
    "#### load regime prediction"
   ]
  },
  {
   "cell_type": "code",
   "execution_count": 273,
   "metadata": {},
   "outputs": [],
   "source": [
    "filename = 'regime_model_basic_8.sav'\n",
    "loaded_model = pickle.load(open(filename, 'rb'))"
   ]
  },
  {
   "cell_type": "code",
   "execution_count": 274,
   "metadata": {},
   "outputs": [
    {
     "data": {
      "text/plain": [
       "RandomForestClassifier(bootstrap=True, class_weight=None, criterion='gini',\n",
       "            max_depth=1000, max_features='auto', max_leaf_nodes=None,\n",
       "            min_impurity_decrease=0.0, min_impurity_split=None,\n",
       "            min_samples_leaf=1, min_samples_split=2,\n",
       "            min_weight_fraction_leaf=0.0, n_estimators=1000, n_jobs=None,\n",
       "            oob_score=False, random_state=0, verbose=0, warm_start=False)"
      ]
     },
     "execution_count": 274,
     "metadata": {},
     "output_type": "execute_result"
    }
   ],
   "source": [
    "loaded_model"
   ]
  },
  {
   "cell_type": "code",
   "execution_count": null,
   "metadata": {},
   "outputs": [],
   "source": []
  }
 ],
 "metadata": {
  "kernelspec": {
   "display_name": "Python [default]",
   "language": "python",
   "name": "python3"
  },
  "language_info": {
   "codemirror_mode": {
    "name": "ipython",
    "version": 3
   },
   "file_extension": ".py",
   "mimetype": "text/x-python",
   "name": "python",
   "nbconvert_exporter": "python",
   "pygments_lexer": "ipython3",
   "version": "3.5.6"
  }
 },
 "nbformat": 4,
 "nbformat_minor": 2
}
